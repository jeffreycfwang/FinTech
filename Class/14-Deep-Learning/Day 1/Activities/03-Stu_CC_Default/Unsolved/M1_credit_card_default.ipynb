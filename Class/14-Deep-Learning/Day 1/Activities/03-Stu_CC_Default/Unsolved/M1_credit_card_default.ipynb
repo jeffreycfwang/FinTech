{
 "cells": [
  {
   "cell_type": "markdown",
   "metadata": {
    "id": "adDjCmw4W-G7"
   },
   "source": [
    "# Students Do: Preventing credit card defaults with neural networks\n",
    "\n",
    "In this activity, you will train a neural network model to predict whether a credit card holder will default in the next month.\n",
    "\n",
    "The dataset provided contains `30,000` anonymous records of credit default status with `23` features columns and one binary target column entitled _DEFAULT_, where `1` represents a defaulted credit card.\n",
    "\n",
    "The `23` features include demographic info (age, gender, marital status, etc.), credit limit, past payment details, and other relevant information.\n",
    "\n",
    "You are tasked to create a neural network model to predict if a credit card holder will default."
   ]
  },
  {
   "cell_type": "code",
   "execution_count": null,
   "metadata": {
    "id": "aMuvIGXPW-G8"
   },
   "outputs": [],
   "source": [
    "# Initial imports\n",
    "import pandas as pd\n",
    "import tensorflow as tf\n",
    "from tensorflow.keras.layers import Dense\n",
    "from tensorflow.keras.models import Sequential\n",
    "from sklearn.preprocessing import StandardScaler\n",
    "from sklearn.model_selection import train_test_split\n",
    "\n",
    "%matplotlib inline"
   ]
  },
  {
   "cell_type": "code",
   "execution_count": null,
   "metadata": {
    "id": "-D2mO1ThW-G9"
   },
   "outputs": [],
   "source": [
    "# Set a random seed for TensorFlow to allow reproducible testing results\n",
    "tf.random.set_seed(126)"
   ]
  },
  {
   "cell_type": "markdown",
   "metadata": {
    "id": "StWn5vApW-G-"
   },
   "source": [
    "## Instructions\n",
    "\n",
    "1. Load the data in a Pandas DataFrame."
   ]
  },
  {
   "cell_type": "code",
   "execution_count": null,
   "metadata": {
    "id": "arFi0IdOXT0W"
   },
   "outputs": [],
   "source": [
    "# Upload data to Colab\n",
    "from google.colab import files\n",
    "\n",
    "csv_file = files.upload()"
   ]
  },
  {
   "cell_type": "code",
   "execution_count": null,
   "metadata": {
    "id": "NW4hwVyKW-G-"
   },
   "outputs": [],
   "source": [
    "# Read in data\n",
    "\n",
    "df = pd.read_csv(\"cc_default.csv\")\n",
    "df.head()"
   ]
  },
  {
   "cell_type": "markdown",
   "metadata": {
    "id": "xYyYWNKrW-G_"
   },
   "source": [
    "2. Define the features set `X` by including all the columns of the DataFrame except the `DEFAULT` column."
   ]
  },
  {
   "cell_type": "code",
   "execution_count": null,
   "metadata": {
    "id": "l4PofbAsW-G_"
   },
   "outputs": [],
   "source": [
    "# Define features data\n",
    "\n"
   ]
  },
  {
   "cell_type": "markdown",
   "metadata": {
    "id": "G4rBGwRHW-G_"
   },
   "source": [
    "3. Create the target vector `y` by assigning the values of the `DEFAULT` column of the DataFrame."
   ]
  },
  {
   "cell_type": "code",
   "execution_count": null,
   "metadata": {
    "id": "4CI1jQbhW-HA"
   },
   "outputs": [],
   "source": [
    "# Define target data\n",
    "\n"
   ]
  },
  {
   "cell_type": "markdown",
   "metadata": {
    "id": "gMkCHL1gW-HA"
   },
   "source": [
    "4. Create the training an testing sets using the `train_test_split` function from `sklearn`."
   ]
  },
  {
   "cell_type": "code",
   "execution_count": null,
   "metadata": {
    "id": "kyMT9aVzW-HB"
   },
   "outputs": [],
   "source": [
    "# Create training and testing datasets\n",
    "\n"
   ]
  },
  {
   "cell_type": "markdown",
   "metadata": {
    "id": "J3CgP9j_W-HB"
   },
   "source": [
    "5. Scale the features data using the `StandardScaler` from `sklearn`."
   ]
  },
  {
   "cell_type": "code",
   "execution_count": null,
   "metadata": {
    "id": "S8wn_ipNW-HB"
   },
   "outputs": [],
   "source": [
    "# Create the scaler instance\n",
    "\n"
   ]
  },
  {
   "cell_type": "code",
   "execution_count": null,
   "metadata": {
    "id": "YtzLrOvPW-HC"
   },
   "outputs": [],
   "source": [
    "# Fit the scaler\n",
    "\n"
   ]
  },
  {
   "cell_type": "code",
   "execution_count": null,
   "metadata": {
    "id": "Ds6r8qwUW-HC"
   },
   "outputs": [],
   "source": [
    "# Scale the features data\n",
    "\n"
   ]
  },
  {
   "cell_type": "markdown",
   "metadata": {
    "id": "xbYxUaoCW-HC"
   },
   "source": [
    "6. Create a neural network model with `23` inputs, one hidden layer with `69` units, and an output layer with a single output. Use the `relu` activation function for the first layer and `sigmoid` for the second layer."
   ]
  },
  {
   "cell_type": "code",
   "execution_count": null,
   "metadata": {
    "id": "w9u8gbUiW-HC"
   },
   "outputs": [],
   "source": [
    "# Define the model\n",
    "number_inputs = 23\n",
    "number_hidden_nodes = 69\n",
    "\n"
   ]
  },
  {
   "cell_type": "markdown",
   "metadata": {
    "id": "JNNoEvayW-HD"
   },
   "source": [
    "7. Compile the neural network model using the `binary_crossentropy` loss function, the `adam` optimizer, and `accuracy` as additional metric."
   ]
  },
  {
   "cell_type": "code",
   "execution_count": null,
   "metadata": {
    "id": "S8J7PjAjW-HD"
   },
   "outputs": [],
   "source": [
    "# Compile model\n",
    "\n"
   ]
  },
  {
   "cell_type": "markdown",
   "metadata": {
    "id": "gmQzvolxW-HD"
   },
   "source": [
    "8. Fit the model with `100` epochs."
   ]
  },
  {
   "cell_type": "code",
   "execution_count": null,
   "metadata": {
    "id": "cJDUVjbtW-HD"
   },
   "outputs": [],
   "source": [
    "# Fit the model\n",
    "\n"
   ]
  },
  {
   "cell_type": "markdown",
   "metadata": {
    "id": "hOz8JoLtW-HD"
   },
   "source": [
    "9. Plot the loss function and accuracy."
   ]
  },
  {
   "cell_type": "code",
   "execution_count": null,
   "metadata": {
    "id": "i3TpLmJsW-HE"
   },
   "outputs": [],
   "source": [
    "# Create a DataFrame with the history dictionary\n",
    "\n",
    "\n",
    "# Plot the loss\n",
    "\n"
   ]
  },
  {
   "cell_type": "code",
   "execution_count": null,
   "metadata": {
    "id": "0STlBmrVW-HE"
   },
   "outputs": [],
   "source": [
    "# Plot the accuracy\n",
    "\n"
   ]
  },
  {
   "cell_type": "markdown",
   "metadata": {
    "id": "ZfQw4NKLW-HE"
   },
   "source": [
    "10. Evaluate the model using testing data and the `evaluate` method."
   ]
  },
  {
   "cell_type": "code",
   "execution_count": null,
   "metadata": {
    "id": "X5TN4DTWW-HE"
   },
   "outputs": [],
   "source": [
    "# Evaluate the model fit with linear dummy data\n",
    "\n"
   ]
  },
  {
   "cell_type": "markdown",
   "metadata": {
    "id": "sZWpGeHWW-HE"
   },
   "source": [
    "## Challenge\n",
    "\n",
    "For this challenge section, you have to figure out how the model you created could be modified to improve the accuracy.\n",
    "\n",
    "1. Review the Keras documentation about activation functions, and decide if there is anyone that could be used instead of `sigmoid`.\n",
    "\n",
    "2. Add a second hidden layer with `69` units and use a different activation function than `sigmoid`.\n",
    "\n",
    "3. Change any other parameter that you believe could improve the model's accuracy.\n",
    "\n",
    "4. Evaluate the model's accuracy and loss and write down your conclusions."
   ]
  },
  {
   "cell_type": "code",
   "execution_count": null,
   "metadata": {
    "id": "YAG45XphW-HF"
   },
   "outputs": [],
   "source": [
    "# Define the model\n",
    "\n"
   ]
  },
  {
   "cell_type": "code",
   "execution_count": null,
   "metadata": {
    "id": "eeeTIdI9W-HF"
   },
   "outputs": [],
   "source": [
    "# Compile model\n",
    "\n"
   ]
  },
  {
   "cell_type": "code",
   "execution_count": null,
   "metadata": {
    "id": "pfy8igAiW-HF"
   },
   "outputs": [],
   "source": [
    "# Fit the model\n",
    "\n"
   ]
  },
  {
   "cell_type": "code",
   "execution_count": null,
   "metadata": {
    "id": "E0KhHCs0W-HG"
   },
   "outputs": [],
   "source": [
    "# Evaluate the model fit with linear dummy data\n",
    "\n"
   ]
  },
  {
   "cell_type": "markdown",
   "metadata": {
    "id": "SBQ6MLo8W-HG"
   },
   "source": [
    "### Conclusions\n",
    "\n",
    "**Your Answer Here**"
   ]
  }
 ],
 "metadata": {
  "colab": {
   "name": "credit-card-default.ipynb",
   "provenance": []
  },
  "file_extension": ".py",
  "kernelspec": {
   "display_name": "Python 3 (ipykernel)",
   "language": "python",
   "name": "python3"
  },
  "language_info": {
   "codemirror_mode": {
    "name": "ipython",
    "version": 3
   },
   "file_extension": ".py",
   "mimetype": "text/x-python",
   "name": "python",
   "nbconvert_exporter": "python",
   "pygments_lexer": "ipython3",
   "version": "3.9.7"
  },
  "mimetype": "text/x-python",
  "name": "python",
  "npconvert_exporter": "python",
  "pygments_lexer": "ipython3",
  "version": 3
 },
 "nbformat": 4,
 "nbformat_minor": 4
}
