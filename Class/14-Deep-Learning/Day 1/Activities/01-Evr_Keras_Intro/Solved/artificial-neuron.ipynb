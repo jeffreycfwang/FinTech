{
 "cells": [
  {
   "cell_type": "markdown",
   "metadata": {},
   "source": [
    "# Activating Your First Artificial Neuron"
   ]
  },
  {
   "cell_type": "code",
   "execution_count": 1,
   "metadata": {},
   "outputs": [],
   "source": [
    "# Initial imports\n",
    "import pandas as pd\n",
    "import numpy as np\n",
    "from sklearn.datasets import make_blobs, make_moons\n",
    "from sklearn.model_selection import train_test_split\n",
    "from sklearn.preprocessing import StandardScaler\n",
    "from tensorflow.keras.models import Sequential\n",
    "from tensorflow.keras.layers import Dense\n",
    "\n",
    "%matplotlib inline"
   ]
  },
  {
   "cell_type": "markdown",
   "metadata": {},
   "source": [
    "## Using a Single Neuron for Binary Classification\n",
    "\n",
    "### Creating Dummy Data"
   ]
  },
  {
   "cell_type": "code",
   "execution_count": 2,
   "metadata": {},
   "outputs": [],
   "source": [
    "# Generate 1000 demo data samples with 2 features and two centers\n",
    "X, y = make_blobs(n_samples=1000, centers=2, n_features=2, random_state=78)"
   ]
  },
  {
   "cell_type": "code",
   "execution_count": 3,
   "metadata": {},
   "outputs": [
    {
     "data": {
      "text/plain": [
       "(1000, 1)"
      ]
     },
     "execution_count": 3,
     "metadata": {},
     "output_type": "execute_result"
    }
   ],
   "source": [
    "# Transforming y to a vertical vector\n",
    "y = y.reshape(-1, 1)\n",
    "y.shape"
   ]
  },
  {
   "cell_type": "code",
   "execution_count": 4,
   "metadata": {},
   "outputs": [
    {
     "data": {
      "text/html": [
       "<div>\n",
       "<style scoped>\n",
       "    .dataframe tbody tr th:only-of-type {\n",
       "        vertical-align: middle;\n",
       "    }\n",
       "\n",
       "    .dataframe tbody tr th {\n",
       "        vertical-align: top;\n",
       "    }\n",
       "\n",
       "    .dataframe thead th {\n",
       "        text-align: right;\n",
       "    }\n",
       "</style>\n",
       "<table border=\"1\" class=\"dataframe\">\n",
       "  <thead>\n",
       "    <tr style=\"text-align: right;\">\n",
       "      <th></th>\n",
       "      <th>Feature 1</th>\n",
       "      <th>Feature 2</th>\n",
       "      <th>Target</th>\n",
       "    </tr>\n",
       "  </thead>\n",
       "  <tbody>\n",
       "    <tr>\n",
       "      <th>0</th>\n",
       "      <td>5.478098</td>\n",
       "      <td>7.203714</td>\n",
       "      <td>1</td>\n",
       "    </tr>\n",
       "    <tr>\n",
       "      <th>1</th>\n",
       "      <td>-8.428483</td>\n",
       "      <td>4.121889</td>\n",
       "      <td>0</td>\n",
       "    </tr>\n",
       "    <tr>\n",
       "      <th>2</th>\n",
       "      <td>-7.905447</td>\n",
       "      <td>3.323639</td>\n",
       "      <td>0</td>\n",
       "    </tr>\n",
       "    <tr>\n",
       "      <th>3</th>\n",
       "      <td>6.411041</td>\n",
       "      <td>5.523013</td>\n",
       "      <td>1</td>\n",
       "    </tr>\n",
       "    <tr>\n",
       "      <th>4</th>\n",
       "      <td>7.288599</td>\n",
       "      <td>6.171226</td>\n",
       "      <td>1</td>\n",
       "    </tr>\n",
       "  </tbody>\n",
       "</table>\n",
       "</div>"
      ],
      "text/plain": [
       "   Feature 1  Feature 2  Target\n",
       "0   5.478098   7.203714       1\n",
       "1  -8.428483   4.121889       0\n",
       "2  -7.905447   3.323639       0\n",
       "3   6.411041   5.523013       1\n",
       "4   7.288599   6.171226       1"
      ]
     },
     "execution_count": 4,
     "metadata": {},
     "output_type": "execute_result"
    }
   ],
   "source": [
    "# Creating a DataFrame with the dummy data\n",
    "df = pd.DataFrame(X, columns=[\"Feature 1\", \"Feature 2\"])\n",
    "df[\"Target\"] = y\n",
    "df.head()"
   ]
  },
  {
   "cell_type": "code",
   "execution_count": 5,
   "metadata": {},
   "outputs": [
    {
     "data": {
      "text/plain": [
       "<AxesSubplot:xlabel='Feature 1', ylabel='Feature 2'>"
      ]
     },
     "execution_count": 5,
     "metadata": {},
     "output_type": "execute_result"
    },
    {
     "data": {
      "image/png": "[encoded data removed]",
      "text/plain": [
       "<Figure size 432x288 with 2 Axes>"
      ]
     },
     "metadata": {
      "needs_background": "light"
     },
     "output_type": "display_data"
    }
   ],
   "source": [
    "# Plotting the dummy data\n",
    "df.plot.scatter(x=\"Feature 1\", y=\"Feature 2\", c=\"Target\", colormap=\"winter\")"
   ]
  },
  {
   "cell_type": "markdown",
   "metadata": {},
   "source": [
    " ### Data Preprocessing\n",
    "\n",
    " Use `train_test_split` to create training and testing data."
   ]
  },
  {
   "cell_type": "code",
   "execution_count": 6,
   "metadata": {},
   "outputs": [],
   "source": [
    "# Create training and testing datasets\n",
    "X_train, X_test, y_train, y_test = train_test_split(X, y, random_state=78)"
   ]
  },
  {
   "cell_type": "markdown",
   "metadata": {},
   "source": [
    " Scale the data using the `StandarScaler`."
   ]
  },
  {
   "cell_type": "code",
   "execution_count": 7,
   "metadata": {},
   "outputs": [],
   "source": [
    "# Create scaler instance\n",
    "X_scaler = StandardScaler()"
   ]
  },
  {
   "cell_type": "code",
   "execution_count": 8,
   "metadata": {},
   "outputs": [
    {
     "data": {
      "text/plain": [
       "StandardScaler()"
      ]
     },
     "execution_count": 8,
     "metadata": {},
     "output_type": "execute_result"
    }
   ],
   "source": [
    "# Fit the scaler\n",
    "X_scaler.fit(X_train)"
   ]
  },
  {
   "cell_type": "code",
   "execution_count": 9,
   "metadata": {},
   "outputs": [],
   "source": [
    "# Scale the data\n",
    "X_train_scaled = X_scaler.transform(X_train)\n",
    "X_test_scaled = X_scaler.transform(X_test)"
   ]
  },
  {
   "cell_type": "markdown",
   "metadata": {},
   "source": [
    " ### Neural Network Model Creation"
   ]
  },
  {
   "cell_type": "code",
   "execution_count": 10,
   "metadata": {},
   "outputs": [],
   "source": [
    "# Create a sequential model\n",
    "neuron = Sequential()"
   ]
  },
  {
   "cell_type": "markdown",
   "metadata": {},
   "source": [
    "The initial step is to add the first layer of our neural network.\n",
    "\n",
    "![First Layer](../Images/tensorflow-neuron-layer-1.png)"
   ]
  },
  {
   "cell_type": "code",
   "execution_count": 11,
   "metadata": {},
   "outputs": [],
   "source": [
    "# First layer\n",
    "number_inputs = 2\n",
    "number_hidden_nodes = 1\n",
    "\n",
    "neuron.add(Dense(units=number_hidden_nodes, activation=\"relu\", input_dim=number_inputs))"
   ]
  },
  {
   "cell_type": "markdown",
   "metadata": {},
   "source": [
    "We finish creating our neural network by adding the output layer.\n",
    "\n",
    "![Output layer](../Images/tensorflow-neuron-output-layer.png)"
   ]
  },
  {
   "cell_type": "code",
   "execution_count": 12,
   "metadata": {},
   "outputs": [],
   "source": [
    "# Output layer\n",
    "number_classes = 1\n",
    "\n",
    "neuron.add(Dense(units=number_classes, activation=\"sigmoid\"))"
   ]
  },
  {
   "cell_type": "code",
   "execution_count": 13,
   "metadata": {},
   "outputs": [
    {
     "name": "stdout",
     "output_type": "stream",
     "text": [
      "Model: \"sequential\"\n",
      "_________________________________________________________________\n",
      " Layer (type)                Output Shape              Param #   \n",
      "=================================================================\n",
      " dense (Dense)               (None, 1)                 3         \n",
      "                                                                 \n",
      " dense_1 (Dense)             (None, 1)                 2         \n",
      "                                                                 \n",
      "=================================================================\n",
      "Total params: 5\n",
      "Trainable params: 5\n",
      "Non-trainable params: 0\n",
      "_________________________________________________________________\n"
     ]
    }
   ],
   "source": [
    "# Model summary\n",
    "neuron.summary()"
   ]
  },
  {
   "cell_type": "markdown",
   "metadata": {},
   "source": [
    " ### Compile the Model"
   ]
  },
  {
   "cell_type": "code",
   "execution_count": 14,
   "metadata": {},
   "outputs": [],
   "source": [
    "# Compile model\n",
    "neuron.compile(loss=\"binary_crossentropy\", optimizer=\"adam\", metrics=[\"accuracy\"])"
   ]
  },
  {
   "cell_type": "markdown",
   "metadata": {},
   "source": [
    " ### Fit the Model"
   ]
  },
  {
   "cell_type": "code",
   "execution_count": 15,
   "metadata": {},
   "outputs": [
    {
     "name": "stdout",
     "output_type": "stream",
     "text": [
      "Epoch 1/100\n",
      "24/24 [==============================] - 0s 522us/step - loss: 0.6676 - accuracy: 0.6293\n",
      "Epoch 2/100\n",
      "24/24 [==============================] - 0s 522us/step - loss: 0.6582 - accuracy: 0.6987\n",
      "Epoch 3/100\n",
      "24/24 [==============================] - 0s 537us/step - loss: 0.6479 - accuracy: 0.7307\n",
      "Epoch 4/100\n",
      "24/24 [==============================] - 0s 522us/step - loss: 0.6363 - accuracy: 0.7613\n",
      "Epoch 5/100\n",
      "24/24 [==============================] - 0s 565us/step - loss: 0.6241 - accuracy: 0.7800\n",
      "Epoch 6/100\n",
      "24/24 [==============================] - 0s 566us/step - loss: 0.6109 - accuracy: 0.8013\n",
      "Epoch 7/100\n",
      "24/24 [==============================] - 0s 522us/step - loss: 0.5972 - accuracy: 0.8200\n",
      "Epoch 8/100\n",
      "24/24 [==============================] - 0s 522us/step - loss: 0.5831 - accuracy: 0.8373\n",
      "Epoch 9/100\n",
      "24/24 [==============================] - 0s 522us/step - loss: 0.5687 - accuracy: 0.8453\n",
      "Epoch 10/100\n",
      "24/24 [==============================] - 0s 565us/step - loss: 0.5544 - accuracy: 0.8613\n",
      "Epoch 11/100\n",
      "24/24 [==============================] - 0s 522us/step - loss: 0.5399 - accuracy: 0.8747\n",
      "Epoch 12/100\n",
      "24/24 [==============================] - 0s 522us/step - loss: 0.5257 - accuracy: 0.8893\n",
      "Epoch 13/100\n",
      "24/24 [==============================] - 0s 522us/step - loss: 0.5116 - accuracy: 0.8960\n",
      "Epoch 14/100\n",
      "24/24 [==============================] - 0s 565us/step - loss: 0.4977 - accuracy: 0.9067\n",
      "Epoch 15/100\n",
      "24/24 [==============================] - 0s 522us/step - loss: 0.4841 - accuracy: 0.9120\n",
      "Epoch 16/100\n",
      "24/24 [==============================] - 0s 478us/step - loss: 0.4707 - accuracy: 0.9200\n",
      "Epoch 17/100\n",
      "24/24 [==============================] - 0s 522us/step - loss: 0.4576 - accuracy: 0.9227\n",
      "Epoch 18/100\n",
      "24/24 [==============================] - 0s 565us/step - loss: 0.4449 - accuracy: 0.9253\n",
      "Epoch 19/100\n",
      "24/24 [==============================] - 0s 522us/step - loss: 0.4326 - accuracy: 0.9320\n",
      "Epoch 20/100\n",
      "24/24 [==============================] - 0s 522us/step - loss: 0.4208 - accuracy: 0.9333\n",
      "Epoch 21/100\n",
      "24/24 [==============================] - 0s 565us/step - loss: 0.4093 - accuracy: 0.9373\n",
      "Epoch 22/100\n",
      "24/24 [==============================] - 0s 522us/step - loss: 0.3982 - accuracy: 0.9467\n",
      "Epoch 23/100\n",
      "24/24 [==============================] - 0s 522us/step - loss: 0.3876 - accuracy: 0.9520\n",
      "Epoch 24/100\n",
      "24/24 [==============================] - 0s 478us/step - loss: 0.3773 - accuracy: 0.9560\n",
      "Epoch 25/100\n",
      "24/24 [==============================] - 0s 565us/step - loss: 0.3675 - accuracy: 0.9573\n",
      "Epoch 26/100\n",
      "24/24 [==============================] - 0s 565us/step - loss: 0.3579 - accuracy: 0.9667\n",
      "Epoch 27/100\n",
      "24/24 [==============================] - 0s 609us/step - loss: 0.3486 - accuracy: 0.9693\n",
      "Epoch 28/100\n",
      "24/24 [==============================] - 0s 565us/step - loss: 0.3396 - accuracy: 0.9707\n",
      "Epoch 29/100\n",
      "24/24 [==============================] - 0s 565us/step - loss: 0.3309 - accuracy: 0.9733\n",
      "Epoch 30/100\n",
      "24/24 [==============================] - 0s 565us/step - loss: 0.3225 - accuracy: 0.9733\n",
      "Epoch 31/100\n",
      "24/24 [==============================] - 0s 609us/step - loss: 0.3143 - accuracy: 0.9747\n",
      "Epoch 32/100\n",
      "24/24 [==============================] - 0s 565us/step - loss: 0.3065 - accuracy: 0.9760\n",
      "Epoch 33/100\n",
      "24/24 [==============================] - 0s 478us/step - loss: 0.2989 - accuracy: 0.9773\n",
      "Epoch 34/100\n",
      "24/24 [==============================] - 0s 522us/step - loss: 0.2915 - accuracy: 0.9773\n",
      "Epoch 35/100\n",
      "24/24 [==============================] - 0s 522us/step - loss: 0.2843 - accuracy: 0.9773\n",
      "Epoch 36/100\n",
      "24/24 [==============================] - 0s 565us/step - loss: 0.2773 - accuracy: 0.9773\n",
      "Epoch 37/100\n",
      "24/24 [==============================] - 0s 522us/step - loss: 0.2706 - accuracy: 0.9787\n",
      "Epoch 38/100\n",
      "24/24 [==============================] - 0s 522us/step - loss: 0.2640 - accuracy: 0.9800\n",
      "Epoch 39/100\n",
      "24/24 [==============================] - 0s 478us/step - loss: 0.2577 - accuracy: 0.9827\n",
      "Epoch 40/100\n",
      "24/24 [==============================] - 0s 522us/step - loss: 0.2515 - accuracy: 0.9840\n",
      "Epoch 41/100\n",
      "24/24 [==============================] - 0s 522us/step - loss: 0.2455 - accuracy: 0.9840\n",
      "Epoch 42/100\n",
      "24/24 [==============================] - 0s 565us/step - loss: 0.2397 - accuracy: 0.9840\n",
      "Epoch 43/100\n",
      "24/24 [==============================] - 0s 522us/step - loss: 0.2341 - accuracy: 0.9840\n",
      "Epoch 44/100\n",
      "24/24 [==============================] - 0s 565us/step - loss: 0.2287 - accuracy: 0.9853\n",
      "Epoch 45/100\n",
      "24/24 [==============================] - 0s 522us/step - loss: 0.2234 - accuracy: 0.9853\n",
      "Epoch 46/100\n",
      "24/24 [==============================] - 0s 522us/step - loss: 0.2183 - accuracy: 0.9853\n",
      "Epoch 47/100\n",
      "24/24 [==============================] - 0s 522us/step - loss: 0.2134 - accuracy: 0.9867\n",
      "Epoch 48/100\n",
      "24/24 [==============================] - 0s 565us/step - loss: 0.2085 - accuracy: 0.9867\n",
      "Epoch 49/100\n",
      "24/24 [==============================] - 0s 565us/step - loss: 0.2039 - accuracy: 0.9880\n",
      "Epoch 50/100\n",
      "24/24 [==============================] - 0s 478us/step - loss: 0.1994 - accuracy: 0.9893\n",
      "Epoch 51/100\n",
      "24/24 [==============================] - 0s 522us/step - loss: 0.1950 - accuracy: 0.9893\n",
      "Epoch 52/100\n",
      "24/24 [==============================] - 0s 522us/step - loss: 0.1907 - accuracy: 0.9907\n",
      "Epoch 53/100\n",
      "24/24 [==============================] - 0s 522us/step - loss: 0.1866 - accuracy: 0.9907\n",
      "Epoch 54/100\n",
      "24/24 [==============================] - 0s 478us/step - loss: 0.1826 - accuracy: 0.9947\n",
      "Epoch 55/100\n",
      "24/24 [==============================] - 0s 565us/step - loss: 0.1787 - accuracy: 0.9947\n",
      "Epoch 56/100\n",
      "24/24 [==============================] - 0s 478us/step - loss: 0.1749 - accuracy: 0.9947\n",
      "Epoch 57/100\n",
      "24/24 [==============================] - 0s 565us/step - loss: 0.1712 - accuracy: 0.9960\n",
      "Epoch 58/100\n",
      "24/24 [==============================] - 0s 522us/step - loss: 0.1676 - accuracy: 0.9960\n",
      "Epoch 59/100\n",
      "24/24 [==============================] - 0s 522us/step - loss: 0.1641 - accuracy: 0.9960\n",
      "Epoch 60/100\n",
      "24/24 [==============================] - 0s 522us/step - loss: 0.1607 - accuracy: 0.9960\n",
      "Epoch 61/100\n",
      "24/24 [==============================] - 0s 522us/step - loss: 0.1574 - accuracy: 0.9960\n",
      "Epoch 62/100\n",
      "24/24 [==============================] - 0s 522us/step - loss: 0.1542 - accuracy: 0.9960\n",
      "Epoch 63/100\n",
      "24/24 [==============================] - 0s 478us/step - loss: 0.1511 - accuracy: 0.9960\n",
      "Epoch 64/100\n",
      "24/24 [==============================] - 0s 565us/step - loss: 0.1480 - accuracy: 0.9960\n",
      "Epoch 65/100\n",
      "24/24 [==============================] - 0s 522us/step - loss: 0.1451 - accuracy: 0.9960\n",
      "Epoch 66/100\n",
      "24/24 [==============================] - 0s 522us/step - loss: 0.1422 - accuracy: 0.9973\n",
      "Epoch 67/100\n",
      "24/24 [==============================] - 0s 565us/step - loss: 0.1394 - accuracy: 0.9973\n",
      "Epoch 68/100\n",
      "24/24 [==============================] - 0s 522us/step - loss: 0.1367 - accuracy: 0.9973\n",
      "Epoch 69/100\n",
      "24/24 [==============================] - 0s 478us/step - loss: 0.1340 - accuracy: 0.9973\n",
      "Epoch 70/100\n",
      "24/24 [==============================] - 0s 565us/step - loss: 0.1314 - accuracy: 0.9987\n",
      "Epoch 71/100\n",
      "24/24 [==============================] - 0s 522us/step - loss: 0.1289 - accuracy: 0.9987\n",
      "Epoch 72/100\n",
      "24/24 [==============================] - 0s 522us/step - loss: 0.1264 - accuracy: 0.9987\n",
      "Epoch 73/100\n",
      "24/24 [==============================] - 0s 522us/step - loss: 0.1241 - accuracy: 0.9987\n",
      "Epoch 74/100\n",
      "24/24 [==============================] - 0s 522us/step - loss: 0.1217 - accuracy: 0.9987\n",
      "Epoch 75/100\n",
      "24/24 [==============================] - 0s 565us/step - loss: 0.1195 - accuracy: 0.9987\n",
      "Epoch 76/100\n",
      "24/24 [==============================] - 0s 478us/step - loss: 0.1173 - accuracy: 0.9987\n",
      "Epoch 77/100\n",
      "24/24 [==============================] - 0s 522us/step - loss: 0.1151 - accuracy: 1.0000\n",
      "Epoch 78/100\n",
      "24/24 [==============================] - 0s 522us/step - loss: 0.1130 - accuracy: 1.0000\n",
      "Epoch 79/100\n",
      "24/24 [==============================] - 0s 478us/step - loss: 0.1110 - accuracy: 1.0000\n",
      "Epoch 80/100\n",
      "24/24 [==============================] - 0s 522us/step - loss: 0.1090 - accuracy: 1.0000\n",
      "Epoch 81/100\n",
      "24/24 [==============================] - 0s 479us/step - loss: 0.1070 - accuracy: 1.0000\n",
      "Epoch 82/100\n",
      "24/24 [==============================] - 0s 478us/step - loss: 0.1051 - accuracy: 1.0000\n",
      "Epoch 83/100\n",
      "24/24 [==============================] - 0s 522us/step - loss: 0.1032 - accuracy: 1.0000\n",
      "Epoch 84/100\n",
      "24/24 [==============================] - 0s 565us/step - loss: 0.1014 - accuracy: 1.0000\n",
      "Epoch 85/100\n",
      "24/24 [==============================] - 0s 522us/step - loss: 0.0996 - accuracy: 1.0000\n",
      "Epoch 86/100\n",
      "24/24 [==============================] - 0s 522us/step - loss: 0.0979 - accuracy: 1.0000\n",
      "Epoch 87/100\n",
      "24/24 [==============================] - 0s 522us/step - loss: 0.0963 - accuracy: 1.0000\n",
      "Epoch 88/100\n",
      "24/24 [==============================] - 0s 478us/step - loss: 0.0946 - accuracy: 1.0000\n",
      "Epoch 89/100\n",
      "24/24 [==============================] - 0s 478us/step - loss: 0.0930 - accuracy: 1.0000\n",
      "Epoch 90/100\n",
      "24/24 [==============================] - 0s 522us/step - loss: 0.0915 - accuracy: 1.0000\n",
      "Epoch 91/100\n",
      "24/24 [==============================] - 0s 478us/step - loss: 0.0899 - accuracy: 1.0000\n",
      "Epoch 92/100\n",
      "24/24 [==============================] - 0s 522us/step - loss: 0.0885 - accuracy: 1.0000\n",
      "Epoch 93/100\n",
      "24/24 [==============================] - 0s 522us/step - loss: 0.0870 - accuracy: 1.0000\n",
      "Epoch 94/100\n",
      "24/24 [==============================] - 0s 565us/step - loss: 0.0856 - accuracy: 1.0000\n",
      "Epoch 95/100\n",
      "24/24 [==============================] - 0s 522us/step - loss: 0.0842 - accuracy: 1.0000\n",
      "Epoch 96/100\n",
      "24/24 [==============================] - 0s 478us/step - loss: 0.0828 - accuracy: 1.0000\n",
      "Epoch 97/100\n",
      "24/24 [==============================] - 0s 522us/step - loss: 0.0815 - accuracy: 1.0000\n",
      "Epoch 98/100\n",
      "24/24 [==============================] - 0s 522us/step - loss: 0.0802 - accuracy: 1.0000\n",
      "Epoch 99/100\n",
      "24/24 [==============================] - 0s 522us/step - loss: 0.0789 - accuracy: 1.0000\n",
      "Epoch 100/100\n",
      "24/24 [==============================] - 0s 565us/step - loss: 0.0777 - accuracy: 1.0000\n"
     ]
    }
   ],
   "source": [
    "# Fitting the model with linear dummy data\n",
    "model = neuron.fit(X_train_scaled, y_train, epochs=100)"
   ]
  },
  {
   "cell_type": "markdown",
   "metadata": {},
   "source": [
    " ### Evaluate the Model\n",
    "\n",
    " #### Plotting the Loss Function and Accuracy"
   ]
  },
  {
   "cell_type": "code",
   "execution_count": 16,
   "metadata": {},
   "outputs": [
    {
     "data": {
      "text/plain": [
       "<AxesSubplot:>"
      ]
     },
     "execution_count": 16,
     "metadata": {},
     "output_type": "execute_result"
    },
    {
     "data": {
      "image/png": "[encoded data removed]",
      "text/plain": [
       "<Figure size 432x288 with 1 Axes>"
      ]
     },
     "metadata": {
      "needs_background": "light"
     },
     "output_type": "display_data"
    }
   ],
   "source": [
    "# Create a DataFrame with the history dictionary\n",
    "df = pd.DataFrame(model.history, index=range(1, len(model.history[\"loss\"]) + 1))\n",
    "\n",
    "# Plot the loss\n",
    "df.plot(y=\"loss\")"
   ]
  },
  {
   "cell_type": "code",
   "execution_count": 17,
   "metadata": {},
   "outputs": [
    {
     "data": {
      "text/plain": [
       "<AxesSubplot:>"
      ]
     },
     "execution_count": 17,
     "metadata": {},
     "output_type": "execute_result"
    },
    {
     "data": {
      "image/png": "[encoded data removed]",
      "text/plain": [
       "<Figure size 432x288 with 1 Axes>"
      ]
     },
     "metadata": {
      "needs_background": "light"
     },
     "output_type": "display_data"
    }
   ],
   "source": [
    "# Plot the accuracy\n",
    "df.plot(y=\"accuracy\")"
   ]
  },
  {
   "cell_type": "markdown",
   "metadata": {},
   "source": [
    " #### Evaluating the Model Using Testing Data"
   ]
  },
  {
   "cell_type": "code",
   "execution_count": 18,
   "metadata": {},
   "outputs": [
    {
     "name": "stdout",
     "output_type": "stream",
     "text": [
      "8/8 - 0s - loss: 0.0725 - accuracy: 1.0000 - 76ms/epoch - 9ms/step\n",
      "Loss: 0.07251746952533722, Accuracy: 1.0\n"
     ]
    }
   ],
   "source": [
    "# Evaluate the model fit with linear dummy data\n",
    "model_loss, model_accuracy = neuron.evaluate(X_test_scaled, y_test, verbose=2)\n",
    "print(f\"Loss: {model_loss}, Accuracy: {model_accuracy}\")"
   ]
  },
  {
   "cell_type": "markdown",
   "metadata": {},
   "source": [
    " ### Making Predictions with New Data"
   ]
  },
  {
   "cell_type": "code",
   "execution_count": 19,
   "metadata": {},
   "outputs": [],
   "source": [
    "# Create 10 new samples of dummy data\n",
    "new_X, new_y = make_blobs(n_samples=10, centers=2, n_features=2, random_state=78)"
   ]
  },
  {
   "cell_type": "code",
   "execution_count": 20,
   "metadata": {},
   "outputs": [
    {
     "data": {
      "text/html": [
       "<div>\n",
       "<style scoped>\n",
       "    .dataframe tbody tr th:only-of-type {\n",
       "        vertical-align: middle;\n",
       "    }\n",
       "\n",
       "    .dataframe tbody tr th {\n",
       "        vertical-align: top;\n",
       "    }\n",
       "\n",
       "    .dataframe thead th {\n",
       "        text-align: right;\n",
       "    }\n",
       "</style>\n",
       "<table border=\"1\" class=\"dataframe\">\n",
       "  <thead>\n",
       "    <tr style=\"text-align: right;\">\n",
       "      <th></th>\n",
       "      <th>predictions</th>\n",
       "      <th>actual</th>\n",
       "    </tr>\n",
       "  </thead>\n",
       "  <tbody>\n",
       "    <tr>\n",
       "      <th>0</th>\n",
       "      <td>0</td>\n",
       "      <td>0</td>\n",
       "    </tr>\n",
       "    <tr>\n",
       "      <th>1</th>\n",
       "      <td>1</td>\n",
       "      <td>1</td>\n",
       "    </tr>\n",
       "    <tr>\n",
       "      <th>2</th>\n",
       "      <td>0</td>\n",
       "      <td>0</td>\n",
       "    </tr>\n",
       "    <tr>\n",
       "      <th>3</th>\n",
       "      <td>1</td>\n",
       "      <td>1</td>\n",
       "    </tr>\n",
       "    <tr>\n",
       "      <th>4</th>\n",
       "      <td>0</td>\n",
       "      <td>0</td>\n",
       "    </tr>\n",
       "    <tr>\n",
       "      <th>5</th>\n",
       "      <td>0</td>\n",
       "      <td>0</td>\n",
       "    </tr>\n",
       "    <tr>\n",
       "      <th>6</th>\n",
       "      <td>1</td>\n",
       "      <td>1</td>\n",
       "    </tr>\n",
       "    <tr>\n",
       "      <th>7</th>\n",
       "      <td>1</td>\n",
       "      <td>1</td>\n",
       "    </tr>\n",
       "    <tr>\n",
       "      <th>8</th>\n",
       "      <td>1</td>\n",
       "      <td>1</td>\n",
       "    </tr>\n",
       "    <tr>\n",
       "      <th>9</th>\n",
       "      <td>0</td>\n",
       "      <td>0</td>\n",
       "    </tr>\n",
       "  </tbody>\n",
       "</table>\n",
       "</div>"
      ],
      "text/plain": [
       "   predictions  actual\n",
       "0            0       0\n",
       "1            1       1\n",
       "2            0       0\n",
       "3            1       1\n",
       "4            0       0\n",
       "5            0       0\n",
       "6            1       1\n",
       "7            1       1\n",
       "8            1       1\n",
       "9            0       0"
      ]
     },
     "execution_count": 20,
     "metadata": {},
     "output_type": "execute_result"
    }
   ],
   "source": [
    "# Making predictions\n",
    "predictions = (neuron.predict(new_X) > 0.5).astype(\"int32\")\n",
    "results = pd.DataFrame({\"predictions\": predictions.ravel(), \"actual\": new_y})\n",
    "results.head(10)"
   ]
  },
  {
   "cell_type": "markdown",
   "metadata": {},
   "source": [
    "---"
   ]
  },
  {
   "cell_type": "markdown",
   "metadata": {},
   "source": [
    "# Using a Single Neuron for Non-Linear Data\n",
    "\n",
    "### Creating Demo Data:"
   ]
  },
  {
   "cell_type": "code",
   "execution_count": 21,
   "metadata": {},
   "outputs": [],
   "source": [
    "# Creating dummy non-linear data\n",
    "X_moons, y_moons = make_moons(n_samples=1000, noise=0.08, random_state=78)"
   ]
  },
  {
   "cell_type": "code",
   "execution_count": 22,
   "metadata": {},
   "outputs": [],
   "source": [
    "# Transforming y_moons to a vertical vector\n",
    "y_moons = y_moons.reshape(-1, 1)"
   ]
  },
  {
   "cell_type": "code",
   "execution_count": 23,
   "metadata": {},
   "outputs": [
    {
     "data": {
      "text/html": [
       "<div>\n",
       "<style scoped>\n",
       "    .dataframe tbody tr th:only-of-type {\n",
       "        vertical-align: middle;\n",
       "    }\n",
       "\n",
       "    .dataframe tbody tr th {\n",
       "        vertical-align: top;\n",
       "    }\n",
       "\n",
       "    .dataframe thead th {\n",
       "        text-align: right;\n",
       "    }\n",
       "</style>\n",
       "<table border=\"1\" class=\"dataframe\">\n",
       "  <thead>\n",
       "    <tr style=\"text-align: right;\">\n",
       "      <th></th>\n",
       "      <th>Feature 1</th>\n",
       "      <th>Feature 2</th>\n",
       "      <th>Target</th>\n",
       "    </tr>\n",
       "  </thead>\n",
       "  <tbody>\n",
       "    <tr>\n",
       "      <th>0</th>\n",
       "      <td>0.676217</td>\n",
       "      <td>0.815220</td>\n",
       "      <td>0</td>\n",
       "    </tr>\n",
       "    <tr>\n",
       "      <th>1</th>\n",
       "      <td>1.487143</td>\n",
       "      <td>-0.210519</td>\n",
       "      <td>1</td>\n",
       "    </tr>\n",
       "    <tr>\n",
       "      <th>2</th>\n",
       "      <td>-1.027709</td>\n",
       "      <td>0.354966</td>\n",
       "      <td>0</td>\n",
       "    </tr>\n",
       "    <tr>\n",
       "      <th>3</th>\n",
       "      <td>0.236012</td>\n",
       "      <td>1.025531</td>\n",
       "      <td>0</td>\n",
       "    </tr>\n",
       "    <tr>\n",
       "      <th>4</th>\n",
       "      <td>1.856695</td>\n",
       "      <td>-0.042783</td>\n",
       "      <td>1</td>\n",
       "    </tr>\n",
       "  </tbody>\n",
       "</table>\n",
       "</div>"
      ],
      "text/plain": [
       "   Feature 1  Feature 2  Target\n",
       "0   0.676217   0.815220       0\n",
       "1   1.487143  -0.210519       1\n",
       "2  -1.027709   0.354966       0\n",
       "3   0.236012   1.025531       0\n",
       "4   1.856695  -0.042783       1"
      ]
     },
     "execution_count": 23,
     "metadata": {},
     "output_type": "execute_result"
    }
   ],
   "source": [
    "# Creating a DataFrame to plot the non-linear dummy data\n",
    "df_moons = pd.DataFrame(X_moons, columns=[\"Feature 1\", \"Feature 2\"])\n",
    "df_moons[\"Target\"] = y_moons\n",
    "df_moons.head()"
   ]
  },
  {
   "cell_type": "code",
   "execution_count": 24,
   "metadata": {},
   "outputs": [
    {
     "data": {
      "text/plain": [
       "<AxesSubplot:xlabel='Feature 1', ylabel='Feature 2'>"
      ]
     },
     "execution_count": 24,
     "metadata": {},
     "output_type": "execute_result"
    },
    {
     "data": {
      "image/png": "[encoded data removed]",
      "text/plain": [
       "<Figure size 432x288 with 2 Axes>"
      ]
     },
     "metadata": {
      "needs_background": "light"
     },
     "output_type": "display_data"
    }
   ],
   "source": [
    "# Plotting the non-linear dummy data\n",
    "df_moons.plot.scatter(x=\"Feature 1\", y=\"Feature 2\", c=\"Target\", colormap=\"winter\")"
   ]
  },
  {
   "cell_type": "markdown",
   "metadata": {},
   "source": [
    "### Data Preprocessing\n",
    "\n",
    "Use `train_test_split` to create training and testing data."
   ]
  },
  {
   "cell_type": "code",
   "execution_count": 25,
   "metadata": {},
   "outputs": [],
   "source": [
    "# Create training and testing sets\n",
    "X_moon_train, X_moon_test, y_moon_train, y_moon_test = train_test_split(\n",
    "    X_moons, y_moons, random_state=78\n",
    ")"
   ]
  },
  {
   "cell_type": "markdown",
   "metadata": {},
   "source": [
    " Scale the data"
   ]
  },
  {
   "cell_type": "code",
   "execution_count": 26,
   "metadata": {},
   "outputs": [],
   "source": [
    "# Create the scaler instance\n",
    "X_moon_scaler = StandardScaler()"
   ]
  },
  {
   "cell_type": "code",
   "execution_count": 27,
   "metadata": {},
   "outputs": [
    {
     "data": {
      "text/plain": [
       "StandardScaler()"
      ]
     },
     "execution_count": 27,
     "metadata": {},
     "output_type": "execute_result"
    }
   ],
   "source": [
    "# Fit the scaler\n",
    "X_moon_scaler.fit(X_moon_train)"
   ]
  },
  {
   "cell_type": "code",
   "execution_count": 28,
   "metadata": {},
   "outputs": [],
   "source": [
    "# Scale the data\n",
    "X_moon_train_scaled = X_moon_scaler.transform(X_moon_train)\n",
    "X_moon_test_scaled = X_moon_scaler.transform(X_moon_test)"
   ]
  },
  {
   "cell_type": "markdown",
   "metadata": {},
   "source": [
    " ### Fit the Model"
   ]
  },
  {
   "cell_type": "code",
   "execution_count": 29,
   "metadata": {},
   "outputs": [
    {
     "name": "stdout",
     "output_type": "stream",
     "text": [
      "Epoch 1/100\n",
      "24/24 [==============================] - 0s 739us/step - loss: 1.0991 - accuracy: 0.4467\n",
      "Epoch 2/100\n",
      "24/24 [==============================] - 0s 696us/step - loss: 0.9367 - accuracy: 0.4893\n",
      "Epoch 3/100\n",
      "24/24 [==============================] - 0s 696us/step - loss: 0.8349 - accuracy: 0.5200\n",
      "Epoch 4/100\n",
      "24/24 [==============================] - 0s 652us/step - loss: 0.7677 - accuracy: 0.5427\n",
      "Epoch 5/100\n",
      "24/24 [==============================] - 0s 652us/step - loss: 0.7190 - accuracy: 0.5680\n",
      "Epoch 6/100\n",
      "24/24 [==============================] - 0s 652us/step - loss: 0.6783 - accuracy: 0.5840\n",
      "Epoch 7/100\n",
      "24/24 [==============================] - 0s 696us/step - loss: 0.6447 - accuracy: 0.6027\n",
      "Epoch 8/100\n",
      "24/24 [==============================] - 0s 652us/step - loss: 0.6154 - accuracy: 0.6227\n",
      "Epoch 9/100\n",
      "24/24 [==============================] - 0s 696us/step - loss: 0.5901 - accuracy: 0.6293\n",
      "Epoch 10/100\n",
      "24/24 [==============================] - 0s 652us/step - loss: 0.5679 - accuracy: 0.6427\n",
      "Epoch 11/100\n",
      "24/24 [==============================] - 0s 708us/step - loss: 0.5476 - accuracy: 0.6613\n",
      "Epoch 12/100\n",
      "24/24 [==============================] - 0s 652us/step - loss: 0.5297 - accuracy: 0.6760\n",
      "Epoch 13/100\n",
      "24/24 [==============================] - 0s 652us/step - loss: 0.5130 - accuracy: 0.6867\n",
      "Epoch 14/100\n",
      "24/24 [==============================] - 0s 696us/step - loss: 0.4981 - accuracy: 0.6907\n",
      "Epoch 15/100\n",
      "24/24 [==============================] - 0s 696us/step - loss: 0.4843 - accuracy: 0.7027\n",
      "Epoch 16/100\n",
      "24/24 [==============================] - 0s 652us/step - loss: 0.4713 - accuracy: 0.7133\n",
      "Epoch 17/100\n",
      "24/24 [==============================] - 0s 696us/step - loss: 0.4596 - accuracy: 0.7227\n",
      "Epoch 18/100\n",
      "24/24 [==============================] - 0s 652us/step - loss: 0.4482 - accuracy: 0.7293\n",
      "Epoch 19/100\n",
      "24/24 [==============================] - 0s 696us/step - loss: 0.4376 - accuracy: 0.7427\n",
      "Epoch 20/100\n",
      "24/24 [==============================] - 0s 696us/step - loss: 0.4277 - accuracy: 0.7533\n",
      "Epoch 21/100\n",
      "24/24 [==============================] - 0s 652us/step - loss: 0.4183 - accuracy: 0.7627\n",
      "Epoch 22/100\n",
      "24/24 [==============================] - 0s 652us/step - loss: 0.4096 - accuracy: 0.7707\n",
      "Epoch 23/100\n",
      "24/24 [==============================] - 0s 652us/step - loss: 0.4013 - accuracy: 0.7813\n",
      "Epoch 24/100\n",
      "24/24 [==============================] - 0s 696us/step - loss: 0.3934 - accuracy: 0.7840\n",
      "Epoch 25/100\n",
      "24/24 [==============================] - 0s 693us/step - loss: 0.3860 - accuracy: 0.7840\n",
      "Epoch 26/100\n",
      "24/24 [==============================] - 0s 652us/step - loss: 0.3788 - accuracy: 0.7907\n",
      "Epoch 27/100\n",
      "24/24 [==============================] - 0s 652us/step - loss: 0.3721 - accuracy: 0.7960\n",
      "Epoch 28/100\n",
      "24/24 [==============================] - 0s 696us/step - loss: 0.3655 - accuracy: 0.7987\n",
      "Epoch 29/100\n",
      "24/24 [==============================] - 0s 652us/step - loss: 0.3596 - accuracy: 0.8000\n",
      "Epoch 30/100\n",
      "24/24 [==============================] - 0s 652us/step - loss: 0.3540 - accuracy: 0.8080\n",
      "Epoch 31/100\n",
      "24/24 [==============================] - 0s 696us/step - loss: 0.3486 - accuracy: 0.8173\n",
      "Epoch 32/100\n",
      "24/24 [==============================] - 0s 696us/step - loss: 0.3437 - accuracy: 0.8213\n",
      "Epoch 33/100\n",
      "24/24 [==============================] - 0s 652us/step - loss: 0.3393 - accuracy: 0.8253\n",
      "Epoch 34/100\n",
      "24/24 [==============================] - 0s 696us/step - loss: 0.3351 - accuracy: 0.8307\n",
      "Epoch 35/100\n",
      "24/24 [==============================] - 0s 652us/step - loss: 0.3311 - accuracy: 0.8387\n",
      "Epoch 36/100\n",
      "24/24 [==============================] - 0s 609us/step - loss: 0.3274 - accuracy: 0.8413\n",
      "Epoch 37/100\n",
      "24/24 [==============================] - 0s 696us/step - loss: 0.3240 - accuracy: 0.8427\n",
      "Epoch 38/100\n",
      "24/24 [==============================] - 0s 696us/step - loss: 0.3208 - accuracy: 0.8467\n",
      "Epoch 39/100\n",
      "24/24 [==============================] - 0s 652us/step - loss: 0.3178 - accuracy: 0.8507\n",
      "Epoch 40/100\n",
      "24/24 [==============================] - 0s 652us/step - loss: 0.3149 - accuracy: 0.8560\n",
      "Epoch 41/100\n",
      "24/24 [==============================] - 0s 696us/step - loss: 0.3122 - accuracy: 0.8573\n",
      "Epoch 42/100\n",
      "24/24 [==============================] - 0s 696us/step - loss: 0.3097 - accuracy: 0.8587\n",
      "Epoch 43/100\n",
      "24/24 [==============================] - 0s 696us/step - loss: 0.3073 - accuracy: 0.8667\n",
      "Epoch 44/100\n",
      "24/24 [==============================] - 0s 652us/step - loss: 0.3051 - accuracy: 0.8667\n",
      "Epoch 45/100\n",
      "24/24 [==============================] - 0s 652us/step - loss: 0.3029 - accuracy: 0.8667\n",
      "Epoch 46/100\n",
      "24/24 [==============================] - 0s 696us/step - loss: 0.3008 - accuracy: 0.8667\n",
      "Epoch 47/100\n",
      "24/24 [==============================] - 0s 696us/step - loss: 0.2990 - accuracy: 0.8680\n",
      "Epoch 48/100\n",
      "24/24 [==============================] - 0s 739us/step - loss: 0.2970 - accuracy: 0.8693\n",
      "Epoch 49/100\n",
      "24/24 [==============================] - 0s 652us/step - loss: 0.2953 - accuracy: 0.8707\n",
      "Epoch 50/100\n",
      "24/24 [==============================] - 0s 696us/step - loss: 0.2937 - accuracy: 0.8707\n",
      "Epoch 51/100\n",
      "24/24 [==============================] - 0s 696us/step - loss: 0.2920 - accuracy: 0.8707\n",
      "Epoch 52/100\n",
      "24/24 [==============================] - 0s 652us/step - loss: 0.2906 - accuracy: 0.8707\n",
      "Epoch 53/100\n",
      "24/24 [==============================] - 0s 696us/step - loss: 0.2892 - accuracy: 0.8720\n",
      "Epoch 54/100\n",
      "24/24 [==============================] - 0s 652us/step - loss: 0.2878 - accuracy: 0.8720\n",
      "Epoch 55/100\n",
      "24/24 [==============================] - 0s 652us/step - loss: 0.2866 - accuracy: 0.8733\n",
      "Epoch 56/100\n",
      "24/24 [==============================] - 0s 609us/step - loss: 0.2855 - accuracy: 0.8733\n",
      "Epoch 57/100\n",
      "24/24 [==============================] - 0s 652us/step - loss: 0.2843 - accuracy: 0.8733\n",
      "Epoch 58/100\n",
      "24/24 [==============================] - 0s 696us/step - loss: 0.2832 - accuracy: 0.8747\n",
      "Epoch 59/100\n",
      "24/24 [==============================] - 0s 739us/step - loss: 0.2820 - accuracy: 0.8787\n",
      "Epoch 60/100\n",
      "24/24 [==============================] - 0s 696us/step - loss: 0.2811 - accuracy: 0.8787\n",
      "Epoch 61/100\n",
      "24/24 [==============================] - 0s 652us/step - loss: 0.2800 - accuracy: 0.8787\n",
      "Epoch 62/100\n",
      "24/24 [==============================] - 0s 652us/step - loss: 0.2791 - accuracy: 0.8787\n",
      "Epoch 63/100\n",
      "24/24 [==============================] - 0s 696us/step - loss: 0.2782 - accuracy: 0.8813\n",
      "Epoch 64/100\n",
      "24/24 [==============================] - 0s 652us/step - loss: 0.2774 - accuracy: 0.8813\n",
      "Epoch 65/100\n",
      "24/24 [==============================] - 0s 696us/step - loss: 0.2765 - accuracy: 0.8840\n",
      "Epoch 66/100\n",
      "24/24 [==============================] - 0s 739us/step - loss: 0.2758 - accuracy: 0.8840\n",
      "Epoch 67/100\n",
      "24/24 [==============================] - 0s 696us/step - loss: 0.2750 - accuracy: 0.8853\n",
      "Epoch 68/100\n",
      "24/24 [==============================] - 0s 696us/step - loss: 0.2742 - accuracy: 0.8880\n",
      "Epoch 69/100\n",
      "24/24 [==============================] - 0s 652us/step - loss: 0.2736 - accuracy: 0.8880\n",
      "Epoch 70/100\n",
      "24/24 [==============================] - 0s 739us/step - loss: 0.2729 - accuracy: 0.8880\n",
      "Epoch 71/100\n",
      "24/24 [==============================] - 0s 696us/step - loss: 0.2722 - accuracy: 0.8893\n",
      "Epoch 72/100\n",
      "24/24 [==============================] - ETA: 0s - loss: 0.1674 - accuracy: 0.96 - 0s 623us/step - loss: 0.2715 - accuracy: 0.8893\n",
      "Epoch 73/100\n",
      "24/24 [==============================] - 0s 739us/step - loss: 0.2709 - accuracy: 0.8907\n",
      "Epoch 74/100\n",
      "24/24 [==============================] - 0s 696us/step - loss: 0.2703 - accuracy: 0.8920\n",
      "Epoch 75/100\n",
      "24/24 [==============================] - 0s 739us/step - loss: 0.2697 - accuracy: 0.8920\n",
      "Epoch 76/100\n",
      "24/24 [==============================] - 0s 652us/step - loss: 0.2691 - accuracy: 0.8920\n",
      "Epoch 77/100\n",
      "24/24 [==============================] - 0s 739us/step - loss: 0.2685 - accuracy: 0.8920\n",
      "Epoch 78/100\n",
      "24/24 [==============================] - 0s 652us/step - loss: 0.2680 - accuracy: 0.8933\n",
      "Epoch 79/100\n",
      "24/24 [==============================] - 0s 5ms/step - loss: 0.2675 - accuracy: 0.8933\n",
      "Epoch 80/100\n",
      "24/24 [==============================] - 0s 739us/step - loss: 0.2672 - accuracy: 0.8933\n",
      "Epoch 81/100\n",
      "24/24 [==============================] - 0s 696us/step - loss: 0.2666 - accuracy: 0.8933\n",
      "Epoch 82/100\n",
      "24/24 [==============================] - 0s 696us/step - loss: 0.2661 - accuracy: 0.8933\n",
      "Epoch 83/100\n",
      "24/24 [==============================] - 0s 652us/step - loss: 0.2657 - accuracy: 0.8933\n",
      "Epoch 84/100\n",
      "24/24 [==============================] - 0s 652us/step - loss: 0.2652 - accuracy: 0.8933\n",
      "Epoch 85/100\n",
      "24/24 [==============================] - 0s 609us/step - loss: 0.2648 - accuracy: 0.8933\n",
      "Epoch 86/100\n",
      "24/24 [==============================] - 0s 696us/step - loss: 0.2644 - accuracy: 0.8920\n",
      "Epoch 87/100\n",
      "24/24 [==============================] - 0s 652us/step - loss: 0.2641 - accuracy: 0.8920\n",
      "Epoch 88/100\n",
      "24/24 [==============================] - 0s 652us/step - loss: 0.2637 - accuracy: 0.8920\n",
      "Epoch 89/100\n",
      "24/24 [==============================] - 0s 696us/step - loss: 0.2633 - accuracy: 0.8920\n",
      "Epoch 90/100\n",
      "24/24 [==============================] - 0s 652us/step - loss: 0.2630 - accuracy: 0.8920\n",
      "Epoch 91/100\n",
      "24/24 [==============================] - 0s 652us/step - loss: 0.2627 - accuracy: 0.8920\n",
      "Epoch 92/100\n",
      "24/24 [==============================] - 0s 696us/step - loss: 0.2623 - accuracy: 0.8907\n",
      "Epoch 93/100\n",
      "24/24 [==============================] - 0s 652us/step - loss: 0.2620 - accuracy: 0.8907\n",
      "Epoch 94/100\n",
      "24/24 [==============================] - 0s 696us/step - loss: 0.2617 - accuracy: 0.8907\n",
      "Epoch 95/100\n",
      "24/24 [==============================] - 0s 739us/step - loss: 0.2614 - accuracy: 0.8907\n",
      "Epoch 96/100\n",
      "24/24 [==============================] - 0s 739us/step - loss: 0.2611 - accuracy: 0.8907\n",
      "Epoch 97/100\n",
      "24/24 [==============================] - 0s 696us/step - loss: 0.2608 - accuracy: 0.8907\n",
      "Epoch 98/100\n",
      "24/24 [==============================] - 0s 652us/step - loss: 0.2605 - accuracy: 0.8907\n",
      "Epoch 99/100\n",
      "24/24 [==============================] - 0s 696us/step - loss: 0.2603 - accuracy: 0.8920\n",
      "Epoch 100/100\n",
      "24/24 [==============================] - 0s 739us/step - loss: 0.2600 - accuracy: 0.8907\n"
     ]
    }
   ],
   "source": [
    "# Training the model with the non-linear data\n",
    "model_moon = neuron.fit(X_moon_train_scaled, y_moon_train, epochs=100)"
   ]
  },
  {
   "cell_type": "markdown",
   "metadata": {},
   "source": [
    " ### Evaluate the Model\n",
    "\n",
    " #### Plotting the Loss Function and Accuracy"
   ]
  },
  {
   "cell_type": "code",
   "execution_count": 30,
   "metadata": {},
   "outputs": [
    {
     "data": {
      "text/plain": [
       "<AxesSubplot:>"
      ]
     },
     "execution_count": 30,
     "metadata": {},
     "output_type": "execute_result"
    },
    {
     "data": {
      "image/png": "[encoded data removed]",
      "text/plain": [
       "<Figure size 432x288 with 1 Axes>"
      ]
     },
     "metadata": {
      "needs_background": "light"
     },
     "output_type": "display_data"
    }
   ],
   "source": [
    "# Create a DataFrame with the history dictionary\n",
    "df_moon = pd.DataFrame(\n",
    "    model_moon.history, index=range(1, len(model_moon.history[\"loss\"]) + 1)\n",
    ")\n",
    "\n",
    "# Plot the loss\n",
    "df_moon.plot(y=\"loss\")"
   ]
  },
  {
   "cell_type": "code",
   "execution_count": 31,
   "metadata": {},
   "outputs": [
    {
     "data": {
      "text/plain": [
       "<AxesSubplot:>"
      ]
     },
     "execution_count": 31,
     "metadata": {},
     "output_type": "execute_result"
    },
    {
     "data": {
      "image/png": "[encoded data removed]",
      "text/plain": [
       "<Figure size 432x288 with 1 Axes>"
      ]
     },
     "metadata": {
      "needs_background": "light"
     },
     "output_type": "display_data"
    }
   ],
   "source": [
    "# Plot the accuracy\n",
    "df_moon.plot(y=\"accuracy\")"
   ]
  },
  {
   "cell_type": "markdown",
   "metadata": {},
   "source": [
    " #### Evaluating the Model Using Testing Data"
   ]
  },
  {
   "cell_type": "code",
   "execution_count": 32,
   "metadata": {},
   "outputs": [
    {
     "name": "stdout",
     "output_type": "stream",
     "text": [
      "8/8 - 0s - loss: 0.2635 - accuracy: 0.8600 - 55ms/epoch - 7ms/step\n",
      "Loss: 0.2634538412094116, Accuracy: 0.8600000143051147\n"
     ]
    }
   ],
   "source": [
    "# Evaluate the model using non-linear data\n",
    "model_moon_loss, model_moon_accuracy = neuron.evaluate(\n",
    "    X_moon_test_scaled, y_moon_test, verbose=2\n",
    ")\n",
    "print(f\"Loss: {model_moon_loss}, Accuracy: {model_moon_accuracy}\")"
   ]
  },
  {
   "cell_type": "markdown",
   "metadata": {},
   "source": [
    " ### Making Predictions"
   ]
  },
  {
   "cell_type": "code",
   "execution_count": 33,
   "metadata": {},
   "outputs": [],
   "source": [
    "# Create demo data\n",
    "X_new_moons, y_new_moons = make_moons(n_samples=10, noise=0.08, random_state=78)"
   ]
  },
  {
   "cell_type": "code",
   "execution_count": 34,
   "metadata": {},
   "outputs": [
    {
     "data": {
      "text/html": [
       "<div>\n",
       "<style scoped>\n",
       "    .dataframe tbody tr th:only-of-type {\n",
       "        vertical-align: middle;\n",
       "    }\n",
       "\n",
       "    .dataframe tbody tr th {\n",
       "        vertical-align: top;\n",
       "    }\n",
       "\n",
       "    .dataframe thead th {\n",
       "        text-align: right;\n",
       "    }\n",
       "</style>\n",
       "<table border=\"1\" class=\"dataframe\">\n",
       "  <thead>\n",
       "    <tr style=\"text-align: right;\">\n",
       "      <th></th>\n",
       "      <th>predictions</th>\n",
       "      <th>actual</th>\n",
       "    </tr>\n",
       "  </thead>\n",
       "  <tbody>\n",
       "    <tr>\n",
       "      <th>0</th>\n",
       "      <td>0</td>\n",
       "      <td>0</td>\n",
       "    </tr>\n",
       "    <tr>\n",
       "      <th>1</th>\n",
       "      <td>0</td>\n",
       "      <td>0</td>\n",
       "    </tr>\n",
       "    <tr>\n",
       "      <th>2</th>\n",
       "      <td>0</td>\n",
       "      <td>0</td>\n",
       "    </tr>\n",
       "    <tr>\n",
       "      <th>3</th>\n",
       "      <td>0</td>\n",
       "      <td>1</td>\n",
       "    </tr>\n",
       "    <tr>\n",
       "      <th>4</th>\n",
       "      <td>0</td>\n",
       "      <td>1</td>\n",
       "    </tr>\n",
       "    <tr>\n",
       "      <th>5</th>\n",
       "      <td>0</td>\n",
       "      <td>0</td>\n",
       "    </tr>\n",
       "    <tr>\n",
       "      <th>6</th>\n",
       "      <td>0</td>\n",
       "      <td>0</td>\n",
       "    </tr>\n",
       "    <tr>\n",
       "      <th>7</th>\n",
       "      <td>0</td>\n",
       "      <td>1</td>\n",
       "    </tr>\n",
       "    <tr>\n",
       "      <th>8</th>\n",
       "      <td>0</td>\n",
       "      <td>1</td>\n",
       "    </tr>\n",
       "    <tr>\n",
       "      <th>9</th>\n",
       "      <td>0</td>\n",
       "      <td>1</td>\n",
       "    </tr>\n",
       "  </tbody>\n",
       "</table>\n",
       "</div>"
      ],
      "text/plain": [
       "   predictions  actual\n",
       "0            0       0\n",
       "1            0       0\n",
       "2            0       0\n",
       "3            0       1\n",
       "4            0       1\n",
       "5            0       0\n",
       "6            0       0\n",
       "7            0       1\n",
       "8            0       1\n",
       "9            0       1"
      ]
     },
     "execution_count": 34,
     "metadata": {},
     "output_type": "execute_result"
    }
   ],
   "source": [
    "# Making predictions\n",
    "predictions_moon = (neuron.predict(X_new_moons) > 0.5).astype(\"int32\")\n",
    "\n",
    "results = pd.DataFrame({\"predictions\": predictions_moon.ravel(), \"actual\": y_new_moons})\n",
    "results.head(10)"
   ]
  },
  {
   "cell_type": "code",
   "execution_count": null,
   "metadata": {},
   "outputs": [],
   "source": []
  }
 ],
 "metadata": {
  "file_extension": ".py",
  "kernelspec": {
   "display_name": "Python 3 (ipykernel)",
   "language": "python",
   "name": "python3"
  },
  "language_info": {
   "codemirror_mode": {
    "name": "ipython",
    "version": 3
   },
   "file_extension": ".py",
   "mimetype": "text/x-python",
   "name": "python",
   "nbconvert_exporter": "python",
   "pygments_lexer": "ipython3",
   "version": "3.9.7"
  },
  "mimetype": "text/x-python",
  "name": "python",
  "npconvert_exporter": "python",
  "pygments_lexer": "ipython3",
  "version": 3
 },
 "nbformat": 4,
 "nbformat_minor": 4
}
