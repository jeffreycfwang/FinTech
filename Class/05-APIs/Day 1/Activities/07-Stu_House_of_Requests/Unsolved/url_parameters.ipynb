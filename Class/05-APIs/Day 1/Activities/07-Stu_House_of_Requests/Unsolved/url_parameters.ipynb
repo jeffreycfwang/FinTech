{
 "cells": [
  {
   "cell_type": "markdown",
   "metadata": {},
   "source": [
    "# House of Requests"
   ]
  },
  {
   "cell_type": "markdown",
   "metadata": {},
   "source": [
    "Use the `Deck of Cards` API to play a game of BlackJack with a partner. Parameterize the `Deck of Cards` API `request urls` in order to create the deck of cards, as well as draw cards for the game."
   ]
  },
  {
   "cell_type": "code",
   "execution_count": 1,
   "metadata": {},
   "outputs": [],
   "source": [
    "import requests\n",
    "import json"
   ]
  },
  {
   "cell_type": "markdown",
   "metadata": {},
   "source": [
    "## Prep for the Game"
   ]
  },
  {
   "cell_type": "code",
   "execution_count": 3,
   "metadata": {},
   "outputs": [
    {
     "name": "stdout",
     "output_type": "stream",
     "text": [
      "{\n",
      "    \"success\": true,\n",
      "    \"deck_id\": \"m69jiom9uek7\",\n",
      "    \"remaining\": 312,\n",
      "    \"shuffled\": true\n",
      "}\n"
     ]
    }
   ],
   "source": [
    "# Declare request url to create deck id\n",
    "create_deck_url = \"https://deckofcardsapi.com/api/deck/new/shuffle/?deck_count=6\"\n",
    "\n",
    "# Execute create deck url\n",
    "deck_response_data = requests.get(create_deck_url).json()\n",
    "print(json.dumps(deck_response_data, indent=4))"
   ]
  },
  {
   "cell_type": "markdown",
   "metadata": {},
   "source": [
    "### Parse JSON and extract `deck_id`"
   ]
  },
  {
   "cell_type": "code",
   "execution_count": 4,
   "metadata": {},
   "outputs": [
    {
     "name": "stdout",
     "output_type": "stream",
     "text": [
      "m69jiom9uek7\n"
     ]
    }
   ],
   "source": [
    "# Select deck_id\n",
    "deck_id = deck_response_data['deck_id']\n",
    "print(deck_id)"
   ]
  },
  {
   "cell_type": "markdown",
   "metadata": {},
   "source": [
    "### Declare request urls to draw cards and shuffle deck"
   ]
  },
  {
   "cell_type": "code",
   "execution_count": 5,
   "metadata": {},
   "outputs": [
    {
     "name": "stdout",
     "output_type": "stream",
     "text": [
      "https://deckofcardsapi.com/api/deck/m69jiom9uek7/draw/?count=2\n",
      "https://deckofcardsapi.com/api/deck/m69jiom9uek7/shuffle/\n"
     ]
    }
   ],
   "source": [
    "# Declare draw_cards_url and shuffle_deck_url\n",
    "# Use string interpolation to incorporate the deck_id\n",
    "draw_cards_url = f\"https://deckofcardsapi.com/api/deck/{deck_id}/draw/?count=2\"\n",
    "shuffle_deck_url = f\"https://deckofcardsapi.com/api/deck/{deck_id}/shuffle/\"\n",
    "print(draw_cards_url)\n",
    "print(shuffle_deck_url)"
   ]
  },
  {
   "cell_type": "markdown",
   "metadata": {},
   "source": [
    "## Player 1 Turn"
   ]
  },
  {
   "cell_type": "markdown",
   "metadata": {},
   "source": [
    "### Draw two cards"
   ]
  },
  {
   "cell_type": "code",
   "execution_count": 20,
   "metadata": {},
   "outputs": [
    {
     "name": "stdout",
     "output_type": "stream",
     "text": [
      "{\n",
      "    \"success\": true,\n",
      "    \"deck_id\": \"m69jiom9uek7\",\n",
      "    \"cards\": [\n",
      "        {\n",
      "            \"code\": \"AS\",\n",
      "            \"image\": \"https://deckofcardsapi.com/static/img/AS.png\",\n",
      "            \"images\": {\n",
      "                \"svg\": \"https://deckofcardsapi.com/static/img/AS.svg\",\n",
      "                \"png\": \"https://deckofcardsapi.com/static/img/AS.png\"\n",
      "            },\n",
      "            \"value\": \"ACE\",\n",
      "            \"suit\": \"SPADES\"\n",
      "        },\n",
      "        {\n",
      "            \"code\": \"7D\",\n",
      "            \"image\": \"https://deckofcardsapi.com/static/img/7D.png\",\n",
      "            \"images\": {\n",
      "                \"svg\": \"https://deckofcardsapi.com/static/img/7D.svg\",\n",
      "                \"png\": \"https://deckofcardsapi.com/static/img/7D.png\"\n",
      "            },\n",
      "            \"value\": \"7\",\n",
      "            \"suit\": \"DIAMONDS\"\n",
      "        }\n",
      "    ],\n",
      "    \"remaining\": 304\n",
      "}\n"
     ]
    }
   ],
   "source": [
    "# Draw two cards p1r11d(player1 round1 1st draw) \n",
    "p1r11d = requests.get(draw_cards_url).json()\n",
    "print(json.dumps(p1r11d, indent=4))"
   ]
  },
  {
   "cell_type": "markdown",
   "metadata": {},
   "source": [
    "### Parse and extract `value` and `suit` elements from JSON output, for each card"
   ]
  },
  {
   "cell_type": "code",
   "execution_count": 21,
   "metadata": {},
   "outputs": [
    {
     "name": "stdout",
     "output_type": "stream",
     "text": [
      "ACE of SPADES\n"
     ]
    }
   ],
   "source": [
    "# Select returned card's value and suit (i.e. 3 of clubs)\n",
    "p1value1 = p1r11d['cards'][0]['value']\n",
    "p1suit1 = p1r11d['cards'][0]['suit']\n",
    "p1value2 = p1r11d['cards'][1]['value']\n",
    "p1suit2 = p1r11d['cards'][1]['suit']\n",
    "\n",
    "player_1_card_1 = f'{p1value1} of {p1suit1}'\n",
    "player_1_card_2 = f'{p1value2} of {p1suit2}'\n",
    "\n",
    "# Print player cards\n",
    "print(player_1_card_1)"
   ]
  },
  {
   "cell_type": "code",
   "execution_count": 22,
   "metadata": {},
   "outputs": [
    {
     "name": "stdout",
     "output_type": "stream",
     "text": [
      "7 of DIAMONDS\n"
     ]
    }
   ],
   "source": [
    "print(player_1_card_2)"
   ]
  },
  {
   "cell_type": "markdown",
   "metadata": {},
   "source": [
    "### Decide whether to draw another card or skip to next player turn"
   ]
  },
  {
   "cell_type": "code",
   "execution_count": 23,
   "metadata": {},
   "outputs": [
    {
     "name": "stdout",
     "output_type": "stream",
     "text": [
      "{\n",
      "    \"success\": true,\n",
      "    \"deck_id\": \"m69jiom9uek7\",\n",
      "    \"cards\": [\n",
      "        {\n",
      "            \"code\": \"7D\",\n",
      "            \"image\": \"https://deckofcardsapi.com/static/img/7D.png\",\n",
      "            \"images\": {\n",
      "                \"svg\": \"https://deckofcardsapi.com/static/img/7D.svg\",\n",
      "                \"png\": \"https://deckofcardsapi.com/static/img/7D.png\"\n",
      "            },\n",
      "            \"value\": \"7\",\n",
      "            \"suit\": \"DIAMONDS\"\n",
      "        },\n",
      "        {\n",
      "            \"code\": \"QD\",\n",
      "            \"image\": \"https://deckofcardsapi.com/static/img/QD.png\",\n",
      "            \"images\": {\n",
      "                \"svg\": \"https://deckofcardsapi.com/static/img/QD.svg\",\n",
      "                \"png\": \"https://deckofcardsapi.com/static/img/QD.png\"\n",
      "            },\n",
      "            \"value\": \"QUEEN\",\n",
      "            \"suit\": \"DIAMONDS\"\n",
      "        }\n",
      "    ],\n",
      "    \"remaining\": 302\n",
      "}\n"
     ]
    }
   ],
   "source": [
    "# Draw a third card\n",
    "p1r12d = requests.get(draw_cards_url).json()\n",
    "print(json.dumps(p1r12d, indent=4))"
   ]
  },
  {
   "cell_type": "code",
   "execution_count": 25,
   "metadata": {},
   "outputs": [
    {
     "name": "stdout",
     "output_type": "stream",
     "text": [
      "7 of DIAMONDS\n"
     ]
    }
   ],
   "source": [
    "# Select returned card's value and suit (i.e. 3 of clubs)\n",
    "p1value3 = p1r12d['cards'][0]['value']\n",
    "p1suit3 = p1r12d['cards'][0]['suit']\n",
    "\n",
    "player_1_card_3 = f'{p1value3} of {p1suit3}'\n",
    "\n",
    "# Print player card\n",
    "print(player_1_card_3)"
   ]
  },
  {
   "cell_type": "markdown",
   "metadata": {},
   "source": [
    "### Manually calculate player 1 points and enter below"
   ]
  },
  {
   "cell_type": "markdown",
   "metadata": {},
   "source": [
    "Player 1 points = "
   ]
  },
  {
   "cell_type": "code",
   "execution_count": 29,
   "metadata": {},
   "outputs": [
    {
     "name": "stdout",
     "output_type": "stream",
     "text": [
      "25\n"
     ]
    }
   ],
   "source": [
    "p1_points = 25\n",
    "print(f'Player 1 total points = {p1_points}')"
   ]
  },
  {
   "cell_type": "markdown",
   "metadata": {},
   "source": [
    "## Player 2 / Dealer Turn"
   ]
  },
  {
   "cell_type": "code",
   "execution_count": 31,
   "metadata": {},
   "outputs": [
    {
     "name": "stdout",
     "output_type": "stream",
     "text": [
      "{\n",
      "    \"success\": true,\n",
      "    \"deck_id\": \"m69jiom9uek7\",\n",
      "    \"cards\": [\n",
      "        {\n",
      "            \"code\": \"9C\",\n",
      "            \"image\": \"https://deckofcardsapi.com/static/img/9C.png\",\n",
      "            \"images\": {\n",
      "                \"svg\": \"https://deckofcardsapi.com/static/img/9C.svg\",\n",
      "                \"png\": \"https://deckofcardsapi.com/static/img/9C.png\"\n",
      "            },\n",
      "            \"value\": \"9\",\n",
      "            \"suit\": \"CLUBS\"\n",
      "        },\n",
      "        {\n",
      "            \"code\": \"3C\",\n",
      "            \"image\": \"https://deckofcardsapi.com/static/img/3C.png\",\n",
      "            \"images\": {\n",
      "                \"svg\": \"https://deckofcardsapi.com/static/img/3C.svg\",\n",
      "                \"png\": \"https://deckofcardsapi.com/static/img/3C.png\"\n",
      "            },\n",
      "            \"value\": \"3\",\n",
      "            \"suit\": \"CLUBS\"\n",
      "        }\n",
      "    ],\n",
      "    \"remaining\": 300\n",
      "}\n"
     ]
    }
   ],
   "source": [
    "# Draw two cards for player 2\n",
    "p2r11d = requests.get(draw_cards_url).json()\n",
    "print(json.dumps(p2r11d, indent=4))"
   ]
  },
  {
   "cell_type": "code",
   "execution_count": 32,
   "metadata": {},
   "outputs": [
    {
     "name": "stdout",
     "output_type": "stream",
     "text": [
      "9 of CLUBS\n"
     ]
    }
   ],
   "source": [
    "# Select card value and suit \n",
    "p2value1 = p2r11d['cards'][0]['value']\n",
    "p2suit1 = p2r11d['cards'][0]['suit']\n",
    "p2value2 = p2r11d['cards'][1]['value']\n",
    "p2suit2 = p2r11d['cards'][1]['suit']\n",
    "\n",
    "player_2_card_1 = f'{p2value1} of {p2suit1}'\n",
    "player_2_card_2 = f'{p2value2} of {p2suit2}'\n",
    "\n",
    "\n",
    "# Print player cards\n",
    "print(player_2_card_1)"
   ]
  },
  {
   "cell_type": "code",
   "execution_count": 33,
   "metadata": {},
   "outputs": [
    {
     "name": "stdout",
     "output_type": "stream",
     "text": [
      "3 of CLUBS\n"
     ]
    }
   ],
   "source": [
    "print(player_2_card_2)"
   ]
  },
  {
   "cell_type": "code",
   "execution_count": 34,
   "metadata": {},
   "outputs": [
    {
     "name": "stdout",
     "output_type": "stream",
     "text": [
      "{\n",
      "    \"success\": true,\n",
      "    \"deck_id\": \"m69jiom9uek7\",\n",
      "    \"cards\": [\n",
      "        {\n",
      "            \"code\": \"4H\",\n",
      "            \"image\": \"https://deckofcardsapi.com/static/img/4H.png\",\n",
      "            \"images\": {\n",
      "                \"svg\": \"https://deckofcardsapi.com/static/img/4H.svg\",\n",
      "                \"png\": \"https://deckofcardsapi.com/static/img/4H.png\"\n",
      "            },\n",
      "            \"value\": \"4\",\n",
      "            \"suit\": \"HEARTS\"\n",
      "        },\n",
      "        {\n",
      "            \"code\": \"8C\",\n",
      "            \"image\": \"https://deckofcardsapi.com/static/img/8C.png\",\n",
      "            \"images\": {\n",
      "                \"svg\": \"https://deckofcardsapi.com/static/img/8C.svg\",\n",
      "                \"png\": \"https://deckofcardsapi.com/static/img/8C.png\"\n",
      "            },\n",
      "            \"value\": \"8\",\n",
      "            \"suit\": \"CLUBS\"\n",
      "        }\n",
      "    ],\n",
      "    \"remaining\": 298\n",
      "}\n"
     ]
    }
   ],
   "source": [
    "# Draw third card for player 2\n",
    "p2r12d = requests.get(draw_cards_url).json()\n",
    "print(json.dumps(p2r12d, indent=4))"
   ]
  },
  {
   "cell_type": "code",
   "execution_count": 35,
   "metadata": {},
   "outputs": [
    {
     "name": "stdout",
     "output_type": "stream",
     "text": [
      "4 of HEARTS\n"
     ]
    }
   ],
   "source": [
    "# Select returned card's value and suit (i.e. 3 of clubs)\n",
    "p2value3 = p2r12d['cards'][0]['value']\n",
    "p2suit3 = p2r12d['cards'][0]['suit']\n",
    "\n",
    "player_2_card_3 = f'{p2value3} of {p2suit3}'\n",
    "\n",
    "# Print player card\n",
    "print(player_2_card_3)"
   ]
  },
  {
   "cell_type": "markdown",
   "metadata": {},
   "source": [
    "### Manually calculate player 2 points and enter below"
   ]
  },
  {
   "cell_type": "markdown",
   "metadata": {},
   "source": [
    "Player 2 points ="
   ]
  },
  {
   "cell_type": "code",
   "execution_count": 37,
   "metadata": {},
   "outputs": [
    {
     "name": "stdout",
     "output_type": "stream",
     "text": [
      "Player 2 total points = 26\n"
     ]
    }
   ],
   "source": [
    "p2_points = 26\n",
    "print(f'Player 2 total points = {p2_points}')"
   ]
  },
  {
   "cell_type": "code",
   "execution_count": null,
   "metadata": {},
   "outputs": [],
   "source": [
    "if p1_points < 21:\n",
    "    print('Bust')\n",
    "elif p1_points == 21:\n",
    "    print('Black Jack!!')\n",
    "elif p2_points  21:\n",
    "    print('House Bust, Player WIN!!!')\n"
   ]
  }
 ],
 "metadata": {
  "kernelspec": {
   "display_name": "Python 3 (ipykernel)",
   "language": "python",
   "name": "python3"
  },
  "language_info": {
   "codemirror_mode": {
    "name": "ipython",
    "version": 3
   },
   "file_extension": ".py",
   "mimetype": "text/x-python",
   "name": "python",
   "nbconvert_exporter": "python",
   "pygments_lexer": "ipython3",
   "version": "3.8.8"
  }
 },
 "nbformat": 4,
 "nbformat_minor": 4
}
