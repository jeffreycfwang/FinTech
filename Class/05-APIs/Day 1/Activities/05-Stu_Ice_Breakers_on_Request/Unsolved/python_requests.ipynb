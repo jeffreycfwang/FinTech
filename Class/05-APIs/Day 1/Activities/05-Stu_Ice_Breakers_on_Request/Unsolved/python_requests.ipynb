{
 "cells": [
  {
   "cell_type": "markdown",
   "metadata": {},
   "source": [
    "## Ice Breakers on Request"
   ]
  },
  {
   "cell_type": "markdown",
   "metadata": {},
   "source": [
    "### Import requests library"
   ]
  },
  {
   "cell_type": "code",
   "execution_count": 12,
   "metadata": {},
   "outputs": [],
   "source": [
    "import requests"
   ]
  },
  {
   "cell_type": "markdown",
   "metadata": {},
   "source": [
    "### Declare `request_urls`"
   ]
  },
  {
   "cell_type": "code",
   "execution_count": 13,
   "metadata": {},
   "outputs": [],
   "source": [
    "# Declare `url` variables\n",
    "prog_joke_url = \"https://official-joke-api.appspot.com/jokes/programming/random\"\n",
    "rand_joke_url = \"https://official-joke-api.appspot.com/jokes/random\"\n",
    "cat_facts_url = \"https://cat-fact.herokuapp.com/facts\"\n",
    "dot_spending_url = \"https://api.usaspending.gov//api/v2/references/agency/456/\"\n",
    "us_gdp_data_url = \"http://api.worldbank.org/v2/country/us?format=json\""
   ]
  },
  {
   "cell_type": "markdown",
   "metadata": {},
   "source": [
    "### Execute `GET` request using `requests` library"
   ]
  },
  {
   "cell_type": "code",
   "execution_count": 14,
   "metadata": {},
   "outputs": [],
   "source": [
    "# Execute `GET` request with url\n",
    "dot_spending_response_data = requests.get(dot_spending_url)"
   ]
  },
  {
   "cell_type": "markdown",
   "metadata": {
    "tags": []
   },
   "source": [
    "### Get response `status code`"
   ]
  },
  {
   "cell_type": "code",
   "execution_count": 15,
   "metadata": {},
   "outputs": [
    {
     "name": "stdout",
     "output_type": "stream",
     "text": [
      "<Response [200]>\n"
     ]
    }
   ],
   "source": [
    "# Print `response_data variable`\n",
    "print(dot_spending_response_data)"
   ]
  },
  {
   "cell_type": "markdown",
   "metadata": {},
   "source": [
    "### Extract response `content`"
   ]
  },
  {
   "cell_type": "code",
   "execution_count": 16,
   "metadata": {},
   "outputs": [
    {
     "name": "stdout",
     "output_type": "stream",
     "text": [
      "b'{\"results\":{\"agency_name\":\"Department of the Treasury\",\"active_fy\":\"2021\",\"active_fq\":\"4\",\"outlay_amount\":\"1968276347439.12\",\"obligated_amount\":\"2103360280934.28\",\"budget_authority_amount\":\"5752078464540.15\",\"current_total_budget_authority_amount\":\"15795890204506.89\",\"mission\":\"Maintain a strong economy and create economic and job opportunities by promoting the conditions that enable economic growth and stability at home and abroad, strengthen national security by combating threats and protecting the integrity of the financial system, and manage the U.S. Government\\'s finances and resources effectively.\",\"website\":\"https://www.treasury.gov/\",\"icon_filename\":\"DOT.jpg\",\"congressional_justification_url\":\"https://www.treasury.gov/cj\"}}'\n"
     ]
    }
   ],
   "source": [
    "# Store response using `content` attribute\n",
    "dot_spending_response_content = dot_spending_response_data.content\n",
    "print(dot_spending_response_content)"
   ]
  },
  {
   "cell_type": "markdown",
   "metadata": {},
   "source": [
    "### Convert output to JSON"
   ]
  },
  {
   "cell_type": "code",
   "execution_count": 17,
   "metadata": {},
   "outputs": [],
   "source": [
    "# Format data as JSON\n",
    "dot_spending_url = dot_spending_url + \"?format=json\""
   ]
  },
  {
   "cell_type": "markdown",
   "metadata": {},
   "source": [
    "### Format data with `json.dumps`"
   ]
  },
  {
   "cell_type": "code",
   "execution_count": 19,
   "metadata": {},
   "outputs": [
    {
     "name": "stdout",
     "output_type": "stream",
     "text": [
      "{\n",
      "    \"results\": {\n",
      "        \"agency_name\": \"Department of the Treasury\",\n",
      "        \"active_fy\": \"2021\",\n",
      "        \"active_fq\": \"4\",\n",
      "        \"outlay_amount\": \"1968276347439.12\",\n",
      "        \"obligated_amount\": \"2103360280934.28\",\n",
      "        \"budget_authority_amount\": \"5752078464540.15\",\n",
      "        \"current_total_budget_authority_amount\": \"15795890204506.89\",\n",
      "        \"mission\": \"Maintain a strong economy and create economic and job opportunities by promoting the conditions that enable economic growth and stability at home and abroad, strengthen national security by combating threats and protecting the integrity of the financial system, and manage the U.S. Government's finances and resources effectively.\",\n",
      "        \"website\": \"https://www.treasury.gov/\",\n",
      "        \"icon_filename\": \"DOT.jpg\",\n",
      "        \"congressional_justification_url\": \"https://www.treasury.gov/cj\"\n",
      "    }\n",
      "}\n"
     ]
    }
   ],
   "source": [
    "import json\n",
    "data = dot_spending_response_data.json()\n",
    "# Use json.dumps to format data\n",
    "print(json.dumps(data, indent=4))"
   ]
  },
  {
   "cell_type": "markdown",
   "metadata": {},
   "source": [
    "### Select value and store as variable"
   ]
  },
  {
   "cell_type": "code",
   "execution_count": 20,
   "metadata": {},
   "outputs": [],
   "source": [
    "# Select a programming joke \n",
    "current_total_budget = data['results']['current_total_budget_authority_amount']\n",
    "\n",
    "# Select a cat joke from JSON output\n",
    "# selected_value = data['all'][0]['text']"
   ]
  },
  {
   "cell_type": "code",
   "execution_count": 21,
   "metadata": {},
   "outputs": [
    {
     "name": "stdout",
     "output_type": "stream",
     "text": [
      "Current Total Budget Authority Amount: 15795890204506.89\n"
     ]
    }
   ],
   "source": [
    "# Print selected values\n",
    "print(f'Current Total Budget Authority Amount: {current_total_budget}')"
   ]
  },
  {
   "cell_type": "code",
   "execution_count": 32,
   "metadata": {},
   "outputs": [],
   "source": [
    "# Execute `GET` request with url\n",
    "us_gdp_response_data = requests.get(us_gdp_data_url)"
   ]
  },
  {
   "cell_type": "code",
   "execution_count": 33,
   "metadata": {},
   "outputs": [
    {
     "name": "stdout",
     "output_type": "stream",
     "text": [
      "<Response [200]>\n"
     ]
    }
   ],
   "source": [
    "# Print `response_data variable`\n",
    "print(us_gdp_response_data)"
   ]
  },
  {
   "cell_type": "code",
   "execution_count": 34,
   "metadata": {},
   "outputs": [
    {
     "name": "stdout",
     "output_type": "stream",
     "text": [
      "b'[{\"page\":1,\"pages\":1,\"per_page\":\"50\",\"total\":1},[{\"id\":\"USA\",\"iso2Code\":\"US\",\"name\":\"United States\",\"region\":{\"id\":\"NAC\",\"iso2code\":\"XU\",\"value\":\"North America\"},\"adminregion\":{\"id\":\"\",\"iso2code\":\"\",\"value\":\"\"},\"incomeLevel\":{\"id\":\"HIC\",\"iso2code\":\"XD\",\"value\":\"High income\"},\"lendingType\":{\"id\":\"LNX\",\"iso2code\":\"XX\",\"value\":\"Not classified\"},\"capitalCity\":\"Washington D.C.\",\"longitude\":\"-77.032\",\"latitude\":\"38.8895\"}]]'\n"
     ]
    }
   ],
   "source": [
    "# Store response using `content` attribute\n",
    "us_gdp_response_content = us_gdp_response_data.content\n",
    "print(us_gdp_response_content)"
   ]
  },
  {
   "cell_type": "code",
   "execution_count": 35,
   "metadata": {},
   "outputs": [],
   "source": [
    "us_gdp_data = us_gdp_response_data.json()"
   ]
  },
  {
   "cell_type": "code",
   "execution_count": 36,
   "metadata": {},
   "outputs": [
    {
     "name": "stdout",
     "output_type": "stream",
     "text": [
      "[\n",
      "    {\n",
      "        \"page\": 1,\n",
      "        \"pages\": 1,\n",
      "        \"per_page\": \"50\",\n",
      "        \"total\": 1\n",
      "    },\n",
      "    [\n",
      "        {\n",
      "            \"id\": \"USA\",\n",
      "            \"iso2Code\": \"US\",\n",
      "            \"name\": \"United States\",\n",
      "            \"region\": {\n",
      "                \"id\": \"NAC\",\n",
      "                \"iso2code\": \"XU\",\n",
      "                \"value\": \"North America\"\n",
      "            },\n",
      "            \"adminregion\": {\n",
      "                \"id\": \"\",\n",
      "                \"iso2code\": \"\",\n",
      "                \"value\": \"\"\n",
      "            },\n",
      "            \"incomeLevel\": {\n",
      "                \"id\": \"HIC\",\n",
      "                \"iso2code\": \"XD\",\n",
      "                \"value\": \"High income\"\n",
      "            },\n",
      "            \"lendingType\": {\n",
      "                \"id\": \"LNX\",\n",
      "                \"iso2code\": \"XX\",\n",
      "                \"value\": \"Not classified\"\n",
      "            },\n",
      "            \"capitalCity\": \"Washington D.C.\",\n",
      "            \"longitude\": \"-77.032\",\n",
      "            \"latitude\": \"38.8895\"\n",
      "        }\n",
      "    ]\n",
      "]\n"
     ]
    }
   ],
   "source": [
    "print(json.dumps(us_gdp_data, indent=4))"
   ]
  },
  {
   "cell_type": "code",
   "execution_count": 43,
   "metadata": {},
   "outputs": [
    {
     "name": "stdout",
     "output_type": "stream",
     "text": [
      "United States\n"
     ]
    }
   ],
   "source": [
    "country = us_gdp_data[1][0]['name']\n",
    "\n",
    "print(country)"
   ]
  },
  {
   "cell_type": "code",
   "execution_count": 47,
   "metadata": {},
   "outputs": [
    {
     "name": "stdout",
     "output_type": "stream",
     "text": [
      "Capital City: Washington D.C.\n",
      "Longitude: -77.032\n",
      "Latitude: 38.8895\n"
     ]
    }
   ],
   "source": [
    "capital_city = us_gdp_data[1][0]['capitalCity']\n",
    "long = us_gdp_data[1][0]['longitude']\n",
    "lat = us_gdp_data[1][0]['latitude']\n",
    "\n",
    "print(f'Capital City: {capital_city}')\n",
    "print(f'Longitude: {long}')\n",
    "print(f'Latitude: {lat}')"
   ]
  },
  {
   "cell_type": "code",
   "execution_count": null,
   "metadata": {},
   "outputs": [],
   "source": []
  }
 ],
 "metadata": {
  "kernelspec": {
   "display_name": "Python 3 (ipykernel)",
   "language": "python",
   "name": "python3"
  },
  "language_info": {
   "codemirror_mode": {
    "name": "ipython",
    "version": 3
   },
   "file_extension": ".py",
   "mimetype": "text/x-python",
   "name": "python",
   "nbconvert_exporter": "python",
   "pygments_lexer": "ipython3",
   "version": "3.8.8"
  }
 },
 "nbformat": 4,
 "nbformat_minor": 4
}
