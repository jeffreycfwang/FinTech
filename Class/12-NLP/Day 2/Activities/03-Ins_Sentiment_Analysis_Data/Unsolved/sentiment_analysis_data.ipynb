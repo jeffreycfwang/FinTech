{
 "cells": [
  {
   "cell_type": "markdown",
   "metadata": {},
   "source": [
    "# Instructor Do: Getting Data for Sentiment Analysis"
   ]
  },
  {
   "cell_type": "code",
   "execution_count": 1,
   "metadata": {},
   "outputs": [
    {
     "name": "stdout",
     "output_type": "stream",
     "text": [
      "C:\\Users\\jeffr\\desktop\\github\\FinTech\\Class\\12-NLP\\Day 2\\Activities\\03-Ins_Sentiment_Analysis_Data\\Unsolved\n"
     ]
    }
   ],
   "source": [
    "# Initial imports\n",
    "import os\n",
    "import pandas as pd\n",
    "from newsapi import NewsApiClient\n",
    "from dotenv import load_dotenv\n",
    "load_dotenv()\n",
    "print(os.getcwd())"
   ]
  },
  {
   "cell_type": "code",
   "execution_count": 2,
   "metadata": {},
   "outputs": [
    {
     "data": {
      "text/plain": [
       "True"
      ]
     },
     "execution_count": 2,
     "metadata": {},
     "output_type": "execute_result"
    }
   ],
   "source": [
    "load_dotenv(\"../../../../../../.env\")"
   ]
  },
  {
   "cell_type": "code",
   "execution_count": 3,
   "metadata": {},
   "outputs": [
    {
     "data": {
      "text/plain": [
       "str"
      ]
     },
     "execution_count": 3,
     "metadata": {},
     "output_type": "execute_result"
    }
   ],
   "source": [
    "# Reading the News API key enviroment variable\n",
    "api_key = os.getenv(\"news_api\")\n",
    "type(api_key)\n"
   ]
  },
  {
   "cell_type": "code",
   "execution_count": 6,
   "metadata": {},
   "outputs": [],
   "source": [
    "# Create a newsapi client\n",
    "newsapi = NewsApiClient(api_key=api_key)\n",
    "\n"
   ]
  },
  {
   "cell_type": "code",
   "execution_count": 15,
   "metadata": {},
   "outputs": [
    {
     "data": {
      "text/plain": [
       "{'status': 'ok',\n",
       " 'totalResults': 3,\n",
       " 'articles': [{'source': {'id': None, 'name': \"Barron's\"},\n",
       "   'author': 'Pierre Briançon',\n",
       "   'title': \"Stock Market Today: Dow Falls, Tesla Slides, Apple Dips - Barron's\",\n",
       "   'description': 'Investors have been expecting the Federal Reserve to indicate this week that it will speed up the tapering of its bond-buying program.',\n",
       "   'url': 'https://www.barrons.com/articles/stock-market-today-51639478810',\n",
       "   'urlToImage': 'https://images.barrons.com/im-451768/social',\n",
       "   'publishedAt': '2021-12-14T15:53:00Z',\n",
       "   'content': 'U.S. stock markets were sliding Tuesday as U.S. producer prices continued to surge, creating even more uncertainty ahead of the crucial decisions major central banks are due to make later this week.\\r… [+159 chars]'},\n",
       "  {'source': {'id': None, 'name': 'Teslarati'},\n",
       "   'author': 'https://www.facebook.com/sim.alva',\n",
       "   'title': 'Tesla to try out Dogecoin payments for selected merchandise - Teslarati',\n",
       "   'description': 'Seven months after polling his tens of millions of Twitter followers if Tesla should accept Dogecoin as a form of payment, CEO Elon Musk has noted that the company would try out dog-themed currency as a payment option for some of the items in the EV maker’s s…',\n",
       "   'url': 'https://www.teslarati.com/tesla-dogecoin-merch-payments-elon-musk/',\n",
       "   'urlToImage': 'https://www.teslarati.com/wp-content/uploads/2021/05/tesla-sustainable-crypto-options-doge.jpeg',\n",
       "   'publishedAt': '2021-12-14T15:21:49Z',\n",
       "   'content': 'Seven months after polling his tens of millions of Twitter followers if Tesla should accept Dogecoin as a form of payment, CEO Elon Musk has noted that the company would try out dog-themed currency a… [+2087 chars]'}]}"
      ]
     },
     "execution_count": 15,
     "metadata": {},
     "output_type": "execute_result"
    }
   ],
   "source": [
    "# Fetch top news articles about oil\n",
    "tesla_headlines = newsapi.get_top_headlines(q=\"Tesla\", language=\"en\")\n",
    "tesla_headlines\n"
   ]
  },
  {
   "cell_type": "code",
   "execution_count": 16,
   "metadata": {},
   "outputs": [
    {
     "name": "stdout",
     "output_type": "stream",
     "text": [
      "Total articles about Tesla: 3\n"
     ]
    },
    {
     "data": {
      "text/plain": [
       "{'source': {'id': None, 'name': \"Barron's\"},\n",
       " 'author': 'Pierre Briançon',\n",
       " 'title': \"Stock Market Today: Dow Falls, Tesla Slides, Apple Dips - Barron's\",\n",
       " 'description': 'Investors have been expecting the Federal Reserve to indicate this week that it will speed up the tapering of its bond-buying program.',\n",
       " 'url': 'https://www.barrons.com/articles/stock-market-today-51639478810',\n",
       " 'urlToImage': 'https://images.barrons.com/im-451768/social',\n",
       " 'publishedAt': '2021-12-14T15:53:00Z',\n",
       " 'content': 'U.S. stock markets were sliding Tuesday as U.S. producer prices continued to surge, creating even more uncertainty ahead of the crucial decisions major central banks are due to make later this week.\\r… [+159 chars]'}"
      ]
     },
     "execution_count": 16,
     "metadata": {},
     "output_type": "execute_result"
    }
   ],
   "source": [
    "# Print total articles\n",
    "print(f\"Total articles about Tesla: {tesla_headlines['totalResults']}\")\n",
    "\n",
    "# Show sample article\n",
    "tesla_headlines[\"articles\"][0]\n",
    "\n"
   ]
  },
  {
   "cell_type": "code",
   "execution_count": 17,
   "metadata": {},
   "outputs": [
    {
     "data": {
      "text/html": [
       "<div>\n",
       "<style scoped>\n",
       "    .dataframe tbody tr th:only-of-type {\n",
       "        vertical-align: middle;\n",
       "    }\n",
       "\n",
       "    .dataframe tbody tr th {\n",
       "        vertical-align: top;\n",
       "    }\n",
       "\n",
       "    .dataframe thead th {\n",
       "        text-align: right;\n",
       "    }\n",
       "</style>\n",
       "<table border=\"1\" class=\"dataframe\">\n",
       "  <thead>\n",
       "    <tr style=\"text-align: right;\">\n",
       "      <th></th>\n",
       "      <th>source</th>\n",
       "      <th>author</th>\n",
       "      <th>title</th>\n",
       "      <th>description</th>\n",
       "      <th>url</th>\n",
       "      <th>urlToImage</th>\n",
       "      <th>publishedAt</th>\n",
       "      <th>content</th>\n",
       "    </tr>\n",
       "  </thead>\n",
       "  <tbody>\n",
       "    <tr>\n",
       "      <th>0</th>\n",
       "      <td>{'id': None, 'name': 'Barron's'}</td>\n",
       "      <td>Pierre Briançon</td>\n",
       "      <td>Stock Market Today: Dow Falls, Tesla Slides, A...</td>\n",
       "      <td>Investors have been expecting the Federal Rese...</td>\n",
       "      <td>https://www.barrons.com/articles/stock-market-...</td>\n",
       "      <td>https://images.barrons.com/im-451768/social</td>\n",
       "      <td>2021-12-14T15:53:00Z</td>\n",
       "      <td>U.S. stock markets were sliding Tuesday as U.S...</td>\n",
       "    </tr>\n",
       "    <tr>\n",
       "      <th>1</th>\n",
       "      <td>{'id': None, 'name': 'Teslarati'}</td>\n",
       "      <td>https://www.facebook.com/sim.alva</td>\n",
       "      <td>Tesla to try out Dogecoin payments for selecte...</td>\n",
       "      <td>Seven months after polling his tens of million...</td>\n",
       "      <td>https://www.teslarati.com/tesla-dogecoin-merch...</td>\n",
       "      <td>https://www.teslarati.com/wp-content/uploads/2...</td>\n",
       "      <td>2021-12-14T15:21:49Z</td>\n",
       "      <td>Seven months after polling his tens of million...</td>\n",
       "    </tr>\n",
       "  </tbody>\n",
       "</table>\n",
       "</div>"
      ],
      "text/plain": [
       "                              source                             author  \\\n",
       "0   {'id': None, 'name': 'Barron's'}                    Pierre Briançon   \n",
       "1  {'id': None, 'name': 'Teslarati'}  https://www.facebook.com/sim.alva   \n",
       "\n",
       "                                               title  \\\n",
       "0  Stock Market Today: Dow Falls, Tesla Slides, A...   \n",
       "1  Tesla to try out Dogecoin payments for selecte...   \n",
       "\n",
       "                                         description  \\\n",
       "0  Investors have been expecting the Federal Rese...   \n",
       "1  Seven months after polling his tens of million...   \n",
       "\n",
       "                                                 url  \\\n",
       "0  https://www.barrons.com/articles/stock-market-...   \n",
       "1  https://www.teslarati.com/tesla-dogecoin-merch...   \n",
       "\n",
       "                                          urlToImage           publishedAt  \\\n",
       "0        https://images.barrons.com/im-451768/social  2021-12-14T15:53:00Z   \n",
       "1  https://www.teslarati.com/wp-content/uploads/2...  2021-12-14T15:21:49Z   \n",
       "\n",
       "                                             content  \n",
       "0  U.S. stock markets were sliding Tuesday as U.S...  \n",
       "1  Seven months after polling his tens of million...  "
      ]
     },
     "execution_count": 17,
     "metadata": {},
     "output_type": "execute_result"
    }
   ],
   "source": [
    "# Transform the response dictionary to a DataFrame\n",
    "\n",
    "tesla_df = pd.DataFrame.from_dict(tesla_headlines[\"articles\"])\n",
    "\n",
    "tesla_df.head()"
   ]
  },
  {
   "cell_type": "code",
   "execution_count": 18,
   "metadata": {},
   "outputs": [
    {
     "data": {
      "text/plain": [
       "{'source': {'id': None, 'name': 'Slashdot.org'},\n",
       " 'author': 'msmash',\n",
       " 'title': \"Facebook's David Marcus, Creator of Embattled Diem Project, To Leave Company\",\n",
       " 'description': 'David Marcus, one of the top executives at Meta Platforms and the co-creator of the yet-to-be-launched Diem digital currency, is leaving the company after seven years to pursue other projects. From a report: Marcus, who joined the Facebook parent company in 2…',\n",
       " 'url': 'https://tech.slashdot.org/story/21/11/30/1753219/facebooks-david-marcus-creator-of-embattled-diem-project-to-leave-company',\n",
       " 'urlToImage': 'https://a.fsdn.com/sd/topics/facebook_64.png',\n",
       " 'publishedAt': '2021-11-30T17:53:00Z',\n",
       " 'content': \"Marcus, who joined the Facebook parent company in 2014 from PayPal Holdings, ran the Messenger service for years before moving over to form the company's blockchain division in 2018. He spent the las… [+797 chars]\"}"
      ]
     },
     "execution_count": 18,
     "metadata": {},
     "output_type": "execute_result"
    }
   ],
   "source": [
    "# Fetch all the news about Facebook Libra\n",
    "diem_headlines = newsapi.get_everything(\n",
    "    q=\"facebook diem\", language=\"en\", sort_by=\"relevancy\"\n",
    ")\n",
    "\n",
    "# Print total articles\n",
    "diem_headlines['totalResults']\n",
    "# Show sample article\n",
    "diem_headlines[\"articles\"][0]\n",
    "\n"
   ]
  },
  {
   "cell_type": "code",
   "execution_count": 19,
   "metadata": {},
   "outputs": [
    {
     "data": {
      "text/html": [
       "<div>\n",
       "<style scoped>\n",
       "    .dataframe tbody tr th:only-of-type {\n",
       "        vertical-align: middle;\n",
       "    }\n",
       "\n",
       "    .dataframe tbody tr th {\n",
       "        vertical-align: top;\n",
       "    }\n",
       "\n",
       "    .dataframe thead th {\n",
       "        text-align: right;\n",
       "    }\n",
       "</style>\n",
       "<table border=\"1\" class=\"dataframe\">\n",
       "  <thead>\n",
       "    <tr style=\"text-align: right;\">\n",
       "      <th></th>\n",
       "      <th>source</th>\n",
       "      <th>author</th>\n",
       "      <th>title</th>\n",
       "      <th>description</th>\n",
       "      <th>url</th>\n",
       "      <th>urlToImage</th>\n",
       "      <th>publishedAt</th>\n",
       "      <th>content</th>\n",
       "    </tr>\n",
       "  </thead>\n",
       "  <tbody>\n",
       "    <tr>\n",
       "      <th>0</th>\n",
       "      <td>{'id': None, 'name': 'Slashdot.org'}</td>\n",
       "      <td>msmash</td>\n",
       "      <td>Facebook's David Marcus, Creator of Embattled ...</td>\n",
       "      <td>David Marcus, one of the top executives at Met...</td>\n",
       "      <td>https://tech.slashdot.org/story/21/11/30/17532...</td>\n",
       "      <td>https://a.fsdn.com/sd/topics/facebook_64.png</td>\n",
       "      <td>2021-11-30T17:53:00Z</td>\n",
       "      <td>Marcus, who joined the Facebook parent company...</td>\n",
       "    </tr>\n",
       "    <tr>\n",
       "      <th>1</th>\n",
       "      <td>{'id': 'reuters', 'name': 'Reuters'}</td>\n",
       "      <td>None</td>\n",
       "      <td>Meta's WhatsApp will allow crypto payments thr...</td>\n",
       "      <td>Meta Platforms Inc's &lt;a href=\"https://www.reut...</td>\n",
       "      <td>https://www.reuters.com/markets/currencies/met...</td>\n",
       "      <td>https://www.reuters.com/pf/resources/images/re...</td>\n",
       "      <td>2021-12-09T12:04:00Z</td>\n",
       "      <td>Dec 9 (Reuters) - Meta Platforms Inc's (FB.O) ...</td>\n",
       "    </tr>\n",
       "    <tr>\n",
       "      <th>2</th>\n",
       "      <td>{'id': 'business-insider', 'name': 'Business I...</td>\n",
       "      <td>ilee@insider.com (Isabelle Lee)</td>\n",
       "      <td>Facebook is making it easier for crypto firms ...</td>\n",
       "      <td>The move is the latest update to the company's...</td>\n",
       "      <td>https://markets.businessinsider.com/news/curre...</td>\n",
       "      <td>https://images2.markets.businessinsider.com/61...</td>\n",
       "      <td>2021-12-02T14:57:48Z</td>\n",
       "      <td>Facebook Meta signJustin Sullivan/Getty Images...</td>\n",
       "    </tr>\n",
       "    <tr>\n",
       "      <th>3</th>\n",
       "      <td>{'id': None, 'name': 'National Post'}</td>\n",
       "      <td>Reuters</td>\n",
       "      <td>Meta's WhatsApp will allow crypto payments thr...</td>\n",
       "      <td>Meta Platforms Inc’s cryptocurrency wallet, No...</td>\n",
       "      <td>https://nationalpost.com/pmn/entertainment-pmn...</td>\n",
       "      <td>None</td>\n",
       "      <td>2021-12-09T12:08:16Z</td>\n",
       "      <td>Meta Platforms Incs cryptocurrency wallet, Nov...</td>\n",
       "    </tr>\n",
       "    <tr>\n",
       "      <th>4</th>\n",
       "      <td>{'id': 'vice-news', 'name': 'Vice News'}</td>\n",
       "      <td>Edward Ongweso Jr, Jordan Pearson</td>\n",
       "      <td>The Head of Facebook's Failed Cryptocurrency I...</td>\n",
       "      <td>Facebook has spent the past few years trying a...</td>\n",
       "      <td>https://www.vice.com/en/article/g5qqw4/the-hea...</td>\n",
       "      <td>https://video-images.vice.com/articles/61a6929...</td>\n",
       "      <td>2021-11-30T21:11:38Z</td>\n",
       "      <td>David Marcus, the head of Facebook's cryptocur...</td>\n",
       "    </tr>\n",
       "  </tbody>\n",
       "</table>\n",
       "</div>"
      ],
      "text/plain": [
       "                                              source  \\\n",
       "0               {'id': None, 'name': 'Slashdot.org'}   \n",
       "1               {'id': 'reuters', 'name': 'Reuters'}   \n",
       "2  {'id': 'business-insider', 'name': 'Business I...   \n",
       "3              {'id': None, 'name': 'National Post'}   \n",
       "4           {'id': 'vice-news', 'name': 'Vice News'}   \n",
       "\n",
       "                              author  \\\n",
       "0                             msmash   \n",
       "1                               None   \n",
       "2    ilee@insider.com (Isabelle Lee)   \n",
       "3                            Reuters   \n",
       "4  Edward Ongweso Jr, Jordan Pearson   \n",
       "\n",
       "                                               title  \\\n",
       "0  Facebook's David Marcus, Creator of Embattled ...   \n",
       "1  Meta's WhatsApp will allow crypto payments thr...   \n",
       "2  Facebook is making it easier for crypto firms ...   \n",
       "3  Meta's WhatsApp will allow crypto payments thr...   \n",
       "4  The Head of Facebook's Failed Cryptocurrency I...   \n",
       "\n",
       "                                         description  \\\n",
       "0  David Marcus, one of the top executives at Met...   \n",
       "1  Meta Platforms Inc's <a href=\"https://www.reut...   \n",
       "2  The move is the latest update to the company's...   \n",
       "3  Meta Platforms Inc’s cryptocurrency wallet, No...   \n",
       "4  Facebook has spent the past few years trying a...   \n",
       "\n",
       "                                                 url  \\\n",
       "0  https://tech.slashdot.org/story/21/11/30/17532...   \n",
       "1  https://www.reuters.com/markets/currencies/met...   \n",
       "2  https://markets.businessinsider.com/news/curre...   \n",
       "3  https://nationalpost.com/pmn/entertainment-pmn...   \n",
       "4  https://www.vice.com/en/article/g5qqw4/the-hea...   \n",
       "\n",
       "                                          urlToImage           publishedAt  \\\n",
       "0       https://a.fsdn.com/sd/topics/facebook_64.png  2021-11-30T17:53:00Z   \n",
       "1  https://www.reuters.com/pf/resources/images/re...  2021-12-09T12:04:00Z   \n",
       "2  https://images2.markets.businessinsider.com/61...  2021-12-02T14:57:48Z   \n",
       "3                                               None  2021-12-09T12:08:16Z   \n",
       "4  https://video-images.vice.com/articles/61a6929...  2021-11-30T21:11:38Z   \n",
       "\n",
       "                                             content  \n",
       "0  Marcus, who joined the Facebook parent company...  \n",
       "1  Dec 9 (Reuters) - Meta Platforms Inc's (FB.O) ...  \n",
       "2  Facebook Meta signJustin Sullivan/Getty Images...  \n",
       "3  Meta Platforms Incs cryptocurrency wallet, Nov...  \n",
       "4  David Marcus, the head of Facebook's cryptocur...  "
      ]
     },
     "execution_count": 19,
     "metadata": {},
     "output_type": "execute_result"
    }
   ],
   "source": [
    "# Transform the response dictionary to a DataFrame\n",
    "diem_df = pd.DataFrame.from_dict(diem_headlines[\"articles\"])\n",
    "\n",
    "diem_df.head()\n"
   ]
  },
  {
   "cell_type": "code",
   "execution_count": null,
   "metadata": {},
   "outputs": [],
   "source": []
  }
 ],
 "metadata": {
  "file_extension": ".py",
  "kernelspec": {
   "display_name": "Python 3 (ipykernel)",
   "language": "python",
   "name": "python3"
  },
  "language_info": {
   "codemirror_mode": {
    "name": "ipython",
    "version": 3
   },
   "file_extension": ".py",
   "mimetype": "text/x-python",
   "name": "python",
   "nbconvert_exporter": "python",
   "pygments_lexer": "ipython3",
   "version": "3.9.7"
  },
  "mimetype": "text/x-python",
  "name": "python",
  "npconvert_exporter": "python",
  "pygments_lexer": "ipython3",
  "version": 3
 },
 "nbformat": 4,
 "nbformat_minor": 4
}
