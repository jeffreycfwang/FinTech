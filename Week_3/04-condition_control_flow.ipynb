{
 "cells": [
  {
   "cell_type": "code",
   "execution_count": 1,
   "id": "299640da-a509-432b-9ae6-974d16e7e279",
   "metadata": {},
   "outputs": [],
   "source": [
    "######################\n",
    "# Create Character One\n",
    "######################"
   ]
  },
  {
   "cell_type": "code",
   "execution_count": 2,
   "id": "96f30a40-8076-4151-9ee6-5aa03f72cb74",
   "metadata": {},
   "outputs": [],
   "source": [
    "# Make a variable called `c1_name` and have it equal a string of \"Mr. Farley\".\n",
    "c1_name = \"Mr. Farley\""
   ]
  },
  {
   "cell_type": "code",
   "execution_count": 3,
   "id": "bc529771-197a-4691-a669-9ef043e4faac",
   "metadata": {},
   "outputs": [],
   "source": [
    "# Make a variable called `c1_age` and have it equal to an integer of 65.\n",
    "c1_age = 65"
   ]
  },
  {
   "cell_type": "code",
   "execution_count": 4,
   "id": "62a884f9-b216-465e-b105-7a1cefa439d2",
   "metadata": {},
   "outputs": [],
   "source": [
    "c1_name = \"Mr. Farley\"\n",
    "c1_age = 65\n",
    "c1_profession = \"Web Developer\"\n",
    "c1_salary = 100000\n",
    "c1_species = \"cat\"\n",
    "c1_location = \"San Francisco, CA\"\n",
    "c1_monthly_rent = 2000\n",
    "c1_monthly_expenses = 1500\n",
    "c1_yearly_rent = c1_monthly_rent * 12\n",
    "c1_yearly_expenses = 1500 * 12\n",
    "c1_savings = c1_salary - (c1_yearly_rent + c1_yearly_expenses)"
   ]
  },
  {
   "cell_type": "code",
   "execution_count": 6,
   "id": "618c93a2-ded0-4331-9ce9-a673779d3416",
   "metadata": {},
   "outputs": [],
   "source": [
    "c2_name = \"Mr. Snuggles\"\n",
    "c2_age = 30\n",
    "c2_species = \"mouse\"\n",
    "c2_profession = \"Accountant\"\n",
    "c2_salary = 70000\n",
    "c2_location = \"Oakland, CA\"\n",
    "c2_monthly_rent = 4000\n",
    "c2_monthly_expenses = 500.\n",
    "c2_yearly_rent = c2_monthly_rent * 12\n",
    "c2_yearly_expenses = c2_monthly_expenses * 12.\n",
    "c2_savings = c2_salary - (c2_yearly_rent + c2_yearly_expenses)\n"
   ]
  },
  {
   "cell_type": "code",
   "execution_count": null,
   "id": "c8d3a9b1-f12c-40c1-9b8a-2749c0abaa0b",
   "metadata": {},
   "outputs": [],
   "source": [
    "     n"
   ]
  }
 ],
 "metadata": {
  "kernelspec": {
   "display_name": "Python 3 (ipykernel)",
   "language": "python",
   "name": "python3"
  },
  "language_info": {
   "codemirror_mode": {
    "name": "ipython",
    "version": 3
   },
   "file_extension": ".py",
   "mimetype": "text/x-python",
   "name": "python",
   "nbconvert_exporter": "python",
   "pygments_lexer": "ipython3",
   "version": "3.8.8"
  }
 },
 "nbformat": 4,
 "nbformat_minor": 5
}
