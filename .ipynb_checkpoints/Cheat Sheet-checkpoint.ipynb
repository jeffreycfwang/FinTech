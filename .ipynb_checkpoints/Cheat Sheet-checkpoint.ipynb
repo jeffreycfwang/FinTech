{
 "cells": [
  {
   "cell_type": "markdown",
   "id": "cb27aa05",
   "metadata": {},
   "source": [
    "# Coding Cheat Sheet"
   ]
  },
  {
   "cell_type": "markdown",
   "id": "3a417a54",
   "metadata": {
    "tags": []
   },
   "source": [
    "## *-Imports*"
   ]
  },
  {
   "cell_type": "code",
   "execution_count": 2,
   "id": "7c1dd126",
   "metadata": {},
   "outputs": [],
   "source": [
    "# Initial imports\n",
    "import os\n",
    "import csv\n",
    "import quandl\n",
    "import requests\n",
    "import numpy as np\n",
    "import pandas as pd\n",
    "from pathlib import Path\n",
    "from dotenv import load_dotenv\n",
    "import alpaca_trade_api as tradeapi\n",
    "#from MCForecastTools import MCSimulation\n",
    "\n",
    "%matplotlib inline"
   ]
  },
  {
   "cell_type": "markdown",
   "id": "b950719b",
   "metadata": {
    "jp-MarkdownHeadingCollapsed": true,
    "tags": []
   },
   "source": [
    "# I. Python"
   ]
  },
  {
   "cell_type": "markdown",
   "id": "45b9f59a",
   "metadata": {
    "jp-MarkdownHeadingCollapsed": true,
    "tags": []
   },
   "source": [
    "## 1. File IO"
   ]
  },
  {
   "cell_type": "code",
   "execution_count": 2,
   "id": "ebb88bcf",
   "metadata": {},
   "outputs": [
    {
     "name": "stdout",
     "output_type": "stream",
     "text": [
      "Current Working Directory: C:\\Users\\jeffr\\desktop\\github\n"
     ]
    }
   ],
   "source": [
    "# Check the current directory where the Python program is executing from\n",
    "print(f\"Current Working Directory: {Path.cwd()}\")"
   ]
  },
  {
   "cell_type": "code",
   "execution_count": 3,
   "id": "ca04d811",
   "metadata": {},
   "outputs": [],
   "source": [
    "# Set the input file path irregardless of OS\n",
    "filepath = Path(\"../Github/cheatsheetresources/input.txt\")"
   ]
  },
  {
   "cell_type": "code",
   "execution_count": 4,
   "id": "a71c98fd",
   "metadata": {},
   "outputs": [
    {
     "name": "stdout",
     "output_type": "stream",
     "text": [
      "Example\n"
     ]
    }
   ],
   "source": [
    "# Open the file in \"read\" mode ('r') and store the\n",
    "# contents in the variable \"text\"\n",
    "with open(filepath, 'r') as file:\n",
    "    # Store all of the text from the file inside a variable called \"text\"\n",
    "    # and print the contexts of the text file\n",
    "    text = file.read()\n",
    "    print(text)\n",
    "# Parse and print the file line by line. The print statement adds an\n",
    "# extra line break to each line in the output.\n",
    "    line_num = 1\n",
    "    for line in file:\n",
    "        print(f\"line {line_num}: {line}\")\n",
    "        line_num += 1\n"
   ]
  },
  {
   "cell_type": "code",
   "execution_count": 5,
   "id": "7d559ee2",
   "metadata": {},
   "outputs": [],
   "source": [
    "# Set the output file path\n",
    "output_path = Path(\"cheatsheetresources/output.txt\")"
   ]
  },
  {
   "cell_type": "code",
   "execution_count": 6,
   "id": "0879b19e",
   "metadata": {},
   "outputs": [],
   "source": [
    "# Open the output_path as a file object in \"write\" mode ('w')\n",
    "# Write a header line and write the contents of 'text' to the file\n",
    "with open(output_path, 'w') as file:\n",
    "    file.write(\"This is an output file.\\n\")\n",
    "    file.write(text)\n"
   ]
  },
  {
   "cell_type": "markdown",
   "id": "eda1aee3",
   "metadata": {
    "jp-MarkdownHeadingCollapsed": true,
    "tags": []
   },
   "source": [
    "## 2. CSV"
   ]
  },
  {
   "cell_type": "code",
   "execution_count": 7,
   "id": "8d4d31b3",
   "metadata": {},
   "outputs": [],
   "source": [
    "# Set the file path\n",
    "csvpath = Path('../Github/cheatsheetresources/accounting.csv')"
   ]
  },
  {
   "cell_type": "code",
   "execution_count": 8,
   "id": "ee6ba894",
   "metadata": {},
   "outputs": [],
   "source": [
    "# Initialize variable to hold salaries\n",
    "salaries = []"
   ]
  },
  {
   "cell_type": "code",
   "execution_count": 9,
   "id": "24edfdce",
   "metadata": {},
   "outputs": [],
   "source": [
    "# Initialize line_num variable\n",
    "line_num = 0"
   ]
  },
  {
   "cell_type": "code",
   "execution_count": 10,
   "id": "64cf6c25",
   "metadata": {},
   "outputs": [
    {
     "name": "stdout",
     "output_type": "stream",
     "text": [
      "<class '_io.TextIOWrapper'>\n",
      "<class '_csv.reader'>\n",
      "['First Name', 'Last Name', 'SSN', 'Salary'] <---- HEADER\n",
      "['Tina', 'Fleming', '619-16-7988', '75000']\n",
      "['Erica', 'Shah', '164-51-7615', '40000']\n",
      "['Paula', 'Ortiz', '051-83-3290', '120000']\n",
      "['James', 'Hendricks', '776-83-2884', '90000']\n",
      "['Lauren', 'King', '197-94-2398', '60000']\n",
      "['David', 'Cowan', '252-92-1832', '35000']\n",
      "['Andrew', 'Burton', '296-23-6842', '150000']\n",
      "['Julian', 'Baker', '337-40-7543', '75000']\n",
      "['Scott', 'Castro', '399-46-5595', '50000']\n",
      "['Billy', 'Rodriguez', '014-18-2503', '65000']\n",
      "['Darrell', 'Leblanc', '005-82-7918', '40000']\n",
      "['David', 'Hammond', '561-17-6312', '90000']\n"
     ]
    }
   ],
   "source": [
    "# Open the input path as a file object\n",
    "with open(csvpath, 'r') as csvfile:\n",
    "\n",
    "    # Print the datatype of the file object\n",
    "    print(type(csvfile))\n",
    "\n",
    "    # Pass in the csv file to the csv.reader() function\n",
    "    # (with ',' as the delmiter/separator) and return the csvreader object\n",
    "    csvreader = csv.reader(csvfile, delimiter=',')\n",
    "    # Print the datatype of the csvreader\n",
    "    print(type(csvreader))\n",
    "\n",
    "    # Go to the next row from the start of the file\n",
    "    # (which is often the first row/header) and iterate line_num by 1\n",
    "    header = next(csvreader)\n",
    "    line_num += 1\n",
    "    # Print the header\n",
    "    print(f\"{header} <---- HEADER\")\n",
    "\n",
    "    # Read each row of data after the header\n",
    "    for row in csvreader:\n",
    "        # Print the row\n",
    "        print(row)\n",
    "        # Set salary variable equal to the value in the 4th column of each row\n",
    "        salary = int(row[3])\n",
    "        # Append the row salary value to the list of salaries\n",
    "        salaries.append(salary)"
   ]
  },
  {
   "cell_type": "code",
   "execution_count": 11,
   "id": "4244de39",
   "metadata": {},
   "outputs": [],
   "source": [
    "# Initialize metric variables\n",
    "max_salary = 0\n",
    "min_salary = 0\n",
    "avg_salary = 0\n",
    "total_salary = 0\n",
    "count_salary = 0"
   ]
  },
  {
   "cell_type": "markdown",
   "id": "e75ffde9",
   "metadata": {
    "jp-MarkdownHeadingCollapsed": true,
    "tags": []
   },
   "source": [
    "### Looping & conditional statement"
   ]
  },
  {
   "cell_type": "code",
   "execution_count": 12,
   "id": "523b696d",
   "metadata": {},
   "outputs": [],
   "source": [
    "#if True:\n",
    "    # Do something\n",
    "#else:\n",
    "    # Do something else"
   ]
  },
  {
   "cell_type": "code",
   "execution_count": 13,
   "id": "530631c0",
   "metadata": {},
   "outputs": [],
   "source": [
    "# Calculate the max, mean, and average of the list of salaries\n",
    "for salary in salaries:\n",
    "\n",
    "    # Sum the total and count variables\n",
    "    total_salary += salary\n",
    "    count_salary += 1\n",
    "\n",
    "    # Logic to determine min and max salaries\n",
    "    if min_salary == 0:\n",
    "        min_salary = salary\n",
    "    elif salary > max_salary:\n",
    "        max_salary = salary\n",
    "    elif salary < min_salary:\n",
    "        min_salary = salary"
   ]
  },
  {
   "cell_type": "code",
   "execution_count": 14,
   "id": "ff453a6e",
   "metadata": {},
   "outputs": [
    {
     "name": "stdout",
     "output_type": "stream",
     "text": [
      "150000 35000 74166.67\n"
     ]
    }
   ],
   "source": [
    "# Calculate the average salary, round to the nearest 2 decimal places\n",
    "avg_salary = round(total_salary / count_salary, 2)\n",
    "\n",
    "# Print the metrics\n",
    "print(max_salary, min_salary, avg_salary)\n",
    "\n",
    "# Set the output header\n",
    "header = [\"Max_Salary\", \"Min_Salary\", \"Avg_Salary\"]\n",
    "# Create a list of metrics\n",
    "metrics = [max_salary, min_salary, avg_salary]\n",
    "\n",
    "# Set the output file path\n",
    "output_path = Path('cheatsheetresources/output.csv')\n",
    "\n",
    "# Open the output path as a file object\n",
    "with open(output_path, 'w') as csvfile:\n",
    "    # Set the file object as a csvwriter object\n",
    "    csvwriter = csv.writer(csvfile, delimiter=',')\n",
    "    # Write the header to the output file\n",
    "    csvwriter.writerow(header)\n",
    "    # Write the list of metrics to the output file\n",
    "    csvwriter.writerow(metrics)"
   ]
  },
  {
   "cell_type": "markdown",
   "id": "95000355",
   "metadata": {
    "jp-MarkdownHeadingCollapsed": true,
    "tags": []
   },
   "source": [
    "## 3. Dictionary"
   ]
  },
  {
   "cell_type": "code",
   "execution_count": 15,
   "id": "0feedf24",
   "metadata": {},
   "outputs": [
    {
     "name": "stdout",
     "output_type": "stream",
     "text": [
      "{'west_coast': True, 'has_multiple_bridges': True, 'known_for_pizza': False, 'coastal': True, 'snows': False, 'very_hot': False, 'mayor': 'London Breed', 'state': 'California', 'country': 'USA', 'best_food': 'burritos', 'sports_teams': ['Giants', 'Warriors', 'Forty-Niners'], 'tallest_building': 'SalesForce Building', 'population': 884363, 'city_size': 'large', 'median_house_price': 1610000, 'famous_residents': ['Maya Angelous', 'Robert Frost', 'Carlos Santana'], 'homeless_pop': 1150, 'political_leaning': 'Democrat', 'notable_attractions': ['Alcatraz', 'Golden Gate Bridge', \"Fisherman's Wharf\"], 'natural_disasters': ['Earthquakes']}\n"
     ]
    }
   ],
   "source": [
    "# san_francisco = {\n",
    "#     \"west_coast\": True,\n",
    "#     \"has_multiple_bridges\": True,\n",
    "#     \"known_for_pizza\": False,\n",
    "#     \"coastal\": True,\n",
    "#     \"snows\": False,\n",
    "#     \"very_hot\": False,\n",
    "#     \"mayor\": \"London Breed\",\n",
    "#     \"state\": \"California\",\n",
    "#     \"country\": \"USA\",\n",
    "#     \"best_food\": \"burritos\",\n",
    "#     \"sports_teams\": [\"Giants\", \"Warriors\", \"Forty-Niners\"],\n",
    "#     \"tallest_building\": \"SalesForce Building\",\n",
    "#     \"population\": 884363,\n",
    "#     \"city_size\": \"large\",\n",
    "#     \"median_house_price\": 1610000,\n",
    "#     \"famous_residents\": [\"Maya Angelou\", \"Robert Frost\", \"Carlos Santana\"],\n",
    "#     \"homeless_pop\": 1150,\n",
    "#     \"political_leaning\": \"Democrat\",\n",
    "#     \"notable_attractions\": [\"Alcatraz\", \"Golden Gate Bridge\", \"Fisherman's Wharf\"],\n",
    "#     \"natural_disasters\": [\"Earthquakes\"],\n",
    "# }\n",
    "\n",
    "# Re-create the content of the commented out `san_francisco` dictionary by using bracket notation to manually add each of the key-value pairs (including nested objects).\n",
    "san_francisco = {}\n",
    "\n",
    "san_francisco['west_coast'] = True\n",
    "san_francisco['has_multiple_bridges'] = True\n",
    "san_francisco['known_for_pizza'] = False\n",
    "san_francisco['coastal'] = True\n",
    "san_francisco['snows'] = False\n",
    "san_francisco['very_hot'] = False\n",
    "san_francisco['mayor'] = \"London Breed\"\n",
    "san_francisco['state'] = \"California\"\n",
    "san_francisco['country'] = \"USA\"\n",
    "san_francisco['best_food'] = \"burritos\"\n",
    "san_francisco['sports_teams'] = [\"Giants\", \"Warriors\", \"Forty-Niners\"]\n",
    "san_francisco['tallest_building'] = \"SalesForce Building\"\n",
    "san_francisco['population'] = 884363\n",
    "san_francisco['city_size'] = \"large\"\n",
    "san_francisco['median_house_price'] = 1610000\n",
    "san_francisco['famous_residents'] = [\"Maya Angelous\", \"Robert Frost\", \"Carlos Santana\"]\n",
    "san_francisco['homeless_pop'] = 1150\n",
    "san_francisco['political_leaning'] = \"Democrat\"\n",
    "san_francisco['notable_attractions'] = [\"Alcatraz\", \"Golden Gate Bridge\", \"Fisherman's Wharf\"]\n",
    "san_francisco['natural_disasters'] = [\"Earthquakes\"]\n",
    "\n",
    "# Print the manually modified `san_francisco` dictionary and confirm the contents match the commented out version.\n",
    "print(san_francisco)"
   ]
  },
  {
   "cell_type": "markdown",
   "id": "e15f9c27",
   "metadata": {
    "jp-MarkdownHeadingCollapsed": true,
    "tags": []
   },
   "source": [
    "## *ex1. Algo Challenge*"
   ]
  },
  {
   "cell_type": "code",
   "execution_count": 16,
   "id": "9f46c32e",
   "metadata": {},
   "outputs": [
    {
     "name": "stdout",
     "output_type": "stream",
     "text": [
      "Number 41\n",
      "False\n",
      "The smallest number in the list is 3\n",
      "hey there 9\n",
      "yo 2\n",
      "a 1\n",
      "hello 5\n",
      "what up 7\n",
      "hello, my name is farley 24\n",
      "howdy 5\n",
      "The shortest string is a\n"
     ]
    },
    {
     "data": {
      "text/plain": [
       "[15, 18, 11]"
      ]
     },
     "execution_count": 16,
     "metadata": {},
     "output_type": "execute_result"
    }
   ],
   "source": [
    "# Import the `random` library.\n",
    "import random\n",
    "\n",
    "# Answer each question with the correct coding solution.\n",
    "\n",
    "# QUESTION 1: Create a function called `number_guess` that takes in an integer as an argument.\n",
    "# If the number is 42, print(true). If it isn't 42, print(false)\n",
    "def number_guess(number):\n",
    "    if number == 42:\n",
    "        print(True)\n",
    "    else:\n",
    "        print(False)\n",
    "\n",
    "# This code is to help you test your function\n",
    "test_num = random.randint(40, 45)\n",
    "print(f\"Number {test_num}\")\n",
    "number_guess(test_num)\n",
    "\n",
    "# QUESTION 2: Write a function that takes in a list of numbers. the function should print the smallest number in the given list\n",
    "def find_smallest(list_param):\n",
    "    minimum = 0\n",
    "\n",
    "    for number in list_param:\n",
    "        if minimum == 0:\n",
    "            minimum = number\n",
    "        elif number < minimum:\n",
    "            minimum = number\n",
    "\n",
    "    print(f\"The smallest number in the list is {minimum}\")\n",
    "\n",
    "# This code is to help you test your function\n",
    "nums = [10, 11, 3, 123, 54, 6, 67]\n",
    "find_smallest(nums)\n",
    "\n",
    "# QUESTION 3: Write a function which takes in a list of strings. The function should print the shortest string in the list.\n",
    "def find_shortest(list_param):\n",
    "    shortest_string = \"\"\n",
    "    shortest_character_count = 0\n",
    "\n",
    "    for string in list_param:\n",
    "        count = 0\n",
    "\n",
    "        for character in string:\n",
    "            count += 1\n",
    "\n",
    "        print(string, count)\n",
    "\n",
    "        if shortest_character_count == 0:\n",
    "            shortest_character_count = count\n",
    "            shortest_string = string\n",
    "        elif count < shortest_character_count:\n",
    "            shortest_character_count = count\n",
    "            shortest_string = string\n",
    "\n",
    "    print(f\"The shortest string is {shortest_string}\")\n",
    "\n",
    "\n",
    "# This code is to help you test your function\n",
    "strings = [\"hey there\", \"yo\", \"a\", \"hello\", \"what up\", \"hello, my name is farley\", \"howdy\"]\n",
    "find_shortest(strings)\n",
    "\n",
    "#QUESTION 4: Write a function that takes in three arguments: a high value, a low value and a list of numbers.\n",
    "# The function should print a new list of numbers where the elements are greater than the low value and less than the high value\n",
    "def filter_list(high, low, list_param):\n",
    "    filtered_list = []\n",
    "\n",
    "    for number in list_param:\n",
    "        if number > low and number < high:\n",
    "            filtered_list.append(number)\n",
    "    return filtered_list\n",
    "\n",
    "# This code is to help you test your function\n",
    "high = 20\n",
    "low = 10\n",
    "arr = [2,5,99,15,23,18,11,21]\n",
    "\n",
    "filter_list(high, low, arr)"
   ]
  },
  {
   "cell_type": "markdown",
   "id": "f2b2eee2",
   "metadata": {
    "jp-MarkdownHeadingCollapsed": true,
    "tags": []
   },
   "source": [
    "## *ex2. Rock Paper Scissors!*"
   ]
  },
  {
   "cell_type": "markdown",
   "id": "2d28a8bb",
   "metadata": {},
   "source": [
    "#### To run code change from Markdown cell to code cell\n",
    "#### Incorporate the random library\n",
    "import random\n",
    "\n",
    "#### #Print Title\n",
    "print(\"Let's Play Rock Paper Scissors!\")\n",
    "\n",
    "#### Specify the three options\n",
    "options = [\"r\", \"p\", \"s\"]\n",
    "\n",
    "#### Computer Selection\n",
    "computer_choice = random.choice(options)\n",
    "\n",
    "#### User Selection\n",
    "user_choice = input(\"Make your Choice: (r)ock, (p)aper, (s)cissors? \")\n",
    "\n",
    "#### Run Conditionals\n",
    "if (user_choice == \"r\" and computer_choice == \"p\"):\n",
    "    print(\"You chose rock. The computer chose paper.\")\n",
    "    print(\"Sorry. You lose.\")\n",
    "\n",
    "elif (user_choice == \"r\" and computer_choice == \"s\"):\n",
    "    print(\"You chose rock. The computer chose scissors.\")\n",
    "    print(\"Yay! You won.\")\n",
    "\n",
    "elif (user_choice == \"r\" and computer_choice == \"r\"):\n",
    "    print(\"You chose rock. The computer chose rock.\")\n",
    "    print(\"A smashing tie!\")\n",
    "\n",
    "elif (user_choice == \"p\" and computer_choice == \"p\"):\n",
    "    print(\"You chose paper. The computer chose paper.\")\n",
    "    print(\"A smashing tie!\")\n",
    "\n",
    "elif (user_choice == \"p\" and computer_choice == \"s\"):\n",
    "    print(\"You chose paper. The computer chose scissors.\")\n",
    "    print(\"Sorry. You lose.\")\n",
    "\n",
    "elif (user_choice == \"p\" and computer_choice == \"r\"):\n",
    "    print(\"You chose paper. The computer chose rock.\")\n",
    "    print(\"Yay! You won.\")\n",
    "\n",
    "elif (user_choice == \"s\" and computer_choice == \"p\"):\n",
    "    print(\"You chose scissors. The computer chose paper.\")\n",
    "    print(\"Yay! You won.\")\n",
    "\n",
    "elif (user_choice == \"s\" and computer_choice == \"s\"):\n",
    "    print(\"You chose scissors. The computer chose scissors.\")\n",
    "    print(\"A smashing tie!\")\n",
    "\n",
    "elif (user_choice == \"s\" and computer_choice == \"r\"):\n",
    "    print(\"You chose scissors. The computer chose rock.\")\n",
    "    print(\"Sorry. You lose.\")\n",
    "\n",
    "else:\n",
    "    print(\"I don't understand that!\")\n",
    "    print(\"Next time, choose from 'r', 'p', or 's'.\")"
   ]
  },
  {
   "cell_type": "markdown",
   "id": "966e7ea9",
   "metadata": {
    "tags": []
   },
   "source": [
    "# II. Pandas"
   ]
  },
  {
   "cell_type": "markdown",
   "id": "9624524a",
   "metadata": {
    "tags": []
   },
   "source": [
    "## 1. CSV"
   ]
  },
  {
   "cell_type": "markdown",
   "id": "003dbb2c",
   "metadata": {
    "jp-MarkdownHeadingCollapsed": true,
    "tags": []
   },
   "source": [
    "### I. Basics"
   ]
  },
  {
   "cell_type": "markdown",
   "id": "0cff4893",
   "metadata": {
    "jp-MarkdownHeadingCollapsed": true,
    "tags": []
   },
   "source": [
    "#### i. Reading a CSV with a Header"
   ]
  },
  {
   "cell_type": "code",
   "execution_count": 18,
   "id": "8d46cef7",
   "metadata": {},
   "outputs": [],
   "source": [
    "# Step 1: Create a path to the file\n",
    "csvpath = Path(\"cheatsheetresources/sales.csv\")"
   ]
  },
  {
   "cell_type": "code",
   "execution_count": 19,
   "id": "55e714bd",
   "metadata": {},
   "outputs": [
    {
     "data": {
      "text/html": [
       "<div>\n",
       "<style scoped>\n",
       "    .dataframe tbody tr th:only-of-type {\n",
       "        vertical-align: middle;\n",
       "    }\n",
       "\n",
       "    .dataframe tbody tr th {\n",
       "        vertical-align: top;\n",
       "    }\n",
       "\n",
       "    .dataframe thead th {\n",
       "        text-align: right;\n",
       "    }\n",
       "</style>\n",
       "<table border=\"1\" class=\"dataframe\">\n",
       "  <thead>\n",
       "    <tr style=\"text-align: right;\">\n",
       "      <th></th>\n",
       "      <th>FullName</th>\n",
       "      <th>Email</th>\n",
       "      <th>Address</th>\n",
       "      <th>Zip</th>\n",
       "      <th>CreditCard</th>\n",
       "      <th>SalePrice</th>\n",
       "    </tr>\n",
       "  </thead>\n",
       "  <tbody>\n",
       "    <tr>\n",
       "      <th>0</th>\n",
       "      <td>Elwanda White</td>\n",
       "      <td>alyre2036@live.com</td>\n",
       "      <td>352 Lakeshore Mall</td>\n",
       "      <td>9236</td>\n",
       "      <td>5327 0855 9720 7055</td>\n",
       "      <td>84.33</td>\n",
       "    </tr>\n",
       "    <tr>\n",
       "      <th>1</th>\n",
       "      <td>Lyndon Elliott</td>\n",
       "      <td>arrowy1873@outlook.com</td>\n",
       "      <td>1234 Avery Plaza</td>\n",
       "      <td>1330</td>\n",
       "      <td>3717 498777 19636</td>\n",
       "      <td>879.95</td>\n",
       "    </tr>\n",
       "    <tr>\n",
       "      <th>2</th>\n",
       "      <td>Daisey Sellers</td>\n",
       "      <td>toucan2024@outlook.com</td>\n",
       "      <td>469 Elwood Street</td>\n",
       "      <td>7631</td>\n",
       "      <td>3758 579477 35734</td>\n",
       "      <td>907.58</td>\n",
       "    </tr>\n",
       "    <tr>\n",
       "      <th>3</th>\n",
       "      <td>Issac Reeves</td>\n",
       "      <td>asarin1958@gmail.com</td>\n",
       "      <td>565 Phelps Field</td>\n",
       "      <td>81168</td>\n",
       "      <td>4400 0380 4162 1622</td>\n",
       "      <td>545.88</td>\n",
       "    </tr>\n",
       "    <tr>\n",
       "      <th>4</th>\n",
       "      <td>Bradford Kinney</td>\n",
       "      <td>mibound1801@yandex.com</td>\n",
       "      <td>853 Mission Rock Freeway</td>\n",
       "      <td>41721</td>\n",
       "      <td>3712 263405 60178</td>\n",
       "      <td>517.49</td>\n",
       "    </tr>\n",
       "  </tbody>\n",
       "</table>\n",
       "</div>"
      ],
      "text/plain": [
       "          FullName                   Email                   Address    Zip  \\\n",
       "0    Elwanda White      alyre2036@live.com        352 Lakeshore Mall   9236   \n",
       "1   Lyndon Elliott  arrowy1873@outlook.com          1234 Avery Plaza   1330   \n",
       "2   Daisey Sellers  toucan2024@outlook.com         469 Elwood Street   7631   \n",
       "3     Issac Reeves    asarin1958@gmail.com          565 Phelps Field  81168   \n",
       "4  Bradford Kinney  mibound1801@yandex.com  853 Mission Rock Freeway  41721   \n",
       "\n",
       "            CreditCard  SalePrice  \n",
       "0  5327 0855 9720 7055      84.33  \n",
       "1    3717 498777 19636     879.95  \n",
       "2    3758 579477 35734     907.58  \n",
       "3  4400 0380 4162 1622     545.88  \n",
       "4    3712 263405 60178     517.49  "
      ]
     },
     "execution_count": 19,
     "metadata": {},
     "output_type": "execute_result"
    }
   ],
   "source": [
    "# Step 2: Read the CSV into a DataFrame using Pandas\n",
    "sales_dataframe = pd.read_csv(csvpath)\n",
    "sales_dataframe.head()"
   ]
  },
  {
   "cell_type": "markdown",
   "id": "8336c967",
   "metadata": {
    "jp-MarkdownHeadingCollapsed": true,
    "tags": []
   },
   "source": [
    "#### ii. Reading a CSV with no Header"
   ]
  },
  {
   "cell_type": "code",
   "execution_count": 20,
   "id": "e41cdc9a",
   "metadata": {},
   "outputs": [
    {
     "data": {
      "text/html": [
       "<div>\n",
       "<style scoped>\n",
       "    .dataframe tbody tr th:only-of-type {\n",
       "        vertical-align: middle;\n",
       "    }\n",
       "\n",
       "    .dataframe tbody tr th {\n",
       "        vertical-align: top;\n",
       "    }\n",
       "\n",
       "    .dataframe thead th {\n",
       "        text-align: right;\n",
       "    }\n",
       "</style>\n",
       "<table border=\"1\" class=\"dataframe\">\n",
       "  <thead>\n",
       "    <tr style=\"text-align: right;\">\n",
       "      <th></th>\n",
       "      <th>Elwanda White</th>\n",
       "      <th>alyre2036@live.com</th>\n",
       "      <th>352 Lakeshore Mall</th>\n",
       "      <th>9236</th>\n",
       "      <th>5327 0855 9720 7055</th>\n",
       "      <th>84.33</th>\n",
       "    </tr>\n",
       "  </thead>\n",
       "  <tbody>\n",
       "    <tr>\n",
       "      <th>0</th>\n",
       "      <td>Lyndon Elliott</td>\n",
       "      <td>arrowy1873@outlook.com</td>\n",
       "      <td>1234 Avery Plaza</td>\n",
       "      <td>1330</td>\n",
       "      <td>3717 498777 19636</td>\n",
       "      <td>879.95</td>\n",
       "    </tr>\n",
       "    <tr>\n",
       "      <th>1</th>\n",
       "      <td>Daisey Sellers</td>\n",
       "      <td>toucan2024@outlook.com</td>\n",
       "      <td>469 Elwood Street</td>\n",
       "      <td>7631</td>\n",
       "      <td>3758 579477 35734</td>\n",
       "      <td>907.58</td>\n",
       "    </tr>\n",
       "    <tr>\n",
       "      <th>2</th>\n",
       "      <td>Issac Reeves</td>\n",
       "      <td>asarin1958@gmail.com</td>\n",
       "      <td>565 Phelps Field</td>\n",
       "      <td>81168</td>\n",
       "      <td>4400 0380 4162 1622</td>\n",
       "      <td>545.88</td>\n",
       "    </tr>\n",
       "    <tr>\n",
       "      <th>3</th>\n",
       "      <td>Bradford Kinney</td>\n",
       "      <td>mibound1801@yandex.com</td>\n",
       "      <td>853 Mission Rock Freeway</td>\n",
       "      <td>41721</td>\n",
       "      <td>3712 263405 60178</td>\n",
       "      <td>517.49</td>\n",
       "    </tr>\n",
       "    <tr>\n",
       "      <th>4</th>\n",
       "      <td>Fermina Cobb</td>\n",
       "      <td>kingfisher2013@live.com</td>\n",
       "      <td>929 Prague Trail</td>\n",
       "      <td>16625</td>\n",
       "      <td>2351 7156 8193 8639</td>\n",
       "      <td>889.95</td>\n",
       "    </tr>\n",
       "  </tbody>\n",
       "</table>\n",
       "</div>"
      ],
      "text/plain": [
       "     Elwanda White       alyre2036@live.com        352 Lakeshore Mall   9236  \\\n",
       "0   Lyndon Elliott   arrowy1873@outlook.com          1234 Avery Plaza   1330   \n",
       "1   Daisey Sellers   toucan2024@outlook.com         469 Elwood Street   7631   \n",
       "2     Issac Reeves     asarin1958@gmail.com          565 Phelps Field  81168   \n",
       "3  Bradford Kinney   mibound1801@yandex.com  853 Mission Rock Freeway  41721   \n",
       "4     Fermina Cobb  kingfisher2013@live.com          929 Prague Trail  16625   \n",
       "\n",
       "   5327 0855 9720 7055   84.33  \n",
       "0    3717 498777 19636  879.95  \n",
       "1    3758 579477 35734  907.58  \n",
       "2  4400 0380 4162 1622  545.88  \n",
       "3    3712 263405 60178  517.49  \n",
       "4  2351 7156 8193 8639  889.95  "
      ]
     },
     "execution_count": 20,
     "metadata": {},
     "output_type": "execute_result"
    }
   ],
   "source": [
    "# Without a header in the CSV, Pandas will use the first row as the header\n",
    "csvpath = Path(\"cheatsheetresources/sales_no_header.csv\")\n",
    "sales_data = pd.read_csv(csvpath)\n",
    "sales_data.head()"
   ]
  },
  {
   "cell_type": "code",
   "execution_count": 21,
   "id": "bdfa1932",
   "metadata": {},
   "outputs": [
    {
     "data": {
      "text/html": [
       "<div>\n",
       "<style scoped>\n",
       "    .dataframe tbody tr th:only-of-type {\n",
       "        vertical-align: middle;\n",
       "    }\n",
       "\n",
       "    .dataframe tbody tr th {\n",
       "        vertical-align: top;\n",
       "    }\n",
       "\n",
       "    .dataframe thead th {\n",
       "        text-align: right;\n",
       "    }\n",
       "</style>\n",
       "<table border=\"1\" class=\"dataframe\">\n",
       "  <thead>\n",
       "    <tr style=\"text-align: right;\">\n",
       "      <th></th>\n",
       "      <th>0</th>\n",
       "      <th>1</th>\n",
       "      <th>2</th>\n",
       "      <th>3</th>\n",
       "      <th>4</th>\n",
       "      <th>5</th>\n",
       "    </tr>\n",
       "  </thead>\n",
       "  <tbody>\n",
       "    <tr>\n",
       "      <th>0</th>\n",
       "      <td>Elwanda White</td>\n",
       "      <td>alyre2036@live.com</td>\n",
       "      <td>352 Lakeshore Mall</td>\n",
       "      <td>9236</td>\n",
       "      <td>5327 0855 9720 7055</td>\n",
       "      <td>84.33</td>\n",
       "    </tr>\n",
       "    <tr>\n",
       "      <th>1</th>\n",
       "      <td>Lyndon Elliott</td>\n",
       "      <td>arrowy1873@outlook.com</td>\n",
       "      <td>1234 Avery Plaza</td>\n",
       "      <td>1330</td>\n",
       "      <td>3717 498777 19636</td>\n",
       "      <td>879.95</td>\n",
       "    </tr>\n",
       "    <tr>\n",
       "      <th>2</th>\n",
       "      <td>Daisey Sellers</td>\n",
       "      <td>toucan2024@outlook.com</td>\n",
       "      <td>469 Elwood Street</td>\n",
       "      <td>7631</td>\n",
       "      <td>3758 579477 35734</td>\n",
       "      <td>907.58</td>\n",
       "    </tr>\n",
       "    <tr>\n",
       "      <th>3</th>\n",
       "      <td>Issac Reeves</td>\n",
       "      <td>asarin1958@gmail.com</td>\n",
       "      <td>565 Phelps Field</td>\n",
       "      <td>81168</td>\n",
       "      <td>4400 0380 4162 1622</td>\n",
       "      <td>545.88</td>\n",
       "    </tr>\n",
       "    <tr>\n",
       "      <th>4</th>\n",
       "      <td>Bradford Kinney</td>\n",
       "      <td>mibound1801@yandex.com</td>\n",
       "      <td>853 Mission Rock Freeway</td>\n",
       "      <td>41721</td>\n",
       "      <td>3712 263405 60178</td>\n",
       "      <td>517.49</td>\n",
       "    </tr>\n",
       "  </tbody>\n",
       "</table>\n",
       "</div>"
      ],
      "text/plain": [
       "                 0                       1                         2      3  \\\n",
       "0    Elwanda White      alyre2036@live.com        352 Lakeshore Mall   9236   \n",
       "1   Lyndon Elliott  arrowy1873@outlook.com          1234 Avery Plaza   1330   \n",
       "2   Daisey Sellers  toucan2024@outlook.com         469 Elwood Street   7631   \n",
       "3     Issac Reeves    asarin1958@gmail.com          565 Phelps Field  81168   \n",
       "4  Bradford Kinney  mibound1801@yandex.com  853 Mission Rock Freeway  41721   \n",
       "\n",
       "                     4       5  \n",
       "0  5327 0855 9720 7055   84.33  \n",
       "1    3717 498777 19636  879.95  \n",
       "2    3758 579477 35734  907.58  \n",
       "3  4400 0380 4162 1622  545.88  \n",
       "4    3712 263405 60178  517.49  "
      ]
     },
     "execution_count": 21,
     "metadata": {},
     "output_type": "execute_result"
    }
   ],
   "source": [
    "# Read the file without a header\n",
    "sales_data = pd.read_csv(csvpath, header=None)\n",
    "sales_data.head()"
   ]
  },
  {
   "cell_type": "markdown",
   "id": "f92a2af0",
   "metadata": {
    "jp-MarkdownHeadingCollapsed": true,
    "tags": []
   },
   "source": [
    "### II. Column Manipulation"
   ]
  },
  {
   "cell_type": "markdown",
   "id": "80d864d7",
   "metadata": {
    "jp-MarkdownHeadingCollapsed": true,
    "tags": []
   },
   "source": [
    "#### i. Rewrite the column names"
   ]
  },
  {
   "cell_type": "code",
   "execution_count": 22,
   "id": "198a7a51",
   "metadata": {},
   "outputs": [
    {
     "data": {
      "text/html": [
       "<div>\n",
       "<style scoped>\n",
       "    .dataframe tbody tr th:only-of-type {\n",
       "        vertical-align: middle;\n",
       "    }\n",
       "\n",
       "    .dataframe tbody tr th {\n",
       "        vertical-align: top;\n",
       "    }\n",
       "\n",
       "    .dataframe thead th {\n",
       "        text-align: right;\n",
       "    }\n",
       "</style>\n",
       "<table border=\"1\" class=\"dataframe\">\n",
       "  <thead>\n",
       "    <tr style=\"text-align: right;\">\n",
       "      <th></th>\n",
       "      <th>Full Name</th>\n",
       "      <th>Email</th>\n",
       "      <th>Address</th>\n",
       "      <th>Zip Code</th>\n",
       "      <th>Credit Card Number</th>\n",
       "      <th>Sale Price</th>\n",
       "    </tr>\n",
       "  </thead>\n",
       "  <tbody>\n",
       "    <tr>\n",
       "      <th>0</th>\n",
       "      <td>Elwanda White</td>\n",
       "      <td>alyre2036@live.com</td>\n",
       "      <td>352 Lakeshore Mall</td>\n",
       "      <td>9236</td>\n",
       "      <td>5327 0855 9720 7055</td>\n",
       "      <td>84.33</td>\n",
       "    </tr>\n",
       "    <tr>\n",
       "      <th>1</th>\n",
       "      <td>Lyndon Elliott</td>\n",
       "      <td>arrowy1873@outlook.com</td>\n",
       "      <td>1234 Avery Plaza</td>\n",
       "      <td>1330</td>\n",
       "      <td>3717 498777 19636</td>\n",
       "      <td>879.95</td>\n",
       "    </tr>\n",
       "    <tr>\n",
       "      <th>2</th>\n",
       "      <td>Daisey Sellers</td>\n",
       "      <td>toucan2024@outlook.com</td>\n",
       "      <td>469 Elwood Street</td>\n",
       "      <td>7631</td>\n",
       "      <td>3758 579477 35734</td>\n",
       "      <td>907.58</td>\n",
       "    </tr>\n",
       "    <tr>\n",
       "      <th>3</th>\n",
       "      <td>Issac Reeves</td>\n",
       "      <td>asarin1958@gmail.com</td>\n",
       "      <td>565 Phelps Field</td>\n",
       "      <td>81168</td>\n",
       "      <td>4400 0380 4162 1622</td>\n",
       "      <td>545.88</td>\n",
       "    </tr>\n",
       "    <tr>\n",
       "      <th>4</th>\n",
       "      <td>Bradford Kinney</td>\n",
       "      <td>mibound1801@yandex.com</td>\n",
       "      <td>853 Mission Rock Freeway</td>\n",
       "      <td>41721</td>\n",
       "      <td>3712 263405 60178</td>\n",
       "      <td>517.49</td>\n",
       "    </tr>\n",
       "  </tbody>\n",
       "</table>\n",
       "</div>"
      ],
      "text/plain": [
       "         Full Name                   Email                   Address  \\\n",
       "0    Elwanda White      alyre2036@live.com        352 Lakeshore Mall   \n",
       "1   Lyndon Elliott  arrowy1873@outlook.com          1234 Avery Plaza   \n",
       "2   Daisey Sellers  toucan2024@outlook.com         469 Elwood Street   \n",
       "3     Issac Reeves    asarin1958@gmail.com          565 Phelps Field   \n",
       "4  Bradford Kinney  mibound1801@yandex.com  853 Mission Rock Freeway   \n",
       "\n",
       "   Zip Code   Credit Card Number  Sale Price  \n",
       "0      9236  5327 0855 9720 7055       84.33  \n",
       "1      1330    3717 498777 19636      879.95  \n",
       "2      7631    3758 579477 35734      907.58  \n",
       "3     81168  4400 0380 4162 1622      545.88  \n",
       "4     41721    3712 263405 60178      517.49  "
      ]
     },
     "execution_count": 22,
     "metadata": {},
     "output_type": "execute_result"
    }
   ],
   "source": [
    "columns = [\"Full Name\", \"Email\", \"Address\", \"Zip Code\", \"Credit Card Number\", \"Sale Price\"]\n",
    "sales_data.columns = columns\n",
    "sales_data.head()"
   ]
  },
  {
   "cell_type": "markdown",
   "id": "1cd648f1",
   "metadata": {
    "jp-MarkdownHeadingCollapsed": true,
    "tags": []
   },
   "source": [
    "#### ii. Replace Columns"
   ]
  },
  {
   "cell_type": "code",
   "execution_count": 23,
   "id": "822f8162",
   "metadata": {},
   "outputs": [
    {
     "data": {
      "text/plain": [
       "Index(['Full Name', 'Email', 'Address', 'Zip Code', 'Credit Card Number',\n",
       "       'Sale Price'],\n",
       "      dtype='object')"
      ]
     },
     "execution_count": 23,
     "metadata": {},
     "output_type": "execute_result"
    }
   ],
   "source": [
    "sales_data.columns"
   ]
  },
  {
   "cell_type": "code",
   "execution_count": 24,
   "id": "c79afbd1",
   "metadata": {},
   "outputs": [
    {
     "data": {
      "text/html": [
       "<div>\n",
       "<style scoped>\n",
       "    .dataframe tbody tr th:only-of-type {\n",
       "        vertical-align: middle;\n",
       "    }\n",
       "\n",
       "    .dataframe tbody tr th {\n",
       "        vertical-align: top;\n",
       "    }\n",
       "\n",
       "    .dataframe thead th {\n",
       "        text-align: right;\n",
       "    }\n",
       "</style>\n",
       "<table border=\"1\" class=\"dataframe\">\n",
       "  <thead>\n",
       "    <tr style=\"text-align: right;\">\n",
       "      <th></th>\n",
       "      <th>Full Name</th>\n",
       "      <th>Email</th>\n",
       "      <th>Address</th>\n",
       "      <th>Zip Code</th>\n",
       "      <th>Credit Card Number</th>\n",
       "      <th>Account Balance</th>\n",
       "    </tr>\n",
       "  </thead>\n",
       "  <tbody>\n",
       "    <tr>\n",
       "      <th>0</th>\n",
       "      <td>Elwanda White</td>\n",
       "      <td>alyre2036@live.com</td>\n",
       "      <td>352 Lakeshore Mall</td>\n",
       "      <td>9236</td>\n",
       "      <td>5327 0855 9720 7055</td>\n",
       "      <td>84.33</td>\n",
       "    </tr>\n",
       "    <tr>\n",
       "      <th>1</th>\n",
       "      <td>Lyndon Elliott</td>\n",
       "      <td>arrowy1873@outlook.com</td>\n",
       "      <td>1234 Avery Plaza</td>\n",
       "      <td>1330</td>\n",
       "      <td>3717 498777 19636</td>\n",
       "      <td>879.95</td>\n",
       "    </tr>\n",
       "    <tr>\n",
       "      <th>2</th>\n",
       "      <td>Daisey Sellers</td>\n",
       "      <td>toucan2024@outlook.com</td>\n",
       "      <td>469 Elwood Street</td>\n",
       "      <td>7631</td>\n",
       "      <td>3758 579477 35734</td>\n",
       "      <td>907.58</td>\n",
       "    </tr>\n",
       "    <tr>\n",
       "      <th>3</th>\n",
       "      <td>Issac Reeves</td>\n",
       "      <td>asarin1958@gmail.com</td>\n",
       "      <td>565 Phelps Field</td>\n",
       "      <td>81168</td>\n",
       "      <td>4400 0380 4162 1622</td>\n",
       "      <td>545.88</td>\n",
       "    </tr>\n",
       "    <tr>\n",
       "      <th>4</th>\n",
       "      <td>Bradford Kinney</td>\n",
       "      <td>mibound1801@yandex.com</td>\n",
       "      <td>853 Mission Rock Freeway</td>\n",
       "      <td>41721</td>\n",
       "      <td>3712 263405 60178</td>\n",
       "      <td>517.49</td>\n",
       "    </tr>\n",
       "  </tbody>\n",
       "</table>\n",
       "</div>"
      ],
      "text/plain": [
       "         Full Name                   Email                   Address  \\\n",
       "0    Elwanda White      alyre2036@live.com        352 Lakeshore Mall   \n",
       "1   Lyndon Elliott  arrowy1873@outlook.com          1234 Avery Plaza   \n",
       "2   Daisey Sellers  toucan2024@outlook.com         469 Elwood Street   \n",
       "3     Issac Reeves    asarin1958@gmail.com          565 Phelps Field   \n",
       "4  Bradford Kinney  mibound1801@yandex.com  853 Mission Rock Freeway   \n",
       "\n",
       "   Zip Code   Credit Card Number  Account Balance  \n",
       "0      9236  5327 0855 9720 7055            84.33  \n",
       "1      1330    3717 498777 19636           879.95  \n",
       "2      7631    3758 579477 35734           907.58  \n",
       "3     81168  4400 0380 4162 1622           545.88  \n",
       "4     41721    3712 263405 60178           517.49  "
      ]
     },
     "execution_count": 24,
     "metadata": {},
     "output_type": "execute_result"
    }
   ],
   "source": [
    "# Rewrite the column names\n",
    "columns = [\"Full Name\", \"Email\", \"Address\", \"Zip Code\", \"Credit Card Number\", \"Account Balance\"]\n",
    "sales_data.columns = columns\n",
    "sales_data.head()"
   ]
  },
  {
   "cell_type": "markdown",
   "id": "9316f1af",
   "metadata": {
    "jp-MarkdownHeadingCollapsed": true,
    "tags": []
   },
   "source": [
    "#### iii. Rename Columns"
   ]
  },
  {
   "cell_type": "code",
   "execution_count": 25,
   "id": "e63eb17d",
   "metadata": {},
   "outputs": [
    {
     "data": {
      "text/html": [
       "<div>\n",
       "<style scoped>\n",
       "    .dataframe tbody tr th:only-of-type {\n",
       "        vertical-align: middle;\n",
       "    }\n",
       "\n",
       "    .dataframe tbody tr th {\n",
       "        vertical-align: top;\n",
       "    }\n",
       "\n",
       "    .dataframe thead th {\n",
       "        text-align: right;\n",
       "    }\n",
       "</style>\n",
       "<table border=\"1\" class=\"dataframe\">\n",
       "  <thead>\n",
       "    <tr style=\"text-align: right;\">\n",
       "      <th></th>\n",
       "      <th>full_name</th>\n",
       "      <th>Email</th>\n",
       "      <th>Address</th>\n",
       "      <th>Zip Code</th>\n",
       "      <th>credit_card_number</th>\n",
       "      <th>Account Balance</th>\n",
       "    </tr>\n",
       "  </thead>\n",
       "  <tbody>\n",
       "    <tr>\n",
       "      <th>0</th>\n",
       "      <td>Elwanda White</td>\n",
       "      <td>alyre2036@live.com</td>\n",
       "      <td>352 Lakeshore Mall</td>\n",
       "      <td>9236</td>\n",
       "      <td>5327 0855 9720 7055</td>\n",
       "      <td>84.33</td>\n",
       "    </tr>\n",
       "    <tr>\n",
       "      <th>1</th>\n",
       "      <td>Lyndon Elliott</td>\n",
       "      <td>arrowy1873@outlook.com</td>\n",
       "      <td>1234 Avery Plaza</td>\n",
       "      <td>1330</td>\n",
       "      <td>3717 498777 19636</td>\n",
       "      <td>879.95</td>\n",
       "    </tr>\n",
       "    <tr>\n",
       "      <th>2</th>\n",
       "      <td>Daisey Sellers</td>\n",
       "      <td>toucan2024@outlook.com</td>\n",
       "      <td>469 Elwood Street</td>\n",
       "      <td>7631</td>\n",
       "      <td>3758 579477 35734</td>\n",
       "      <td>907.58</td>\n",
       "    </tr>\n",
       "    <tr>\n",
       "      <th>3</th>\n",
       "      <td>Issac Reeves</td>\n",
       "      <td>asarin1958@gmail.com</td>\n",
       "      <td>565 Phelps Field</td>\n",
       "      <td>81168</td>\n",
       "      <td>4400 0380 4162 1622</td>\n",
       "      <td>545.88</td>\n",
       "    </tr>\n",
       "    <tr>\n",
       "      <th>4</th>\n",
       "      <td>Bradford Kinney</td>\n",
       "      <td>mibound1801@yandex.com</td>\n",
       "      <td>853 Mission Rock Freeway</td>\n",
       "      <td>41721</td>\n",
       "      <td>3712 263405 60178</td>\n",
       "      <td>517.49</td>\n",
       "    </tr>\n",
       "  </tbody>\n",
       "</table>\n",
       "</div>"
      ],
      "text/plain": [
       "         full_name                   Email                   Address  \\\n",
       "0    Elwanda White      alyre2036@live.com        352 Lakeshore Mall   \n",
       "1   Lyndon Elliott  arrowy1873@outlook.com          1234 Avery Plaza   \n",
       "2   Daisey Sellers  toucan2024@outlook.com         469 Elwood Street   \n",
       "3     Issac Reeves    asarin1958@gmail.com          565 Phelps Field   \n",
       "4  Bradford Kinney  mibound1801@yandex.com  853 Mission Rock Freeway   \n",
       "\n",
       "   Zip Code   credit_card_number  Account Balance  \n",
       "0      9236  5327 0855 9720 7055            84.33  \n",
       "1      1330    3717 498777 19636           879.95  \n",
       "2      7631    3758 579477 35734           907.58  \n",
       "3     81168  4400 0380 4162 1622           545.88  \n",
       "4     41721    3712 263405 60178           517.49  "
      ]
     },
     "execution_count": 25,
     "metadata": {},
     "output_type": "execute_result"
    }
   ],
   "source": [
    "sales_data = sales_data.rename(columns={\n",
    "    \"Full Name\": \"full_name\",\n",
    "    \"Credit Card Number\": \"credit_card_number\"\n",
    "})\n",
    "\n",
    "sales_data.head()"
   ]
  },
  {
   "cell_type": "markdown",
   "id": "27b60672",
   "metadata": {
    "jp-MarkdownHeadingCollapsed": true,
    "tags": []
   },
   "source": [
    "#### iv. Reorder Columns"
   ]
  },
  {
   "cell_type": "code",
   "execution_count": 26,
   "id": "1bddfcc1",
   "metadata": {},
   "outputs": [
    {
     "data": {
      "text/html": [
       "<div>\n",
       "<style scoped>\n",
       "    .dataframe tbody tr th:only-of-type {\n",
       "        vertical-align: middle;\n",
       "    }\n",
       "\n",
       "    .dataframe tbody tr th {\n",
       "        vertical-align: top;\n",
       "    }\n",
       "\n",
       "    .dataframe thead th {\n",
       "        text-align: right;\n",
       "    }\n",
       "</style>\n",
       "<table border=\"1\" class=\"dataframe\">\n",
       "  <thead>\n",
       "    <tr style=\"text-align: right;\">\n",
       "      <th></th>\n",
       "      <th>credit_card_number</th>\n",
       "      <th>Account Balance</th>\n",
       "      <th>full_name</th>\n",
       "      <th>Email</th>\n",
       "      <th>Address</th>\n",
       "      <th>Zip Code</th>\n",
       "    </tr>\n",
       "  </thead>\n",
       "  <tbody>\n",
       "    <tr>\n",
       "      <th>0</th>\n",
       "      <td>5327 0855 9720 7055</td>\n",
       "      <td>84.33</td>\n",
       "      <td>Elwanda White</td>\n",
       "      <td>alyre2036@live.com</td>\n",
       "      <td>352 Lakeshore Mall</td>\n",
       "      <td>9236</td>\n",
       "    </tr>\n",
       "    <tr>\n",
       "      <th>1</th>\n",
       "      <td>3717 498777 19636</td>\n",
       "      <td>879.95</td>\n",
       "      <td>Lyndon Elliott</td>\n",
       "      <td>arrowy1873@outlook.com</td>\n",
       "      <td>1234 Avery Plaza</td>\n",
       "      <td>1330</td>\n",
       "    </tr>\n",
       "    <tr>\n",
       "      <th>2</th>\n",
       "      <td>3758 579477 35734</td>\n",
       "      <td>907.58</td>\n",
       "      <td>Daisey Sellers</td>\n",
       "      <td>toucan2024@outlook.com</td>\n",
       "      <td>469 Elwood Street</td>\n",
       "      <td>7631</td>\n",
       "    </tr>\n",
       "    <tr>\n",
       "      <th>3</th>\n",
       "      <td>4400 0380 4162 1622</td>\n",
       "      <td>545.88</td>\n",
       "      <td>Issac Reeves</td>\n",
       "      <td>asarin1958@gmail.com</td>\n",
       "      <td>565 Phelps Field</td>\n",
       "      <td>81168</td>\n",
       "    </tr>\n",
       "    <tr>\n",
       "      <th>4</th>\n",
       "      <td>3712 263405 60178</td>\n",
       "      <td>517.49</td>\n",
       "      <td>Bradford Kinney</td>\n",
       "      <td>mibound1801@yandex.com</td>\n",
       "      <td>853 Mission Rock Freeway</td>\n",
       "      <td>41721</td>\n",
       "    </tr>\n",
       "  </tbody>\n",
       "</table>\n",
       "</div>"
      ],
      "text/plain": [
       "    credit_card_number  Account Balance        full_name  \\\n",
       "0  5327 0855 9720 7055            84.33    Elwanda White   \n",
       "1    3717 498777 19636           879.95   Lyndon Elliott   \n",
       "2    3758 579477 35734           907.58   Daisey Sellers   \n",
       "3  4400 0380 4162 1622           545.88     Issac Reeves   \n",
       "4    3712 263405 60178           517.49  Bradford Kinney   \n",
       "\n",
       "                    Email                   Address  Zip Code  \n",
       "0      alyre2036@live.com        352 Lakeshore Mall      9236  \n",
       "1  arrowy1873@outlook.com          1234 Avery Plaza      1330  \n",
       "2  toucan2024@outlook.com         469 Elwood Street      7631  \n",
       "3    asarin1958@gmail.com          565 Phelps Field     81168  \n",
       "4  mibound1801@yandex.com  853 Mission Rock Freeway     41721  "
      ]
     },
     "execution_count": 26,
     "metadata": {},
     "output_type": "execute_result"
    }
   ],
   "source": [
    "sales_data = sales_data[['credit_card_number', 'Account Balance', 'full_name', 'Email', 'Address', 'Zip Code']]\n",
    "sales_data.head()"
   ]
  },
  {
   "cell_type": "markdown",
   "id": "4b4f0441",
   "metadata": {
    "jp-MarkdownHeadingCollapsed": true,
    "tags": []
   },
   "source": [
    "#### v. Create Columns"
   ]
  },
  {
   "cell_type": "code",
   "execution_count": 27,
   "id": "61f2b77f",
   "metadata": {},
   "outputs": [
    {
     "data": {
      "text/html": [
       "<div>\n",
       "<style scoped>\n",
       "    .dataframe tbody tr th:only-of-type {\n",
       "        vertical-align: middle;\n",
       "    }\n",
       "\n",
       "    .dataframe tbody tr th {\n",
       "        vertical-align: top;\n",
       "    }\n",
       "\n",
       "    .dataframe thead th {\n",
       "        text-align: right;\n",
       "    }\n",
       "</style>\n",
       "<table border=\"1\" class=\"dataframe\">\n",
       "  <thead>\n",
       "    <tr style=\"text-align: right;\">\n",
       "      <th></th>\n",
       "      <th>credit_card_number</th>\n",
       "      <th>Account Balance</th>\n",
       "      <th>full_name</th>\n",
       "      <th>Email</th>\n",
       "      <th>Address</th>\n",
       "      <th>Zip Code</th>\n",
       "      <th>Balance (1k)</th>\n",
       "    </tr>\n",
       "  </thead>\n",
       "  <tbody>\n",
       "    <tr>\n",
       "      <th>0</th>\n",
       "      <td>5327 0855 9720 7055</td>\n",
       "      <td>84.33</td>\n",
       "      <td>Elwanda White</td>\n",
       "      <td>alyre2036@live.com</td>\n",
       "      <td>352 Lakeshore Mall</td>\n",
       "      <td>9236</td>\n",
       "      <td>0.08433</td>\n",
       "    </tr>\n",
       "    <tr>\n",
       "      <th>1</th>\n",
       "      <td>3717 498777 19636</td>\n",
       "      <td>879.95</td>\n",
       "      <td>Lyndon Elliott</td>\n",
       "      <td>arrowy1873@outlook.com</td>\n",
       "      <td>1234 Avery Plaza</td>\n",
       "      <td>1330</td>\n",
       "      <td>0.87995</td>\n",
       "    </tr>\n",
       "    <tr>\n",
       "      <th>2</th>\n",
       "      <td>3758 579477 35734</td>\n",
       "      <td>907.58</td>\n",
       "      <td>Daisey Sellers</td>\n",
       "      <td>toucan2024@outlook.com</td>\n",
       "      <td>469 Elwood Street</td>\n",
       "      <td>7631</td>\n",
       "      <td>0.90758</td>\n",
       "    </tr>\n",
       "    <tr>\n",
       "      <th>3</th>\n",
       "      <td>4400 0380 4162 1622</td>\n",
       "      <td>545.88</td>\n",
       "      <td>Issac Reeves</td>\n",
       "      <td>asarin1958@gmail.com</td>\n",
       "      <td>565 Phelps Field</td>\n",
       "      <td>81168</td>\n",
       "      <td>0.54588</td>\n",
       "    </tr>\n",
       "    <tr>\n",
       "      <th>4</th>\n",
       "      <td>3712 263405 60178</td>\n",
       "      <td>517.49</td>\n",
       "      <td>Bradford Kinney</td>\n",
       "      <td>mibound1801@yandex.com</td>\n",
       "      <td>853 Mission Rock Freeway</td>\n",
       "      <td>41721</td>\n",
       "      <td>0.51749</td>\n",
       "    </tr>\n",
       "  </tbody>\n",
       "</table>\n",
       "</div>"
      ],
      "text/plain": [
       "    credit_card_number  Account Balance        full_name  \\\n",
       "0  5327 0855 9720 7055            84.33    Elwanda White   \n",
       "1    3717 498777 19636           879.95   Lyndon Elliott   \n",
       "2    3758 579477 35734           907.58   Daisey Sellers   \n",
       "3  4400 0380 4162 1622           545.88     Issac Reeves   \n",
       "4    3712 263405 60178           517.49  Bradford Kinney   \n",
       "\n",
       "                    Email                   Address  Zip Code  Balance (1k)  \n",
       "0      alyre2036@live.com        352 Lakeshore Mall      9236       0.08433  \n",
       "1  arrowy1873@outlook.com          1234 Avery Plaza      1330       0.87995  \n",
       "2  toucan2024@outlook.com         469 Elwood Street      7631       0.90758  \n",
       "3    asarin1958@gmail.com          565 Phelps Field     81168       0.54588  \n",
       "4  mibound1801@yandex.com  853 Mission Rock Freeway     41721       0.51749  "
      ]
     },
     "execution_count": 27,
     "metadata": {},
     "output_type": "execute_result"
    }
   ],
   "source": [
    "sales_data[\"Balance (1k)\"] = sales_data[\"Account Balance\"] / 1000\n",
    "sales_data.head()"
   ]
  },
  {
   "cell_type": "markdown",
   "id": "9c98f18b",
   "metadata": {
    "jp-MarkdownHeadingCollapsed": true,
    "tags": []
   },
   "source": [
    "#### vi. Split Columns"
   ]
  },
  {
   "cell_type": "code",
   "execution_count": 28,
   "id": "a3eced86",
   "metadata": {},
   "outputs": [
    {
     "data": {
      "text/html": [
       "<div>\n",
       "<style scoped>\n",
       "    .dataframe tbody tr th:only-of-type {\n",
       "        vertical-align: middle;\n",
       "    }\n",
       "\n",
       "    .dataframe tbody tr th {\n",
       "        vertical-align: top;\n",
       "    }\n",
       "\n",
       "    .dataframe thead th {\n",
       "        text-align: right;\n",
       "    }\n",
       "</style>\n",
       "<table border=\"1\" class=\"dataframe\">\n",
       "  <thead>\n",
       "    <tr style=\"text-align: right;\">\n",
       "      <th></th>\n",
       "      <th>0</th>\n",
       "      <th>1</th>\n",
       "    </tr>\n",
       "  </thead>\n",
       "  <tbody>\n",
       "    <tr>\n",
       "      <th>0</th>\n",
       "      <td>Elwanda</td>\n",
       "      <td>White</td>\n",
       "    </tr>\n",
       "    <tr>\n",
       "      <th>1</th>\n",
       "      <td>Lyndon</td>\n",
       "      <td>Elliott</td>\n",
       "    </tr>\n",
       "    <tr>\n",
       "      <th>2</th>\n",
       "      <td>Daisey</td>\n",
       "      <td>Sellers</td>\n",
       "    </tr>\n",
       "    <tr>\n",
       "      <th>3</th>\n",
       "      <td>Issac</td>\n",
       "      <td>Reeves</td>\n",
       "    </tr>\n",
       "    <tr>\n",
       "      <th>4</th>\n",
       "      <td>Bradford</td>\n",
       "      <td>Kinney</td>\n",
       "    </tr>\n",
       "  </tbody>\n",
       "</table>\n",
       "</div>"
      ],
      "text/plain": [
       "          0        1\n",
       "0   Elwanda    White\n",
       "1    Lyndon  Elliott\n",
       "2    Daisey  Sellers\n",
       "3     Issac   Reeves\n",
       "4  Bradford   Kinney"
      ]
     },
     "execution_count": 28,
     "metadata": {},
     "output_type": "execute_result"
    }
   ],
   "source": [
    "names = sales_data[\"full_name\"].str.split(\" \", expand=True)\n",
    "names.head()"
   ]
  },
  {
   "cell_type": "code",
   "execution_count": 29,
   "id": "3333dccc",
   "metadata": {},
   "outputs": [
    {
     "data": {
      "text/html": [
       "<div>\n",
       "<style scoped>\n",
       "    .dataframe tbody tr th:only-of-type {\n",
       "        vertical-align: middle;\n",
       "    }\n",
       "\n",
       "    .dataframe tbody tr th {\n",
       "        vertical-align: top;\n",
       "    }\n",
       "\n",
       "    .dataframe thead th {\n",
       "        text-align: right;\n",
       "    }\n",
       "</style>\n",
       "<table border=\"1\" class=\"dataframe\">\n",
       "  <thead>\n",
       "    <tr style=\"text-align: right;\">\n",
       "      <th></th>\n",
       "      <th>credit_card_number</th>\n",
       "      <th>Account Balance</th>\n",
       "      <th>full_name</th>\n",
       "      <th>Email</th>\n",
       "      <th>Address</th>\n",
       "      <th>Zip Code</th>\n",
       "      <th>Balance (1k)</th>\n",
       "      <th>first_name</th>\n",
       "      <th>last_name</th>\n",
       "    </tr>\n",
       "  </thead>\n",
       "  <tbody>\n",
       "    <tr>\n",
       "      <th>0</th>\n",
       "      <td>5327 0855 9720 7055</td>\n",
       "      <td>84.33</td>\n",
       "      <td>Elwanda White</td>\n",
       "      <td>alyre2036@live.com</td>\n",
       "      <td>352 Lakeshore Mall</td>\n",
       "      <td>9236</td>\n",
       "      <td>0.08433</td>\n",
       "      <td>Elwanda</td>\n",
       "      <td>White</td>\n",
       "    </tr>\n",
       "    <tr>\n",
       "      <th>1</th>\n",
       "      <td>3717 498777 19636</td>\n",
       "      <td>879.95</td>\n",
       "      <td>Lyndon Elliott</td>\n",
       "      <td>arrowy1873@outlook.com</td>\n",
       "      <td>1234 Avery Plaza</td>\n",
       "      <td>1330</td>\n",
       "      <td>0.87995</td>\n",
       "      <td>Lyndon</td>\n",
       "      <td>Elliott</td>\n",
       "    </tr>\n",
       "    <tr>\n",
       "      <th>2</th>\n",
       "      <td>3758 579477 35734</td>\n",
       "      <td>907.58</td>\n",
       "      <td>Daisey Sellers</td>\n",
       "      <td>toucan2024@outlook.com</td>\n",
       "      <td>469 Elwood Street</td>\n",
       "      <td>7631</td>\n",
       "      <td>0.90758</td>\n",
       "      <td>Daisey</td>\n",
       "      <td>Sellers</td>\n",
       "    </tr>\n",
       "    <tr>\n",
       "      <th>3</th>\n",
       "      <td>4400 0380 4162 1622</td>\n",
       "      <td>545.88</td>\n",
       "      <td>Issac Reeves</td>\n",
       "      <td>asarin1958@gmail.com</td>\n",
       "      <td>565 Phelps Field</td>\n",
       "      <td>81168</td>\n",
       "      <td>0.54588</td>\n",
       "      <td>Issac</td>\n",
       "      <td>Reeves</td>\n",
       "    </tr>\n",
       "    <tr>\n",
       "      <th>4</th>\n",
       "      <td>3712 263405 60178</td>\n",
       "      <td>517.49</td>\n",
       "      <td>Bradford Kinney</td>\n",
       "      <td>mibound1801@yandex.com</td>\n",
       "      <td>853 Mission Rock Freeway</td>\n",
       "      <td>41721</td>\n",
       "      <td>0.51749</td>\n",
       "      <td>Bradford</td>\n",
       "      <td>Kinney</td>\n",
       "    </tr>\n",
       "  </tbody>\n",
       "</table>\n",
       "</div>"
      ],
      "text/plain": [
       "    credit_card_number  Account Balance        full_name  \\\n",
       "0  5327 0855 9720 7055            84.33    Elwanda White   \n",
       "1    3717 498777 19636           879.95   Lyndon Elliott   \n",
       "2    3758 579477 35734           907.58   Daisey Sellers   \n",
       "3  4400 0380 4162 1622           545.88     Issac Reeves   \n",
       "4    3712 263405 60178           517.49  Bradford Kinney   \n",
       "\n",
       "                    Email                   Address  Zip Code  Balance (1k)  \\\n",
       "0      alyre2036@live.com        352 Lakeshore Mall      9236       0.08433   \n",
       "1  arrowy1873@outlook.com          1234 Avery Plaza      1330       0.87995   \n",
       "2  toucan2024@outlook.com         469 Elwood Street      7631       0.90758   \n",
       "3    asarin1958@gmail.com          565 Phelps Field     81168       0.54588   \n",
       "4  mibound1801@yandex.com  853 Mission Rock Freeway     41721       0.51749   \n",
       "\n",
       "  first_name last_name  \n",
       "0    Elwanda     White  \n",
       "1     Lyndon   Elliott  \n",
       "2     Daisey   Sellers  \n",
       "3      Issac    Reeves  \n",
       "4   Bradford    Kinney  "
      ]
     },
     "execution_count": 29,
     "metadata": {},
     "output_type": "execute_result"
    }
   ],
   "source": [
    "sales_data[\"first_name\"] = names[0]\n",
    "sales_data[\"last_name\"] = names[1]\n",
    "sales_data.head()"
   ]
  },
  {
   "cell_type": "markdown",
   "id": "bb12e9a1",
   "metadata": {
    "jp-MarkdownHeadingCollapsed": true,
    "tags": []
   },
   "source": [
    "#### vii. Delete Columns"
   ]
  },
  {
   "cell_type": "code",
   "execution_count": 30,
   "id": "745b39f6",
   "metadata": {},
   "outputs": [
    {
     "data": {
      "text/html": [
       "<div>\n",
       "<style scoped>\n",
       "    .dataframe tbody tr th:only-of-type {\n",
       "        vertical-align: middle;\n",
       "    }\n",
       "\n",
       "    .dataframe tbody tr th {\n",
       "        vertical-align: top;\n",
       "    }\n",
       "\n",
       "    .dataframe thead th {\n",
       "        text-align: right;\n",
       "    }\n",
       "</style>\n",
       "<table border=\"1\" class=\"dataframe\">\n",
       "  <thead>\n",
       "    <tr style=\"text-align: right;\">\n",
       "      <th></th>\n",
       "      <th>credit_card_number</th>\n",
       "      <th>Account Balance</th>\n",
       "      <th>Email</th>\n",
       "      <th>Address</th>\n",
       "      <th>Zip Code</th>\n",
       "      <th>Balance (1k)</th>\n",
       "      <th>first_name</th>\n",
       "      <th>last_name</th>\n",
       "    </tr>\n",
       "  </thead>\n",
       "  <tbody>\n",
       "    <tr>\n",
       "      <th>0</th>\n",
       "      <td>5327 0855 9720 7055</td>\n",
       "      <td>84.33</td>\n",
       "      <td>alyre2036@live.com</td>\n",
       "      <td>352 Lakeshore Mall</td>\n",
       "      <td>9236</td>\n",
       "      <td>0.08433</td>\n",
       "      <td>Elwanda</td>\n",
       "      <td>White</td>\n",
       "    </tr>\n",
       "    <tr>\n",
       "      <th>1</th>\n",
       "      <td>3717 498777 19636</td>\n",
       "      <td>879.95</td>\n",
       "      <td>arrowy1873@outlook.com</td>\n",
       "      <td>1234 Avery Plaza</td>\n",
       "      <td>1330</td>\n",
       "      <td>0.87995</td>\n",
       "      <td>Lyndon</td>\n",
       "      <td>Elliott</td>\n",
       "    </tr>\n",
       "    <tr>\n",
       "      <th>2</th>\n",
       "      <td>3758 579477 35734</td>\n",
       "      <td>907.58</td>\n",
       "      <td>toucan2024@outlook.com</td>\n",
       "      <td>469 Elwood Street</td>\n",
       "      <td>7631</td>\n",
       "      <td>0.90758</td>\n",
       "      <td>Daisey</td>\n",
       "      <td>Sellers</td>\n",
       "    </tr>\n",
       "    <tr>\n",
       "      <th>3</th>\n",
       "      <td>4400 0380 4162 1622</td>\n",
       "      <td>545.88</td>\n",
       "      <td>asarin1958@gmail.com</td>\n",
       "      <td>565 Phelps Field</td>\n",
       "      <td>81168</td>\n",
       "      <td>0.54588</td>\n",
       "      <td>Issac</td>\n",
       "      <td>Reeves</td>\n",
       "    </tr>\n",
       "    <tr>\n",
       "      <th>4</th>\n",
       "      <td>3712 263405 60178</td>\n",
       "      <td>517.49</td>\n",
       "      <td>mibound1801@yandex.com</td>\n",
       "      <td>853 Mission Rock Freeway</td>\n",
       "      <td>41721</td>\n",
       "      <td>0.51749</td>\n",
       "      <td>Bradford</td>\n",
       "      <td>Kinney</td>\n",
       "    </tr>\n",
       "  </tbody>\n",
       "</table>\n",
       "</div>"
      ],
      "text/plain": [
       "    credit_card_number  Account Balance                   Email  \\\n",
       "0  5327 0855 9720 7055            84.33      alyre2036@live.com   \n",
       "1    3717 498777 19636           879.95  arrowy1873@outlook.com   \n",
       "2    3758 579477 35734           907.58  toucan2024@outlook.com   \n",
       "3  4400 0380 4162 1622           545.88    asarin1958@gmail.com   \n",
       "4    3712 263405 60178           517.49  mibound1801@yandex.com   \n",
       "\n",
       "                    Address  Zip Code  Balance (1k) first_name last_name  \n",
       "0        352 Lakeshore Mall      9236       0.08433    Elwanda     White  \n",
       "1          1234 Avery Plaza      1330       0.87995     Lyndon   Elliott  \n",
       "2         469 Elwood Street      7631       0.90758     Daisey   Sellers  \n",
       "3          565 Phelps Field     81168       0.54588      Issac    Reeves  \n",
       "4  853 Mission Rock Freeway     41721       0.51749   Bradford    Kinney  "
      ]
     },
     "execution_count": 30,
     "metadata": {},
     "output_type": "execute_result"
    }
   ],
   "source": [
    "sales_data = sales_data.drop(columns=[\"full_name\"])\n",
    "sales_data.head()"
   ]
  },
  {
   "cell_type": "markdown",
   "id": "f7effad4",
   "metadata": {
    "jp-MarkdownHeadingCollapsed": true,
    "tags": []
   },
   "source": [
    "#### viii. Generate summary statistics"
   ]
  },
  {
   "cell_type": "code",
   "execution_count": 31,
   "id": "2bae04e2",
   "metadata": {},
   "outputs": [
    {
     "data": {
      "text/html": [
       "<div>\n",
       "<style scoped>\n",
       "    .dataframe tbody tr th:only-of-type {\n",
       "        vertical-align: middle;\n",
       "    }\n",
       "\n",
       "    .dataframe tbody tr th {\n",
       "        vertical-align: top;\n",
       "    }\n",
       "\n",
       "    .dataframe thead th {\n",
       "        text-align: right;\n",
       "    }\n",
       "</style>\n",
       "<table border=\"1\" class=\"dataframe\">\n",
       "  <thead>\n",
       "    <tr style=\"text-align: right;\">\n",
       "      <th></th>\n",
       "      <th>Account Balance</th>\n",
       "      <th>Zip Code</th>\n",
       "      <th>Balance (1k)</th>\n",
       "    </tr>\n",
       "  </thead>\n",
       "  <tbody>\n",
       "    <tr>\n",
       "      <th>count</th>\n",
       "      <td>100.000000</td>\n",
       "      <td>100.000000</td>\n",
       "      <td>100.000000</td>\n",
       "    </tr>\n",
       "    <tr>\n",
       "      <th>mean</th>\n",
       "      <td>533.007200</td>\n",
       "      <td>40952.160000</td>\n",
       "      <td>0.533007</td>\n",
       "    </tr>\n",
       "    <tr>\n",
       "      <th>std</th>\n",
       "      <td>275.531072</td>\n",
       "      <td>30207.118496</td>\n",
       "      <td>0.275531</td>\n",
       "    </tr>\n",
       "    <tr>\n",
       "      <th>min</th>\n",
       "      <td>29.720000</td>\n",
       "      <td>555.000000</td>\n",
       "      <td>0.029720</td>\n",
       "    </tr>\n",
       "    <tr>\n",
       "      <th>25%</th>\n",
       "      <td>328.507500</td>\n",
       "      <td>11109.750000</td>\n",
       "      <td>0.328508</td>\n",
       "    </tr>\n",
       "    <tr>\n",
       "      <th>50%</th>\n",
       "      <td>536.110000</td>\n",
       "      <td>40033.500000</td>\n",
       "      <td>0.536110</td>\n",
       "    </tr>\n",
       "    <tr>\n",
       "      <th>75%</th>\n",
       "      <td>767.885000</td>\n",
       "      <td>65834.750000</td>\n",
       "      <td>0.767885</td>\n",
       "    </tr>\n",
       "    <tr>\n",
       "      <th>max</th>\n",
       "      <td>998.760000</td>\n",
       "      <td>99877.000000</td>\n",
       "      <td>0.998760</td>\n",
       "    </tr>\n",
       "  </tbody>\n",
       "</table>\n",
       "</div>"
      ],
      "text/plain": [
       "       Account Balance      Zip Code  Balance (1k)\n",
       "count       100.000000    100.000000    100.000000\n",
       "mean        533.007200  40952.160000      0.533007\n",
       "std         275.531072  30207.118496      0.275531\n",
       "min          29.720000    555.000000      0.029720\n",
       "25%         328.507500  11109.750000      0.328508\n",
       "50%         536.110000  40033.500000      0.536110\n",
       "75%         767.885000  65834.750000      0.767885\n",
       "max         998.760000  99877.000000      0.998760"
      ]
     },
     "execution_count": 31,
     "metadata": {},
     "output_type": "execute_result"
    }
   ],
   "source": [
    "sales_data.describe()"
   ]
  },
  {
   "cell_type": "markdown",
   "id": "25392dad",
   "metadata": {
    "jp-MarkdownHeadingCollapsed": true,
    "tags": []
   },
   "source": [
    "### III. Data Cleaning"
   ]
  },
  {
   "cell_type": "markdown",
   "id": "da893f11",
   "metadata": {
    "jp-MarkdownHeadingCollapsed": true,
    "tags": []
   },
   "source": [
    "#### i. Read in CSV and take a sample"
   ]
  },
  {
   "cell_type": "code",
   "execution_count": 32,
   "id": "06362535",
   "metadata": {},
   "outputs": [
    {
     "data": {
      "text/html": [
       "<div>\n",
       "<style scoped>\n",
       "    .dataframe tbody tr th:only-of-type {\n",
       "        vertical-align: middle;\n",
       "    }\n",
       "\n",
       "    .dataframe tbody tr th {\n",
       "        vertical-align: top;\n",
       "    }\n",
       "\n",
       "    .dataframe thead th {\n",
       "        text-align: right;\n",
       "    }\n",
       "</style>\n",
       "<table border=\"1\" class=\"dataframe\">\n",
       "  <thead>\n",
       "    <tr style=\"text-align: right;\">\n",
       "      <th></th>\n",
       "      <th>customer_no</th>\n",
       "      <th>order_total</th>\n",
       "      <th>order_date</th>\n",
       "    </tr>\n",
       "    <tr>\n",
       "      <th>order_no</th>\n",
       "      <th></th>\n",
       "      <th></th>\n",
       "      <th></th>\n",
       "    </tr>\n",
       "  </thead>\n",
       "  <tbody>\n",
       "    <tr>\n",
       "      <th>2356363</th>\n",
       "      <td>2124</td>\n",
       "      <td>258936.12</td>\n",
       "      <td>04-29-2019</td>\n",
       "    </tr>\n",
       "    <tr>\n",
       "      <th>45251825</th>\n",
       "      <td>CJ458565</td>\n",
       "      <td>14.00</td>\n",
       "      <td>04/25/2019</td>\n",
       "    </tr>\n",
       "    <tr>\n",
       "      <th>4465241327</th>\n",
       "      <td>AK45765</td>\n",
       "      <td>$1103.36</td>\n",
       "      <td>04-25-2019</td>\n",
       "    </tr>\n",
       "    <tr>\n",
       "      <th>452519232</th>\n",
       "      <td>NaN</td>\n",
       "      <td>$141.25</td>\n",
       "      <td>01-10-2019</td>\n",
       "    </tr>\n",
       "    <tr>\n",
       "      <th>45235825</th>\n",
       "      <td>TV4663</td>\n",
       "      <td>65.42</td>\n",
       "      <td>04-29-2019</td>\n",
       "    </tr>\n",
       "  </tbody>\n",
       "</table>\n",
       "</div>"
      ],
      "text/plain": [
       "           customer_no order_total  order_date\n",
       "order_no                                      \n",
       "2356363           2124   258936.12  04-29-2019\n",
       "45251825      CJ458565       14.00  04/25/2019\n",
       "4465241327     AK45765    $1103.36  04-25-2019\n",
       "452519232          NaN     $141.25  01-10-2019\n",
       "45235825        TV4663       65.42  04-29-2019"
      ]
     },
     "execution_count": 32,
     "metadata": {},
     "output_type": "execute_result"
    }
   ],
   "source": [
    "# Take sample of data\n",
    "csv_path = Path(\"cheatsheetresources/order_data.csv\")\n",
    "csv_data = pd.read_csv(csv_path, index_col=\"order_no\")\n",
    "csv_data.sample(5)"
   ]
  },
  {
   "cell_type": "markdown",
   "id": "e5cf39ac",
   "metadata": {
    "jp-MarkdownHeadingCollapsed": true,
    "tags": []
   },
   "source": [
    "#### ii. Identify DataFrame Data Types"
   ]
  },
  {
   "cell_type": "code",
   "execution_count": 33,
   "id": "1721869d",
   "metadata": {},
   "outputs": [
    {
     "data": {
      "text/plain": [
       "customer_no    object\n",
       "order_total    object\n",
       "order_date     object\n",
       "dtype: object"
      ]
     },
     "execution_count": 33,
     "metadata": {},
     "output_type": "execute_result"
    }
   ],
   "source": [
    "# Retrieve DataFrame data types\n",
    "csv_data.dtypes"
   ]
  },
  {
   "cell_type": "markdown",
   "id": "7dfa1fc2",
   "metadata": {
    "jp-MarkdownHeadingCollapsed": true,
    "tags": []
   },
   "source": [
    "#### iii. Assess data quality by identifying the number of rows"
   ]
  },
  {
   "cell_type": "code",
   "execution_count": 34,
   "id": "295d1ee3",
   "metadata": {},
   "outputs": [
    {
     "data": {
      "text/plain": [
       "customer_no    7\n",
       "order_total    7\n",
       "order_date     8\n",
       "dtype: int64"
      ]
     },
     "execution_count": 34,
     "metadata": {},
     "output_type": "execute_result"
    }
   ],
   "source": [
    "# Identify Series count\n",
    "csv_data.count()"
   ]
  },
  {
   "cell_type": "markdown",
   "id": "674918c4",
   "metadata": {
    "jp-MarkdownHeadingCollapsed": true,
    "tags": []
   },
   "source": [
    "#### iv. Assess data quality by identifying the number of times a value occurs\n"
   ]
  },
  {
   "cell_type": "code",
   "execution_count": 35,
   "id": "c4560c9a",
   "metadata": {},
   "outputs": [
    {
     "data": {
      "text/plain": [
       "CM458565    2\n",
       "AK45765     2\n",
       "CJ458565    1\n",
       "TV4663      1\n",
       "2124        1\n",
       "Name: customer_no, dtype: int64"
      ]
     },
     "execution_count": 35,
     "metadata": {},
     "output_type": "execute_result"
    }
   ],
   "source": [
    "# Identify frequency values\n",
    "csv_data[\"customer_no\"].value_counts()"
   ]
  },
  {
   "cell_type": "markdown",
   "id": "9537aa64",
   "metadata": {
    "jp-MarkdownHeadingCollapsed": true,
    "tags": []
   },
   "source": [
    "#### v. Assess data quality by checking for nulls"
   ]
  },
  {
   "cell_type": "code",
   "execution_count": 36,
   "id": "297c60dd",
   "metadata": {},
   "outputs": [
    {
     "data": {
      "text/html": [
       "<div>\n",
       "<style scoped>\n",
       "    .dataframe tbody tr th:only-of-type {\n",
       "        vertical-align: middle;\n",
       "    }\n",
       "\n",
       "    .dataframe tbody tr th {\n",
       "        vertical-align: top;\n",
       "    }\n",
       "\n",
       "    .dataframe thead th {\n",
       "        text-align: right;\n",
       "    }\n",
       "</style>\n",
       "<table border=\"1\" class=\"dataframe\">\n",
       "  <thead>\n",
       "    <tr style=\"text-align: right;\">\n",
       "      <th></th>\n",
       "      <th>customer_no</th>\n",
       "      <th>order_total</th>\n",
       "      <th>order_date</th>\n",
       "    </tr>\n",
       "    <tr>\n",
       "      <th>order_no</th>\n",
       "      <th></th>\n",
       "      <th></th>\n",
       "      <th></th>\n",
       "    </tr>\n",
       "  </thead>\n",
       "  <tbody>\n",
       "    <tr>\n",
       "      <th>452517125</th>\n",
       "      <td>False</td>\n",
       "      <td>False</td>\n",
       "      <td>False</td>\n",
       "    </tr>\n",
       "    <tr>\n",
       "      <th>45251825</th>\n",
       "      <td>False</td>\n",
       "      <td>False</td>\n",
       "      <td>False</td>\n",
       "    </tr>\n",
       "    <tr>\n",
       "      <th>4465241327</th>\n",
       "      <td>False</td>\n",
       "      <td>False</td>\n",
       "      <td>False</td>\n",
       "    </tr>\n",
       "    <tr>\n",
       "      <th>4465241327</th>\n",
       "      <td>False</td>\n",
       "      <td>False</td>\n",
       "      <td>False</td>\n",
       "    </tr>\n",
       "    <tr>\n",
       "      <th>413853121</th>\n",
       "      <td>False</td>\n",
       "      <td>True</td>\n",
       "      <td>False</td>\n",
       "    </tr>\n",
       "    <tr>\n",
       "      <th>45235825</th>\n",
       "      <td>False</td>\n",
       "      <td>False</td>\n",
       "      <td>False</td>\n",
       "    </tr>\n",
       "    <tr>\n",
       "      <th>2356363</th>\n",
       "      <td>False</td>\n",
       "      <td>False</td>\n",
       "      <td>False</td>\n",
       "    </tr>\n",
       "    <tr>\n",
       "      <th>452519232</th>\n",
       "      <td>True</td>\n",
       "      <td>False</td>\n",
       "      <td>False</td>\n",
       "    </tr>\n",
       "  </tbody>\n",
       "</table>\n",
       "</div>"
      ],
      "text/plain": [
       "            customer_no  order_total  order_date\n",
       "order_no                                        \n",
       "452517125         False        False       False\n",
       "45251825          False        False       False\n",
       "4465241327        False        False       False\n",
       "4465241327        False        False       False\n",
       "413853121         False         True       False\n",
       "45235825          False        False       False\n",
       "2356363           False        False       False\n",
       "452519232          True        False       False"
      ]
     },
     "execution_count": 36,
     "metadata": {},
     "output_type": "execute_result"
    }
   ],
   "source": [
    "# Check for null values\n",
    "csv_data.isnull()"
   ]
  },
  {
   "cell_type": "markdown",
   "id": "1405a7af",
   "metadata": {
    "jp-MarkdownHeadingCollapsed": true,
    "tags": []
   },
   "source": [
    "#### vi. Assess data quality by determining the percentage of nulls"
   ]
  },
  {
   "cell_type": "code",
   "execution_count": 37,
   "id": "33da986e",
   "metadata": {},
   "outputs": [
    {
     "data": {
      "text/plain": [
       "customer_no    12.5\n",
       "order_total    12.5\n",
       "order_date      0.0\n",
       "dtype: float64"
      ]
     },
     "execution_count": 37,
     "metadata": {},
     "output_type": "execute_result"
    }
   ],
   "source": [
    "# Determine percentage of nulls\n",
    "csv_data.isnull().mean() * 100"
   ]
  },
  {
   "cell_type": "markdown",
   "id": "5b7d0bd3",
   "metadata": {
    "jp-MarkdownHeadingCollapsed": true,
    "tags": []
   },
   "source": [
    "#### vii. Assess data quality by determining the number of nulls"
   ]
  },
  {
   "cell_type": "code",
   "execution_count": 38,
   "id": "c0be4b70",
   "metadata": {},
   "outputs": [
    {
     "data": {
      "text/plain": [
       "customer_no    1\n",
       "order_total    1\n",
       "order_date     0\n",
       "dtype: int64"
      ]
     },
     "execution_count": 38,
     "metadata": {},
     "output_type": "execute_result"
    }
   ],
   "source": [
    "# Determine number of nulls\n",
    "csv_data.isnull().sum()"
   ]
  },
  {
   "cell_type": "markdown",
   "id": "bda7a975",
   "metadata": {
    "tags": []
   },
   "source": [
    "#### viii. Cleanse data by filling nulls with default value (i.e. \"Unknown\", 0, or mean() is common)"
   ]
  },
  {
   "cell_type": "code",
   "execution_count": 39,
   "id": "5a991aec",
   "metadata": {},
   "outputs": [
    {
     "data": {
      "text/html": [
       "<div>\n",
       "<style scoped>\n",
       "    .dataframe tbody tr th:only-of-type {\n",
       "        vertical-align: middle;\n",
       "    }\n",
       "\n",
       "    .dataframe tbody tr th {\n",
       "        vertical-align: top;\n",
       "    }\n",
       "\n",
       "    .dataframe thead th {\n",
       "        text-align: right;\n",
       "    }\n",
       "</style>\n",
       "<table border=\"1\" class=\"dataframe\">\n",
       "  <thead>\n",
       "    <tr style=\"text-align: right;\">\n",
       "      <th></th>\n",
       "      <th>customer_no</th>\n",
       "      <th>order_total</th>\n",
       "      <th>order_date</th>\n",
       "    </tr>\n",
       "    <tr>\n",
       "      <th>order_no</th>\n",
       "      <th></th>\n",
       "      <th></th>\n",
       "      <th></th>\n",
       "    </tr>\n",
       "  </thead>\n",
       "  <tbody>\n",
       "    <tr>\n",
       "      <th>452517125</th>\n",
       "      <td>CM458565</td>\n",
       "      <td>$141.25</td>\n",
       "      <td>01-10-2019</td>\n",
       "    </tr>\n",
       "    <tr>\n",
       "      <th>45251825</th>\n",
       "      <td>CJ458565</td>\n",
       "      <td>14.00</td>\n",
       "      <td>04/25/2019</td>\n",
       "    </tr>\n",
       "    <tr>\n",
       "      <th>4465241327</th>\n",
       "      <td>AK45765</td>\n",
       "      <td>$1103.36</td>\n",
       "      <td>04-25-2019</td>\n",
       "    </tr>\n",
       "    <tr>\n",
       "      <th>4465241327</th>\n",
       "      <td>AK45765</td>\n",
       "      <td>$1103.36</td>\n",
       "      <td>04-25-2019</td>\n",
       "    </tr>\n",
       "    <tr>\n",
       "      <th>413853121</th>\n",
       "      <td>CM458565</td>\n",
       "      <td>NaN</td>\n",
       "      <td>4/24/2019</td>\n",
       "    </tr>\n",
       "    <tr>\n",
       "      <th>45235825</th>\n",
       "      <td>TV4663</td>\n",
       "      <td>65.42</td>\n",
       "      <td>04-29-2019</td>\n",
       "    </tr>\n",
       "    <tr>\n",
       "      <th>2356363</th>\n",
       "      <td>2124</td>\n",
       "      <td>258936.12</td>\n",
       "      <td>04-29-2019</td>\n",
       "    </tr>\n",
       "    <tr>\n",
       "      <th>452519232</th>\n",
       "      <td>Unknown</td>\n",
       "      <td>$141.25</td>\n",
       "      <td>01-10-2019</td>\n",
       "    </tr>\n",
       "  </tbody>\n",
       "</table>\n",
       "</div>"
      ],
      "text/plain": [
       "           customer_no order_total  order_date\n",
       "order_no                                      \n",
       "452517125     CM458565     $141.25  01-10-2019\n",
       "45251825      CJ458565       14.00  04/25/2019\n",
       "4465241327     AK45765    $1103.36  04-25-2019\n",
       "4465241327     AK45765    $1103.36  04-25-2019\n",
       "413853121     CM458565         NaN   4/24/2019\n",
       "45235825        TV4663       65.42  04-29-2019\n",
       "2356363           2124   258936.12  04-29-2019\n",
       "452519232      Unknown     $141.25  01-10-2019"
      ]
     },
     "execution_count": 39,
     "metadata": {},
     "output_type": "execute_result"
    }
   ],
   "source": [
    "# Cleanse nulls from DataFrame by filling na\n",
    "csv_data[\"customer_no\"] = csv_data[\"customer_no\"].fillna(\"Unknown\")\n",
    "csv_data"
   ]
  },
  {
   "cell_type": "markdown",
   "id": "75908865",
   "metadata": {
    "jp-MarkdownHeadingCollapsed": true,
    "tags": []
   },
   "source": [
    "#### ix. Cleanse data by dropping nulls"
   ]
  },
  {
   "cell_type": "code",
   "execution_count": 40,
   "id": "88fda4af",
   "metadata": {},
   "outputs": [
    {
     "data": {
      "text/html": [
       "<div>\n",
       "<style scoped>\n",
       "    .dataframe tbody tr th:only-of-type {\n",
       "        vertical-align: middle;\n",
       "    }\n",
       "\n",
       "    .dataframe tbody tr th {\n",
       "        vertical-align: top;\n",
       "    }\n",
       "\n",
       "    .dataframe thead th {\n",
       "        text-align: right;\n",
       "    }\n",
       "</style>\n",
       "<table border=\"1\" class=\"dataframe\">\n",
       "  <thead>\n",
       "    <tr style=\"text-align: right;\">\n",
       "      <th></th>\n",
       "      <th>customer_no</th>\n",
       "      <th>order_total</th>\n",
       "      <th>order_date</th>\n",
       "    </tr>\n",
       "    <tr>\n",
       "      <th>order_no</th>\n",
       "      <th></th>\n",
       "      <th></th>\n",
       "      <th></th>\n",
       "    </tr>\n",
       "  </thead>\n",
       "  <tbody>\n",
       "    <tr>\n",
       "      <th>452517125</th>\n",
       "      <td>CM458565</td>\n",
       "      <td>$141.25</td>\n",
       "      <td>01-10-2019</td>\n",
       "    </tr>\n",
       "    <tr>\n",
       "      <th>45251825</th>\n",
       "      <td>CJ458565</td>\n",
       "      <td>14.00</td>\n",
       "      <td>04/25/2019</td>\n",
       "    </tr>\n",
       "    <tr>\n",
       "      <th>4465241327</th>\n",
       "      <td>AK45765</td>\n",
       "      <td>$1103.36</td>\n",
       "      <td>04-25-2019</td>\n",
       "    </tr>\n",
       "    <tr>\n",
       "      <th>4465241327</th>\n",
       "      <td>AK45765</td>\n",
       "      <td>$1103.36</td>\n",
       "      <td>04-25-2019</td>\n",
       "    </tr>\n",
       "    <tr>\n",
       "      <th>45235825</th>\n",
       "      <td>TV4663</td>\n",
       "      <td>65.42</td>\n",
       "      <td>04-29-2019</td>\n",
       "    </tr>\n",
       "    <tr>\n",
       "      <th>2356363</th>\n",
       "      <td>2124</td>\n",
       "      <td>258936.12</td>\n",
       "      <td>04-29-2019</td>\n",
       "    </tr>\n",
       "    <tr>\n",
       "      <th>452519232</th>\n",
       "      <td>Unknown</td>\n",
       "      <td>$141.25</td>\n",
       "      <td>01-10-2019</td>\n",
       "    </tr>\n",
       "  </tbody>\n",
       "</table>\n",
       "</div>"
      ],
      "text/plain": [
       "           customer_no order_total  order_date\n",
       "order_no                                      \n",
       "452517125     CM458565     $141.25  01-10-2019\n",
       "45251825      CJ458565       14.00  04/25/2019\n",
       "4465241327     AK45765    $1103.36  04-25-2019\n",
       "4465241327     AK45765    $1103.36  04-25-2019\n",
       "45235825        TV4663       65.42  04-29-2019\n",
       "2356363           2124   258936.12  04-29-2019\n",
       "452519232      Unknown     $141.25  01-10-2019"
      ]
     },
     "execution_count": 40,
     "metadata": {},
     "output_type": "execute_result"
    }
   ],
   "source": [
    "# Cleaning nulls from DataFrame by dropping\n",
    "csv_data = csv_data.dropna().copy()\n",
    "csv_data"
   ]
  },
  {
   "cell_type": "markdown",
   "id": "9f9b0cea",
   "metadata": {
    "jp-MarkdownHeadingCollapsed": true,
    "tags": []
   },
   "source": [
    "#### x. Checking number of nulls again"
   ]
  },
  {
   "cell_type": "code",
   "execution_count": 41,
   "id": "92513f29",
   "metadata": {},
   "outputs": [
    {
     "data": {
      "text/plain": [
       "customer_no    0\n",
       "order_total    0\n",
       "order_date     0\n",
       "dtype: int64"
      ]
     },
     "execution_count": 41,
     "metadata": {},
     "output_type": "execute_result"
    }
   ],
   "source": [
    "csv_data.isnull().sum()"
   ]
  },
  {
   "cell_type": "markdown",
   "id": "766f2b5c",
   "metadata": {
    "jp-MarkdownHeadingCollapsed": true,
    "tags": []
   },
   "source": [
    "#### xi. Assess data quality by checking for duplicate rows"
   ]
  },
  {
   "cell_type": "code",
   "execution_count": 42,
   "id": "d912689c",
   "metadata": {},
   "outputs": [
    {
     "data": {
      "text/plain": [
       "order_no\n",
       "452517125     False\n",
       "45251825      False\n",
       "4465241327    False\n",
       "4465241327     True\n",
       "45235825      False\n",
       "2356363       False\n",
       "452519232     False\n",
       "dtype: bool"
      ]
     },
     "execution_count": 42,
     "metadata": {},
     "output_type": "execute_result"
    }
   ],
   "source": [
    "# Check duplicates\n",
    "csv_data.duplicated()"
   ]
  },
  {
   "cell_type": "markdown",
   "id": "2cb10e17",
   "metadata": {
    "jp-MarkdownHeadingCollapsed": true,
    "tags": []
   },
   "source": [
    "#### xii. Assess data quality by checking for duplicate customer_no values"
   ]
  },
  {
   "cell_type": "code",
   "execution_count": 43,
   "id": "b42d75ee",
   "metadata": {},
   "outputs": [
    {
     "data": {
      "text/plain": [
       "order_no\n",
       "452517125     False\n",
       "45251825      False\n",
       "4465241327    False\n",
       "4465241327     True\n",
       "45235825      False\n",
       "2356363       False\n",
       "452519232     False\n",
       "Name: customer_no, dtype: bool"
      ]
     },
     "execution_count": 43,
     "metadata": {},
     "output_type": "execute_result"
    }
   ],
   "source": [
    "# Check duplicates for specific field\n",
    "csv_data[\"customer_no\"].duplicated()"
   ]
  },
  {
   "cell_type": "markdown",
   "id": "e75c4143",
   "metadata": {
    "jp-MarkdownHeadingCollapsed": true,
    "tags": []
   },
   "source": [
    "#### xiii. Cleanse data by dropping duplicates"
   ]
  },
  {
   "cell_type": "code",
   "execution_count": 44,
   "id": "570e1247",
   "metadata": {},
   "outputs": [
    {
     "data": {
      "text/plain": [
       "order_no\n",
       "452517125     False\n",
       "45251825      False\n",
       "4465241327    False\n",
       "45235825      False\n",
       "2356363       False\n",
       "452519232     False\n",
       "Name: customer_no, dtype: bool"
      ]
     },
     "execution_count": 44,
     "metadata": {},
     "output_type": "execute_result"
    }
   ],
   "source": [
    "# Clean duplicates\n",
    "csv_data = csv_data.drop_duplicates().copy()\n",
    "csv_data[\"customer_no\"].duplicated()"
   ]
  },
  {
   "cell_type": "markdown",
   "id": "def1a275",
   "metadata": {
    "jp-MarkdownHeadingCollapsed": true,
    "tags": []
   },
   "source": [
    "#### xiv. Assess data quality by using `head` function to sample data and identify currency symbols"
   ]
  },
  {
   "cell_type": "code",
   "execution_count": 45,
   "id": "2d5ac611",
   "metadata": {},
   "outputs": [
    {
     "data": {
      "text/html": [
       "<div>\n",
       "<style scoped>\n",
       "    .dataframe tbody tr th:only-of-type {\n",
       "        vertical-align: middle;\n",
       "    }\n",
       "\n",
       "    .dataframe tbody tr th {\n",
       "        vertical-align: top;\n",
       "    }\n",
       "\n",
       "    .dataframe thead th {\n",
       "        text-align: right;\n",
       "    }\n",
       "</style>\n",
       "<table border=\"1\" class=\"dataframe\">\n",
       "  <thead>\n",
       "    <tr style=\"text-align: right;\">\n",
       "      <th></th>\n",
       "      <th>customer_no</th>\n",
       "      <th>order_total</th>\n",
       "      <th>order_date</th>\n",
       "    </tr>\n",
       "    <tr>\n",
       "      <th>order_no</th>\n",
       "      <th></th>\n",
       "      <th></th>\n",
       "      <th></th>\n",
       "    </tr>\n",
       "  </thead>\n",
       "  <tbody>\n",
       "    <tr>\n",
       "      <th>452517125</th>\n",
       "      <td>CM458565</td>\n",
       "      <td>$141.25</td>\n",
       "      <td>01-10-2019</td>\n",
       "    </tr>\n",
       "    <tr>\n",
       "      <th>45251825</th>\n",
       "      <td>CJ458565</td>\n",
       "      <td>14.00</td>\n",
       "      <td>04/25/2019</td>\n",
       "    </tr>\n",
       "    <tr>\n",
       "      <th>4465241327</th>\n",
       "      <td>AK45765</td>\n",
       "      <td>$1103.36</td>\n",
       "      <td>04-25-2019</td>\n",
       "    </tr>\n",
       "    <tr>\n",
       "      <th>45235825</th>\n",
       "      <td>TV4663</td>\n",
       "      <td>65.42</td>\n",
       "      <td>04-29-2019</td>\n",
       "    </tr>\n",
       "    <tr>\n",
       "      <th>2356363</th>\n",
       "      <td>2124</td>\n",
       "      <td>258936.12</td>\n",
       "      <td>04-29-2019</td>\n",
       "    </tr>\n",
       "  </tbody>\n",
       "</table>\n",
       "</div>"
      ],
      "text/plain": [
       "           customer_no order_total  order_date\n",
       "order_no                                      \n",
       "452517125     CM458565     $141.25  01-10-2019\n",
       "45251825      CJ458565       14.00  04/25/2019\n",
       "4465241327     AK45765    $1103.36  04-25-2019\n",
       "45235825        TV4663       65.42  04-29-2019\n",
       "2356363           2124   258936.12  04-29-2019"
      ]
     },
     "execution_count": 45,
     "metadata": {},
     "output_type": "execute_result"
    }
   ],
   "source": [
    "# Identify if numeric field with $ symbol\n",
    "csv_data.head()"
   ]
  },
  {
   "cell_type": "markdown",
   "id": "ec4ca1b4",
   "metadata": {
    "jp-MarkdownHeadingCollapsed": true,
    "tags": []
   },
   "source": [
    "#### xv. Cleanse data by replacing currency symbols"
   ]
  },
  {
   "cell_type": "code",
   "execution_count": 46,
   "id": "ec69ef71",
   "metadata": {
    "collapsed": true,
    "jupyter": {
     "outputs_hidden": true
    }
   },
   "outputs": [
    {
     "name": "stderr",
     "output_type": "stream",
     "text": [
      "C:\\Users\\jeffr\\AppData\\Local\\Temp/ipykernel_21536/486034041.py:2: FutureWarning: The default value of regex will change from True to False in a future version. In addition, single character regular expressions will *not* be treated as literal strings when regex=True.\n",
      "  csv_data[\"order_total\"] = csv_data[\"order_total\"].str.replace(\"$\", \"\")\n"
     ]
    },
    {
     "data": {
      "text/plain": [
       "order_no\n",
       "452517125        141.25\n",
       "45251825          14.00\n",
       "4465241327      1103.36\n",
       "45235825          65.42\n",
       "2356363       258936.12\n",
       "452519232        141.25\n",
       "Name: order_total, dtype: object"
      ]
     },
     "execution_count": 46,
     "metadata": {},
     "output_type": "execute_result"
    }
   ],
   "source": [
    "# Clean identified numeric fields with $ symbol\n",
    "csv_data[\"order_total\"] = csv_data[\"order_total\"].str.replace(\"$\", \"\")\n",
    "csv_data[\"order_total\"]"
   ]
  },
  {
   "cell_type": "code",
   "execution_count": null,
   "id": "0402fb75",
   "metadata": {},
   "outputs": [],
   "source": []
  },
  {
   "cell_type": "code",
   "execution_count": 47,
   "id": "6e00a39a",
   "metadata": {
    "collapsed": true,
    "jupyter": {
     "outputs_hidden": true,
     "source_hidden": true
    }
   },
   "outputs": [
    {
     "data": {
      "text/plain": [
       "customer_no    object\n",
       "order_total    object\n",
       "order_date     object\n",
       "dtype: object"
      ]
     },
     "execution_count": 47,
     "metadata": {},
     "output_type": "execute_result"
    }
   ],
   "source": [
    "# Retrieve data types to confirm what needs to be converted\n",
    "csv_data.dtypes"
   ]
  },
  {
   "cell_type": "code",
   "execution_count": 48,
   "id": "92902359",
   "metadata": {
    "jupyter": {
     "source_hidden": true
    }
   },
   "outputs": [],
   "source": [
    "# Convert `order_total` from `object` to `float`\n",
    "csv_data[\"order_total\"] = csv_data[\"order_total\"].astype(\"float\")"
   ]
  },
  {
   "cell_type": "code",
   "execution_count": 49,
   "id": "c6c01b44",
   "metadata": {},
   "outputs": [
    {
     "data": {
      "text/plain": [
       "customer_no     object\n",
       "order_total    float64\n",
       "order_date      object\n",
       "dtype: object"
      ]
     },
     "execution_count": 49,
     "metadata": {},
     "output_type": "execute_result"
    }
   ],
   "source": [
    "# Confirm conversion worked as expected\n",
    "csv_data.dtypes"
   ]
  },
  {
   "cell_type": "markdown",
   "id": "9ef0892e",
   "metadata": {
    "jp-MarkdownHeadingCollapsed": true,
    "tags": []
   },
   "source": [
    "### IV. Indexing `loc` & `iloc`"
   ]
  },
  {
   "cell_type": "markdown",
   "id": "4f73d240",
   "metadata": {
    "jp-MarkdownHeadingCollapsed": true,
    "tags": []
   },
   "source": [
    "#### i. Read CSV in as DataFrame"
   ]
  },
  {
   "cell_type": "code",
   "execution_count": 50,
   "id": "d02aaf10",
   "metadata": {},
   "outputs": [
    {
     "data": {
      "text/html": [
       "<div>\n",
       "<style scoped>\n",
       "    .dataframe tbody tr th:only-of-type {\n",
       "        vertical-align: middle;\n",
       "    }\n",
       "\n",
       "    .dataframe tbody tr th {\n",
       "        vertical-align: top;\n",
       "    }\n",
       "\n",
       "    .dataframe thead th {\n",
       "        text-align: right;\n",
       "    }\n",
       "</style>\n",
       "<table border=\"1\" class=\"dataframe\">\n",
       "  <thead>\n",
       "    <tr style=\"text-align: right;\">\n",
       "      <th></th>\n",
       "      <th>first_name</th>\n",
       "      <th>last_name</th>\n",
       "      <th>gender</th>\n",
       "      <th>age</th>\n",
       "      <th>company_name</th>\n",
       "      <th>address</th>\n",
       "      <th>city</th>\n",
       "      <th>county</th>\n",
       "      <th>postal</th>\n",
       "      <th>phone1</th>\n",
       "      <th>phone2</th>\n",
       "      <th>email</th>\n",
       "      <th>web</th>\n",
       "    </tr>\n",
       "  </thead>\n",
       "  <tbody>\n",
       "    <tr>\n",
       "      <th>0</th>\n",
       "      <td>Aleshia</td>\n",
       "      <td>Tomkiewicz</td>\n",
       "      <td>F</td>\n",
       "      <td>54</td>\n",
       "      <td>Alan D Rosenburg Cpa Pc</td>\n",
       "      <td>14 Taylor St</td>\n",
       "      <td>St. Stephens Ward</td>\n",
       "      <td>Kent</td>\n",
       "      <td>CT2 7PP</td>\n",
       "      <td>01835-703597</td>\n",
       "      <td>01944-369967</td>\n",
       "      <td>atomkiewicz@hotmail.com</td>\n",
       "      <td>http://www.alandrosenburgcpapc.co.uk</td>\n",
       "    </tr>\n",
       "    <tr>\n",
       "      <th>1</th>\n",
       "      <td>Evan</td>\n",
       "      <td>Zigomalas</td>\n",
       "      <td>M</td>\n",
       "      <td>47</td>\n",
       "      <td>Cap Gemini America</td>\n",
       "      <td>5 Binney St</td>\n",
       "      <td>Abbey Ward</td>\n",
       "      <td>Buckinghamshire</td>\n",
       "      <td>HP11 2AX</td>\n",
       "      <td>01937-864715</td>\n",
       "      <td>01714-737668</td>\n",
       "      <td>evan.zigomalas@gmail.com</td>\n",
       "      <td>http://www.capgeminiamerica.co.uk</td>\n",
       "    </tr>\n",
       "    <tr>\n",
       "      <th>2</th>\n",
       "      <td>France</td>\n",
       "      <td>Andrade</td>\n",
       "      <td>M</td>\n",
       "      <td>42</td>\n",
       "      <td>Elliott, John W Esq</td>\n",
       "      <td>8 Moor Place</td>\n",
       "      <td>East Southbourne and Tuckton W</td>\n",
       "      <td>Bournemouth</td>\n",
       "      <td>BH6 3BE</td>\n",
       "      <td>01347-368222</td>\n",
       "      <td>01935-821636</td>\n",
       "      <td>france.andrade@hotmail.com</td>\n",
       "      <td>http://www.elliottjohnwesq.co.uk</td>\n",
       "    </tr>\n",
       "    <tr>\n",
       "      <th>3</th>\n",
       "      <td>Ulysses</td>\n",
       "      <td>Mcwalters</td>\n",
       "      <td>M</td>\n",
       "      <td>45</td>\n",
       "      <td>Mcmahan, Ben L</td>\n",
       "      <td>505 Exeter Rd</td>\n",
       "      <td>Hawerby cum Beesby</td>\n",
       "      <td>Lincolnshire</td>\n",
       "      <td>DN36 5RP</td>\n",
       "      <td>01912-771311</td>\n",
       "      <td>01302-601380</td>\n",
       "      <td>ulysses@hotmail.com</td>\n",
       "      <td>http://www.mcmahanbenl.co.uk</td>\n",
       "    </tr>\n",
       "    <tr>\n",
       "      <th>4</th>\n",
       "      <td>Tyisha</td>\n",
       "      <td>Veness</td>\n",
       "      <td>F</td>\n",
       "      <td>37</td>\n",
       "      <td>Champagne Room</td>\n",
       "      <td>5396 Forth Street</td>\n",
       "      <td>Greets Green and Lyng Ward</td>\n",
       "      <td>West Midlands</td>\n",
       "      <td>B70 9DT</td>\n",
       "      <td>01547-429341</td>\n",
       "      <td>01290-367248</td>\n",
       "      <td>tyisha.veness@hotmail.com</td>\n",
       "      <td>http://www.champagneroom.co.uk</td>\n",
       "    </tr>\n",
       "  </tbody>\n",
       "</table>\n",
       "</div>"
      ],
      "text/plain": [
       "  first_name   last_name gender  age             company_name  \\\n",
       "0    Aleshia  Tomkiewicz      F   54  Alan D Rosenburg Cpa Pc   \n",
       "1       Evan   Zigomalas      M   47       Cap Gemini America   \n",
       "2     France     Andrade      M   42      Elliott, John W Esq   \n",
       "3    Ulysses   Mcwalters      M   45           Mcmahan, Ben L   \n",
       "4     Tyisha      Veness      F   37           Champagne Room   \n",
       "\n",
       "             address                            city           county  \\\n",
       "0       14 Taylor St               St. Stephens Ward             Kent   \n",
       "1        5 Binney St                      Abbey Ward  Buckinghamshire   \n",
       "2       8 Moor Place  East Southbourne and Tuckton W      Bournemouth   \n",
       "3      505 Exeter Rd              Hawerby cum Beesby     Lincolnshire   \n",
       "4  5396 Forth Street      Greets Green and Lyng Ward    West Midlands   \n",
       "\n",
       "     postal        phone1        phone2                       email  \\\n",
       "0   CT2 7PP  01835-703597  01944-369967     atomkiewicz@hotmail.com   \n",
       "1  HP11 2AX  01937-864715  01714-737668    evan.zigomalas@gmail.com   \n",
       "2   BH6 3BE  01347-368222  01935-821636  france.andrade@hotmail.com   \n",
       "3  DN36 5RP  01912-771311  01302-601380         ulysses@hotmail.com   \n",
       "4   B70 9DT  01547-429341  01290-367248   tyisha.veness@hotmail.com   \n",
       "\n",
       "                                    web  \n",
       "0  http://www.alandrosenburgcpapc.co.uk  \n",
       "1     http://www.capgeminiamerica.co.uk  \n",
       "2      http://www.elliottjohnwesq.co.uk  \n",
       "3          http://www.mcmahanbenl.co.uk  \n",
       "4        http://www.champagneroom.co.uk  "
      ]
     },
     "execution_count": 50,
     "metadata": {},
     "output_type": "execute_result"
    }
   ],
   "source": [
    "# Set the file path\n",
    "file_path = Path('cheatsheetresources/people.csv')\n",
    "\n",
    "# Read in the CSV as a DataFrame\n",
    "people_csv = pd.read_csv(file_path)\n",
    "people_csv.head()"
   ]
  },
  {
   "cell_type": "markdown",
   "id": "54a2a852",
   "metadata": {
    "jp-MarkdownHeadingCollapsed": true,
    "tags": []
   },
   "source": [
    "#### ii. View Summary Statistics (Default Numeric) "
   ]
  },
  {
   "cell_type": "code",
   "execution_count": 51,
   "id": "744700cc",
   "metadata": {},
   "outputs": [
    {
     "data": {
      "text/html": [
       "<div>\n",
       "<style scoped>\n",
       "    .dataframe tbody tr th:only-of-type {\n",
       "        vertical-align: middle;\n",
       "    }\n",
       "\n",
       "    .dataframe tbody tr th {\n",
       "        vertical-align: top;\n",
       "    }\n",
       "\n",
       "    .dataframe thead th {\n",
       "        text-align: right;\n",
       "    }\n",
       "</style>\n",
       "<table border=\"1\" class=\"dataframe\">\n",
       "  <thead>\n",
       "    <tr style=\"text-align: right;\">\n",
       "      <th></th>\n",
       "      <th>age</th>\n",
       "    </tr>\n",
       "  </thead>\n",
       "  <tbody>\n",
       "    <tr>\n",
       "      <th>count</th>\n",
       "      <td>500.000000</td>\n",
       "    </tr>\n",
       "    <tr>\n",
       "      <th>mean</th>\n",
       "      <td>42.130000</td>\n",
       "    </tr>\n",
       "    <tr>\n",
       "      <th>std</th>\n",
       "      <td>10.702625</td>\n",
       "    </tr>\n",
       "    <tr>\n",
       "      <th>min</th>\n",
       "      <td>24.000000</td>\n",
       "    </tr>\n",
       "    <tr>\n",
       "      <th>25%</th>\n",
       "      <td>33.000000</td>\n",
       "    </tr>\n",
       "    <tr>\n",
       "      <th>50%</th>\n",
       "      <td>43.000000</td>\n",
       "    </tr>\n",
       "    <tr>\n",
       "      <th>75%</th>\n",
       "      <td>52.000000</td>\n",
       "    </tr>\n",
       "    <tr>\n",
       "      <th>max</th>\n",
       "      <td>60.000000</td>\n",
       "    </tr>\n",
       "  </tbody>\n",
       "</table>\n",
       "</div>"
      ],
      "text/plain": [
       "              age\n",
       "count  500.000000\n",
       "mean    42.130000\n",
       "std     10.702625\n",
       "min     24.000000\n",
       "25%     33.000000\n",
       "50%     43.000000\n",
       "75%     52.000000\n",
       "max     60.000000"
      ]
     },
     "execution_count": 51,
     "metadata": {},
     "output_type": "execute_result"
    }
   ],
   "source": [
    "# View the summary statistics for the DataFrame, the describe() function defaults to only numerical data\n",
    "people_csv.describe()"
   ]
  },
  {
   "cell_type": "markdown",
   "id": "d5f94744",
   "metadata": {
    "jp-MarkdownHeadingCollapsed": true,
    "tags": []
   },
   "source": [
    "#### iii. View Summary Statistics (All Columns)"
   ]
  },
  {
   "cell_type": "code",
   "execution_count": 53,
   "id": "e0ce77ef",
   "metadata": {},
   "outputs": [
    {
     "data": {
      "text/html": [
       "<div>\n",
       "<style scoped>\n",
       "    .dataframe tbody tr th:only-of-type {\n",
       "        vertical-align: middle;\n",
       "    }\n",
       "\n",
       "    .dataframe tbody tr th {\n",
       "        vertical-align: top;\n",
       "    }\n",
       "\n",
       "    .dataframe thead th {\n",
       "        text-align: right;\n",
       "    }\n",
       "</style>\n",
       "<table border=\"1\" class=\"dataframe\">\n",
       "  <thead>\n",
       "    <tr style=\"text-align: right;\">\n",
       "      <th></th>\n",
       "      <th>first_name</th>\n",
       "      <th>last_name</th>\n",
       "      <th>gender</th>\n",
       "      <th>age</th>\n",
       "      <th>company_name</th>\n",
       "      <th>address</th>\n",
       "      <th>city</th>\n",
       "      <th>county</th>\n",
       "      <th>postal</th>\n",
       "      <th>phone1</th>\n",
       "      <th>phone2</th>\n",
       "      <th>email</th>\n",
       "      <th>web</th>\n",
       "    </tr>\n",
       "  </thead>\n",
       "  <tbody>\n",
       "    <tr>\n",
       "      <th>count</th>\n",
       "      <td>500</td>\n",
       "      <td>500</td>\n",
       "      <td>500</td>\n",
       "      <td>500.000000</td>\n",
       "      <td>500</td>\n",
       "      <td>500</td>\n",
       "      <td>500</td>\n",
       "      <td>500</td>\n",
       "      <td>500</td>\n",
       "      <td>500</td>\n",
       "      <td>500</td>\n",
       "      <td>500</td>\n",
       "      <td>500</td>\n",
       "    </tr>\n",
       "    <tr>\n",
       "      <th>unique</th>\n",
       "      <td>479</td>\n",
       "      <td>498</td>\n",
       "      <td>2</td>\n",
       "      <td>NaN</td>\n",
       "      <td>498</td>\n",
       "      <td>500</td>\n",
       "      <td>468</td>\n",
       "      <td>102</td>\n",
       "      <td>500</td>\n",
       "      <td>500</td>\n",
       "      <td>500</td>\n",
       "      <td>500</td>\n",
       "      <td>498</td>\n",
       "    </tr>\n",
       "    <tr>\n",
       "      <th>top</th>\n",
       "      <td>Antonio</td>\n",
       "      <td>Rampy</td>\n",
       "      <td>F</td>\n",
       "      <td>NaN</td>\n",
       "      <td>Martin Morrissey</td>\n",
       "      <td>14 Taylor St</td>\n",
       "      <td>City and Hunslet Ward</td>\n",
       "      <td>Greater London</td>\n",
       "      <td>CT2 7PP</td>\n",
       "      <td>01835-703597</td>\n",
       "      <td>01944-369967</td>\n",
       "      <td>atomkiewicz@hotmail.com</td>\n",
       "      <td>http://www.martinmorrissey.co.uk</td>\n",
       "    </tr>\n",
       "    <tr>\n",
       "      <th>freq</th>\n",
       "      <td>3</td>\n",
       "      <td>2</td>\n",
       "      <td>301</td>\n",
       "      <td>NaN</td>\n",
       "      <td>2</td>\n",
       "      <td>1</td>\n",
       "      <td>3</td>\n",
       "      <td>44</td>\n",
       "      <td>1</td>\n",
       "      <td>1</td>\n",
       "      <td>1</td>\n",
       "      <td>1</td>\n",
       "      <td>2</td>\n",
       "    </tr>\n",
       "    <tr>\n",
       "      <th>mean</th>\n",
       "      <td>NaN</td>\n",
       "      <td>NaN</td>\n",
       "      <td>NaN</td>\n",
       "      <td>42.130000</td>\n",
       "      <td>NaN</td>\n",
       "      <td>NaN</td>\n",
       "      <td>NaN</td>\n",
       "      <td>NaN</td>\n",
       "      <td>NaN</td>\n",
       "      <td>NaN</td>\n",
       "      <td>NaN</td>\n",
       "      <td>NaN</td>\n",
       "      <td>NaN</td>\n",
       "    </tr>\n",
       "    <tr>\n",
       "      <th>std</th>\n",
       "      <td>NaN</td>\n",
       "      <td>NaN</td>\n",
       "      <td>NaN</td>\n",
       "      <td>10.702625</td>\n",
       "      <td>NaN</td>\n",
       "      <td>NaN</td>\n",
       "      <td>NaN</td>\n",
       "      <td>NaN</td>\n",
       "      <td>NaN</td>\n",
       "      <td>NaN</td>\n",
       "      <td>NaN</td>\n",
       "      <td>NaN</td>\n",
       "      <td>NaN</td>\n",
       "    </tr>\n",
       "    <tr>\n",
       "      <th>min</th>\n",
       "      <td>NaN</td>\n",
       "      <td>NaN</td>\n",
       "      <td>NaN</td>\n",
       "      <td>24.000000</td>\n",
       "      <td>NaN</td>\n",
       "      <td>NaN</td>\n",
       "      <td>NaN</td>\n",
       "      <td>NaN</td>\n",
       "      <td>NaN</td>\n",
       "      <td>NaN</td>\n",
       "      <td>NaN</td>\n",
       "      <td>NaN</td>\n",
       "      <td>NaN</td>\n",
       "    </tr>\n",
       "    <tr>\n",
       "      <th>25%</th>\n",
       "      <td>NaN</td>\n",
       "      <td>NaN</td>\n",
       "      <td>NaN</td>\n",
       "      <td>33.000000</td>\n",
       "      <td>NaN</td>\n",
       "      <td>NaN</td>\n",
       "      <td>NaN</td>\n",
       "      <td>NaN</td>\n",
       "      <td>NaN</td>\n",
       "      <td>NaN</td>\n",
       "      <td>NaN</td>\n",
       "      <td>NaN</td>\n",
       "      <td>NaN</td>\n",
       "    </tr>\n",
       "    <tr>\n",
       "      <th>50%</th>\n",
       "      <td>NaN</td>\n",
       "      <td>NaN</td>\n",
       "      <td>NaN</td>\n",
       "      <td>43.000000</td>\n",
       "      <td>NaN</td>\n",
       "      <td>NaN</td>\n",
       "      <td>NaN</td>\n",
       "      <td>NaN</td>\n",
       "      <td>NaN</td>\n",
       "      <td>NaN</td>\n",
       "      <td>NaN</td>\n",
       "      <td>NaN</td>\n",
       "      <td>NaN</td>\n",
       "    </tr>\n",
       "    <tr>\n",
       "      <th>75%</th>\n",
       "      <td>NaN</td>\n",
       "      <td>NaN</td>\n",
       "      <td>NaN</td>\n",
       "      <td>52.000000</td>\n",
       "      <td>NaN</td>\n",
       "      <td>NaN</td>\n",
       "      <td>NaN</td>\n",
       "      <td>NaN</td>\n",
       "      <td>NaN</td>\n",
       "      <td>NaN</td>\n",
       "      <td>NaN</td>\n",
       "      <td>NaN</td>\n",
       "      <td>NaN</td>\n",
       "    </tr>\n",
       "    <tr>\n",
       "      <th>max</th>\n",
       "      <td>NaN</td>\n",
       "      <td>NaN</td>\n",
       "      <td>NaN</td>\n",
       "      <td>60.000000</td>\n",
       "      <td>NaN</td>\n",
       "      <td>NaN</td>\n",
       "      <td>NaN</td>\n",
       "      <td>NaN</td>\n",
       "      <td>NaN</td>\n",
       "      <td>NaN</td>\n",
       "      <td>NaN</td>\n",
       "      <td>NaN</td>\n",
       "      <td>NaN</td>\n",
       "    </tr>\n",
       "  </tbody>\n",
       "</table>\n",
       "</div>"
      ],
      "text/plain": [
       "       first_name last_name gender         age      company_name  \\\n",
       "count         500       500    500  500.000000               500   \n",
       "unique        479       498      2         NaN               498   \n",
       "top       Antonio     Rampy      F         NaN  Martin Morrissey   \n",
       "freq            3         2    301         NaN                 2   \n",
       "mean          NaN       NaN    NaN   42.130000               NaN   \n",
       "std           NaN       NaN    NaN   10.702625               NaN   \n",
       "min           NaN       NaN    NaN   24.000000               NaN   \n",
       "25%           NaN       NaN    NaN   33.000000               NaN   \n",
       "50%           NaN       NaN    NaN   43.000000               NaN   \n",
       "75%           NaN       NaN    NaN   52.000000               NaN   \n",
       "max           NaN       NaN    NaN   60.000000               NaN   \n",
       "\n",
       "             address                   city          county   postal  \\\n",
       "count            500                    500             500      500   \n",
       "unique           500                    468             102      500   \n",
       "top     14 Taylor St  City and Hunslet Ward  Greater London  CT2 7PP   \n",
       "freq               1                      3              44        1   \n",
       "mean             NaN                    NaN             NaN      NaN   \n",
       "std              NaN                    NaN             NaN      NaN   \n",
       "min              NaN                    NaN             NaN      NaN   \n",
       "25%              NaN                    NaN             NaN      NaN   \n",
       "50%              NaN                    NaN             NaN      NaN   \n",
       "75%              NaN                    NaN             NaN      NaN   \n",
       "max              NaN                    NaN             NaN      NaN   \n",
       "\n",
       "              phone1        phone2                    email  \\\n",
       "count            500           500                      500   \n",
       "unique           500           500                      500   \n",
       "top     01835-703597  01944-369967  atomkiewicz@hotmail.com   \n",
       "freq               1             1                        1   \n",
       "mean             NaN           NaN                      NaN   \n",
       "std              NaN           NaN                      NaN   \n",
       "min              NaN           NaN                      NaN   \n",
       "25%              NaN           NaN                      NaN   \n",
       "50%              NaN           NaN                      NaN   \n",
       "75%              NaN           NaN                      NaN   \n",
       "max              NaN           NaN                      NaN   \n",
       "\n",
       "                                     web  \n",
       "count                                500  \n",
       "unique                               498  \n",
       "top     http://www.martinmorrissey.co.uk  \n",
       "freq                                   2  \n",
       "mean                                 NaN  \n",
       "std                                  NaN  \n",
       "min                                  NaN  \n",
       "25%                                  NaN  \n",
       "50%                                  NaN  \n",
       "75%                                  NaN  \n",
       "max                                  NaN  "
      ]
     },
     "execution_count": 53,
     "metadata": {},
     "output_type": "execute_result"
    }
   ],
   "source": [
    "# View the summary statistics for the DataFrame, include all columns\n",
    "people_csv.describe(include='all')"
   ]
  },
  {
   "cell_type": "markdown",
   "id": "afe8752f",
   "metadata": {
    "tags": []
   },
   "source": [
    "#### iv. Index Selection Using `iloc`"
   ]
  },
  {
   "cell_type": "markdown",
   "id": "bb45eddd",
   "metadata": {
    "jp-MarkdownHeadingCollapsed": true,
    "tags": []
   },
   "source": [
    "##### Select the first row of the DataFrame"
   ]
  },
  {
   "cell_type": "code",
   "execution_count": 54,
   "id": "f1fc76c5",
   "metadata": {},
   "outputs": [
    {
     "data": {
      "text/plain": [
       "first_name                                   Aleshia\n",
       "last_name                                 Tomkiewicz\n",
       "gender                                             F\n",
       "age                                               54\n",
       "company_name                 Alan D Rosenburg Cpa Pc\n",
       "address                                 14 Taylor St\n",
       "city                               St. Stephens Ward\n",
       "county                                          Kent\n",
       "postal                                       CT2 7PP\n",
       "phone1                                  01835-703597\n",
       "phone2                                  01944-369967\n",
       "email                        atomkiewicz@hotmail.com\n",
       "web             http://www.alandrosenburgcpapc.co.uk\n",
       "Name: 0, dtype: object"
      ]
     },
     "execution_count": 54,
     "metadata": {},
     "output_type": "execute_result"
    }
   ],
   "source": [
    "people_csv.iloc[0]"
   ]
  },
  {
   "cell_type": "markdown",
   "id": "1ab9da64",
   "metadata": {
    "jp-MarkdownHeadingCollapsed": true,
    "tags": []
   },
   "source": [
    "##### Select the second row of the DataFrame"
   ]
  },
  {
   "cell_type": "code",
   "execution_count": 58,
   "id": "5604e819",
   "metadata": {},
   "outputs": [
    {
     "data": {
      "text/plain": [
       "first_name                                   Evan\n",
       "last_name                               Zigomalas\n",
       "gender                                          M\n",
       "age                                            47\n",
       "company_name                   Cap Gemini America\n",
       "address                               5 Binney St\n",
       "city                                   Abbey Ward\n",
       "county                            Buckinghamshire\n",
       "postal                                   HP11 2AX\n",
       "phone1                               01937-864715\n",
       "phone2                               01714-737668\n",
       "email                    evan.zigomalas@gmail.com\n",
       "web             http://www.capgeminiamerica.co.uk\n",
       "Name: 1, dtype: object"
      ]
     },
     "execution_count": 58,
     "metadata": {},
     "output_type": "execute_result"
    }
   ],
   "source": [
    "people_csv.iloc[1] "
   ]
  },
  {
   "cell_type": "markdown",
   "id": "293b49b1",
   "metadata": {
    "jp-MarkdownHeadingCollapsed": true,
    "tags": []
   },
   "source": [
    "##### Select the first 10 rows of the DataFrame"
   ]
  },
  {
   "cell_type": "code",
   "execution_count": 56,
   "id": "ec016dee",
   "metadata": {},
   "outputs": [
    {
     "data": {
      "text/html": [
       "<div>\n",
       "<style scoped>\n",
       "    .dataframe tbody tr th:only-of-type {\n",
       "        vertical-align: middle;\n",
       "    }\n",
       "\n",
       "    .dataframe tbody tr th {\n",
       "        vertical-align: top;\n",
       "    }\n",
       "\n",
       "    .dataframe thead th {\n",
       "        text-align: right;\n",
       "    }\n",
       "</style>\n",
       "<table border=\"1\" class=\"dataframe\">\n",
       "  <thead>\n",
       "    <tr style=\"text-align: right;\">\n",
       "      <th></th>\n",
       "      <th>first_name</th>\n",
       "      <th>last_name</th>\n",
       "      <th>gender</th>\n",
       "      <th>age</th>\n",
       "      <th>company_name</th>\n",
       "      <th>address</th>\n",
       "      <th>city</th>\n",
       "      <th>county</th>\n",
       "      <th>postal</th>\n",
       "      <th>phone1</th>\n",
       "      <th>phone2</th>\n",
       "      <th>email</th>\n",
       "      <th>web</th>\n",
       "    </tr>\n",
       "  </thead>\n",
       "  <tbody>\n",
       "    <tr>\n",
       "      <th>0</th>\n",
       "      <td>Aleshia</td>\n",
       "      <td>Tomkiewicz</td>\n",
       "      <td>F</td>\n",
       "      <td>54</td>\n",
       "      <td>Alan D Rosenburg Cpa Pc</td>\n",
       "      <td>14 Taylor St</td>\n",
       "      <td>St. Stephens Ward</td>\n",
       "      <td>Kent</td>\n",
       "      <td>CT2 7PP</td>\n",
       "      <td>01835-703597</td>\n",
       "      <td>01944-369967</td>\n",
       "      <td>atomkiewicz@hotmail.com</td>\n",
       "      <td>http://www.alandrosenburgcpapc.co.uk</td>\n",
       "    </tr>\n",
       "    <tr>\n",
       "      <th>1</th>\n",
       "      <td>Evan</td>\n",
       "      <td>Zigomalas</td>\n",
       "      <td>M</td>\n",
       "      <td>47</td>\n",
       "      <td>Cap Gemini America</td>\n",
       "      <td>5 Binney St</td>\n",
       "      <td>Abbey Ward</td>\n",
       "      <td>Buckinghamshire</td>\n",
       "      <td>HP11 2AX</td>\n",
       "      <td>01937-864715</td>\n",
       "      <td>01714-737668</td>\n",
       "      <td>evan.zigomalas@gmail.com</td>\n",
       "      <td>http://www.capgeminiamerica.co.uk</td>\n",
       "    </tr>\n",
       "    <tr>\n",
       "      <th>2</th>\n",
       "      <td>France</td>\n",
       "      <td>Andrade</td>\n",
       "      <td>M</td>\n",
       "      <td>42</td>\n",
       "      <td>Elliott, John W Esq</td>\n",
       "      <td>8 Moor Place</td>\n",
       "      <td>East Southbourne and Tuckton W</td>\n",
       "      <td>Bournemouth</td>\n",
       "      <td>BH6 3BE</td>\n",
       "      <td>01347-368222</td>\n",
       "      <td>01935-821636</td>\n",
       "      <td>france.andrade@hotmail.com</td>\n",
       "      <td>http://www.elliottjohnwesq.co.uk</td>\n",
       "    </tr>\n",
       "    <tr>\n",
       "      <th>3</th>\n",
       "      <td>Ulysses</td>\n",
       "      <td>Mcwalters</td>\n",
       "      <td>M</td>\n",
       "      <td>45</td>\n",
       "      <td>Mcmahan, Ben L</td>\n",
       "      <td>505 Exeter Rd</td>\n",
       "      <td>Hawerby cum Beesby</td>\n",
       "      <td>Lincolnshire</td>\n",
       "      <td>DN36 5RP</td>\n",
       "      <td>01912-771311</td>\n",
       "      <td>01302-601380</td>\n",
       "      <td>ulysses@hotmail.com</td>\n",
       "      <td>http://www.mcmahanbenl.co.uk</td>\n",
       "    </tr>\n",
       "    <tr>\n",
       "      <th>4</th>\n",
       "      <td>Tyisha</td>\n",
       "      <td>Veness</td>\n",
       "      <td>F</td>\n",
       "      <td>37</td>\n",
       "      <td>Champagne Room</td>\n",
       "      <td>5396 Forth Street</td>\n",
       "      <td>Greets Green and Lyng Ward</td>\n",
       "      <td>West Midlands</td>\n",
       "      <td>B70 9DT</td>\n",
       "      <td>01547-429341</td>\n",
       "      <td>01290-367248</td>\n",
       "      <td>tyisha.veness@hotmail.com</td>\n",
       "      <td>http://www.champagneroom.co.uk</td>\n",
       "    </tr>\n",
       "    <tr>\n",
       "      <th>5</th>\n",
       "      <td>Eric</td>\n",
       "      <td>Rampy</td>\n",
       "      <td>M</td>\n",
       "      <td>28</td>\n",
       "      <td>Thompson, Michael C Esq</td>\n",
       "      <td>9472 Lind St</td>\n",
       "      <td>Desborough</td>\n",
       "      <td>Northamptonshire</td>\n",
       "      <td>NN14 2GH</td>\n",
       "      <td>01969-886290</td>\n",
       "      <td>01545-817375</td>\n",
       "      <td>erampy@rampy.co.uk</td>\n",
       "      <td>http://www.thompsonmichaelcesq.co.uk</td>\n",
       "    </tr>\n",
       "    <tr>\n",
       "      <th>6</th>\n",
       "      <td>Marg</td>\n",
       "      <td>Grasmick</td>\n",
       "      <td>F</td>\n",
       "      <td>44</td>\n",
       "      <td>Wrangle Hill Auto Auct &amp; Slvg</td>\n",
       "      <td>7457 Cowl St #70</td>\n",
       "      <td>Bargate Ward</td>\n",
       "      <td>Southampton</td>\n",
       "      <td>SO14 3TY</td>\n",
       "      <td>01865-582516</td>\n",
       "      <td>01362-620532</td>\n",
       "      <td>marg@hotmail.com</td>\n",
       "      <td>http://www.wranglehillautoauctslvg.co.uk</td>\n",
       "    </tr>\n",
       "    <tr>\n",
       "      <th>7</th>\n",
       "      <td>Laquita</td>\n",
       "      <td>Hisaw</td>\n",
       "      <td>F</td>\n",
       "      <td>40</td>\n",
       "      <td>In Communications Inc</td>\n",
       "      <td>20 Gloucester Pl #96</td>\n",
       "      <td>Chirton Ward</td>\n",
       "      <td>Tyne &amp; Wear</td>\n",
       "      <td>NE29 7AD</td>\n",
       "      <td>01746-394243</td>\n",
       "      <td>01590-982428</td>\n",
       "      <td>laquita@yahoo.com</td>\n",
       "      <td>http://www.incommunicationsinc.co.uk</td>\n",
       "    </tr>\n",
       "    <tr>\n",
       "      <th>8</th>\n",
       "      <td>Lura</td>\n",
       "      <td>Manzella</td>\n",
       "      <td>F</td>\n",
       "      <td>53</td>\n",
       "      <td>Bizerba Usa Inc</td>\n",
       "      <td>929 Augustine St</td>\n",
       "      <td>Staple Hill Ward</td>\n",
       "      <td>South Gloucestershire</td>\n",
       "      <td>BS16 4LL</td>\n",
       "      <td>01907-538509</td>\n",
       "      <td>01340-713951</td>\n",
       "      <td>lura@hotmail.com</td>\n",
       "      <td>http://www.bizerbausainc.co.uk</td>\n",
       "    </tr>\n",
       "    <tr>\n",
       "      <th>9</th>\n",
       "      <td>Yuette</td>\n",
       "      <td>Klapec</td>\n",
       "      <td>F</td>\n",
       "      <td>55</td>\n",
       "      <td>Max Video</td>\n",
       "      <td>45 Bradfield St #166</td>\n",
       "      <td>Parwich</td>\n",
       "      <td>Derbyshire</td>\n",
       "      <td>DE6 1QN</td>\n",
       "      <td>01903-649460</td>\n",
       "      <td>01933-512513</td>\n",
       "      <td>yuette.klapec@klapec.co.uk</td>\n",
       "      <td>http://www.maxvideo.co.uk</td>\n",
       "    </tr>\n",
       "  </tbody>\n",
       "</table>\n",
       "</div>"
      ],
      "text/plain": [
       "  first_name   last_name gender  age                   company_name  \\\n",
       "0    Aleshia  Tomkiewicz      F   54        Alan D Rosenburg Cpa Pc   \n",
       "1       Evan   Zigomalas      M   47             Cap Gemini America   \n",
       "2     France     Andrade      M   42            Elliott, John W Esq   \n",
       "3    Ulysses   Mcwalters      M   45                 Mcmahan, Ben L   \n",
       "4     Tyisha      Veness      F   37                 Champagne Room   \n",
       "5       Eric       Rampy      M   28        Thompson, Michael C Esq   \n",
       "6       Marg    Grasmick      F   44  Wrangle Hill Auto Auct & Slvg   \n",
       "7    Laquita       Hisaw      F   40          In Communications Inc   \n",
       "8       Lura    Manzella      F   53                Bizerba Usa Inc   \n",
       "9     Yuette      Klapec      F   55                      Max Video   \n",
       "\n",
       "                address                            city  \\\n",
       "0          14 Taylor St               St. Stephens Ward   \n",
       "1           5 Binney St                      Abbey Ward   \n",
       "2          8 Moor Place  East Southbourne and Tuckton W   \n",
       "3         505 Exeter Rd              Hawerby cum Beesby   \n",
       "4     5396 Forth Street      Greets Green and Lyng Ward   \n",
       "5          9472 Lind St                      Desborough   \n",
       "6      7457 Cowl St #70                    Bargate Ward   \n",
       "7  20 Gloucester Pl #96                    Chirton Ward   \n",
       "8      929 Augustine St                Staple Hill Ward   \n",
       "9  45 Bradfield St #166                         Parwich   \n",
       "\n",
       "                  county    postal        phone1        phone2  \\\n",
       "0                   Kent   CT2 7PP  01835-703597  01944-369967   \n",
       "1        Buckinghamshire  HP11 2AX  01937-864715  01714-737668   \n",
       "2            Bournemouth   BH6 3BE  01347-368222  01935-821636   \n",
       "3           Lincolnshire  DN36 5RP  01912-771311  01302-601380   \n",
       "4          West Midlands   B70 9DT  01547-429341  01290-367248   \n",
       "5       Northamptonshire  NN14 2GH  01969-886290  01545-817375   \n",
       "6            Southampton  SO14 3TY  01865-582516  01362-620532   \n",
       "7            Tyne & Wear  NE29 7AD  01746-394243  01590-982428   \n",
       "8  South Gloucestershire  BS16 4LL  01907-538509  01340-713951   \n",
       "9             Derbyshire   DE6 1QN  01903-649460  01933-512513   \n",
       "\n",
       "                        email                                       web  \n",
       "0     atomkiewicz@hotmail.com      http://www.alandrosenburgcpapc.co.uk  \n",
       "1    evan.zigomalas@gmail.com         http://www.capgeminiamerica.co.uk  \n",
       "2  france.andrade@hotmail.com          http://www.elliottjohnwesq.co.uk  \n",
       "3         ulysses@hotmail.com              http://www.mcmahanbenl.co.uk  \n",
       "4   tyisha.veness@hotmail.com            http://www.champagneroom.co.uk  \n",
       "5          erampy@rampy.co.uk      http://www.thompsonmichaelcesq.co.uk  \n",
       "6            marg@hotmail.com  http://www.wranglehillautoauctslvg.co.uk  \n",
       "7           laquita@yahoo.com      http://www.incommunicationsinc.co.uk  \n",
       "8            lura@hotmail.com            http://www.bizerbausainc.co.uk  \n",
       "9  yuette.klapec@klapec.co.uk                 http://www.maxvideo.co.uk  "
      ]
     },
     "execution_count": 56,
     "metadata": {},
     "output_type": "execute_result"
    }
   ],
   "source": [
    "people_csv.iloc[0:10] "
   ]
  },
  {
   "cell_type": "markdown",
   "id": "0433518d",
   "metadata": {
    "jp-MarkdownHeadingCollapsed": true,
    "tags": []
   },
   "source": [
    "##### Select the last row of the DataFrame\n"
   ]
  },
  {
   "cell_type": "code",
   "execution_count": 57,
   "id": "9e56ac45",
   "metadata": {},
   "outputs": [
    {
     "data": {
      "text/plain": [
       "first_name                                               Mi\n",
       "last_name                                            Richan\n",
       "gender                                                    M\n",
       "age                                                      27\n",
       "company_name                 Nelson Wright Haworth Golf Crs\n",
       "address                                     6 Norwood Grove\n",
       "city                                      Tanworth-in-Arden\n",
       "county                                         Warwickshire\n",
       "postal                                              B94 5RZ\n",
       "phone1                                         01451-785624\n",
       "phone2                                         01202-738406\n",
       "email                                        mi@hotmail.com\n",
       "web             http://www.nelsonwrighthaworthgolfcrs.co.uk\n",
       "Name: 499, dtype: object"
      ]
     },
     "execution_count": 57,
     "metadata": {},
     "output_type": "execute_result"
    }
   ],
   "source": [
    "people_csv.iloc[-1]"
   ]
  },
  {
   "cell_type": "markdown",
   "id": "e00baca8",
   "metadata": {
    "jp-MarkdownHeadingCollapsed": true,
    "tags": []
   },
   "source": [
    "##### Select the first column of the DataFrame"
   ]
  },
  {
   "cell_type": "code",
   "execution_count": 59,
   "id": "d161f853",
   "metadata": {},
   "outputs": [
    {
     "data": {
      "text/plain": [
       "0    Aleshia\n",
       "1       Evan\n",
       "2     France\n",
       "3    Ulysses\n",
       "4     Tyisha\n",
       "Name: first_name, dtype: object"
      ]
     },
     "execution_count": 59,
     "metadata": {},
     "output_type": "execute_result"
    }
   ],
   "source": [
    "people_csv.iloc[:,0].head()"
   ]
  },
  {
   "cell_type": "markdown",
   "id": "a69421fb",
   "metadata": {
    "jp-MarkdownHeadingCollapsed": true,
    "tags": []
   },
   "source": [
    "##### Select the second column of the DataFrame, with all rows"
   ]
  },
  {
   "cell_type": "code",
   "execution_count": 60,
   "id": "663bc654",
   "metadata": {},
   "outputs": [
    {
     "data": {
      "text/plain": [
       "0    Tomkiewicz\n",
       "1     Zigomalas\n",
       "2       Andrade\n",
       "3     Mcwalters\n",
       "4        Veness\n",
       "Name: last_name, dtype: object"
      ]
     },
     "execution_count": 60,
     "metadata": {},
     "output_type": "execute_result"
    }
   ],
   "source": [
    "people_csv.iloc[:,1].head()"
   ]
  },
  {
   "cell_type": "markdown",
   "id": "7153d342",
   "metadata": {
    "jp-MarkdownHeadingCollapsed": true,
    "tags": []
   },
   "source": [
    "##### Select the last column of the DataFrame, with all rows"
   ]
  },
  {
   "cell_type": "code",
   "execution_count": 61,
   "id": "8e180270",
   "metadata": {},
   "outputs": [
    {
     "data": {
      "text/plain": [
       "0    http://www.alandrosenburgcpapc.co.uk\n",
       "1       http://www.capgeminiamerica.co.uk\n",
       "2        http://www.elliottjohnwesq.co.uk\n",
       "3            http://www.mcmahanbenl.co.uk\n",
       "4          http://www.champagneroom.co.uk\n",
       "Name: web, dtype: object"
      ]
     },
     "execution_count": 61,
     "metadata": {},
     "output_type": "execute_result"
    }
   ],
   "source": [
    "people_csv.iloc[:,-1].head()"
   ]
  },
  {
   "cell_type": "markdown",
   "id": "e1fd71d6",
   "metadata": {
    "jp-MarkdownHeadingCollapsed": true,
    "tags": []
   },
   "source": [
    "##### Select the first two columns of the DataFrame, with all rows"
   ]
  },
  {
   "cell_type": "code",
   "execution_count": 62,
   "id": "e529a6d9",
   "metadata": {},
   "outputs": [
    {
     "data": {
      "text/html": [
       "<div>\n",
       "<style scoped>\n",
       "    .dataframe tbody tr th:only-of-type {\n",
       "        vertical-align: middle;\n",
       "    }\n",
       "\n",
       "    .dataframe tbody tr th {\n",
       "        vertical-align: top;\n",
       "    }\n",
       "\n",
       "    .dataframe thead th {\n",
       "        text-align: right;\n",
       "    }\n",
       "</style>\n",
       "<table border=\"1\" class=\"dataframe\">\n",
       "  <thead>\n",
       "    <tr style=\"text-align: right;\">\n",
       "      <th></th>\n",
       "      <th>first_name</th>\n",
       "      <th>last_name</th>\n",
       "    </tr>\n",
       "  </thead>\n",
       "  <tbody>\n",
       "    <tr>\n",
       "      <th>0</th>\n",
       "      <td>Aleshia</td>\n",
       "      <td>Tomkiewicz</td>\n",
       "    </tr>\n",
       "    <tr>\n",
       "      <th>1</th>\n",
       "      <td>Evan</td>\n",
       "      <td>Zigomalas</td>\n",
       "    </tr>\n",
       "    <tr>\n",
       "      <th>2</th>\n",
       "      <td>France</td>\n",
       "      <td>Andrade</td>\n",
       "    </tr>\n",
       "    <tr>\n",
       "      <th>3</th>\n",
       "      <td>Ulysses</td>\n",
       "      <td>Mcwalters</td>\n",
       "    </tr>\n",
       "    <tr>\n",
       "      <th>4</th>\n",
       "      <td>Tyisha</td>\n",
       "      <td>Veness</td>\n",
       "    </tr>\n",
       "  </tbody>\n",
       "</table>\n",
       "</div>"
      ],
      "text/plain": [
       "  first_name   last_name\n",
       "0    Aleshia  Tomkiewicz\n",
       "1       Evan   Zigomalas\n",
       "2     France     Andrade\n",
       "3    Ulysses   Mcwalters\n",
       "4     Tyisha      Veness"
      ]
     },
     "execution_count": 62,
     "metadata": {},
     "output_type": "execute_result"
    }
   ],
   "source": [
    "people_csv.iloc[:, 0:2].head()"
   ]
  },
  {
   "cell_type": "markdown",
   "id": "35b2b81c",
   "metadata": {
    "jp-MarkdownHeadingCollapsed": true,
    "tags": []
   },
   "source": [
    "##### Select the 1st, 5th, 8th, 22nd rows of the 1st 4th and 6th columns."
   ]
  },
  {
   "cell_type": "code",
   "execution_count": 63,
   "id": "f096c93b",
   "metadata": {},
   "outputs": [
    {
     "data": {
      "text/html": [
       "<div>\n",
       "<style scoped>\n",
       "    .dataframe tbody tr th:only-of-type {\n",
       "        vertical-align: middle;\n",
       "    }\n",
       "\n",
       "    .dataframe tbody tr th {\n",
       "        vertical-align: top;\n",
       "    }\n",
       "\n",
       "    .dataframe thead th {\n",
       "        text-align: right;\n",
       "    }\n",
       "</style>\n",
       "<table border=\"1\" class=\"dataframe\">\n",
       "  <thead>\n",
       "    <tr style=\"text-align: right;\">\n",
       "      <th></th>\n",
       "      <th>first_name</th>\n",
       "      <th>age</th>\n",
       "      <th>address</th>\n",
       "    </tr>\n",
       "  </thead>\n",
       "  <tbody>\n",
       "    <tr>\n",
       "      <th>0</th>\n",
       "      <td>Aleshia</td>\n",
       "      <td>54</td>\n",
       "      <td>14 Taylor St</td>\n",
       "    </tr>\n",
       "    <tr>\n",
       "      <th>4</th>\n",
       "      <td>Tyisha</td>\n",
       "      <td>37</td>\n",
       "      <td>5396 Forth Street</td>\n",
       "    </tr>\n",
       "    <tr>\n",
       "      <th>7</th>\n",
       "      <td>Laquita</td>\n",
       "      <td>40</td>\n",
       "      <td>20 Gloucester Pl #96</td>\n",
       "    </tr>\n",
       "    <tr>\n",
       "      <th>21</th>\n",
       "      <td>Octavio</td>\n",
       "      <td>24</td>\n",
       "      <td>6949 Bourne St</td>\n",
       "    </tr>\n",
       "  </tbody>\n",
       "</table>\n",
       "</div>"
      ],
      "text/plain": [
       "   first_name  age               address\n",
       "0     Aleshia   54          14 Taylor St\n",
       "4      Tyisha   37     5396 Forth Street\n",
       "7     Laquita   40  20 Gloucester Pl #96\n",
       "21    Octavio   24        6949 Bourne St"
      ]
     },
     "execution_count": 63,
     "metadata": {},
     "output_type": "execute_result"
    }
   ],
   "source": [
    "people_csv.iloc[[0,4,7,21], [0,3,5]]"
   ]
  },
  {
   "cell_type": "markdown",
   "id": "cab681d8",
   "metadata": {
    "jp-MarkdownHeadingCollapsed": true,
    "tags": []
   },
   "source": [
    "##### Select the first 5 rows of the 3rd, 4th, and 5th columns of the DataFrame\n"
   ]
  },
  {
   "cell_type": "code",
   "execution_count": 64,
   "id": "0383b7d9",
   "metadata": {},
   "outputs": [
    {
     "data": {
      "text/html": [
       "<div>\n",
       "<style scoped>\n",
       "    .dataframe tbody tr th:only-of-type {\n",
       "        vertical-align: middle;\n",
       "    }\n",
       "\n",
       "    .dataframe tbody tr th {\n",
       "        vertical-align: top;\n",
       "    }\n",
       "\n",
       "    .dataframe thead th {\n",
       "        text-align: right;\n",
       "    }\n",
       "</style>\n",
       "<table border=\"1\" class=\"dataframe\">\n",
       "  <thead>\n",
       "    <tr style=\"text-align: right;\">\n",
       "      <th></th>\n",
       "      <th>gender</th>\n",
       "      <th>age</th>\n",
       "      <th>company_name</th>\n",
       "    </tr>\n",
       "  </thead>\n",
       "  <tbody>\n",
       "    <tr>\n",
       "      <th>0</th>\n",
       "      <td>F</td>\n",
       "      <td>54</td>\n",
       "      <td>Alan D Rosenburg Cpa Pc</td>\n",
       "    </tr>\n",
       "    <tr>\n",
       "      <th>1</th>\n",
       "      <td>M</td>\n",
       "      <td>47</td>\n",
       "      <td>Cap Gemini America</td>\n",
       "    </tr>\n",
       "    <tr>\n",
       "      <th>2</th>\n",
       "      <td>M</td>\n",
       "      <td>42</td>\n",
       "      <td>Elliott, John W Esq</td>\n",
       "    </tr>\n",
       "    <tr>\n",
       "      <th>3</th>\n",
       "      <td>M</td>\n",
       "      <td>45</td>\n",
       "      <td>Mcmahan, Ben L</td>\n",
       "    </tr>\n",
       "    <tr>\n",
       "      <th>4</th>\n",
       "      <td>F</td>\n",
       "      <td>37</td>\n",
       "      <td>Champagne Room</td>\n",
       "    </tr>\n",
       "  </tbody>\n",
       "</table>\n",
       "</div>"
      ],
      "text/plain": [
       "  gender  age             company_name\n",
       "0      F   54  Alan D Rosenburg Cpa Pc\n",
       "1      M   47       Cap Gemini America\n",
       "2      M   42      Elliott, John W Esq\n",
       "3      M   45           Mcmahan, Ben L\n",
       "4      F   37           Champagne Room"
      ]
     },
     "execution_count": 64,
     "metadata": {},
     "output_type": "execute_result"
    }
   ],
   "source": [
    "people_csv.iloc[0:5, 2:5] "
   ]
  },
  {
   "cell_type": "markdown",
   "id": "43c8c002",
   "metadata": {
    "tags": []
   },
   "source": [
    "#### v. Assignment Using `iloc`"
   ]
  },
  {
   "cell_type": "markdown",
   "id": "bbd4fd7a",
   "metadata": {
    "jp-MarkdownHeadingCollapsed": true,
    "tags": []
   },
   "source": [
    "##### Modify the 'first_name' column value of the first row"
   ]
  },
  {
   "cell_type": "code",
   "execution_count": 65,
   "id": "4f5002e5",
   "metadata": {},
   "outputs": [
    {
     "data": {
      "text/html": [
       "<div>\n",
       "<style scoped>\n",
       "    .dataframe tbody tr th:only-of-type {\n",
       "        vertical-align: middle;\n",
       "    }\n",
       "\n",
       "    .dataframe tbody tr th {\n",
       "        vertical-align: top;\n",
       "    }\n",
       "\n",
       "    .dataframe thead th {\n",
       "        text-align: right;\n",
       "    }\n",
       "</style>\n",
       "<table border=\"1\" class=\"dataframe\">\n",
       "  <thead>\n",
       "    <tr style=\"text-align: right;\">\n",
       "      <th></th>\n",
       "      <th>first_name</th>\n",
       "      <th>last_name</th>\n",
       "      <th>gender</th>\n",
       "      <th>age</th>\n",
       "      <th>company_name</th>\n",
       "      <th>address</th>\n",
       "      <th>city</th>\n",
       "      <th>county</th>\n",
       "      <th>postal</th>\n",
       "      <th>phone1</th>\n",
       "      <th>phone2</th>\n",
       "      <th>email</th>\n",
       "      <th>web</th>\n",
       "    </tr>\n",
       "  </thead>\n",
       "  <tbody>\n",
       "    <tr>\n",
       "      <th>0</th>\n",
       "      <td>Arya</td>\n",
       "      <td>Tomkiewicz</td>\n",
       "      <td>F</td>\n",
       "      <td>54</td>\n",
       "      <td>Alan D Rosenburg Cpa Pc</td>\n",
       "      <td>14 Taylor St</td>\n",
       "      <td>St. Stephens Ward</td>\n",
       "      <td>Kent</td>\n",
       "      <td>CT2 7PP</td>\n",
       "      <td>01835-703597</td>\n",
       "      <td>01944-369967</td>\n",
       "      <td>atomkiewicz@hotmail.com</td>\n",
       "      <td>http://www.alandrosenburgcpapc.co.uk</td>\n",
       "    </tr>\n",
       "    <tr>\n",
       "      <th>1</th>\n",
       "      <td>Evan</td>\n",
       "      <td>Zigomalas</td>\n",
       "      <td>M</td>\n",
       "      <td>47</td>\n",
       "      <td>Cap Gemini America</td>\n",
       "      <td>5 Binney St</td>\n",
       "      <td>Abbey Ward</td>\n",
       "      <td>Buckinghamshire</td>\n",
       "      <td>HP11 2AX</td>\n",
       "      <td>01937-864715</td>\n",
       "      <td>01714-737668</td>\n",
       "      <td>evan.zigomalas@gmail.com</td>\n",
       "      <td>http://www.capgeminiamerica.co.uk</td>\n",
       "    </tr>\n",
       "    <tr>\n",
       "      <th>2</th>\n",
       "      <td>France</td>\n",
       "      <td>Andrade</td>\n",
       "      <td>M</td>\n",
       "      <td>42</td>\n",
       "      <td>Elliott, John W Esq</td>\n",
       "      <td>8 Moor Place</td>\n",
       "      <td>East Southbourne and Tuckton W</td>\n",
       "      <td>Bournemouth</td>\n",
       "      <td>BH6 3BE</td>\n",
       "      <td>01347-368222</td>\n",
       "      <td>01935-821636</td>\n",
       "      <td>france.andrade@hotmail.com</td>\n",
       "      <td>http://www.elliottjohnwesq.co.uk</td>\n",
       "    </tr>\n",
       "    <tr>\n",
       "      <th>3</th>\n",
       "      <td>Ulysses</td>\n",
       "      <td>Mcwalters</td>\n",
       "      <td>M</td>\n",
       "      <td>45</td>\n",
       "      <td>Mcmahan, Ben L</td>\n",
       "      <td>505 Exeter Rd</td>\n",
       "      <td>Hawerby cum Beesby</td>\n",
       "      <td>Lincolnshire</td>\n",
       "      <td>DN36 5RP</td>\n",
       "      <td>01912-771311</td>\n",
       "      <td>01302-601380</td>\n",
       "      <td>ulysses@hotmail.com</td>\n",
       "      <td>http://www.mcmahanbenl.co.uk</td>\n",
       "    </tr>\n",
       "    <tr>\n",
       "      <th>4</th>\n",
       "      <td>Tyisha</td>\n",
       "      <td>Veness</td>\n",
       "      <td>F</td>\n",
       "      <td>37</td>\n",
       "      <td>Champagne Room</td>\n",
       "      <td>5396 Forth Street</td>\n",
       "      <td>Greets Green and Lyng Ward</td>\n",
       "      <td>West Midlands</td>\n",
       "      <td>B70 9DT</td>\n",
       "      <td>01547-429341</td>\n",
       "      <td>01290-367248</td>\n",
       "      <td>tyisha.veness@hotmail.com</td>\n",
       "      <td>http://www.champagneroom.co.uk</td>\n",
       "    </tr>\n",
       "  </tbody>\n",
       "</table>\n",
       "</div>"
      ],
      "text/plain": [
       "  first_name   last_name gender  age             company_name  \\\n",
       "0       Arya  Tomkiewicz      F   54  Alan D Rosenburg Cpa Pc   \n",
       "1       Evan   Zigomalas      M   47       Cap Gemini America   \n",
       "2     France     Andrade      M   42      Elliott, John W Esq   \n",
       "3    Ulysses   Mcwalters      M   45           Mcmahan, Ben L   \n",
       "4     Tyisha      Veness      F   37           Champagne Room   \n",
       "\n",
       "             address                            city           county  \\\n",
       "0       14 Taylor St               St. Stephens Ward             Kent   \n",
       "1        5 Binney St                      Abbey Ward  Buckinghamshire   \n",
       "2       8 Moor Place  East Southbourne and Tuckton W      Bournemouth   \n",
       "3      505 Exeter Rd              Hawerby cum Beesby     Lincolnshire   \n",
       "4  5396 Forth Street      Greets Green and Lyng Ward    West Midlands   \n",
       "\n",
       "     postal        phone1        phone2                       email  \\\n",
       "0   CT2 7PP  01835-703597  01944-369967     atomkiewicz@hotmail.com   \n",
       "1  HP11 2AX  01937-864715  01714-737668    evan.zigomalas@gmail.com   \n",
       "2   BH6 3BE  01347-368222  01935-821636  france.andrade@hotmail.com   \n",
       "3  DN36 5RP  01912-771311  01302-601380         ulysses@hotmail.com   \n",
       "4   B70 9DT  01547-429341  01290-367248   tyisha.veness@hotmail.com   \n",
       "\n",
       "                                    web  \n",
       "0  http://www.alandrosenburgcpapc.co.uk  \n",
       "1     http://www.capgeminiamerica.co.uk  \n",
       "2      http://www.elliottjohnwesq.co.uk  \n",
       "3          http://www.mcmahanbenl.co.uk  \n",
       "4        http://www.champagneroom.co.uk  "
      ]
     },
     "execution_count": 65,
     "metadata": {},
     "output_type": "execute_result"
    }
   ],
   "source": [
    "people_csv.iloc[0, people_csv.columns.get_loc('first_name')] = 'Arya'\n",
    "people_csv.head()"
   ]
  },
  {
   "cell_type": "markdown",
   "id": "b8baa5d0",
   "metadata": {
    "tags": []
   },
   "source": [
    "#### vi. Index Selection Using `loc`"
   ]
  },
  {
   "cell_type": "markdown",
   "id": "658bd515",
   "metadata": {
    "jp-MarkdownHeadingCollapsed": true,
    "tags": []
   },
   "source": [
    "##### Indexing"
   ]
  },
  {
   "cell_type": "code",
   "execution_count": 66,
   "id": "7f79a8a5",
   "metadata": {},
   "outputs": [
    {
     "data": {
      "text/html": [
       "<div>\n",
       "<style scoped>\n",
       "    .dataframe tbody tr th:only-of-type {\n",
       "        vertical-align: middle;\n",
       "    }\n",
       "\n",
       "    .dataframe tbody tr th {\n",
       "        vertical-align: top;\n",
       "    }\n",
       "\n",
       "    .dataframe thead th {\n",
       "        text-align: right;\n",
       "    }\n",
       "</style>\n",
       "<table border=\"1\" class=\"dataframe\">\n",
       "  <thead>\n",
       "    <tr style=\"text-align: right;\">\n",
       "      <th></th>\n",
       "      <th>first_name</th>\n",
       "      <th>last_name</th>\n",
       "      <th>gender</th>\n",
       "      <th>age</th>\n",
       "      <th>company_name</th>\n",
       "      <th>address</th>\n",
       "      <th>city</th>\n",
       "      <th>county</th>\n",
       "      <th>postal</th>\n",
       "      <th>phone1</th>\n",
       "      <th>phone2</th>\n",
       "      <th>email</th>\n",
       "      <th>web</th>\n",
       "    </tr>\n",
       "  </thead>\n",
       "  <tbody>\n",
       "    <tr>\n",
       "      <th>0</th>\n",
       "      <td>Arya</td>\n",
       "      <td>Tomkiewicz</td>\n",
       "      <td>F</td>\n",
       "      <td>54</td>\n",
       "      <td>Alan D Rosenburg Cpa Pc</td>\n",
       "      <td>14 Taylor St</td>\n",
       "      <td>St. Stephens Ward</td>\n",
       "      <td>Kent</td>\n",
       "      <td>CT2 7PP</td>\n",
       "      <td>01835-703597</td>\n",
       "      <td>01944-369967</td>\n",
       "      <td>atomkiewicz@hotmail.com</td>\n",
       "      <td>http://www.alandrosenburgcpapc.co.uk</td>\n",
       "    </tr>\n",
       "    <tr>\n",
       "      <th>1</th>\n",
       "      <td>Evan</td>\n",
       "      <td>Zigomalas</td>\n",
       "      <td>M</td>\n",
       "      <td>47</td>\n",
       "      <td>Cap Gemini America</td>\n",
       "      <td>5 Binney St</td>\n",
       "      <td>Abbey Ward</td>\n",
       "      <td>Buckinghamshire</td>\n",
       "      <td>HP11 2AX</td>\n",
       "      <td>01937-864715</td>\n",
       "      <td>01714-737668</td>\n",
       "      <td>evan.zigomalas@gmail.com</td>\n",
       "      <td>http://www.capgeminiamerica.co.uk</td>\n",
       "    </tr>\n",
       "    <tr>\n",
       "      <th>2</th>\n",
       "      <td>France</td>\n",
       "      <td>Andrade</td>\n",
       "      <td>M</td>\n",
       "      <td>42</td>\n",
       "      <td>Elliott, John W Esq</td>\n",
       "      <td>8 Moor Place</td>\n",
       "      <td>East Southbourne and Tuckton W</td>\n",
       "      <td>Bournemouth</td>\n",
       "      <td>BH6 3BE</td>\n",
       "      <td>01347-368222</td>\n",
       "      <td>01935-821636</td>\n",
       "      <td>france.andrade@hotmail.com</td>\n",
       "      <td>http://www.elliottjohnwesq.co.uk</td>\n",
       "    </tr>\n",
       "    <tr>\n",
       "      <th>3</th>\n",
       "      <td>Ulysses</td>\n",
       "      <td>Mcwalters</td>\n",
       "      <td>M</td>\n",
       "      <td>45</td>\n",
       "      <td>Mcmahan, Ben L</td>\n",
       "      <td>505 Exeter Rd</td>\n",
       "      <td>Hawerby cum Beesby</td>\n",
       "      <td>Lincolnshire</td>\n",
       "      <td>DN36 5RP</td>\n",
       "      <td>01912-771311</td>\n",
       "      <td>01302-601380</td>\n",
       "      <td>ulysses@hotmail.com</td>\n",
       "      <td>http://www.mcmahanbenl.co.uk</td>\n",
       "    </tr>\n",
       "    <tr>\n",
       "      <th>4</th>\n",
       "      <td>Tyisha</td>\n",
       "      <td>Veness</td>\n",
       "      <td>F</td>\n",
       "      <td>37</td>\n",
       "      <td>Champagne Room</td>\n",
       "      <td>5396 Forth Street</td>\n",
       "      <td>Greets Green and Lyng Ward</td>\n",
       "      <td>West Midlands</td>\n",
       "      <td>B70 9DT</td>\n",
       "      <td>01547-429341</td>\n",
       "      <td>01290-367248</td>\n",
       "      <td>tyisha.veness@hotmail.com</td>\n",
       "      <td>http://www.champagneroom.co.uk</td>\n",
       "    </tr>\n",
       "    <tr>\n",
       "      <th>...</th>\n",
       "      <td>...</td>\n",
       "      <td>...</td>\n",
       "      <td>...</td>\n",
       "      <td>...</td>\n",
       "      <td>...</td>\n",
       "      <td>...</td>\n",
       "      <td>...</td>\n",
       "      <td>...</td>\n",
       "      <td>...</td>\n",
       "      <td>...</td>\n",
       "      <td>...</td>\n",
       "      <td>...</td>\n",
       "      <td>...</td>\n",
       "    </tr>\n",
       "    <tr>\n",
       "      <th>495</th>\n",
       "      <td>Avery</td>\n",
       "      <td>Veit</td>\n",
       "      <td>M</td>\n",
       "      <td>38</td>\n",
       "      <td>Plaza Gourmet Delicatessen</td>\n",
       "      <td>9166 Devon St #905</td>\n",
       "      <td>Knightsbridge and Belgravia Wa</td>\n",
       "      <td>Greater London</td>\n",
       "      <td>SW1W 8JY</td>\n",
       "      <td>01748-625058</td>\n",
       "      <td>01369-185737</td>\n",
       "      <td>avery@veit.co.uk</td>\n",
       "      <td>http://www.plazagourmetdelicatessen.co.uk</td>\n",
       "    </tr>\n",
       "    <tr>\n",
       "      <th>496</th>\n",
       "      <td>Reid</td>\n",
       "      <td>Euresti</td>\n",
       "      <td>M</td>\n",
       "      <td>56</td>\n",
       "      <td>Fitzgerald, Edward J</td>\n",
       "      <td>70 Foster St</td>\n",
       "      <td>Inverness Ness-Side Ward</td>\n",
       "      <td>Highland</td>\n",
       "      <td>IV2 6WT</td>\n",
       "      <td>01916-963261</td>\n",
       "      <td>01370-319414</td>\n",
       "      <td>reuresti@euresti.co.uk</td>\n",
       "      <td>http://www.fitzgeraldedwardj.co.uk</td>\n",
       "    </tr>\n",
       "    <tr>\n",
       "      <th>497</th>\n",
       "      <td>Charlette</td>\n",
       "      <td>Brenning</td>\n",
       "      <td>F</td>\n",
       "      <td>31</td>\n",
       "      <td>Furey &amp; Associates</td>\n",
       "      <td>714 Fonthill Rd</td>\n",
       "      <td>Darton West Ward</td>\n",
       "      <td>South Yorkshire</td>\n",
       "      <td>S75 5EJ</td>\n",
       "      <td>01888-152110</td>\n",
       "      <td>01301-312487</td>\n",
       "      <td>cbrenning@brenning.co.uk</td>\n",
       "      <td>http://www.fureyassociates.co.uk</td>\n",
       "    </tr>\n",
       "    <tr>\n",
       "      <th>498</th>\n",
       "      <td>Celestina</td>\n",
       "      <td>Keeny</td>\n",
       "      <td>F</td>\n",
       "      <td>41</td>\n",
       "      <td>Bfg Federal Credit Union</td>\n",
       "      <td>9 Milton St</td>\n",
       "      <td>Consett North ED</td>\n",
       "      <td>County Durham</td>\n",
       "      <td>DH8 5LP</td>\n",
       "      <td>01877-379681</td>\n",
       "      <td>01600-463475</td>\n",
       "      <td>celestina_keeny@gmail.com</td>\n",
       "      <td>http://www.bfgfederalcreditunion.co.uk</td>\n",
       "    </tr>\n",
       "    <tr>\n",
       "      <th>499</th>\n",
       "      <td>Mi</td>\n",
       "      <td>Richan</td>\n",
       "      <td>M</td>\n",
       "      <td>27</td>\n",
       "      <td>Nelson Wright Haworth Golf Crs</td>\n",
       "      <td>6 Norwood Grove</td>\n",
       "      <td>Tanworth-in-Arden</td>\n",
       "      <td>Warwickshire</td>\n",
       "      <td>B94 5RZ</td>\n",
       "      <td>01451-785624</td>\n",
       "      <td>01202-738406</td>\n",
       "      <td>mi@hotmail.com</td>\n",
       "      <td>http://www.nelsonwrighthaworthgolfcrs.co.uk</td>\n",
       "    </tr>\n",
       "  </tbody>\n",
       "</table>\n",
       "<p>500 rows × 13 columns</p>\n",
       "</div>"
      ],
      "text/plain": [
       "    first_name   last_name gender  age                    company_name  \\\n",
       "0         Arya  Tomkiewicz      F   54         Alan D Rosenburg Cpa Pc   \n",
       "1         Evan   Zigomalas      M   47              Cap Gemini America   \n",
       "2       France     Andrade      M   42             Elliott, John W Esq   \n",
       "3      Ulysses   Mcwalters      M   45                  Mcmahan, Ben L   \n",
       "4       Tyisha      Veness      F   37                  Champagne Room   \n",
       "..         ...         ...    ...  ...                             ...   \n",
       "495      Avery        Veit      M   38      Plaza Gourmet Delicatessen   \n",
       "496       Reid     Euresti      M   56            Fitzgerald, Edward J   \n",
       "497  Charlette    Brenning      F   31              Furey & Associates   \n",
       "498  Celestina       Keeny      F   41        Bfg Federal Credit Union   \n",
       "499         Mi      Richan      M   27  Nelson Wright Haworth Golf Crs   \n",
       "\n",
       "                address                            city           county  \\\n",
       "0          14 Taylor St               St. Stephens Ward             Kent   \n",
       "1           5 Binney St                      Abbey Ward  Buckinghamshire   \n",
       "2          8 Moor Place  East Southbourne and Tuckton W      Bournemouth   \n",
       "3         505 Exeter Rd              Hawerby cum Beesby     Lincolnshire   \n",
       "4     5396 Forth Street      Greets Green and Lyng Ward    West Midlands   \n",
       "..                  ...                             ...              ...   \n",
       "495  9166 Devon St #905  Knightsbridge and Belgravia Wa   Greater London   \n",
       "496        70 Foster St        Inverness Ness-Side Ward         Highland   \n",
       "497     714 Fonthill Rd                Darton West Ward  South Yorkshire   \n",
       "498         9 Milton St                Consett North ED    County Durham   \n",
       "499     6 Norwood Grove               Tanworth-in-Arden     Warwickshire   \n",
       "\n",
       "       postal        phone1        phone2                       email  \\\n",
       "0     CT2 7PP  01835-703597  01944-369967     atomkiewicz@hotmail.com   \n",
       "1    HP11 2AX  01937-864715  01714-737668    evan.zigomalas@gmail.com   \n",
       "2     BH6 3BE  01347-368222  01935-821636  france.andrade@hotmail.com   \n",
       "3    DN36 5RP  01912-771311  01302-601380         ulysses@hotmail.com   \n",
       "4     B70 9DT  01547-429341  01290-367248   tyisha.veness@hotmail.com   \n",
       "..        ...           ...           ...                         ...   \n",
       "495  SW1W 8JY  01748-625058  01369-185737            avery@veit.co.uk   \n",
       "496   IV2 6WT  01916-963261  01370-319414      reuresti@euresti.co.uk   \n",
       "497   S75 5EJ  01888-152110  01301-312487    cbrenning@brenning.co.uk   \n",
       "498   DH8 5LP  01877-379681  01600-463475   celestina_keeny@gmail.com   \n",
       "499   B94 5RZ  01451-785624  01202-738406              mi@hotmail.com   \n",
       "\n",
       "                                             web  \n",
       "0           http://www.alandrosenburgcpapc.co.uk  \n",
       "1              http://www.capgeminiamerica.co.uk  \n",
       "2               http://www.elliottjohnwesq.co.uk  \n",
       "3                   http://www.mcmahanbenl.co.uk  \n",
       "4                 http://www.champagneroom.co.uk  \n",
       "..                                           ...  \n",
       "495    http://www.plazagourmetdelicatessen.co.uk  \n",
       "496           http://www.fitzgeraldedwardj.co.uk  \n",
       "497             http://www.fureyassociates.co.uk  \n",
       "498       http://www.bfgfederalcreditunion.co.uk  \n",
       "499  http://www.nelsonwrighthaworthgolfcrs.co.uk  \n",
       "\n",
       "[500 rows x 13 columns]"
      ]
     },
     "execution_count": 66,
     "metadata": {},
     "output_type": "execute_result"
    }
   ],
   "source": [
    "people_csv.set_index(people_csv['first_name'])\n",
    "people_csv.head()\n",
    "people_csv.copy()"
   ]
  },
  {
   "cell_type": "markdown",
   "id": "facfed35",
   "metadata": {
    "jp-MarkdownHeadingCollapsed": true,
    "tags": []
   },
   "source": [
    "##### Set the index as the 'first_name' column"
   ]
  },
  {
   "cell_type": "code",
   "execution_count": 67,
   "id": "ec76f393",
   "metadata": {},
   "outputs": [
    {
     "data": {
      "text/html": [
       "<div>\n",
       "<style scoped>\n",
       "    .dataframe tbody tr th:only-of-type {\n",
       "        vertical-align: middle;\n",
       "    }\n",
       "\n",
       "    .dataframe tbody tr th {\n",
       "        vertical-align: top;\n",
       "    }\n",
       "\n",
       "    .dataframe thead th {\n",
       "        text-align: right;\n",
       "    }\n",
       "</style>\n",
       "<table border=\"1\" class=\"dataframe\">\n",
       "  <thead>\n",
       "    <tr style=\"text-align: right;\">\n",
       "      <th></th>\n",
       "      <th>first_name</th>\n",
       "      <th>last_name</th>\n",
       "      <th>gender</th>\n",
       "      <th>age</th>\n",
       "      <th>company_name</th>\n",
       "      <th>address</th>\n",
       "      <th>city</th>\n",
       "      <th>county</th>\n",
       "      <th>postal</th>\n",
       "      <th>phone1</th>\n",
       "      <th>phone2</th>\n",
       "      <th>email</th>\n",
       "      <th>web</th>\n",
       "    </tr>\n",
       "    <tr>\n",
       "      <th>first_name</th>\n",
       "      <th></th>\n",
       "      <th></th>\n",
       "      <th></th>\n",
       "      <th></th>\n",
       "      <th></th>\n",
       "      <th></th>\n",
       "      <th></th>\n",
       "      <th></th>\n",
       "      <th></th>\n",
       "      <th></th>\n",
       "      <th></th>\n",
       "      <th></th>\n",
       "      <th></th>\n",
       "    </tr>\n",
       "  </thead>\n",
       "  <tbody>\n",
       "    <tr>\n",
       "      <th>Arya</th>\n",
       "      <td>Arya</td>\n",
       "      <td>Tomkiewicz</td>\n",
       "      <td>F</td>\n",
       "      <td>54</td>\n",
       "      <td>Alan D Rosenburg Cpa Pc</td>\n",
       "      <td>14 Taylor St</td>\n",
       "      <td>St. Stephens Ward</td>\n",
       "      <td>Kent</td>\n",
       "      <td>CT2 7PP</td>\n",
       "      <td>01835-703597</td>\n",
       "      <td>01944-369967</td>\n",
       "      <td>atomkiewicz@hotmail.com</td>\n",
       "      <td>http://www.alandrosenburgcpapc.co.uk</td>\n",
       "    </tr>\n",
       "    <tr>\n",
       "      <th>Evan</th>\n",
       "      <td>Evan</td>\n",
       "      <td>Zigomalas</td>\n",
       "      <td>M</td>\n",
       "      <td>47</td>\n",
       "      <td>Cap Gemini America</td>\n",
       "      <td>5 Binney St</td>\n",
       "      <td>Abbey Ward</td>\n",
       "      <td>Buckinghamshire</td>\n",
       "      <td>HP11 2AX</td>\n",
       "      <td>01937-864715</td>\n",
       "      <td>01714-737668</td>\n",
       "      <td>evan.zigomalas@gmail.com</td>\n",
       "      <td>http://www.capgeminiamerica.co.uk</td>\n",
       "    </tr>\n",
       "    <tr>\n",
       "      <th>France</th>\n",
       "      <td>France</td>\n",
       "      <td>Andrade</td>\n",
       "      <td>M</td>\n",
       "      <td>42</td>\n",
       "      <td>Elliott, John W Esq</td>\n",
       "      <td>8 Moor Place</td>\n",
       "      <td>East Southbourne and Tuckton W</td>\n",
       "      <td>Bournemouth</td>\n",
       "      <td>BH6 3BE</td>\n",
       "      <td>01347-368222</td>\n",
       "      <td>01935-821636</td>\n",
       "      <td>france.andrade@hotmail.com</td>\n",
       "      <td>http://www.elliottjohnwesq.co.uk</td>\n",
       "    </tr>\n",
       "    <tr>\n",
       "      <th>Ulysses</th>\n",
       "      <td>Ulysses</td>\n",
       "      <td>Mcwalters</td>\n",
       "      <td>M</td>\n",
       "      <td>45</td>\n",
       "      <td>Mcmahan, Ben L</td>\n",
       "      <td>505 Exeter Rd</td>\n",
       "      <td>Hawerby cum Beesby</td>\n",
       "      <td>Lincolnshire</td>\n",
       "      <td>DN36 5RP</td>\n",
       "      <td>01912-771311</td>\n",
       "      <td>01302-601380</td>\n",
       "      <td>ulysses@hotmail.com</td>\n",
       "      <td>http://www.mcmahanbenl.co.uk</td>\n",
       "    </tr>\n",
       "    <tr>\n",
       "      <th>Tyisha</th>\n",
       "      <td>Tyisha</td>\n",
       "      <td>Veness</td>\n",
       "      <td>F</td>\n",
       "      <td>37</td>\n",
       "      <td>Champagne Room</td>\n",
       "      <td>5396 Forth Street</td>\n",
       "      <td>Greets Green and Lyng Ward</td>\n",
       "      <td>West Midlands</td>\n",
       "      <td>B70 9DT</td>\n",
       "      <td>01547-429341</td>\n",
       "      <td>01290-367248</td>\n",
       "      <td>tyisha.veness@hotmail.com</td>\n",
       "      <td>http://www.champagneroom.co.uk</td>\n",
       "    </tr>\n",
       "  </tbody>\n",
       "</table>\n",
       "</div>"
      ],
      "text/plain": [
       "           first_name   last_name gender  age             company_name  \\\n",
       "first_name                                                               \n",
       "Arya             Arya  Tomkiewicz      F   54  Alan D Rosenburg Cpa Pc   \n",
       "Evan             Evan   Zigomalas      M   47       Cap Gemini America   \n",
       "France         France     Andrade      M   42      Elliott, John W Esq   \n",
       "Ulysses       Ulysses   Mcwalters      M   45           Mcmahan, Ben L   \n",
       "Tyisha         Tyisha      Veness      F   37           Champagne Room   \n",
       "\n",
       "                      address                            city  \\\n",
       "first_name                                                      \n",
       "Arya             14 Taylor St               St. Stephens Ward   \n",
       "Evan              5 Binney St                      Abbey Ward   \n",
       "France           8 Moor Place  East Southbourne and Tuckton W   \n",
       "Ulysses         505 Exeter Rd              Hawerby cum Beesby   \n",
       "Tyisha      5396 Forth Street      Greets Green and Lyng Ward   \n",
       "\n",
       "                     county    postal        phone1        phone2  \\\n",
       "first_name                                                          \n",
       "Arya                   Kent   CT2 7PP  01835-703597  01944-369967   \n",
       "Evan        Buckinghamshire  HP11 2AX  01937-864715  01714-737668   \n",
       "France          Bournemouth   BH6 3BE  01347-368222  01935-821636   \n",
       "Ulysses        Lincolnshire  DN36 5RP  01912-771311  01302-601380   \n",
       "Tyisha        West Midlands   B70 9DT  01547-429341  01290-367248   \n",
       "\n",
       "                                 email                                   web  \n",
       "first_name                                                                    \n",
       "Arya           atomkiewicz@hotmail.com  http://www.alandrosenburgcpapc.co.uk  \n",
       "Evan          evan.zigomalas@gmail.com     http://www.capgeminiamerica.co.uk  \n",
       "France      france.andrade@hotmail.com      http://www.elliottjohnwesq.co.uk  \n",
       "Ulysses            ulysses@hotmail.com          http://www.mcmahanbenl.co.uk  \n",
       "Tyisha       tyisha.veness@hotmail.com        http://www.champagneroom.co.uk  "
      ]
     },
     "execution_count": 67,
     "metadata": {},
     "output_type": "execute_result"
    }
   ],
   "source": [
    "people_csv.set_index(people_csv['first_name'], inplace=True)\n",
    "people_csv.head()"
   ]
  },
  {
   "cell_type": "markdown",
   "id": "08caad47",
   "metadata": {
    "jp-MarkdownHeadingCollapsed": true,
    "tags": []
   },
   "source": [
    "##### Sort the index"
   ]
  },
  {
   "cell_type": "code",
   "execution_count": 71,
   "id": "2638f914",
   "metadata": {},
   "outputs": [
    {
     "data": {
      "text/html": [
       "<div>\n",
       "<style scoped>\n",
       "    .dataframe tbody tr th:only-of-type {\n",
       "        vertical-align: middle;\n",
       "    }\n",
       "\n",
       "    .dataframe tbody tr th {\n",
       "        vertical-align: top;\n",
       "    }\n",
       "\n",
       "    .dataframe thead th {\n",
       "        text-align: right;\n",
       "    }\n",
       "</style>\n",
       "<table border=\"1\" class=\"dataframe\">\n",
       "  <thead>\n",
       "    <tr style=\"text-align: right;\">\n",
       "      <th></th>\n",
       "      <th>first_name</th>\n",
       "      <th>last_name</th>\n",
       "      <th>gender</th>\n",
       "      <th>age</th>\n",
       "      <th>company_name</th>\n",
       "      <th>address</th>\n",
       "      <th>city</th>\n",
       "      <th>county</th>\n",
       "      <th>postal</th>\n",
       "      <th>phone1</th>\n",
       "      <th>phone2</th>\n",
       "      <th>email</th>\n",
       "      <th>web</th>\n",
       "    </tr>\n",
       "    <tr>\n",
       "      <th>first_name</th>\n",
       "      <th></th>\n",
       "      <th></th>\n",
       "      <th></th>\n",
       "      <th></th>\n",
       "      <th></th>\n",
       "      <th></th>\n",
       "      <th></th>\n",
       "      <th></th>\n",
       "      <th></th>\n",
       "      <th></th>\n",
       "      <th></th>\n",
       "      <th></th>\n",
       "      <th></th>\n",
       "    </tr>\n",
       "  </thead>\n",
       "  <tbody>\n",
       "    <tr>\n",
       "      <th>Abraham</th>\n",
       "      <td>Abraham</td>\n",
       "      <td>Cratch</td>\n",
       "      <td>M</td>\n",
       "      <td>39</td>\n",
       "      <td>Cavuto, John A</td>\n",
       "      <td>41 Benedict St</td>\n",
       "      <td>Aldborough Ward</td>\n",
       "      <td>Greater London</td>\n",
       "      <td>IG2 7QG</td>\n",
       "      <td>01599-245408</td>\n",
       "      <td>01695-305111</td>\n",
       "      <td>acratch@gmail.com</td>\n",
       "      <td>http://www.cavutojohna.co.uk</td>\n",
       "    </tr>\n",
       "    <tr>\n",
       "      <th>Adelle</th>\n",
       "      <td>Adelle</td>\n",
       "      <td>Schantini</td>\n",
       "      <td>F</td>\n",
       "      <td>52</td>\n",
       "      <td>Creative Photography Inc</td>\n",
       "      <td>162 Grayson St</td>\n",
       "      <td>Greenlands Ward</td>\n",
       "      <td>Lancashire</td>\n",
       "      <td>FY2 0TD</td>\n",
       "      <td>01624-595660</td>\n",
       "      <td>01938-262356</td>\n",
       "      <td>adelle_schantini@yahoo.com</td>\n",
       "      <td>http://www.creativephotographyinc.co.uk</td>\n",
       "    </tr>\n",
       "    <tr>\n",
       "      <th>Adolph</th>\n",
       "      <td>Adolph</td>\n",
       "      <td>Cunningham</td>\n",
       "      <td>M</td>\n",
       "      <td>58</td>\n",
       "      <td>Moorhead, Bridget Klein Esq</td>\n",
       "      <td>9874 Oakfield Rd</td>\n",
       "      <td>Redhill Ward</td>\n",
       "      <td>Tyne and Wear</td>\n",
       "      <td>SR5 5PT</td>\n",
       "      <td>01731-429712</td>\n",
       "      <td>01252-511174</td>\n",
       "      <td>adolph_cunningham@hotmail.com</td>\n",
       "      <td>http://www.moorheadbridgetkleinesq.co.uk</td>\n",
       "    </tr>\n",
       "    <tr>\n",
       "      <th>Ahmad</th>\n",
       "      <td>Ahmad</td>\n",
       "      <td>Alsaqri</td>\n",
       "      <td>M</td>\n",
       "      <td>51</td>\n",
       "      <td>Alliance Construction Co Inc</td>\n",
       "      <td>21 Pickwick St</td>\n",
       "      <td>Sutton cum Duckmanton</td>\n",
       "      <td>Derbyshire</td>\n",
       "      <td>S44 5DS</td>\n",
       "      <td>01567-555570</td>\n",
       "      <td>01852-550588</td>\n",
       "      <td>ahmad.alsaqri@yahoo.com</td>\n",
       "      <td>http://www.allianceconstructioncoinc.co.uk</td>\n",
       "    </tr>\n",
       "    <tr>\n",
       "      <th>Alaine</th>\n",
       "      <td>Alaine</td>\n",
       "      <td>Raterman</td>\n",
       "      <td>F</td>\n",
       "      <td>35</td>\n",
       "      <td>Putnam Co Inc</td>\n",
       "      <td>1 Milton St</td>\n",
       "      <td>Little Missenden</td>\n",
       "      <td>Buckinghamshire</td>\n",
       "      <td>HP16 0DH</td>\n",
       "      <td>01927-151413</td>\n",
       "      <td>01525-172423</td>\n",
       "      <td>alaine@hotmail.com</td>\n",
       "      <td>http://www.putnamcoinc.co.uk</td>\n",
       "    </tr>\n",
       "  </tbody>\n",
       "</table>\n",
       "</div>"
      ],
      "text/plain": [
       "           first_name   last_name gender  age                  company_name  \\\n",
       "first_name                                                                    \n",
       "Abraham       Abraham      Cratch      M   39                Cavuto, John A   \n",
       "Adelle         Adelle   Schantini      F   52      Creative Photography Inc   \n",
       "Adolph         Adolph  Cunningham      M   58   Moorhead, Bridget Klein Esq   \n",
       "Ahmad           Ahmad     Alsaqri      M   51  Alliance Construction Co Inc   \n",
       "Alaine         Alaine    Raterman      F   35                 Putnam Co Inc   \n",
       "\n",
       "                     address                   city           county  \\\n",
       "first_name                                                             \n",
       "Abraham       41 Benedict St        Aldborough Ward   Greater London   \n",
       "Adelle        162 Grayson St        Greenlands Ward       Lancashire   \n",
       "Adolph      9874 Oakfield Rd           Redhill Ward    Tyne and Wear   \n",
       "Ahmad         21 Pickwick St  Sutton cum Duckmanton       Derbyshire   \n",
       "Alaine           1 Milton St       Little Missenden  Buckinghamshire   \n",
       "\n",
       "              postal        phone1        phone2  \\\n",
       "first_name                                         \n",
       "Abraham      IG2 7QG  01599-245408  01695-305111   \n",
       "Adelle       FY2 0TD  01624-595660  01938-262356   \n",
       "Adolph       SR5 5PT  01731-429712  01252-511174   \n",
       "Ahmad        S44 5DS  01567-555570  01852-550588   \n",
       "Alaine      HP16 0DH  01927-151413  01525-172423   \n",
       "\n",
       "                                    email  \\\n",
       "first_name                                  \n",
       "Abraham                 acratch@gmail.com   \n",
       "Adelle         adelle_schantini@yahoo.com   \n",
       "Adolph      adolph_cunningham@hotmail.com   \n",
       "Ahmad             ahmad.alsaqri@yahoo.com   \n",
       "Alaine                 alaine@hotmail.com   \n",
       "\n",
       "                                                   web  \n",
       "first_name                                              \n",
       "Abraham                   http://www.cavutojohna.co.uk  \n",
       "Adelle         http://www.creativephotographyinc.co.uk  \n",
       "Adolph        http://www.moorheadbridgetkleinesq.co.uk  \n",
       "Ahmad       http://www.allianceconstructioncoinc.co.uk  \n",
       "Alaine                    http://www.putnamcoinc.co.uk  "
      ]
     },
     "execution_count": 71,
     "metadata": {},
     "output_type": "execute_result"
    }
   ],
   "source": [
    "people_csv.sort_index(inplace=True)\n",
    "people_csv.head()"
   ]
  },
  {
   "cell_type": "markdown",
   "id": "129819a5",
   "metadata": {
    "jp-MarkdownHeadingCollapsed": true,
    "tags": []
   },
   "source": [
    "##### Select the row with the index 'Evan'"
   ]
  },
  {
   "cell_type": "code",
   "execution_count": 72,
   "id": "d5685845",
   "metadata": {},
   "outputs": [
    {
     "data": {
      "text/plain": [
       "first_name                                   Evan\n",
       "last_name                               Zigomalas\n",
       "gender                                          M\n",
       "age                                            47\n",
       "company_name                   Cap Gemini America\n",
       "address                               5 Binney St\n",
       "city                                   Abbey Ward\n",
       "county                            Buckinghamshire\n",
       "postal                                   HP11 2AX\n",
       "phone1                               01937-864715\n",
       "phone2                               01714-737668\n",
       "email                    evan.zigomalas@gmail.com\n",
       "web             http://www.capgeminiamerica.co.uk\n",
       "Name: Evan, dtype: object"
      ]
     },
     "execution_count": 72,
     "metadata": {},
     "output_type": "execute_result"
    }
   ],
   "source": [
    "people_csv.loc['Evan']"
   ]
  },
  {
   "cell_type": "markdown",
   "id": "b907a836",
   "metadata": {
    "jp-MarkdownHeadingCollapsed": true,
    "tags": []
   },
   "source": [
    "##### Slice the data to output a range of rows based on the index"
   ]
  },
  {
   "cell_type": "code",
   "execution_count": 73,
   "id": "b766a3b1",
   "metadata": {},
   "outputs": [
    {
     "data": {
      "text/html": [
       "<div>\n",
       "<style scoped>\n",
       "    .dataframe tbody tr th:only-of-type {\n",
       "        vertical-align: middle;\n",
       "    }\n",
       "\n",
       "    .dataframe tbody tr th {\n",
       "        vertical-align: top;\n",
       "    }\n",
       "\n",
       "    .dataframe thead th {\n",
       "        text-align: right;\n",
       "    }\n",
       "</style>\n",
       "<table border=\"1\" class=\"dataframe\">\n",
       "  <thead>\n",
       "    <tr style=\"text-align: right;\">\n",
       "      <th></th>\n",
       "      <th>first_name</th>\n",
       "      <th>last_name</th>\n",
       "      <th>gender</th>\n",
       "      <th>age</th>\n",
       "      <th>company_name</th>\n",
       "      <th>address</th>\n",
       "      <th>city</th>\n",
       "      <th>county</th>\n",
       "      <th>postal</th>\n",
       "      <th>phone1</th>\n",
       "      <th>phone2</th>\n",
       "      <th>email</th>\n",
       "      <th>web</th>\n",
       "    </tr>\n",
       "    <tr>\n",
       "      <th>first_name</th>\n",
       "      <th></th>\n",
       "      <th></th>\n",
       "      <th></th>\n",
       "      <th></th>\n",
       "      <th></th>\n",
       "      <th></th>\n",
       "      <th></th>\n",
       "      <th></th>\n",
       "      <th></th>\n",
       "      <th></th>\n",
       "      <th></th>\n",
       "      <th></th>\n",
       "      <th></th>\n",
       "    </tr>\n",
       "  </thead>\n",
       "  <tbody>\n",
       "    <tr>\n",
       "      <th>Alesia</th>\n",
       "      <td>Alesia</td>\n",
       "      <td>Katie</td>\n",
       "      <td>F</td>\n",
       "      <td>26</td>\n",
       "      <td>Nelsons Trmt &amp; Pest Cntrl Co</td>\n",
       "      <td>4 Covent Garden</td>\n",
       "      <td>Farnworth Ward</td>\n",
       "      <td>Greater Manchester</td>\n",
       "      <td>BL4 7AF</td>\n",
       "      <td>01333-436799</td>\n",
       "      <td>01240-614527</td>\n",
       "      <td>alesia_katie@gmail.com</td>\n",
       "      <td>http://www.nelsonstrmtpestcntrlco.co.uk</td>\n",
       "    </tr>\n",
       "    <tr>\n",
       "      <th>Aleta</th>\n",
       "      <td>Aleta</td>\n",
       "      <td>Ligons</td>\n",
       "      <td>F</td>\n",
       "      <td>51</td>\n",
       "      <td>Advantage Bookkeeping</td>\n",
       "      <td>4545 Victoria Rd</td>\n",
       "      <td>Kilbirnie and Beith Ward</td>\n",
       "      <td>North Ayrshire</td>\n",
       "      <td>KA15 1AT</td>\n",
       "      <td>01952-535977</td>\n",
       "      <td>01715-637895</td>\n",
       "      <td>aleta_ligons@hotmail.com</td>\n",
       "      <td>http://www.advantagebookkeeping.co.uk</td>\n",
       "    </tr>\n",
       "    <tr>\n",
       "      <th>Alethea</th>\n",
       "      <td>Alethea</td>\n",
       "      <td>Mould</td>\n",
       "      <td>F</td>\n",
       "      <td>37</td>\n",
       "      <td>Hughlett, Henry T Jr</td>\n",
       "      <td>6305 Elstow St</td>\n",
       "      <td>Castle Ward</td>\n",
       "      <td>West Sussex</td>\n",
       "      <td>BN12 6PR</td>\n",
       "      <td>01662-114247</td>\n",
       "      <td>01351-868965</td>\n",
       "      <td>alethea@hotmail.com</td>\n",
       "      <td>http://www.hughletthenrytjr.co.uk</td>\n",
       "    </tr>\n",
       "    <tr>\n",
       "      <th>Alexia</th>\n",
       "      <td>Alexia</td>\n",
       "      <td>Meenan</td>\n",
       "      <td>F</td>\n",
       "      <td>42</td>\n",
       "      <td>Herr Foods Inc</td>\n",
       "      <td>94 Villars St</td>\n",
       "      <td>Launcells</td>\n",
       "      <td>Cornwall</td>\n",
       "      <td>EX23 9LG</td>\n",
       "      <td>01560-328739</td>\n",
       "      <td>01270-931388</td>\n",
       "      <td>alexia.meenan@meenan.co.uk</td>\n",
       "      <td>http://www.herrfoodsinc.co.uk</td>\n",
       "    </tr>\n",
       "    <tr>\n",
       "      <th>Alise</th>\n",
       "      <td>Alise</td>\n",
       "      <td>Packebush</td>\n",
       "      <td>F</td>\n",
       "      <td>30</td>\n",
       "      <td>Wnc Forklift Inc</td>\n",
       "      <td>22 Delamore St</td>\n",
       "      <td>Hereford</td>\n",
       "      <td>Hereford and Worcester</td>\n",
       "      <td>HR1 2EA</td>\n",
       "      <td>01266-695304</td>\n",
       "      <td>01517-702273</td>\n",
       "      <td>alise.packebush@gmail.com</td>\n",
       "      <td>http://www.wncforkliftinc.co.uk</td>\n",
       "    </tr>\n",
       "  </tbody>\n",
       "</table>\n",
       "</div>"
      ],
      "text/plain": [
       "           first_name  last_name gender  age                  company_name  \\\n",
       "first_name                                                                   \n",
       "Alesia         Alesia      Katie      F   26  Nelsons Trmt & Pest Cntrl Co   \n",
       "Aleta           Aleta     Ligons      F   51         Advantage Bookkeeping   \n",
       "Alethea       Alethea      Mould      F   37          Hughlett, Henry T Jr   \n",
       "Alexia         Alexia     Meenan      F   42                Herr Foods Inc   \n",
       "Alise           Alise  Packebush      F   30              Wnc Forklift Inc   \n",
       "\n",
       "                     address                      city  \\\n",
       "first_name                                               \n",
       "Alesia       4 Covent Garden            Farnworth Ward   \n",
       "Aleta       4545 Victoria Rd  Kilbirnie and Beith Ward   \n",
       "Alethea       6305 Elstow St               Castle Ward   \n",
       "Alexia         94 Villars St                 Launcells   \n",
       "Alise         22 Delamore St                  Hereford   \n",
       "\n",
       "                            county    postal        phone1        phone2  \\\n",
       "first_name                                                                 \n",
       "Alesia          Greater Manchester   BL4 7AF  01333-436799  01240-614527   \n",
       "Aleta               North Ayrshire  KA15 1AT  01952-535977  01715-637895   \n",
       "Alethea                West Sussex  BN12 6PR  01662-114247  01351-868965   \n",
       "Alexia                    Cornwall  EX23 9LG  01560-328739  01270-931388   \n",
       "Alise       Hereford and Worcester   HR1 2EA  01266-695304  01517-702273   \n",
       "\n",
       "                                 email  \\\n",
       "first_name                               \n",
       "Alesia          alesia_katie@gmail.com   \n",
       "Aleta         aleta_ligons@hotmail.com   \n",
       "Alethea            alethea@hotmail.com   \n",
       "Alexia      alexia.meenan@meenan.co.uk   \n",
       "Alise        alise.packebush@gmail.com   \n",
       "\n",
       "                                                web  \n",
       "first_name                                           \n",
       "Alesia      http://www.nelsonstrmtpestcntrlco.co.uk  \n",
       "Aleta         http://www.advantagebookkeeping.co.uk  \n",
       "Alethea           http://www.hughletthenrytjr.co.uk  \n",
       "Alexia                http://www.herrfoodsinc.co.uk  \n",
       "Alise               http://www.wncforkliftinc.co.uk  "
      ]
     },
     "execution_count": 73,
     "metadata": {},
     "output_type": "execute_result"
    }
   ],
   "source": [
    "people_csv.loc['Aleshia':'Svetlana'].head()"
   ]
  },
  {
   "cell_type": "markdown",
   "id": "d4c67030",
   "metadata": {
    "jp-MarkdownHeadingCollapsed": true,
    "tags": []
   },
   "source": [
    "##### Filter rows based on a column value conditional"
   ]
  },
  {
   "cell_type": "code",
   "execution_count": 74,
   "id": "ba31be1e",
   "metadata": {},
   "outputs": [
    {
     "data": {
      "text/html": [
       "<div>\n",
       "<style scoped>\n",
       "    .dataframe tbody tr th:only-of-type {\n",
       "        vertical-align: middle;\n",
       "    }\n",
       "\n",
       "    .dataframe tbody tr th {\n",
       "        vertical-align: top;\n",
       "    }\n",
       "\n",
       "    .dataframe thead th {\n",
       "        text-align: right;\n",
       "    }\n",
       "</style>\n",
       "<table border=\"1\" class=\"dataframe\">\n",
       "  <thead>\n",
       "    <tr style=\"text-align: right;\">\n",
       "      <th></th>\n",
       "      <th>first_name</th>\n",
       "      <th>last_name</th>\n",
       "      <th>gender</th>\n",
       "      <th>age</th>\n",
       "      <th>company_name</th>\n",
       "      <th>address</th>\n",
       "      <th>city</th>\n",
       "      <th>county</th>\n",
       "      <th>postal</th>\n",
       "      <th>phone1</th>\n",
       "      <th>phone2</th>\n",
       "      <th>email</th>\n",
       "      <th>web</th>\n",
       "    </tr>\n",
       "    <tr>\n",
       "      <th>first_name</th>\n",
       "      <th></th>\n",
       "      <th></th>\n",
       "      <th></th>\n",
       "      <th></th>\n",
       "      <th></th>\n",
       "      <th></th>\n",
       "      <th></th>\n",
       "      <th></th>\n",
       "      <th></th>\n",
       "      <th></th>\n",
       "      <th></th>\n",
       "      <th></th>\n",
       "      <th></th>\n",
       "    </tr>\n",
       "  </thead>\n",
       "  <tbody>\n",
       "    <tr>\n",
       "      <th>Abraham</th>\n",
       "      <td>Abraham</td>\n",
       "      <td>Cratch</td>\n",
       "      <td>M</td>\n",
       "      <td>39</td>\n",
       "      <td>Cavuto, John A</td>\n",
       "      <td>41 Benedict St</td>\n",
       "      <td>Aldborough Ward</td>\n",
       "      <td>Greater London</td>\n",
       "      <td>IG2 7QG</td>\n",
       "      <td>01599-245408</td>\n",
       "      <td>01695-305111</td>\n",
       "      <td>acratch@gmail.com</td>\n",
       "      <td>http://www.cavutojohna.co.uk</td>\n",
       "    </tr>\n",
       "    <tr>\n",
       "      <th>Adolph</th>\n",
       "      <td>Adolph</td>\n",
       "      <td>Cunningham</td>\n",
       "      <td>M</td>\n",
       "      <td>58</td>\n",
       "      <td>Moorhead, Bridget Klein Esq</td>\n",
       "      <td>9874 Oakfield Rd</td>\n",
       "      <td>Redhill Ward</td>\n",
       "      <td>Tyne and Wear</td>\n",
       "      <td>SR5 5PT</td>\n",
       "      <td>01731-429712</td>\n",
       "      <td>01252-511174</td>\n",
       "      <td>adolph_cunningham@hotmail.com</td>\n",
       "      <td>http://www.moorheadbridgetkleinesq.co.uk</td>\n",
       "    </tr>\n",
       "    <tr>\n",
       "      <th>Ahmad</th>\n",
       "      <td>Ahmad</td>\n",
       "      <td>Alsaqri</td>\n",
       "      <td>M</td>\n",
       "      <td>51</td>\n",
       "      <td>Alliance Construction Co Inc</td>\n",
       "      <td>21 Pickwick St</td>\n",
       "      <td>Sutton cum Duckmanton</td>\n",
       "      <td>Derbyshire</td>\n",
       "      <td>S44 5DS</td>\n",
       "      <td>01567-555570</td>\n",
       "      <td>01852-550588</td>\n",
       "      <td>ahmad.alsaqri@yahoo.com</td>\n",
       "      <td>http://www.allianceconstructioncoinc.co.uk</td>\n",
       "    </tr>\n",
       "    <tr>\n",
       "      <th>Alba</th>\n",
       "      <td>Alba</td>\n",
       "      <td>Mosseri</td>\n",
       "      <td>M</td>\n",
       "      <td>52</td>\n",
       "      <td>Schwartzbard, Gail L Esq</td>\n",
       "      <td>4 Burnall St</td>\n",
       "      <td>Beeston West Ward</td>\n",
       "      <td>Nottinghamshire</td>\n",
       "      <td>NG9 1AE</td>\n",
       "      <td>01543-198690</td>\n",
       "      <td>01231-806535</td>\n",
       "      <td>alba@gmail.com</td>\n",
       "      <td>http://www.schwartzbardgaillesq.co.uk</td>\n",
       "    </tr>\n",
       "    <tr>\n",
       "      <th>Alton</th>\n",
       "      <td>Alton</td>\n",
       "      <td>Rampy</td>\n",
       "      <td>M</td>\n",
       "      <td>25</td>\n",
       "      <td>Reliable Metalcraft Inc</td>\n",
       "      <td>83 Battenburg St</td>\n",
       "      <td>Girvan and South Carrick Ward</td>\n",
       "      <td>South Ayrshire</td>\n",
       "      <td>KA26 0DY</td>\n",
       "      <td>01767-568989</td>\n",
       "      <td>01506-160673</td>\n",
       "      <td>alton_rampy@gmail.com</td>\n",
       "      <td>http://www.reliablemetalcraftinc.co.uk</td>\n",
       "    </tr>\n",
       "  </tbody>\n",
       "</table>\n",
       "</div>"
      ],
      "text/plain": [
       "           first_name   last_name gender  age                  company_name  \\\n",
       "first_name                                                                    \n",
       "Abraham       Abraham      Cratch      M   39                Cavuto, John A   \n",
       "Adolph         Adolph  Cunningham      M   58   Moorhead, Bridget Klein Esq   \n",
       "Ahmad           Ahmad     Alsaqri      M   51  Alliance Construction Co Inc   \n",
       "Alba             Alba     Mosseri      M   52      Schwartzbard, Gail L Esq   \n",
       "Alton           Alton       Rampy      M   25       Reliable Metalcraft Inc   \n",
       "\n",
       "                     address                           city           county  \\\n",
       "first_name                                                                     \n",
       "Abraham       41 Benedict St                Aldborough Ward   Greater London   \n",
       "Adolph      9874 Oakfield Rd                   Redhill Ward    Tyne and Wear   \n",
       "Ahmad         21 Pickwick St          Sutton cum Duckmanton       Derbyshire   \n",
       "Alba            4 Burnall St              Beeston West Ward  Nottinghamshire   \n",
       "Alton       83 Battenburg St  Girvan and South Carrick Ward   South Ayrshire   \n",
       "\n",
       "              postal        phone1        phone2  \\\n",
       "first_name                                         \n",
       "Abraham      IG2 7QG  01599-245408  01695-305111   \n",
       "Adolph       SR5 5PT  01731-429712  01252-511174   \n",
       "Ahmad        S44 5DS  01567-555570  01852-550588   \n",
       "Alba         NG9 1AE  01543-198690  01231-806535   \n",
       "Alton       KA26 0DY  01767-568989  01506-160673   \n",
       "\n",
       "                                    email  \\\n",
       "first_name                                  \n",
       "Abraham                 acratch@gmail.com   \n",
       "Adolph      adolph_cunningham@hotmail.com   \n",
       "Ahmad             ahmad.alsaqri@yahoo.com   \n",
       "Alba                       alba@gmail.com   \n",
       "Alton               alton_rampy@gmail.com   \n",
       "\n",
       "                                                   web  \n",
       "first_name                                              \n",
       "Abraham                   http://www.cavutojohna.co.uk  \n",
       "Adolph        http://www.moorheadbridgetkleinesq.co.uk  \n",
       "Ahmad       http://www.allianceconstructioncoinc.co.uk  \n",
       "Alba             http://www.schwartzbardgaillesq.co.uk  \n",
       "Alton           http://www.reliablemetalcraftinc.co.uk  "
      ]
     },
     "execution_count": 74,
     "metadata": {},
     "output_type": "execute_result"
    }
   ],
   "source": [
    "people_csv.loc[people_csv['gender'] == 'M'].head()"
   ]
  },
  {
   "cell_type": "markdown",
   "id": "c7010420",
   "metadata": {
    "tags": []
   },
   "source": [
    "#### v. Assignment Using `loc`"
   ]
  },
  {
   "cell_type": "markdown",
   "id": "94a60ab6",
   "metadata": {
    "jp-MarkdownHeadingCollapsed": true,
    "tags": []
   },
   "source": [
    "##### Modify the 'first_name' value of the row with the index 'Yun'"
   ]
  },
  {
   "cell_type": "code",
   "execution_count": 75,
   "id": "28d1a8db",
   "metadata": {},
   "outputs": [
    {
     "data": {
      "text/html": [
       "<div>\n",
       "<style scoped>\n",
       "    .dataframe tbody tr th:only-of-type {\n",
       "        vertical-align: middle;\n",
       "    }\n",
       "\n",
       "    .dataframe tbody tr th {\n",
       "        vertical-align: top;\n",
       "    }\n",
       "\n",
       "    .dataframe thead th {\n",
       "        text-align: right;\n",
       "    }\n",
       "</style>\n",
       "<table border=\"1\" class=\"dataframe\">\n",
       "  <thead>\n",
       "    <tr style=\"text-align: right;\">\n",
       "      <th></th>\n",
       "      <th>first_name</th>\n",
       "      <th>last_name</th>\n",
       "      <th>gender</th>\n",
       "      <th>age</th>\n",
       "      <th>company_name</th>\n",
       "      <th>address</th>\n",
       "      <th>city</th>\n",
       "      <th>county</th>\n",
       "      <th>postal</th>\n",
       "      <th>phone1</th>\n",
       "      <th>phone2</th>\n",
       "      <th>email</th>\n",
       "      <th>web</th>\n",
       "    </tr>\n",
       "    <tr>\n",
       "      <th>first_name</th>\n",
       "      <th></th>\n",
       "      <th></th>\n",
       "      <th></th>\n",
       "      <th></th>\n",
       "      <th></th>\n",
       "      <th></th>\n",
       "      <th></th>\n",
       "      <th></th>\n",
       "      <th></th>\n",
       "      <th></th>\n",
       "      <th></th>\n",
       "      <th></th>\n",
       "      <th></th>\n",
       "    </tr>\n",
       "  </thead>\n",
       "  <tbody>\n",
       "    <tr>\n",
       "      <th>Abraham</th>\n",
       "      <td>Abraham</td>\n",
       "      <td>Cratch</td>\n",
       "      <td>M</td>\n",
       "      <td>39</td>\n",
       "      <td>Cavuto, John A</td>\n",
       "      <td>41 Benedict St</td>\n",
       "      <td>Aldborough Ward</td>\n",
       "      <td>Greater London</td>\n",
       "      <td>IG2 7QG</td>\n",
       "      <td>01599-245408</td>\n",
       "      <td>01695-305111</td>\n",
       "      <td>acratch@gmail.com</td>\n",
       "      <td>http://www.cavutojohna.co.uk</td>\n",
       "    </tr>\n",
       "    <tr>\n",
       "      <th>Adelle</th>\n",
       "      <td>Adelle</td>\n",
       "      <td>Schantini</td>\n",
       "      <td>F</td>\n",
       "      <td>52</td>\n",
       "      <td>Creative Photography Inc</td>\n",
       "      <td>162 Grayson St</td>\n",
       "      <td>Greenlands Ward</td>\n",
       "      <td>Lancashire</td>\n",
       "      <td>FY2 0TD</td>\n",
       "      <td>01624-595660</td>\n",
       "      <td>01938-262356</td>\n",
       "      <td>adelle_schantini@yahoo.com</td>\n",
       "      <td>http://www.creativephotographyinc.co.uk</td>\n",
       "    </tr>\n",
       "    <tr>\n",
       "      <th>Adolph</th>\n",
       "      <td>Adolph</td>\n",
       "      <td>Cunningham</td>\n",
       "      <td>M</td>\n",
       "      <td>58</td>\n",
       "      <td>Moorhead, Bridget Klein Esq</td>\n",
       "      <td>9874 Oakfield Rd</td>\n",
       "      <td>Redhill Ward</td>\n",
       "      <td>Tyne and Wear</td>\n",
       "      <td>SR5 5PT</td>\n",
       "      <td>01731-429712</td>\n",
       "      <td>01252-511174</td>\n",
       "      <td>adolph_cunningham@hotmail.com</td>\n",
       "      <td>http://www.moorheadbridgetkleinesq.co.uk</td>\n",
       "    </tr>\n",
       "    <tr>\n",
       "      <th>Ahmad</th>\n",
       "      <td>Ahmad</td>\n",
       "      <td>Alsaqri</td>\n",
       "      <td>M</td>\n",
       "      <td>51</td>\n",
       "      <td>Alliance Construction Co Inc</td>\n",
       "      <td>21 Pickwick St</td>\n",
       "      <td>Sutton cum Duckmanton</td>\n",
       "      <td>Derbyshire</td>\n",
       "      <td>S44 5DS</td>\n",
       "      <td>01567-555570</td>\n",
       "      <td>01852-550588</td>\n",
       "      <td>ahmad.alsaqri@yahoo.com</td>\n",
       "      <td>http://www.allianceconstructioncoinc.co.uk</td>\n",
       "    </tr>\n",
       "    <tr>\n",
       "      <th>Alaine</th>\n",
       "      <td>Alaine</td>\n",
       "      <td>Raterman</td>\n",
       "      <td>F</td>\n",
       "      <td>35</td>\n",
       "      <td>Putnam Co Inc</td>\n",
       "      <td>1 Milton St</td>\n",
       "      <td>Little Missenden</td>\n",
       "      <td>Buckinghamshire</td>\n",
       "      <td>HP16 0DH</td>\n",
       "      <td>01927-151413</td>\n",
       "      <td>01525-172423</td>\n",
       "      <td>alaine@hotmail.com</td>\n",
       "      <td>http://www.putnamcoinc.co.uk</td>\n",
       "    </tr>\n",
       "  </tbody>\n",
       "</table>\n",
       "</div>"
      ],
      "text/plain": [
       "           first_name   last_name gender  age                  company_name  \\\n",
       "first_name                                                                    \n",
       "Abraham       Abraham      Cratch      M   39                Cavuto, John A   \n",
       "Adelle         Adelle   Schantini      F   52      Creative Photography Inc   \n",
       "Adolph         Adolph  Cunningham      M   58   Moorhead, Bridget Klein Esq   \n",
       "Ahmad           Ahmad     Alsaqri      M   51  Alliance Construction Co Inc   \n",
       "Alaine         Alaine    Raterman      F   35                 Putnam Co Inc   \n",
       "\n",
       "                     address                   city           county  \\\n",
       "first_name                                                             \n",
       "Abraham       41 Benedict St        Aldborough Ward   Greater London   \n",
       "Adelle        162 Grayson St        Greenlands Ward       Lancashire   \n",
       "Adolph      9874 Oakfield Rd           Redhill Ward    Tyne and Wear   \n",
       "Ahmad         21 Pickwick St  Sutton cum Duckmanton       Derbyshire   \n",
       "Alaine           1 Milton St       Little Missenden  Buckinghamshire   \n",
       "\n",
       "              postal        phone1        phone2  \\\n",
       "first_name                                         \n",
       "Abraham      IG2 7QG  01599-245408  01695-305111   \n",
       "Adelle       FY2 0TD  01624-595660  01938-262356   \n",
       "Adolph       SR5 5PT  01731-429712  01252-511174   \n",
       "Ahmad        S44 5DS  01567-555570  01852-550588   \n",
       "Alaine      HP16 0DH  01927-151413  01525-172423   \n",
       "\n",
       "                                    email  \\\n",
       "first_name                                  \n",
       "Abraham                 acratch@gmail.com   \n",
       "Adelle         adelle_schantini@yahoo.com   \n",
       "Adolph      adolph_cunningham@hotmail.com   \n",
       "Ahmad             ahmad.alsaqri@yahoo.com   \n",
       "Alaine                 alaine@hotmail.com   \n",
       "\n",
       "                                                   web  \n",
       "first_name                                              \n",
       "Abraham                   http://www.cavutojohna.co.uk  \n",
       "Adelle         http://www.creativephotographyinc.co.uk  \n",
       "Adolph        http://www.moorheadbridgetkleinesq.co.uk  \n",
       "Ahmad       http://www.allianceconstructioncoinc.co.uk  \n",
       "Alaine                    http://www.putnamcoinc.co.uk  "
      ]
     },
     "execution_count": 75,
     "metadata": {},
     "output_type": "execute_result"
    }
   ],
   "source": [
    "people_csv.loc['Yun', 'first_name'] = 'Yuna'\n",
    "people_csv.head()"
   ]
  },
  {
   "cell_type": "markdown",
   "id": "8ae17071",
   "metadata": {
    "jp-MarkdownHeadingCollapsed": true,
    "tags": []
   },
   "source": [
    "### V. Pandas Visualization"
   ]
  },
  {
   "cell_type": "markdown",
   "id": "1b5f93ea",
   "metadata": {
    "jp-MarkdownHeadingCollapsed": true,
    "tags": []
   },
   "source": [
    "#### i. Read CSV"
   ]
  },
  {
   "cell_type": "code",
   "execution_count": 80,
   "id": "66effab1",
   "metadata": {},
   "outputs": [
    {
     "data": {
      "text/html": [
       "<div>\n",
       "<style scoped>\n",
       "    .dataframe tbody tr th:only-of-type {\n",
       "        vertical-align: middle;\n",
       "    }\n",
       "\n",
       "    .dataframe tbody tr th {\n",
       "        vertical-align: top;\n",
       "    }\n",
       "\n",
       "    .dataframe thead th {\n",
       "        text-align: right;\n",
       "    }\n",
       "</style>\n",
       "<table border=\"1\" class=\"dataframe\">\n",
       "  <thead>\n",
       "    <tr style=\"text-align: right;\">\n",
       "      <th></th>\n",
       "      <th>Date</th>\n",
       "      <th>Price</th>\n",
       "    </tr>\n",
       "  </thead>\n",
       "  <tbody>\n",
       "    <tr>\n",
       "      <th>0</th>\n",
       "      <td>1950-12</td>\n",
       "      <td>34.72</td>\n",
       "    </tr>\n",
       "    <tr>\n",
       "      <th>1</th>\n",
       "      <td>1951-12</td>\n",
       "      <td>34.66</td>\n",
       "    </tr>\n",
       "    <tr>\n",
       "      <th>2</th>\n",
       "      <td>1952-12</td>\n",
       "      <td>34.79</td>\n",
       "    </tr>\n",
       "    <tr>\n",
       "      <th>3</th>\n",
       "      <td>1953-12</td>\n",
       "      <td>34.85</td>\n",
       "    </tr>\n",
       "    <tr>\n",
       "      <th>4</th>\n",
       "      <td>1954-12</td>\n",
       "      <td>35.04</td>\n",
       "    </tr>\n",
       "  </tbody>\n",
       "</table>\n",
       "</div>"
      ],
      "text/plain": [
       "      Date  Price\n",
       "0  1950-12  34.72\n",
       "1  1951-12  34.66\n",
       "2  1952-12  34.79\n",
       "3  1953-12  34.85\n",
       "4  1954-12  35.04"
      ]
     },
     "execution_count": 80,
     "metadata": {},
     "output_type": "execute_result"
    }
   ],
   "source": [
    "# Set the file path\n",
    "file_path = Path('cheatsheetresources/annual_gold.csv')\n",
    "\n",
    "# Read in the CSV as a DataFrame\n",
    "gold_csv = pd.read_csv(file_path)\n",
    "gold_csv.head()"
   ]
  },
  {
   "cell_type": "markdown",
   "id": "548eea06",
   "metadata": {
    "jp-MarkdownHeadingCollapsed": true,
    "tags": []
   },
   "source": [
    "#### ii. Plot Data Without Datetime Index"
   ]
  },
  {
   "cell_type": "code",
   "execution_count": 81,
   "id": "54fac7c7",
   "metadata": {},
   "outputs": [
    {
     "data": {
      "text/plain": [
       "<AxesSubplot:>"
      ]
     },
     "execution_count": 81,
     "metadata": {},
     "output_type": "execute_result"
    },
    {
     "data": {
      "image/png": "[encoded data removed]",
      "text/plain": [
       "<Figure size 432x288 with 1 Axes>"
      ]
     },
     "metadata": {
      "needs_background": "light"
     },
     "output_type": "display_data"
    }
   ],
   "source": [
    "# Plot a line chart of the data without setting the 'Date' column as the index\n",
    "gold_csv.plot()"
   ]
  },
  {
   "cell_type": "markdown",
   "id": "3ca0d17c",
   "metadata": {
    "jp-MarkdownHeadingCollapsed": true,
    "tags": []
   },
   "source": [
    "#### iii. Set Date as Index"
   ]
  },
  {
   "cell_type": "code",
   "execution_count": 82,
   "id": "e083efd6",
   "metadata": {},
   "outputs": [
    {
     "data": {
      "text/html": [
       "<div>\n",
       "<style scoped>\n",
       "    .dataframe tbody tr th:only-of-type {\n",
       "        vertical-align: middle;\n",
       "    }\n",
       "\n",
       "    .dataframe tbody tr th {\n",
       "        vertical-align: top;\n",
       "    }\n",
       "\n",
       "    .dataframe thead th {\n",
       "        text-align: right;\n",
       "    }\n",
       "</style>\n",
       "<table border=\"1\" class=\"dataframe\">\n",
       "  <thead>\n",
       "    <tr style=\"text-align: right;\">\n",
       "      <th></th>\n",
       "      <th>Date</th>\n",
       "      <th>Price</th>\n",
       "    </tr>\n",
       "    <tr>\n",
       "      <th>Date</th>\n",
       "      <th></th>\n",
       "      <th></th>\n",
       "    </tr>\n",
       "  </thead>\n",
       "  <tbody>\n",
       "    <tr>\n",
       "      <th>1950-12-01</th>\n",
       "      <td>1950-12</td>\n",
       "      <td>34.72</td>\n",
       "    </tr>\n",
       "    <tr>\n",
       "      <th>1951-12-01</th>\n",
       "      <td>1951-12</td>\n",
       "      <td>34.66</td>\n",
       "    </tr>\n",
       "    <tr>\n",
       "      <th>1952-12-01</th>\n",
       "      <td>1952-12</td>\n",
       "      <td>34.79</td>\n",
       "    </tr>\n",
       "    <tr>\n",
       "      <th>1953-12-01</th>\n",
       "      <td>1953-12</td>\n",
       "      <td>34.85</td>\n",
       "    </tr>\n",
       "    <tr>\n",
       "      <th>1954-12-01</th>\n",
       "      <td>1954-12</td>\n",
       "      <td>35.04</td>\n",
       "    </tr>\n",
       "  </tbody>\n",
       "</table>\n",
       "</div>"
      ],
      "text/plain": [
       "               Date  Price\n",
       "Date                      \n",
       "1950-12-01  1950-12  34.72\n",
       "1951-12-01  1951-12  34.66\n",
       "1952-12-01  1952-12  34.79\n",
       "1953-12-01  1953-12  34.85\n",
       "1954-12-01  1954-12  35.04"
      ]
     },
     "execution_count": 82,
     "metadata": {},
     "output_type": "execute_result"
    }
   ],
   "source": [
    "# Convert date strings into datetime objects and set the datetime as the index\n",
    "gold_csv.set_index(pd.to_datetime(gold_csv['Date'], infer_datetime_format=True), inplace=True)\n",
    "gold_csv.head()"
   ]
  },
  {
   "cell_type": "markdown",
   "id": "573cd4c3",
   "metadata": {
    "jp-MarkdownHeadingCollapsed": true,
    "tags": []
   },
   "source": [
    "#### iv. Drop Extra Columns"
   ]
  },
  {
   "cell_type": "code",
   "execution_count": 84,
   "id": "82460ec1",
   "metadata": {},
   "outputs": [
    {
     "ename": "KeyError",
     "evalue": "\"['Date'] not found in axis\"",
     "output_type": "error",
     "traceback": [
      "\u001b[1;31m---------------------------------------------------------------------------\u001b[0m",
      "\u001b[1;31mKeyError\u001b[0m                                  Traceback (most recent call last)",
      "\u001b[1;32m~\\AppData\\Local\\Temp/ipykernel_21536/1619801592.py\u001b[0m in \u001b[0;36m<module>\u001b[1;34m\u001b[0m\n\u001b[0;32m      1\u001b[0m \u001b[1;31m# Drop the extra date column\u001b[0m\u001b[1;33m\u001b[0m\u001b[1;33m\u001b[0m\u001b[1;33m\u001b[0m\u001b[0m\n\u001b[1;32m----> 2\u001b[1;33m \u001b[0mgold_csv\u001b[0m\u001b[1;33m.\u001b[0m\u001b[0mdrop\u001b[0m\u001b[1;33m(\u001b[0m\u001b[0mcolumns\u001b[0m\u001b[1;33m=\u001b[0m\u001b[1;33m[\u001b[0m\u001b[1;34m'Date'\u001b[0m\u001b[1;33m]\u001b[0m\u001b[1;33m,\u001b[0m \u001b[0minplace\u001b[0m\u001b[1;33m=\u001b[0m\u001b[1;32mTrue\u001b[0m\u001b[1;33m)\u001b[0m\u001b[1;33m\u001b[0m\u001b[1;33m\u001b[0m\u001b[0m\n\u001b[0m\u001b[0;32m      3\u001b[0m \u001b[0mgold_csv\u001b[0m\u001b[1;33m.\u001b[0m\u001b[0mhead\u001b[0m\u001b[1;33m(\u001b[0m\u001b[1;33m)\u001b[0m\u001b[1;33m\u001b[0m\u001b[1;33m\u001b[0m\u001b[0m\n",
      "\u001b[1;32m~\\anaconda3\\lib\\site-packages\\pandas\\util\\_decorators.py\u001b[0m in \u001b[0;36mwrapper\u001b[1;34m(*args, **kwargs)\u001b[0m\n\u001b[0;32m    309\u001b[0m                     \u001b[0mstacklevel\u001b[0m\u001b[1;33m=\u001b[0m\u001b[0mstacklevel\u001b[0m\u001b[1;33m,\u001b[0m\u001b[1;33m\u001b[0m\u001b[1;33m\u001b[0m\u001b[0m\n\u001b[0;32m    310\u001b[0m                 )\n\u001b[1;32m--> 311\u001b[1;33m             \u001b[1;32mreturn\u001b[0m \u001b[0mfunc\u001b[0m\u001b[1;33m(\u001b[0m\u001b[1;33m*\u001b[0m\u001b[0margs\u001b[0m\u001b[1;33m,\u001b[0m \u001b[1;33m**\u001b[0m\u001b[0mkwargs\u001b[0m\u001b[1;33m)\u001b[0m\u001b[1;33m\u001b[0m\u001b[1;33m\u001b[0m\u001b[0m\n\u001b[0m\u001b[0;32m    312\u001b[0m \u001b[1;33m\u001b[0m\u001b[0m\n\u001b[0;32m    313\u001b[0m         \u001b[1;32mreturn\u001b[0m \u001b[0mwrapper\u001b[0m\u001b[1;33m\u001b[0m\u001b[1;33m\u001b[0m\u001b[0m\n",
      "\u001b[1;32m~\\anaconda3\\lib\\site-packages\\pandas\\core\\frame.py\u001b[0m in \u001b[0;36mdrop\u001b[1;34m(self, labels, axis, index, columns, level, inplace, errors)\u001b[0m\n\u001b[0;32m   4904\u001b[0m                 \u001b[0mweight\u001b[0m  \u001b[1;36m1.0\u001b[0m     \u001b[1;36m0.8\u001b[0m\u001b[1;33m\u001b[0m\u001b[1;33m\u001b[0m\u001b[0m\n\u001b[0;32m   4905\u001b[0m         \"\"\"\n\u001b[1;32m-> 4906\u001b[1;33m         return super().drop(\n\u001b[0m\u001b[0;32m   4907\u001b[0m             \u001b[0mlabels\u001b[0m\u001b[1;33m=\u001b[0m\u001b[0mlabels\u001b[0m\u001b[1;33m,\u001b[0m\u001b[1;33m\u001b[0m\u001b[1;33m\u001b[0m\u001b[0m\n\u001b[0;32m   4908\u001b[0m             \u001b[0maxis\u001b[0m\u001b[1;33m=\u001b[0m\u001b[0maxis\u001b[0m\u001b[1;33m,\u001b[0m\u001b[1;33m\u001b[0m\u001b[1;33m\u001b[0m\u001b[0m\n",
      "\u001b[1;32m~\\anaconda3\\lib\\site-packages\\pandas\\core\\generic.py\u001b[0m in \u001b[0;36mdrop\u001b[1;34m(self, labels, axis, index, columns, level, inplace, errors)\u001b[0m\n\u001b[0;32m   4148\u001b[0m         \u001b[1;32mfor\u001b[0m \u001b[0maxis\u001b[0m\u001b[1;33m,\u001b[0m \u001b[0mlabels\u001b[0m \u001b[1;32min\u001b[0m \u001b[0maxes\u001b[0m\u001b[1;33m.\u001b[0m\u001b[0mitems\u001b[0m\u001b[1;33m(\u001b[0m\u001b[1;33m)\u001b[0m\u001b[1;33m:\u001b[0m\u001b[1;33m\u001b[0m\u001b[1;33m\u001b[0m\u001b[0m\n\u001b[0;32m   4149\u001b[0m             \u001b[1;32mif\u001b[0m \u001b[0mlabels\u001b[0m \u001b[1;32mis\u001b[0m \u001b[1;32mnot\u001b[0m \u001b[1;32mNone\u001b[0m\u001b[1;33m:\u001b[0m\u001b[1;33m\u001b[0m\u001b[1;33m\u001b[0m\u001b[0m\n\u001b[1;32m-> 4150\u001b[1;33m                 \u001b[0mobj\u001b[0m \u001b[1;33m=\u001b[0m \u001b[0mobj\u001b[0m\u001b[1;33m.\u001b[0m\u001b[0m_drop_axis\u001b[0m\u001b[1;33m(\u001b[0m\u001b[0mlabels\u001b[0m\u001b[1;33m,\u001b[0m \u001b[0maxis\u001b[0m\u001b[1;33m,\u001b[0m \u001b[0mlevel\u001b[0m\u001b[1;33m=\u001b[0m\u001b[0mlevel\u001b[0m\u001b[1;33m,\u001b[0m \u001b[0merrors\u001b[0m\u001b[1;33m=\u001b[0m\u001b[0merrors\u001b[0m\u001b[1;33m)\u001b[0m\u001b[1;33m\u001b[0m\u001b[1;33m\u001b[0m\u001b[0m\n\u001b[0m\u001b[0;32m   4151\u001b[0m \u001b[1;33m\u001b[0m\u001b[0m\n\u001b[0;32m   4152\u001b[0m         \u001b[1;32mif\u001b[0m \u001b[0minplace\u001b[0m\u001b[1;33m:\u001b[0m\u001b[1;33m\u001b[0m\u001b[1;33m\u001b[0m\u001b[0m\n",
      "\u001b[1;32m~\\anaconda3\\lib\\site-packages\\pandas\\core\\generic.py\u001b[0m in \u001b[0;36m_drop_axis\u001b[1;34m(self, labels, axis, level, errors)\u001b[0m\n\u001b[0;32m   4183\u001b[0m                 \u001b[0mnew_axis\u001b[0m \u001b[1;33m=\u001b[0m \u001b[0maxis\u001b[0m\u001b[1;33m.\u001b[0m\u001b[0mdrop\u001b[0m\u001b[1;33m(\u001b[0m\u001b[0mlabels\u001b[0m\u001b[1;33m,\u001b[0m \u001b[0mlevel\u001b[0m\u001b[1;33m=\u001b[0m\u001b[0mlevel\u001b[0m\u001b[1;33m,\u001b[0m \u001b[0merrors\u001b[0m\u001b[1;33m=\u001b[0m\u001b[0merrors\u001b[0m\u001b[1;33m)\u001b[0m\u001b[1;33m\u001b[0m\u001b[1;33m\u001b[0m\u001b[0m\n\u001b[0;32m   4184\u001b[0m             \u001b[1;32melse\u001b[0m\u001b[1;33m:\u001b[0m\u001b[1;33m\u001b[0m\u001b[1;33m\u001b[0m\u001b[0m\n\u001b[1;32m-> 4185\u001b[1;33m                 \u001b[0mnew_axis\u001b[0m \u001b[1;33m=\u001b[0m \u001b[0maxis\u001b[0m\u001b[1;33m.\u001b[0m\u001b[0mdrop\u001b[0m\u001b[1;33m(\u001b[0m\u001b[0mlabels\u001b[0m\u001b[1;33m,\u001b[0m \u001b[0merrors\u001b[0m\u001b[1;33m=\u001b[0m\u001b[0merrors\u001b[0m\u001b[1;33m)\u001b[0m\u001b[1;33m\u001b[0m\u001b[1;33m\u001b[0m\u001b[0m\n\u001b[0m\u001b[0;32m   4186\u001b[0m             \u001b[0mresult\u001b[0m \u001b[1;33m=\u001b[0m \u001b[0mself\u001b[0m\u001b[1;33m.\u001b[0m\u001b[0mreindex\u001b[0m\u001b[1;33m(\u001b[0m\u001b[1;33m**\u001b[0m\u001b[1;33m{\u001b[0m\u001b[0maxis_name\u001b[0m\u001b[1;33m:\u001b[0m \u001b[0mnew_axis\u001b[0m\u001b[1;33m}\u001b[0m\u001b[1;33m)\u001b[0m\u001b[1;33m\u001b[0m\u001b[1;33m\u001b[0m\u001b[0m\n\u001b[0;32m   4187\u001b[0m \u001b[1;33m\u001b[0m\u001b[0m\n",
      "\u001b[1;32m~\\anaconda3\\lib\\site-packages\\pandas\\core\\indexes\\base.py\u001b[0m in \u001b[0;36mdrop\u001b[1;34m(self, labels, errors)\u001b[0m\n\u001b[0;32m   6015\u001b[0m         \u001b[1;32mif\u001b[0m \u001b[0mmask\u001b[0m\u001b[1;33m.\u001b[0m\u001b[0many\u001b[0m\u001b[1;33m(\u001b[0m\u001b[1;33m)\u001b[0m\u001b[1;33m:\u001b[0m\u001b[1;33m\u001b[0m\u001b[1;33m\u001b[0m\u001b[0m\n\u001b[0;32m   6016\u001b[0m             \u001b[1;32mif\u001b[0m \u001b[0merrors\u001b[0m \u001b[1;33m!=\u001b[0m \u001b[1;34m\"ignore\"\u001b[0m\u001b[1;33m:\u001b[0m\u001b[1;33m\u001b[0m\u001b[1;33m\u001b[0m\u001b[0m\n\u001b[1;32m-> 6017\u001b[1;33m                 \u001b[1;32mraise\u001b[0m \u001b[0mKeyError\u001b[0m\u001b[1;33m(\u001b[0m\u001b[1;34mf\"{labels[mask]} not found in axis\"\u001b[0m\u001b[1;33m)\u001b[0m\u001b[1;33m\u001b[0m\u001b[1;33m\u001b[0m\u001b[0m\n\u001b[0m\u001b[0;32m   6018\u001b[0m             \u001b[0mindexer\u001b[0m \u001b[1;33m=\u001b[0m \u001b[0mindexer\u001b[0m\u001b[1;33m[\u001b[0m\u001b[1;33m~\u001b[0m\u001b[0mmask\u001b[0m\u001b[1;33m]\u001b[0m\u001b[1;33m\u001b[0m\u001b[1;33m\u001b[0m\u001b[0m\n\u001b[0;32m   6019\u001b[0m         \u001b[1;32mreturn\u001b[0m \u001b[0mself\u001b[0m\u001b[1;33m.\u001b[0m\u001b[0mdelete\u001b[0m\u001b[1;33m(\u001b[0m\u001b[0mindexer\u001b[0m\u001b[1;33m)\u001b[0m\u001b[1;33m\u001b[0m\u001b[1;33m\u001b[0m\u001b[0m\n",
      "\u001b[1;31mKeyError\u001b[0m: \"['Date'] not found in axis\""
     ]
    }
   ],
   "source": [
    "# Drop the extra date column\n",
    "gold_csv.drop(columns=['Date'], inplace=True)\n",
    "gold_csv.head()"
   ]
  },
  {
   "cell_type": "markdown",
   "id": "52febf81",
   "metadata": {
    "jp-MarkdownHeadingCollapsed": true,
    "tags": []
   },
   "source": [
    "#### v. Plot Data with Datetime Index"
   ]
  },
  {
   "cell_type": "code",
   "execution_count": 85,
   "id": "8db03190",
   "metadata": {},
   "outputs": [
    {
     "data": {
      "text/plain": [
       "<AxesSubplot:xlabel='Date'>"
      ]
     },
     "execution_count": 85,
     "metadata": {},
     "output_type": "execute_result"
    },
    {
     "data": {
      "image/png": "[encoded data removed]",
      "text/plain": [
       "<Figure size 432x288 with 1 Axes>"
      ]
     },
     "metadata": {
      "needs_background": "light"
     },
     "output_type": "display_data"
    }
   ],
   "source": [
    "# Plot a line char of the data after converting and setting the 'Date' column as the datetime index\n",
    "gold_csv.plot()"
   ]
  },
  {
   "cell_type": "markdown",
   "id": "2018b54b",
   "metadata": {
    "jp-MarkdownHeadingCollapsed": true,
    "tags": []
   },
   "source": [
    "#### vi. Plot Bar Chart"
   ]
  },
  {
   "cell_type": "code",
   "execution_count": 86,
   "id": "b9d3f6a7",
   "metadata": {},
   "outputs": [
    {
     "data": {
      "text/plain": [
       "<AxesSubplot:xlabel='Date'>"
      ]
     },
     "execution_count": 86,
     "metadata": {},
     "output_type": "execute_result"
    },
    {
     "data": {
      "image/png": "[encoded data removed]",
      "text/plain": [
       "<Figure size 432x288 with 1 Axes>"
      ]
     },
     "metadata": {
      "needs_background": "light"
     },
     "output_type": "display_data"
    }
   ],
   "source": [
    "# Plot a bar chart of the data\n",
    "gold_csv.plot(kind='bar')"
   ]
  },
  {
   "cell_type": "markdown",
   "id": "7389b9d6",
   "metadata": {
    "jp-MarkdownHeadingCollapsed": true,
    "tags": []
   },
   "source": [
    "#### vii. Plot Bar Chart with Increased Figure Size"
   ]
  },
  {
   "cell_type": "code",
   "execution_count": 87,
   "id": "85a06a37",
   "metadata": {},
   "outputs": [
    {
     "data": {
      "text/plain": [
       "<AxesSubplot:xlabel='Date'>"
      ]
     },
     "execution_count": 87,
     "metadata": {},
     "output_type": "execute_result"
    },
    {
     "data": {
      "image/png": "[encoded data removed]",
      "text/plain": [
       "<Figure size 1440x720 with 1 Axes>"
      ]
     },
     "metadata": {
      "needs_background": "light"
     },
     "output_type": "display_data"
    }
   ],
   "source": [
    "# Plot a bar chart of the data with increased figure size to see the x-axis labels\n",
    "gold_csv.plot(kind='bar', figsize=(20,10))"
   ]
  },
  {
   "cell_type": "markdown",
   "id": "d5a4415c",
   "metadata": {
    "jp-MarkdownHeadingCollapsed": true,
    "tags": []
   },
   "source": [
    "### VI. Investmenmt Returns"
   ]
  },
  {
   "cell_type": "markdown",
   "id": "925d4ea3",
   "metadata": {
    "jp-MarkdownHeadingCollapsed": true,
    "tags": []
   },
   "source": [
    "#### i. Read CSV"
   ]
  },
  {
   "cell_type": "code",
   "execution_count": 89,
   "id": "05c2a345",
   "metadata": {},
   "outputs": [
    {
     "data": {
      "text/html": [
       "<div>\n",
       "<style scoped>\n",
       "    .dataframe tbody tr th:only-of-type {\n",
       "        vertical-align: middle;\n",
       "    }\n",
       "\n",
       "    .dataframe tbody tr th {\n",
       "        vertical-align: top;\n",
       "    }\n",
       "\n",
       "    .dataframe thead th {\n",
       "        text-align: right;\n",
       "    }\n",
       "</style>\n",
       "<table border=\"1\" class=\"dataframe\">\n",
       "  <thead>\n",
       "    <tr style=\"text-align: right;\">\n",
       "      <th></th>\n",
       "      <th>Date</th>\n",
       "      <th>Open</th>\n",
       "      <th>High</th>\n",
       "      <th>Low</th>\n",
       "      <th>Close</th>\n",
       "      <th>Adj Close</th>\n",
       "      <th>Volume</th>\n",
       "    </tr>\n",
       "  </thead>\n",
       "  <tbody>\n",
       "    <tr>\n",
       "      <th>0</th>\n",
       "      <td>2014-05-02</td>\n",
       "      <td>1885.300049</td>\n",
       "      <td>1891.329956</td>\n",
       "      <td>1878.500000</td>\n",
       "      <td>1881.140015</td>\n",
       "      <td>1881.140015</td>\n",
       "      <td>3159560000</td>\n",
       "    </tr>\n",
       "    <tr>\n",
       "      <th>1</th>\n",
       "      <td>2014-05-05</td>\n",
       "      <td>1879.449951</td>\n",
       "      <td>1885.510010</td>\n",
       "      <td>1866.770020</td>\n",
       "      <td>1884.660034</td>\n",
       "      <td>1884.660034</td>\n",
       "      <td>2733730000</td>\n",
       "    </tr>\n",
       "    <tr>\n",
       "      <th>2</th>\n",
       "      <td>2014-05-06</td>\n",
       "      <td>1883.689941</td>\n",
       "      <td>1883.689941</td>\n",
       "      <td>1867.719971</td>\n",
       "      <td>1867.719971</td>\n",
       "      <td>1867.719971</td>\n",
       "      <td>3327260000</td>\n",
       "    </tr>\n",
       "    <tr>\n",
       "      <th>3</th>\n",
       "      <td>2014-05-07</td>\n",
       "      <td>1868.530029</td>\n",
       "      <td>1878.829956</td>\n",
       "      <td>1859.790039</td>\n",
       "      <td>1878.209961</td>\n",
       "      <td>1878.209961</td>\n",
       "      <td>3632950000</td>\n",
       "    </tr>\n",
       "    <tr>\n",
       "      <th>4</th>\n",
       "      <td>2014-05-08</td>\n",
       "      <td>1877.390015</td>\n",
       "      <td>1889.069946</td>\n",
       "      <td>1870.050049</td>\n",
       "      <td>1875.630005</td>\n",
       "      <td>1875.630005</td>\n",
       "      <td>3393420000</td>\n",
       "    </tr>\n",
       "  </tbody>\n",
       "</table>\n",
       "</div>"
      ],
      "text/plain": [
       "         Date         Open         High          Low        Close  \\\n",
       "0  2014-05-02  1885.300049  1891.329956  1878.500000  1881.140015   \n",
       "1  2014-05-05  1879.449951  1885.510010  1866.770020  1884.660034   \n",
       "2  2014-05-06  1883.689941  1883.689941  1867.719971  1867.719971   \n",
       "3  2014-05-07  1868.530029  1878.829956  1859.790039  1878.209961   \n",
       "4  2014-05-08  1877.390015  1889.069946  1870.050049  1875.630005   \n",
       "\n",
       "     Adj Close      Volume  \n",
       "0  1881.140015  3159560000  \n",
       "1  1884.660034  2733730000  \n",
       "2  1867.719971  3327260000  \n",
       "3  1878.209961  3632950000  \n",
       "4  1875.630005  3393420000  "
      ]
     },
     "execution_count": 89,
     "metadata": {},
     "output_type": "execute_result"
    }
   ],
   "source": [
    "# Read in the CSV as a DataFrame\n",
    "sp500_csv = pd.read_csv('cheatsheetresources/sp500_stock_data.csv')\n",
    "sp500_csv.head()"
   ]
  },
  {
   "cell_type": "markdown",
   "id": "9d2d339f",
   "metadata": {
    "jp-MarkdownHeadingCollapsed": true,
    "tags": []
   },
   "source": [
    "#### ii. View Summary Statistics"
   ]
  },
  {
   "cell_type": "code",
   "execution_count": 90,
   "id": "79e0ea0c",
   "metadata": {},
   "outputs": [
    {
     "data": {
      "text/html": [
       "<div>\n",
       "<style scoped>\n",
       "    .dataframe tbody tr th:only-of-type {\n",
       "        vertical-align: middle;\n",
       "    }\n",
       "\n",
       "    .dataframe tbody tr th {\n",
       "        vertical-align: top;\n",
       "    }\n",
       "\n",
       "    .dataframe thead th {\n",
       "        text-align: right;\n",
       "    }\n",
       "</style>\n",
       "<table border=\"1\" class=\"dataframe\">\n",
       "  <thead>\n",
       "    <tr style=\"text-align: right;\">\n",
       "      <th></th>\n",
       "      <th>Date</th>\n",
       "      <th>Open</th>\n",
       "      <th>High</th>\n",
       "      <th>Low</th>\n",
       "      <th>Close</th>\n",
       "      <th>Adj Close</th>\n",
       "      <th>Volume</th>\n",
       "    </tr>\n",
       "  </thead>\n",
       "  <tbody>\n",
       "    <tr>\n",
       "      <th>count</th>\n",
       "      <td>1258</td>\n",
       "      <td>1258.000000</td>\n",
       "      <td>1258.000000</td>\n",
       "      <td>1258.000000</td>\n",
       "      <td>1258.000000</td>\n",
       "      <td>1258.000000</td>\n",
       "      <td>1.258000e+03</td>\n",
       "    </tr>\n",
       "    <tr>\n",
       "      <th>unique</th>\n",
       "      <td>1258</td>\n",
       "      <td>NaN</td>\n",
       "      <td>NaN</td>\n",
       "      <td>NaN</td>\n",
       "      <td>NaN</td>\n",
       "      <td>NaN</td>\n",
       "      <td>NaN</td>\n",
       "    </tr>\n",
       "    <tr>\n",
       "      <th>top</th>\n",
       "      <td>2014-05-02</td>\n",
       "      <td>NaN</td>\n",
       "      <td>NaN</td>\n",
       "      <td>NaN</td>\n",
       "      <td>NaN</td>\n",
       "      <td>NaN</td>\n",
       "      <td>NaN</td>\n",
       "    </tr>\n",
       "    <tr>\n",
       "      <th>freq</th>\n",
       "      <td>1</td>\n",
       "      <td>NaN</td>\n",
       "      <td>NaN</td>\n",
       "      <td>NaN</td>\n",
       "      <td>NaN</td>\n",
       "      <td>NaN</td>\n",
       "      <td>NaN</td>\n",
       "    </tr>\n",
       "    <tr>\n",
       "      <th>mean</th>\n",
       "      <td>NaN</td>\n",
       "      <td>2316.801637</td>\n",
       "      <td>2326.829332</td>\n",
       "      <td>2305.725223</td>\n",
       "      <td>2317.082948</td>\n",
       "      <td>2317.082948</td>\n",
       "      <td>3.596083e+09</td>\n",
       "    </tr>\n",
       "    <tr>\n",
       "      <th>std</th>\n",
       "      <td>NaN</td>\n",
       "      <td>317.895587</td>\n",
       "      <td>318.579627</td>\n",
       "      <td>317.124199</td>\n",
       "      <td>317.705702</td>\n",
       "      <td>317.705702</td>\n",
       "      <td>6.939543e+08</td>\n",
       "    </tr>\n",
       "    <tr>\n",
       "      <th>min</th>\n",
       "      <td>NaN</td>\n",
       "      <td>1833.400024</td>\n",
       "      <td>1847.000000</td>\n",
       "      <td>1810.099976</td>\n",
       "      <td>1829.079956</td>\n",
       "      <td>1829.079956</td>\n",
       "      <td>1.349780e+09</td>\n",
       "    </tr>\n",
       "    <tr>\n",
       "      <th>25%</th>\n",
       "      <td>NaN</td>\n",
       "      <td>2057.875000</td>\n",
       "      <td>2067.634888</td>\n",
       "      <td>2044.870025</td>\n",
       "      <td>2058.322449</td>\n",
       "      <td>2058.322449</td>\n",
       "      <td>3.188478e+09</td>\n",
       "    </tr>\n",
       "    <tr>\n",
       "      <th>50%</th>\n",
       "      <td>NaN</td>\n",
       "      <td>2179.030029</td>\n",
       "      <td>2184.969971</td>\n",
       "      <td>2172.895019</td>\n",
       "      <td>2180.639893</td>\n",
       "      <td>2180.639893</td>\n",
       "      <td>3.504925e+09</td>\n",
       "    </tr>\n",
       "    <tr>\n",
       "      <th>75%</th>\n",
       "      <td>NaN</td>\n",
       "      <td>2636.292481</td>\n",
       "      <td>2652.804931</td>\n",
       "      <td>2612.815063</td>\n",
       "      <td>2636.575012</td>\n",
       "      <td>2636.575012</td>\n",
       "      <td>3.893518e+09</td>\n",
       "    </tr>\n",
       "    <tr>\n",
       "      <th>max</th>\n",
       "      <td>NaN</td>\n",
       "      <td>2952.330078</td>\n",
       "      <td>2954.129883</td>\n",
       "      <td>2939.350098</td>\n",
       "      <td>2945.830078</td>\n",
       "      <td>2945.830078</td>\n",
       "      <td>7.609010e+09</td>\n",
       "    </tr>\n",
       "  </tbody>\n",
       "</table>\n",
       "</div>"
      ],
      "text/plain": [
       "              Date         Open         High          Low        Close  \\\n",
       "count         1258  1258.000000  1258.000000  1258.000000  1258.000000   \n",
       "unique        1258          NaN          NaN          NaN          NaN   \n",
       "top     2014-05-02          NaN          NaN          NaN          NaN   \n",
       "freq             1          NaN          NaN          NaN          NaN   \n",
       "mean           NaN  2316.801637  2326.829332  2305.725223  2317.082948   \n",
       "std            NaN   317.895587   318.579627   317.124199   317.705702   \n",
       "min            NaN  1833.400024  1847.000000  1810.099976  1829.079956   \n",
       "25%            NaN  2057.875000  2067.634888  2044.870025  2058.322449   \n",
       "50%            NaN  2179.030029  2184.969971  2172.895019  2180.639893   \n",
       "75%            NaN  2636.292481  2652.804931  2612.815063  2636.575012   \n",
       "max            NaN  2952.330078  2954.129883  2939.350098  2945.830078   \n",
       "\n",
       "          Adj Close        Volume  \n",
       "count   1258.000000  1.258000e+03  \n",
       "unique          NaN           NaN  \n",
       "top             NaN           NaN  \n",
       "freq            NaN           NaN  \n",
       "mean    2317.082948  3.596083e+09  \n",
       "std      317.705702  6.939543e+08  \n",
       "min     1829.079956  1.349780e+09  \n",
       "25%     2058.322449  3.188478e+09  \n",
       "50%     2180.639893  3.504925e+09  \n",
       "75%     2636.575012  3.893518e+09  \n",
       "max     2945.830078  7.609010e+09  "
      ]
     },
     "execution_count": 90,
     "metadata": {},
     "output_type": "execute_result"
    }
   ],
   "source": [
    "# Use the 'describe()' function\n",
    "sp500_csv.describe(include='all')"
   ]
  },
  {
   "cell_type": "markdown",
   "id": "da97bc87",
   "metadata": {
    "jp-MarkdownHeadingCollapsed": true,
    "tags": []
   },
   "source": [
    "#### iii. Drop Extra Columns"
   ]
  },
  {
   "cell_type": "code",
   "execution_count": 91,
   "id": "281df231",
   "metadata": {},
   "outputs": [
    {
     "data": {
      "text/html": [
       "<div>\n",
       "<style scoped>\n",
       "    .dataframe tbody tr th:only-of-type {\n",
       "        vertical-align: middle;\n",
       "    }\n",
       "\n",
       "    .dataframe tbody tr th {\n",
       "        vertical-align: top;\n",
       "    }\n",
       "\n",
       "    .dataframe thead th {\n",
       "        text-align: right;\n",
       "    }\n",
       "</style>\n",
       "<table border=\"1\" class=\"dataframe\">\n",
       "  <thead>\n",
       "    <tr style=\"text-align: right;\">\n",
       "      <th></th>\n",
       "      <th>Date</th>\n",
       "      <th>Adj Close</th>\n",
       "    </tr>\n",
       "  </thead>\n",
       "  <tbody>\n",
       "    <tr>\n",
       "      <th>0</th>\n",
       "      <td>2014-05-02</td>\n",
       "      <td>1881.140015</td>\n",
       "    </tr>\n",
       "    <tr>\n",
       "      <th>1</th>\n",
       "      <td>2014-05-05</td>\n",
       "      <td>1884.660034</td>\n",
       "    </tr>\n",
       "    <tr>\n",
       "      <th>2</th>\n",
       "      <td>2014-05-06</td>\n",
       "      <td>1867.719971</td>\n",
       "    </tr>\n",
       "    <tr>\n",
       "      <th>3</th>\n",
       "      <td>2014-05-07</td>\n",
       "      <td>1878.209961</td>\n",
       "    </tr>\n",
       "    <tr>\n",
       "      <th>4</th>\n",
       "      <td>2014-05-08</td>\n",
       "      <td>1875.630005</td>\n",
       "    </tr>\n",
       "  </tbody>\n",
       "</table>\n",
       "</div>"
      ],
      "text/plain": [
       "         Date    Adj Close\n",
       "0  2014-05-02  1881.140015\n",
       "1  2014-05-05  1884.660034\n",
       "2  2014-05-06  1867.719971\n",
       "3  2014-05-07  1878.209961\n",
       "4  2014-05-08  1875.630005"
      ]
     },
     "execution_count": 91,
     "metadata": {},
     "output_type": "execute_result"
    }
   ],
   "source": [
    "# Drop unnecessary columns\n",
    "sp500_csv.drop(columns=['Open', 'High', 'Low', 'Close', 'Volume'], inplace=True)\n",
    "sp500_csv.head()"
   ]
  },
  {
   "cell_type": "markdown",
   "id": "57f0c85f",
   "metadata": {
    "jp-MarkdownHeadingCollapsed": true,
    "tags": []
   },
   "source": [
    "#### iv. Set Date as Index\n"
   ]
  },
  {
   "cell_type": "code",
   "execution_count": 92,
   "id": "df6b35d1",
   "metadata": {},
   "outputs": [
    {
     "data": {
      "text/html": [
       "<div>\n",
       "<style scoped>\n",
       "    .dataframe tbody tr th:only-of-type {\n",
       "        vertical-align: middle;\n",
       "    }\n",
       "\n",
       "    .dataframe tbody tr th {\n",
       "        vertical-align: top;\n",
       "    }\n",
       "\n",
       "    .dataframe thead th {\n",
       "        text-align: right;\n",
       "    }\n",
       "</style>\n",
       "<table border=\"1\" class=\"dataframe\">\n",
       "  <thead>\n",
       "    <tr style=\"text-align: right;\">\n",
       "      <th></th>\n",
       "      <th>Date</th>\n",
       "      <th>Adj Close</th>\n",
       "    </tr>\n",
       "    <tr>\n",
       "      <th>Date</th>\n",
       "      <th></th>\n",
       "      <th></th>\n",
       "    </tr>\n",
       "  </thead>\n",
       "  <tbody>\n",
       "    <tr>\n",
       "      <th>2014-05-02</th>\n",
       "      <td>2014-05-02</td>\n",
       "      <td>1881.140015</td>\n",
       "    </tr>\n",
       "    <tr>\n",
       "      <th>2014-05-05</th>\n",
       "      <td>2014-05-05</td>\n",
       "      <td>1884.660034</td>\n",
       "    </tr>\n",
       "    <tr>\n",
       "      <th>2014-05-06</th>\n",
       "      <td>2014-05-06</td>\n",
       "      <td>1867.719971</td>\n",
       "    </tr>\n",
       "    <tr>\n",
       "      <th>2014-05-07</th>\n",
       "      <td>2014-05-07</td>\n",
       "      <td>1878.209961</td>\n",
       "    </tr>\n",
       "    <tr>\n",
       "      <th>2014-05-08</th>\n",
       "      <td>2014-05-08</td>\n",
       "      <td>1875.630005</td>\n",
       "    </tr>\n",
       "  </tbody>\n",
       "</table>\n",
       "</div>"
      ],
      "text/plain": [
       "                  Date    Adj Close\n",
       "Date                               \n",
       "2014-05-02  2014-05-02  1881.140015\n",
       "2014-05-05  2014-05-05  1884.660034\n",
       "2014-05-06  2014-05-06  1867.719971\n",
       "2014-05-07  2014-05-07  1878.209961\n",
       "2014-05-08  2014-05-08  1875.630005"
      ]
     },
     "execution_count": 92,
     "metadata": {},
     "output_type": "execute_result"
    }
   ],
   "source": [
    "# Set the date as the index to the DataFrame\n",
    "sp500_csv.set_index(pd.to_datetime(sp500_csv['Date'], infer_datetime_format=True), inplace=True)\n",
    "sp500_csv.head()"
   ]
  },
  {
   "cell_type": "markdown",
   "id": "8243ad2d",
   "metadata": {
    "jp-MarkdownHeadingCollapsed": true,
    "tags": []
   },
   "source": [
    "#### v. Drop Extra Date Column"
   ]
  },
  {
   "cell_type": "code",
   "execution_count": 93,
   "id": "93a96606",
   "metadata": {},
   "outputs": [
    {
     "data": {
      "text/html": [
       "<div>\n",
       "<style scoped>\n",
       "    .dataframe tbody tr th:only-of-type {\n",
       "        vertical-align: middle;\n",
       "    }\n",
       "\n",
       "    .dataframe tbody tr th {\n",
       "        vertical-align: top;\n",
       "    }\n",
       "\n",
       "    .dataframe thead th {\n",
       "        text-align: right;\n",
       "    }\n",
       "</style>\n",
       "<table border=\"1\" class=\"dataframe\">\n",
       "  <thead>\n",
       "    <tr style=\"text-align: right;\">\n",
       "      <th></th>\n",
       "      <th>Adj Close</th>\n",
       "    </tr>\n",
       "    <tr>\n",
       "      <th>Date</th>\n",
       "      <th></th>\n",
       "    </tr>\n",
       "  </thead>\n",
       "  <tbody>\n",
       "    <tr>\n",
       "      <th>2014-05-02</th>\n",
       "      <td>1881.140015</td>\n",
       "    </tr>\n",
       "    <tr>\n",
       "      <th>2014-05-05</th>\n",
       "      <td>1884.660034</td>\n",
       "    </tr>\n",
       "    <tr>\n",
       "      <th>2014-05-06</th>\n",
       "      <td>1867.719971</td>\n",
       "    </tr>\n",
       "    <tr>\n",
       "      <th>2014-05-07</th>\n",
       "      <td>1878.209961</td>\n",
       "    </tr>\n",
       "    <tr>\n",
       "      <th>2014-05-08</th>\n",
       "      <td>1875.630005</td>\n",
       "    </tr>\n",
       "  </tbody>\n",
       "</table>\n",
       "</div>"
      ],
      "text/plain": [
       "              Adj Close\n",
       "Date                   \n",
       "2014-05-02  1881.140015\n",
       "2014-05-05  1884.660034\n",
       "2014-05-06  1867.719971\n",
       "2014-05-07  1878.209961\n",
       "2014-05-08  1875.630005"
      ]
     },
     "execution_count": 93,
     "metadata": {},
     "output_type": "execute_result"
    }
   ],
   "source": [
    "# Drop the extra date column\n",
    "sp500_csv.drop(columns=['Date'], inplace=True)\n",
    "sp500_csv.head()"
   ]
  },
  {
   "cell_type": "markdown",
   "id": "17265801",
   "metadata": {
    "jp-MarkdownHeadingCollapsed": true,
    "tags": []
   },
   "source": [
    "#### vi. Plot Daily Close"
   ]
  },
  {
   "cell_type": "code",
   "execution_count": 94,
   "id": "1485d39c",
   "metadata": {},
   "outputs": [
    {
     "data": {
      "text/plain": [
       "<AxesSubplot:xlabel='Date'>"
      ]
     },
     "execution_count": 94,
     "metadata": {},
     "output_type": "execute_result"
    },
    {
     "data": {
      "image/png": "[encoded data removed]",
      "text/plain": [
       "<Figure size 432x288 with 1 Axes>"
      ]
     },
     "metadata": {
      "needs_background": "light"
     },
     "output_type": "display_data"
    }
   ],
   "source": [
    "# Plot the daily closing stock price of the S&P 500 over the last 5 years\n",
    "sp500_csv.plot()"
   ]
  },
  {
   "cell_type": "markdown",
   "id": "f20a8f38",
   "metadata": {
    "jp-MarkdownHeadingCollapsed": true,
    "tags": []
   },
   "source": [
    "#### vii. Calculate Daily Returns (Method 1)\n",
    "\n",
    "Equation: $r=\\frac{{p_{t}} - {p_{t-1}}}{p_{t-1}}$\n",
    "\n",
    "Where $r$ is daily returns, ${p_{t}}$ is the price at time $t$, and ${p_{t-1}}$ is the price at $t-1$ (offset by 1)."
   ]
  },
  {
   "cell_type": "code",
   "execution_count": 95,
   "id": "9c53d028",
   "metadata": {},
   "outputs": [
    {
     "data": {
      "text/html": [
       "<div>\n",
       "<style scoped>\n",
       "    .dataframe tbody tr th:only-of-type {\n",
       "        vertical-align: middle;\n",
       "    }\n",
       "\n",
       "    .dataframe tbody tr th {\n",
       "        vertical-align: top;\n",
       "    }\n",
       "\n",
       "    .dataframe thead th {\n",
       "        text-align: right;\n",
       "    }\n",
       "</style>\n",
       "<table border=\"1\" class=\"dataframe\">\n",
       "  <thead>\n",
       "    <tr style=\"text-align: right;\">\n",
       "      <th></th>\n",
       "      <th>Adj Close</th>\n",
       "    </tr>\n",
       "    <tr>\n",
       "      <th>Date</th>\n",
       "      <th></th>\n",
       "    </tr>\n",
       "  </thead>\n",
       "  <tbody>\n",
       "    <tr>\n",
       "      <th>2014-05-02</th>\n",
       "      <td>NaN</td>\n",
       "    </tr>\n",
       "    <tr>\n",
       "      <th>2014-05-05</th>\n",
       "      <td>0.001871</td>\n",
       "    </tr>\n",
       "    <tr>\n",
       "      <th>2014-05-06</th>\n",
       "      <td>-0.008988</td>\n",
       "    </tr>\n",
       "    <tr>\n",
       "      <th>2014-05-07</th>\n",
       "      <td>0.005616</td>\n",
       "    </tr>\n",
       "    <tr>\n",
       "      <th>2014-05-08</th>\n",
       "      <td>-0.001374</td>\n",
       "    </tr>\n",
       "  </tbody>\n",
       "</table>\n",
       "</div>"
      ],
      "text/plain": [
       "            Adj Close\n",
       "Date                 \n",
       "2014-05-02        NaN\n",
       "2014-05-05   0.001871\n",
       "2014-05-06  -0.008988\n",
       "2014-05-07   0.005616\n",
       "2014-05-08  -0.001374"
      ]
     },
     "execution_count": 95,
     "metadata": {},
     "output_type": "execute_result"
    }
   ],
   "source": [
    "# Calculate the daily return using the 'shift()' function\n",
    "daily_returns = (sp500_csv - sp500_csv.shift(1)) / sp500_csv.shift(1)\n",
    "daily_returns.head()"
   ]
  },
  {
   "cell_type": "markdown",
   "id": "161b1430",
   "metadata": {
    "jp-MarkdownHeadingCollapsed": true,
    "tags": []
   },
   "source": [
    "#### viii. Calculate Daily Returns (Method 2)"
   ]
  },
  {
   "cell_type": "code",
   "execution_count": 96,
   "id": "97d1987e",
   "metadata": {},
   "outputs": [
    {
     "data": {
      "text/html": [
       "<div>\n",
       "<style scoped>\n",
       "    .dataframe tbody tr th:only-of-type {\n",
       "        vertical-align: middle;\n",
       "    }\n",
       "\n",
       "    .dataframe tbody tr th {\n",
       "        vertical-align: top;\n",
       "    }\n",
       "\n",
       "    .dataframe thead th {\n",
       "        text-align: right;\n",
       "    }\n",
       "</style>\n",
       "<table border=\"1\" class=\"dataframe\">\n",
       "  <thead>\n",
       "    <tr style=\"text-align: right;\">\n",
       "      <th></th>\n",
       "      <th>Adj Close</th>\n",
       "    </tr>\n",
       "    <tr>\n",
       "      <th>Date</th>\n",
       "      <th></th>\n",
       "    </tr>\n",
       "  </thead>\n",
       "  <tbody>\n",
       "    <tr>\n",
       "      <th>2014-05-02</th>\n",
       "      <td>NaN</td>\n",
       "    </tr>\n",
       "    <tr>\n",
       "      <th>2014-05-05</th>\n",
       "      <td>0.001871</td>\n",
       "    </tr>\n",
       "    <tr>\n",
       "      <th>2014-05-06</th>\n",
       "      <td>-0.008988</td>\n",
       "    </tr>\n",
       "    <tr>\n",
       "      <th>2014-05-07</th>\n",
       "      <td>0.005616</td>\n",
       "    </tr>\n",
       "    <tr>\n",
       "      <th>2014-05-08</th>\n",
       "      <td>-0.001374</td>\n",
       "    </tr>\n",
       "  </tbody>\n",
       "</table>\n",
       "</div>"
      ],
      "text/plain": [
       "            Adj Close\n",
       "Date                 \n",
       "2014-05-02        NaN\n",
       "2014-05-05   0.001871\n",
       "2014-05-06  -0.008988\n",
       "2014-05-07   0.005616\n",
       "2014-05-08  -0.001374"
      ]
     },
     "execution_count": 96,
     "metadata": {},
     "output_type": "execute_result"
    }
   ],
   "source": [
    "# Calculate the daily return using the 'pct_change()' function\n",
    "daily_returns = sp500_csv.pct_change()\n",
    "daily_returns.head()"
   ]
  },
  {
   "cell_type": "markdown",
   "id": "4ed166b4",
   "metadata": {
    "jp-MarkdownHeadingCollapsed": true,
    "tags": []
   },
   "source": [
    "#### ix. Plot Daily Returns"
   ]
  },
  {
   "cell_type": "code",
   "execution_count": 97,
   "id": "46998492",
   "metadata": {},
   "outputs": [
    {
     "data": {
      "text/plain": [
       "<AxesSubplot:xlabel='Date'>"
      ]
     },
     "execution_count": 97,
     "metadata": {},
     "output_type": "execute_result"
    },
    {
     "data": {
      "image/png": "[encoded data removed]",
      "text/plain": [
       "<Figure size 720x360 with 1 Axes>"
      ]
     },
     "metadata": {
      "needs_background": "light"
     },
     "output_type": "display_data"
    }
   ],
   "source": [
    "# Plot the daily returns of the S&P 500 over the last 5 years\n",
    "daily_returns.plot(figsize=(10,5))"
   ]
  },
  {
   "cell_type": "markdown",
   "id": "52303ff5",
   "metadata": {
    "jp-MarkdownHeadingCollapsed": true,
    "tags": []
   },
   "source": [
    "#### x. Calculate Cumulative Returns"
   ]
  },
  {
   "cell_type": "code",
   "execution_count": 98,
   "id": "bc98f90d",
   "metadata": {},
   "outputs": [
    {
     "data": {
      "text/html": [
       "<div>\n",
       "<style scoped>\n",
       "    .dataframe tbody tr th:only-of-type {\n",
       "        vertical-align: middle;\n",
       "    }\n",
       "\n",
       "    .dataframe tbody tr th {\n",
       "        vertical-align: top;\n",
       "    }\n",
       "\n",
       "    .dataframe thead th {\n",
       "        text-align: right;\n",
       "    }\n",
       "</style>\n",
       "<table border=\"1\" class=\"dataframe\">\n",
       "  <thead>\n",
       "    <tr style=\"text-align: right;\">\n",
       "      <th></th>\n",
       "      <th>Adj Close</th>\n",
       "    </tr>\n",
       "    <tr>\n",
       "      <th>Date</th>\n",
       "      <th></th>\n",
       "    </tr>\n",
       "  </thead>\n",
       "  <tbody>\n",
       "    <tr>\n",
       "      <th>2014-05-02</th>\n",
       "      <td>NaN</td>\n",
       "    </tr>\n",
       "    <tr>\n",
       "      <th>2014-05-05</th>\n",
       "      <td>1.001871</td>\n",
       "    </tr>\n",
       "    <tr>\n",
       "      <th>2014-05-06</th>\n",
       "      <td>0.992866</td>\n",
       "    </tr>\n",
       "    <tr>\n",
       "      <th>2014-05-07</th>\n",
       "      <td>0.998442</td>\n",
       "    </tr>\n",
       "    <tr>\n",
       "      <th>2014-05-08</th>\n",
       "      <td>0.997071</td>\n",
       "    </tr>\n",
       "  </tbody>\n",
       "</table>\n",
       "</div>"
      ],
      "text/plain": [
       "            Adj Close\n",
       "Date                 \n",
       "2014-05-02        NaN\n",
       "2014-05-05   1.001871\n",
       "2014-05-06   0.992866\n",
       "2014-05-07   0.998442\n",
       "2014-05-08   0.997071"
      ]
     },
     "execution_count": 98,
     "metadata": {},
     "output_type": "execute_result"
    }
   ],
   "source": [
    "# Calculate the cumulative returns using the 'cumprod()' function\n",
    "cumulative_returns = (1 + daily_returns).cumprod()\n",
    "cumulative_returns.head()"
   ]
  },
  {
   "cell_type": "markdown",
   "id": "75e53691",
   "metadata": {
    "jp-MarkdownHeadingCollapsed": true,
    "tags": []
   },
   "source": [
    "#### xi. Plot Cumulative Returns"
   ]
  },
  {
   "cell_type": "code",
   "execution_count": 99,
   "id": "0aae4f5f",
   "metadata": {},
   "outputs": [
    {
     "data": {
      "text/plain": [
       "<AxesSubplot:xlabel='Date'>"
      ]
     },
     "execution_count": 99,
     "metadata": {},
     "output_type": "execute_result"
    },
    {
     "data": {
      "image/png": "[encoded data removed]",
      "text/plain": [
       "<Figure size 720x360 with 1 Axes>"
      ]
     },
     "metadata": {
      "needs_background": "light"
     },
     "output_type": "display_data"
    }
   ],
   "source": [
    "# Plot the daily returns of the S&P 500 over the last 5 years\n",
    "cumulative_returns.plot(figsize=(10,5))"
   ]
  },
  {
   "cell_type": "markdown",
   "id": "89e441f6",
   "metadata": {
    "jp-MarkdownHeadingCollapsed": true,
    "tags": []
   },
   "source": [
    "### VII. Sorting"
   ]
  },
  {
   "cell_type": "markdown",
   "id": "816c6390",
   "metadata": {
    "jp-MarkdownHeadingCollapsed": true,
    "tags": []
   },
   "source": [
    "#### i. Read CSV"
   ]
  },
  {
   "cell_type": "code",
   "execution_count": 101,
   "id": "1329fda4",
   "metadata": {},
   "outputs": [
    {
     "data": {
      "text/html": [
       "<div>\n",
       "<style scoped>\n",
       "    .dataframe tbody tr th:only-of-type {\n",
       "        vertical-align: middle;\n",
       "    }\n",
       "\n",
       "    .dataframe tbody tr th {\n",
       "        vertical-align: top;\n",
       "    }\n",
       "\n",
       "    .dataframe thead th {\n",
       "        text-align: right;\n",
       "    }\n",
       "</style>\n",
       "<table border=\"1\" class=\"dataframe\">\n",
       "  <thead>\n",
       "    <tr style=\"text-align: right;\">\n",
       "      <th></th>\n",
       "      <th>Date</th>\n",
       "      <th>Close</th>\n",
       "    </tr>\n",
       "  </thead>\n",
       "  <tbody>\n",
       "    <tr>\n",
       "      <th>0</th>\n",
       "      <td>11/13/18</td>\n",
       "      <td>338.73</td>\n",
       "    </tr>\n",
       "    <tr>\n",
       "      <th>1</th>\n",
       "      <td>11/14/18</td>\n",
       "      <td>344.00</td>\n",
       "    </tr>\n",
       "    <tr>\n",
       "      <th>2</th>\n",
       "      <td>11/15/18</td>\n",
       "      <td>348.44</td>\n",
       "    </tr>\n",
       "    <tr>\n",
       "      <th>3</th>\n",
       "      <td>11/16/18</td>\n",
       "      <td>354.31</td>\n",
       "    </tr>\n",
       "    <tr>\n",
       "      <th>4</th>\n",
       "      <td>11/19/18</td>\n",
       "      <td>353.47</td>\n",
       "    </tr>\n",
       "  </tbody>\n",
       "</table>\n",
       "</div>"
      ],
      "text/plain": [
       "       Date   Close\n",
       "0  11/13/18  338.73\n",
       "1  11/14/18  344.00\n",
       "2  11/15/18  348.44\n",
       "3  11/16/18  354.31\n",
       "4  11/19/18  353.47"
      ]
     },
     "execution_count": 101,
     "metadata": {},
     "output_type": "execute_result"
    }
   ],
   "source": [
    "# Read in csv\n",
    "csv_path = Path(\"cheatsheetresources/tsla_google_finance.csv\")\n",
    "tsla_df = pd.read_csv(csv_path)\n",
    "tsla_df.head()"
   ]
  },
  {
   "cell_type": "markdown",
   "id": "1c4ff5ea",
   "metadata": {
    "jp-MarkdownHeadingCollapsed": true,
    "tags": []
   },
   "source": [
    "#### ii. Index Data by `Date`"
   ]
  },
  {
   "cell_type": "code",
   "execution_count": 102,
   "id": "ba60e1ab",
   "metadata": {},
   "outputs": [
    {
     "data": {
      "text/html": [
       "<div>\n",
       "<style scoped>\n",
       "    .dataframe tbody tr th:only-of-type {\n",
       "        vertical-align: middle;\n",
       "    }\n",
       "\n",
       "    .dataframe tbody tr th {\n",
       "        vertical-align: top;\n",
       "    }\n",
       "\n",
       "    .dataframe thead th {\n",
       "        text-align: right;\n",
       "    }\n",
       "</style>\n",
       "<table border=\"1\" class=\"dataframe\">\n",
       "  <thead>\n",
       "    <tr style=\"text-align: right;\">\n",
       "      <th></th>\n",
       "      <th>Close</th>\n",
       "    </tr>\n",
       "    <tr>\n",
       "      <th>Date</th>\n",
       "      <th></th>\n",
       "    </tr>\n",
       "  </thead>\n",
       "  <tbody>\n",
       "    <tr>\n",
       "      <th>11/13/18</th>\n",
       "      <td>338.73</td>\n",
       "    </tr>\n",
       "    <tr>\n",
       "      <th>11/14/18</th>\n",
       "      <td>344.00</td>\n",
       "    </tr>\n",
       "    <tr>\n",
       "      <th>11/15/18</th>\n",
       "      <td>348.44</td>\n",
       "    </tr>\n",
       "    <tr>\n",
       "      <th>11/16/18</th>\n",
       "      <td>354.31</td>\n",
       "    </tr>\n",
       "    <tr>\n",
       "      <th>11/19/18</th>\n",
       "      <td>353.47</td>\n",
       "    </tr>\n",
       "  </tbody>\n",
       "</table>\n",
       "</div>"
      ],
      "text/plain": [
       "           Close\n",
       "Date            \n",
       "11/13/18  338.73\n",
       "11/14/18  344.00\n",
       "11/15/18  348.44\n",
       "11/16/18  354.31\n",
       "11/19/18  353.47"
      ]
     },
     "execution_count": 102,
     "metadata": {},
     "output_type": "execute_result"
    }
   ],
   "source": [
    "# Set `Date` as index\n",
    "tsla_df = tsla_df.set_index('Date')\n",
    "tsla_df.head()"
   ]
  },
  {
   "cell_type": "markdown",
   "id": "f69837a2",
   "metadata": {
    "jp-MarkdownHeadingCollapsed": true,
    "tags": []
   },
   "source": [
    "#### iii. Assess and Clean Data"
   ]
  },
  {
   "cell_type": "code",
   "execution_count": 103,
   "id": "0ec73df4",
   "metadata": {},
   "outputs": [
    {
     "data": {
      "text/html": [
       "<div>\n",
       "<style scoped>\n",
       "    .dataframe tbody tr th:only-of-type {\n",
       "        vertical-align: middle;\n",
       "    }\n",
       "\n",
       "    .dataframe tbody tr th {\n",
       "        vertical-align: top;\n",
       "    }\n",
       "\n",
       "    .dataframe thead th {\n",
       "        text-align: right;\n",
       "    }\n",
       "</style>\n",
       "<table border=\"1\" class=\"dataframe\">\n",
       "  <thead>\n",
       "    <tr style=\"text-align: right;\">\n",
       "      <th></th>\n",
       "      <th>Close</th>\n",
       "    </tr>\n",
       "    <tr>\n",
       "      <th>Date</th>\n",
       "      <th></th>\n",
       "    </tr>\n",
       "  </thead>\n",
       "  <tbody>\n",
       "    <tr>\n",
       "      <th>11/13/18</th>\n",
       "      <td>338.73</td>\n",
       "    </tr>\n",
       "    <tr>\n",
       "      <th>11/14/18</th>\n",
       "      <td>344.00</td>\n",
       "    </tr>\n",
       "    <tr>\n",
       "      <th>11/15/18</th>\n",
       "      <td>348.44</td>\n",
       "    </tr>\n",
       "    <tr>\n",
       "      <th>11/16/18</th>\n",
       "      <td>354.31</td>\n",
       "    </tr>\n",
       "    <tr>\n",
       "      <th>11/19/18</th>\n",
       "      <td>353.47</td>\n",
       "    </tr>\n",
       "  </tbody>\n",
       "</table>\n",
       "</div>"
      ],
      "text/plain": [
       "           Close\n",
       "Date            \n",
       "11/13/18  338.73\n",
       "11/14/18  344.00\n",
       "11/15/18  348.44\n",
       "11/16/18  354.31\n",
       "11/19/18  353.47"
      ]
     },
     "execution_count": 103,
     "metadata": {},
     "output_type": "execute_result"
    }
   ],
   "source": [
    "# Check for nulls\n",
    "tsla_df.isnull().mean()*100\n",
    "tsla_df.isnull().sum()\n",
    "\n",
    "# Drop missing values\n",
    "tsla_df = tsla_df.dropna()\n",
    "\n",
    "# Validate no more missing values\n",
    "tsla_df.isnull().sum()\n",
    "tsla_df.head()"
   ]
  },
  {
   "cell_type": "markdown",
   "id": "89c4ddae",
   "metadata": {
    "jp-MarkdownHeadingCollapsed": true,
    "tags": []
   },
   "source": [
    "#### iv. Calculate Daily Returns"
   ]
  },
  {
   "cell_type": "code",
   "execution_count": 105,
   "id": "25fcbc5f",
   "metadata": {},
   "outputs": [
    {
     "data": {
      "text/html": [
       "<div>\n",
       "<style scoped>\n",
       "    .dataframe tbody tr th:only-of-type {\n",
       "        vertical-align: middle;\n",
       "    }\n",
       "\n",
       "    .dataframe tbody tr th {\n",
       "        vertical-align: top;\n",
       "    }\n",
       "\n",
       "    .dataframe thead th {\n",
       "        text-align: right;\n",
       "    }\n",
       "</style>\n",
       "<table border=\"1\" class=\"dataframe\">\n",
       "  <thead>\n",
       "    <tr style=\"text-align: right;\">\n",
       "      <th></th>\n",
       "      <th>Close</th>\n",
       "    </tr>\n",
       "    <tr>\n",
       "      <th>Date</th>\n",
       "      <th></th>\n",
       "    </tr>\n",
       "  </thead>\n",
       "  <tbody>\n",
       "    <tr>\n",
       "      <th>11/13/18</th>\n",
       "      <td>NaN</td>\n",
       "    </tr>\n",
       "    <tr>\n",
       "      <th>11/14/18</th>\n",
       "      <td>0.015558</td>\n",
       "    </tr>\n",
       "    <tr>\n",
       "      <th>11/15/18</th>\n",
       "      <td>0.012907</td>\n",
       "    </tr>\n",
       "    <tr>\n",
       "      <th>11/16/18</th>\n",
       "      <td>0.016847</td>\n",
       "    </tr>\n",
       "    <tr>\n",
       "      <th>11/19/18</th>\n",
       "      <td>-0.002371</td>\n",
       "    </tr>\n",
       "  </tbody>\n",
       "</table>\n",
       "</div>"
      ],
      "text/plain": [
       "             Close\n",
       "Date              \n",
       "11/13/18       NaN\n",
       "11/14/18  0.015558\n",
       "11/15/18  0.012907\n",
       "11/16/18  0.016847\n",
       "11/19/18 -0.002371"
      ]
     },
     "execution_count": 105,
     "metadata": {},
     "output_type": "execute_result"
    }
   ],
   "source": [
    "# Calculate daily returns\n",
    "tsla_daily_returns = tsla_df.pct_change()\n",
    "tsla_daily_returns.head()"
   ]
  },
  {
   "cell_type": "markdown",
   "id": "dfdebd25",
   "metadata": {
    "jp-MarkdownHeadingCollapsed": true,
    "tags": []
   },
   "source": [
    "#### Sort the DataFrame by `Close` to Get Records with Top Daily Returns"
   ]
  },
  {
   "cell_type": "code",
   "execution_count": 106,
   "id": "3ad12b06",
   "metadata": {},
   "outputs": [
    {
     "data": {
      "text/html": [
       "<div>\n",
       "<style scoped>\n",
       "    .dataframe tbody tr th:only-of-type {\n",
       "        vertical-align: middle;\n",
       "    }\n",
       "\n",
       "    .dataframe tbody tr th {\n",
       "        vertical-align: top;\n",
       "    }\n",
       "\n",
       "    .dataframe thead th {\n",
       "        text-align: right;\n",
       "    }\n",
       "</style>\n",
       "<table border=\"1\" class=\"dataframe\">\n",
       "  <thead>\n",
       "    <tr style=\"text-align: right;\">\n",
       "      <th></th>\n",
       "      <th>Close</th>\n",
       "    </tr>\n",
       "    <tr>\n",
       "      <th>Date</th>\n",
       "      <th></th>\n",
       "    </tr>\n",
       "  </thead>\n",
       "  <tbody>\n",
       "    <tr>\n",
       "      <th>12/26/18</th>\n",
       "      <td>0.103930</td>\n",
       "    </tr>\n",
       "    <tr>\n",
       "      <th>11/26/18</th>\n",
       "      <td>0.061903</td>\n",
       "    </tr>\n",
       "    <tr>\n",
       "      <th>1/4/19</th>\n",
       "      <td>0.057697</td>\n",
       "    </tr>\n",
       "    <tr>\n",
       "      <th>2/27/19</th>\n",
       "      <td>0.056671</td>\n",
       "    </tr>\n",
       "    <tr>\n",
       "      <th>12/28/18</th>\n",
       "      <td>0.056116</td>\n",
       "    </tr>\n",
       "  </tbody>\n",
       "</table>\n",
       "</div>"
      ],
      "text/plain": [
       "             Close\n",
       "Date              \n",
       "12/26/18  0.103930\n",
       "11/26/18  0.061903\n",
       "1/4/19    0.057697\n",
       "2/27/19   0.056671\n",
       "12/28/18  0.056116"
      ]
     },
     "execution_count": 106,
     "metadata": {},
     "output_type": "execute_result"
    }
   ],
   "source": [
    "# Sort data by `Close` in descending order\n",
    "tsla_top_changes = tsla_daily_returns.sort_values(\"Close\", ascending = False)\n",
    "tsla_top_changes.head()"
   ]
  },
  {
   "cell_type": "markdown",
   "id": "ca939574",
   "metadata": {
    "jp-MarkdownHeadingCollapsed": true,
    "tags": []
   },
   "source": [
    "#### Slice Out 5 Records"
   ]
  },
  {
   "cell_type": "code",
   "execution_count": 107,
   "id": "0eb73262",
   "metadata": {},
   "outputs": [
    {
     "data": {
      "text/html": [
       "<div>\n",
       "<style scoped>\n",
       "    .dataframe tbody tr th:only-of-type {\n",
       "        vertical-align: middle;\n",
       "    }\n",
       "\n",
       "    .dataframe tbody tr th {\n",
       "        vertical-align: top;\n",
       "    }\n",
       "\n",
       "    .dataframe thead th {\n",
       "        text-align: right;\n",
       "    }\n",
       "</style>\n",
       "<table border=\"1\" class=\"dataframe\">\n",
       "  <thead>\n",
       "    <tr style=\"text-align: right;\">\n",
       "      <th></th>\n",
       "      <th>Close</th>\n",
       "    </tr>\n",
       "    <tr>\n",
       "      <th>Date</th>\n",
       "      <th></th>\n",
       "    </tr>\n",
       "  </thead>\n",
       "  <tbody>\n",
       "    <tr>\n",
       "      <th>12/26/18</th>\n",
       "      <td>0.103930</td>\n",
       "    </tr>\n",
       "    <tr>\n",
       "      <th>11/26/18</th>\n",
       "      <td>0.061903</td>\n",
       "    </tr>\n",
       "    <tr>\n",
       "      <th>1/4/19</th>\n",
       "      <td>0.057697</td>\n",
       "    </tr>\n",
       "    <tr>\n",
       "      <th>2/27/19</th>\n",
       "      <td>0.056671</td>\n",
       "    </tr>\n",
       "    <tr>\n",
       "      <th>12/28/18</th>\n",
       "      <td>0.056116</td>\n",
       "    </tr>\n",
       "  </tbody>\n",
       "</table>\n",
       "</div>"
      ],
      "text/plain": [
       "             Close\n",
       "Date              \n",
       "12/26/18  0.103930\n",
       "11/26/18  0.061903\n",
       "1/4/19    0.057697\n",
       "2/27/19   0.056671\n",
       "12/28/18  0.056116"
      ]
     },
     "execution_count": 107,
     "metadata": {},
     "output_type": "execute_result"
    }
   ],
   "source": [
    "# Slice out top 5\n",
    "tsla_top_five = tsla_top_changes.iloc[:5]\n",
    "tsla_top_five"
   ]
  },
  {
   "cell_type": "markdown",
   "id": "4a79929f",
   "metadata": {
    "jp-MarkdownHeadingCollapsed": true,
    "tags": []
   },
   "source": [
    "#### Plot Top 5 Performing Days for TSLA Daily Returns"
   ]
  },
  {
   "cell_type": "code",
   "execution_count": 108,
   "id": "3c0b6e42",
   "metadata": {},
   "outputs": [
    {
     "data": {
      "text/plain": [
       "<AxesSubplot:xlabel='Date'>"
      ]
     },
     "execution_count": 108,
     "metadata": {},
     "output_type": "execute_result"
    },
    {
     "data": {
      "image/png": "[encoded data removed]",
      "text/plain": [
       "<Figure size 432x288 with 1 Axes>"
      ]
     },
     "metadata": {
      "needs_background": "light"
     },
     "output_type": "display_data"
    }
   ],
   "source": [
    "# Plot top 5 performing days\n",
    "tsla_top_five.plot()"
   ]
  },
  {
   "cell_type": "code",
   "execution_count": 109,
   "id": "6c43a07a",
   "metadata": {},
   "outputs": [
    {
     "data": {
      "text/plain": [
       "<AxesSubplot:xlabel='Date'>"
      ]
     },
     "execution_count": 109,
     "metadata": {},
     "output_type": "execute_result"
    },
    {
     "data": {
      "image/png": "[encoded data removed]",
      "text/plain": [
       "<Figure size 432x288 with 1 Axes>"
      ]
     },
     "metadata": {
      "needs_background": "light"
     },
     "output_type": "display_data"
    }
   ],
   "source": [
    "# Alternatively, visualizing the returns as a bar chart:\n",
    "tsla_top_five.plot.bar()"
   ]
  },
  {
   "cell_type": "markdown",
   "id": "8b763f62",
   "metadata": {
    "jp-MarkdownHeadingCollapsed": true,
    "tags": []
   },
   "source": [
    "### VIII. Groupby"
   ]
  },
  {
   "cell_type": "markdown",
   "id": "9d40f33a",
   "metadata": {
    "jp-MarkdownHeadingCollapsed": true,
    "tags": []
   },
   "source": [
    "#### i. Read CSV"
   ]
  },
  {
   "cell_type": "code",
   "execution_count": 110,
   "id": "729e7263",
   "metadata": {},
   "outputs": [
    {
     "data": {
      "text/html": [
       "<div>\n",
       "<style scoped>\n",
       "    .dataframe tbody tr th:only-of-type {\n",
       "        vertical-align: middle;\n",
       "    }\n",
       "\n",
       "    .dataframe tbody tr th {\n",
       "        vertical-align: top;\n",
       "    }\n",
       "\n",
       "    .dataframe thead th {\n",
       "        text-align: right;\n",
       "    }\n",
       "</style>\n",
       "<table border=\"1\" class=\"dataframe\">\n",
       "  <thead>\n",
       "    <tr style=\"text-align: right;\">\n",
       "      <th></th>\n",
       "      <th>cryptocurrency</th>\n",
       "      <th>data_priceUsd</th>\n",
       "      <th>data_time</th>\n",
       "      <th>timestamp</th>\n",
       "    </tr>\n",
       "    <tr>\n",
       "      <th>data_date</th>\n",
       "      <th></th>\n",
       "      <th></th>\n",
       "      <th></th>\n",
       "      <th></th>\n",
       "    </tr>\n",
       "  </thead>\n",
       "  <tbody>\n",
       "    <tr>\n",
       "      <th>2017-05-09</th>\n",
       "      <td>bitcoin</td>\n",
       "      <td>NaN</td>\n",
       "      <td>1.494288e+12</td>\n",
       "      <td>1.557285e+12</td>\n",
       "    </tr>\n",
       "    <tr>\n",
       "      <th>2017-05-10</th>\n",
       "      <td>bitcoin</td>\n",
       "      <td>1743.723523</td>\n",
       "      <td>1.494374e+12</td>\n",
       "      <td>NaN</td>\n",
       "    </tr>\n",
       "    <tr>\n",
       "      <th>2017-05-11</th>\n",
       "      <td>bitcoin</td>\n",
       "      <td>1828.678209</td>\n",
       "      <td>1.494461e+12</td>\n",
       "      <td>NaN</td>\n",
       "    </tr>\n",
       "    <tr>\n",
       "      <th>2017-05-12</th>\n",
       "      <td>bitcoin</td>\n",
       "      <td>1776.443919</td>\n",
       "      <td>1.494547e+12</td>\n",
       "      <td>NaN</td>\n",
       "    </tr>\n",
       "    <tr>\n",
       "      <th>2017-05-13</th>\n",
       "      <td>bitcoin</td>\n",
       "      <td>1714.964198</td>\n",
       "      <td>1.494634e+12</td>\n",
       "      <td>NaN</td>\n",
       "    </tr>\n",
       "  </tbody>\n",
       "</table>\n",
       "</div>"
      ],
      "text/plain": [
       "           cryptocurrency  data_priceUsd     data_time     timestamp\n",
       "data_date                                                           \n",
       "2017-05-09        bitcoin            NaN  1.494288e+12  1.557285e+12\n",
       "2017-05-10        bitcoin    1743.723523  1.494374e+12           NaN\n",
       "2017-05-11        bitcoin    1828.678209  1.494461e+12           NaN\n",
       "2017-05-12        bitcoin    1776.443919  1.494547e+12           NaN\n",
       "2017-05-13        bitcoin    1714.964198  1.494634e+12           NaN"
      ]
     },
     "execution_count": 110,
     "metadata": {},
     "output_type": "execute_result"
    }
   ],
   "source": [
    "# Read in CSV file\n",
    "csv_path = Path(\"cheatsheetresources/crypto_data.csv\")\n",
    "crypto_data = pd.read_csv(csv_path, index_col='data_date', parse_dates=True, infer_datetime_format=True)\n",
    "crypto_data.head()"
   ]
  },
  {
   "cell_type": "markdown",
   "id": "4ef97f99",
   "metadata": {
    "jp-MarkdownHeadingCollapsed": true,
    "tags": []
   },
   "source": [
    "#### ii. Clean Data"
   ]
  },
  {
   "cell_type": "code",
   "execution_count": 111,
   "id": "fd145117",
   "metadata": {},
   "outputs": [
    {
     "data": {
      "text/html": [
       "<div>\n",
       "<style scoped>\n",
       "    .dataframe tbody tr th:only-of-type {\n",
       "        vertical-align: middle;\n",
       "    }\n",
       "\n",
       "    .dataframe tbody tr th {\n",
       "        vertical-align: top;\n",
       "    }\n",
       "\n",
       "    .dataframe thead th {\n",
       "        text-align: right;\n",
       "    }\n",
       "</style>\n",
       "<table border=\"1\" class=\"dataframe\">\n",
       "  <thead>\n",
       "    <tr style=\"text-align: right;\">\n",
       "      <th></th>\n",
       "      <th>cryptocurrency</th>\n",
       "      <th>data_priceUsd</th>\n",
       "    </tr>\n",
       "    <tr>\n",
       "      <th>data_date</th>\n",
       "      <th></th>\n",
       "      <th></th>\n",
       "    </tr>\n",
       "  </thead>\n",
       "  <tbody>\n",
       "    <tr>\n",
       "      <th>2017-05-10</th>\n",
       "      <td>bitcoin</td>\n",
       "      <td>1743.723523</td>\n",
       "    </tr>\n",
       "    <tr>\n",
       "      <th>2017-05-11</th>\n",
       "      <td>bitcoin</td>\n",
       "      <td>1828.678209</td>\n",
       "    </tr>\n",
       "    <tr>\n",
       "      <th>2017-05-12</th>\n",
       "      <td>bitcoin</td>\n",
       "      <td>1776.443919</td>\n",
       "    </tr>\n",
       "    <tr>\n",
       "      <th>2017-05-13</th>\n",
       "      <td>bitcoin</td>\n",
       "      <td>1714.964198</td>\n",
       "    </tr>\n",
       "    <tr>\n",
       "      <th>2017-05-14</th>\n",
       "      <td>bitcoin</td>\n",
       "      <td>1789.278913</td>\n",
       "    </tr>\n",
       "  </tbody>\n",
       "</table>\n",
       "</div>"
      ],
      "text/plain": [
       "           cryptocurrency  data_priceUsd\n",
       "data_date                               \n",
       "2017-05-10        bitcoin    1743.723523\n",
       "2017-05-11        bitcoin    1828.678209\n",
       "2017-05-12        bitcoin    1776.443919\n",
       "2017-05-13        bitcoin    1714.964198\n",
       "2017-05-14        bitcoin    1789.278913"
      ]
     },
     "execution_count": 111,
     "metadata": {},
     "output_type": "execute_result"
    }
   ],
   "source": [
    "# Drop extraneous columns\n",
    "crypto_data = crypto_data.drop(columns=['data_time','timestamp'])\n",
    "crypto_data = crypto_data.dropna()\n",
    "crypto_data.head()"
   ]
  },
  {
   "cell_type": "markdown",
   "id": "e8c37e16",
   "metadata": {
    "jp-MarkdownHeadingCollapsed": true,
    "tags": []
   },
   "source": [
    "#### iii. Group data by `cryptocurrency` and plot on the same chart"
   ]
  },
  {
   "cell_type": "code",
   "execution_count": 112,
   "id": "c0937dcf",
   "metadata": {},
   "outputs": [
    {
     "data": {
      "text/plain": [
       "cryptocurrency\n",
       "bitcoin         AxesSubplot(0.125,0.2;0.775x0.68)\n",
       "bitcoin-cash    AxesSubplot(0.125,0.2;0.775x0.68)\n",
       "ethereum        AxesSubplot(0.125,0.2;0.775x0.68)\n",
       "litecoin        AxesSubplot(0.125,0.2;0.775x0.68)\n",
       "ripple          AxesSubplot(0.125,0.2;0.775x0.68)\n",
       "Name: data_priceUsd, dtype: object"
      ]
     },
     "execution_count": 112,
     "metadata": {},
     "output_type": "execute_result"
    },
    {
     "data": {
      "image/png": "[encoded data removed]",
      "text/plain": [
       "<Figure size 432x288 with 1 Axes>"
      ]
     },
     "metadata": {
      "needs_background": "light"
     },
     "output_type": "display_data"
    }
   ],
   "source": [
    "grouped_data = crypto_data.groupby('cryptocurrency')['data_priceUsd'].plot(legend=True)\n",
    "grouped_data"
   ]
  },
  {
   "cell_type": "markdown",
   "id": "d5193bba",
   "metadata": {
    "jp-MarkdownHeadingCollapsed": true,
    "tags": []
   },
   "source": [
    "#### iv. Calculate average price across two years for each cryptocurrency"
   ]
  },
  {
   "cell_type": "code",
   "execution_count": 113,
   "id": "160d0d7f",
   "metadata": {},
   "outputs": [
    {
     "data": {
      "text/html": [
       "<div>\n",
       "<style scoped>\n",
       "    .dataframe tbody tr th:only-of-type {\n",
       "        vertical-align: middle;\n",
       "    }\n",
       "\n",
       "    .dataframe tbody tr th {\n",
       "        vertical-align: top;\n",
       "    }\n",
       "\n",
       "    .dataframe thead th {\n",
       "        text-align: right;\n",
       "    }\n",
       "</style>\n",
       "<table border=\"1\" class=\"dataframe\">\n",
       "  <thead>\n",
       "    <tr style=\"text-align: right;\">\n",
       "      <th></th>\n",
       "      <th>data_priceUsd</th>\n",
       "    </tr>\n",
       "    <tr>\n",
       "      <th>cryptocurrency</th>\n",
       "      <th></th>\n",
       "    </tr>\n",
       "  </thead>\n",
       "  <tbody>\n",
       "    <tr>\n",
       "      <th>bitcoin</th>\n",
       "      <td>6323.018445</td>\n",
       "    </tr>\n",
       "    <tr>\n",
       "      <th>bitcoin-cash</th>\n",
       "      <td>733.997564</td>\n",
       "    </tr>\n",
       "    <tr>\n",
       "      <th>ethereum</th>\n",
       "      <td>369.037426</td>\n",
       "    </tr>\n",
       "    <tr>\n",
       "      <th>litecoin</th>\n",
       "      <td>85.618264</td>\n",
       "    </tr>\n",
       "    <tr>\n",
       "      <th>ripple</th>\n",
       "      <td>0.475986</td>\n",
       "    </tr>\n",
       "  </tbody>\n",
       "</table>\n",
       "</div>"
      ],
      "text/plain": [
       "                data_priceUsd\n",
       "cryptocurrency               \n",
       "bitcoin           6323.018445\n",
       "bitcoin-cash       733.997564\n",
       "ethereum           369.037426\n",
       "litecoin            85.618264\n",
       "ripple               0.475986"
      ]
     },
     "execution_count": 113,
     "metadata": {},
     "output_type": "execute_result"
    }
   ],
   "source": [
    "average_price = crypto_data.groupby('cryptocurrency').mean()\n",
    "average_price"
   ]
  },
  {
   "cell_type": "markdown",
   "id": "f3d0e998",
   "metadata": {
    "jp-MarkdownHeadingCollapsed": true,
    "tags": []
   },
   "source": [
    "#### v. Calculate max price across two years for each cryptocurrency"
   ]
  },
  {
   "cell_type": "code",
   "execution_count": 114,
   "id": "4e92f3dc",
   "metadata": {},
   "outputs": [
    {
     "data": {
      "text/html": [
       "<div>\n",
       "<style scoped>\n",
       "    .dataframe tbody tr th:only-of-type {\n",
       "        vertical-align: middle;\n",
       "    }\n",
       "\n",
       "    .dataframe tbody tr th {\n",
       "        vertical-align: top;\n",
       "    }\n",
       "\n",
       "    .dataframe thead th {\n",
       "        text-align: right;\n",
       "    }\n",
       "</style>\n",
       "<table border=\"1\" class=\"dataframe\">\n",
       "  <thead>\n",
       "    <tr style=\"text-align: right;\">\n",
       "      <th></th>\n",
       "      <th>data_priceUsd</th>\n",
       "    </tr>\n",
       "    <tr>\n",
       "      <th>cryptocurrency</th>\n",
       "      <th></th>\n",
       "    </tr>\n",
       "  </thead>\n",
       "  <tbody>\n",
       "    <tr>\n",
       "      <th>bitcoin</th>\n",
       "      <td>19339.922660</td>\n",
       "    </tr>\n",
       "    <tr>\n",
       "      <th>bitcoin-cash</th>\n",
       "      <td>3476.844119</td>\n",
       "    </tr>\n",
       "    <tr>\n",
       "      <th>ethereum</th>\n",
       "      <td>1346.037491</td>\n",
       "    </tr>\n",
       "    <tr>\n",
       "      <th>litecoin</th>\n",
       "      <td>352.713468</td>\n",
       "    </tr>\n",
       "    <tr>\n",
       "      <th>ripple</th>\n",
       "      <td>2.999459</td>\n",
       "    </tr>\n",
       "  </tbody>\n",
       "</table>\n",
       "</div>"
      ],
      "text/plain": [
       "                data_priceUsd\n",
       "cryptocurrency               \n",
       "bitcoin          19339.922660\n",
       "bitcoin-cash      3476.844119\n",
       "ethereum          1346.037491\n",
       "litecoin           352.713468\n",
       "ripple               2.999459"
      ]
     },
     "execution_count": 114,
     "metadata": {},
     "output_type": "execute_result"
    }
   ],
   "source": [
    "max_price = crypto_data.groupby('cryptocurrency').max()\n",
    "max_price"
   ]
  },
  {
   "cell_type": "markdown",
   "id": "064e72c9",
   "metadata": {},
   "source": [
    "#### vi. Calculate min price across two years for each cryptocurrency"
   ]
  },
  {
   "cell_type": "code",
   "execution_count": 115,
   "id": "5a5842f4",
   "metadata": {},
   "outputs": [
    {
     "data": {
      "text/html": [
       "<div>\n",
       "<style scoped>\n",
       "    .dataframe tbody tr th:only-of-type {\n",
       "        vertical-align: middle;\n",
       "    }\n",
       "\n",
       "    .dataframe tbody tr th {\n",
       "        vertical-align: top;\n",
       "    }\n",
       "\n",
       "    .dataframe thead th {\n",
       "        text-align: right;\n",
       "    }\n",
       "</style>\n",
       "<table border=\"1\" class=\"dataframe\">\n",
       "  <thead>\n",
       "    <tr style=\"text-align: right;\">\n",
       "      <th></th>\n",
       "      <th>data_priceUsd</th>\n",
       "    </tr>\n",
       "    <tr>\n",
       "      <th>cryptocurrency</th>\n",
       "      <th></th>\n",
       "    </tr>\n",
       "  </thead>\n",
       "  <tbody>\n",
       "    <tr>\n",
       "      <th>bitcoin</th>\n",
       "      <td>1714.964198</td>\n",
       "    </tr>\n",
       "    <tr>\n",
       "      <th>bitcoin-cash</th>\n",
       "      <td>78.977344</td>\n",
       "    </tr>\n",
       "    <tr>\n",
       "      <th>ethereum</th>\n",
       "      <td>84.374014</td>\n",
       "    </tr>\n",
       "    <tr>\n",
       "      <th>litecoin</th>\n",
       "      <td>22.550468</td>\n",
       "    </tr>\n",
       "    <tr>\n",
       "      <th>ripple</th>\n",
       "      <td>0.154144</td>\n",
       "    </tr>\n",
       "  </tbody>\n",
       "</table>\n",
       "</div>"
      ],
      "text/plain": [
       "                data_priceUsd\n",
       "cryptocurrency               \n",
       "bitcoin           1714.964198\n",
       "bitcoin-cash        78.977344\n",
       "ethereum            84.374014\n",
       "litecoin            22.550468\n",
       "ripple               0.154144"
      ]
     },
     "execution_count": 115,
     "metadata": {},
     "output_type": "execute_result"
    }
   ],
   "source": [
    "min_price = crypto_data.groupby('cryptocurrency').min()\n",
    "min_price"
   ]
  },
  {
   "cell_type": "markdown",
   "id": "3ccdf6d1",
   "metadata": {
    "jp-MarkdownHeadingCollapsed": true,
    "tags": []
   },
   "source": [
    "### IX. Multi Indexing"
   ]
  },
  {
   "cell_type": "markdown",
   "id": "a76727db",
   "metadata": {
    "jp-MarkdownHeadingCollapsed": true,
    "tags": []
   },
   "source": [
    "#### i. Read CSV"
   ]
  },
  {
   "cell_type": "code",
   "execution_count": 116,
   "id": "b8433e30",
   "metadata": {},
   "outputs": [
    {
     "data": {
      "text/html": [
       "<div>\n",
       "<style scoped>\n",
       "    .dataframe tbody tr th:only-of-type {\n",
       "        vertical-align: middle;\n",
       "    }\n",
       "\n",
       "    .dataframe tbody tr th {\n",
       "        vertical-align: top;\n",
       "    }\n",
       "\n",
       "    .dataframe thead th {\n",
       "        text-align: right;\n",
       "    }\n",
       "</style>\n",
       "<table border=\"1\" class=\"dataframe\">\n",
       "  <thead>\n",
       "    <tr style=\"text-align: right;\">\n",
       "      <th></th>\n",
       "      <th>Close</th>\n",
       "    </tr>\n",
       "    <tr>\n",
       "      <th>Date</th>\n",
       "      <th></th>\n",
       "    </tr>\n",
       "  </thead>\n",
       "  <tbody>\n",
       "    <tr>\n",
       "      <th>2019-05-13</th>\n",
       "      <td>1132.03</td>\n",
       "    </tr>\n",
       "    <tr>\n",
       "      <th>2019-05-10</th>\n",
       "      <td>1164.27</td>\n",
       "    </tr>\n",
       "    <tr>\n",
       "      <th>2019-05-09</th>\n",
       "      <td>1162.38</td>\n",
       "    </tr>\n",
       "    <tr>\n",
       "      <th>2019-05-08</th>\n",
       "      <td>1166.27</td>\n",
       "    </tr>\n",
       "    <tr>\n",
       "      <th>2019-05-07</th>\n",
       "      <td>1174.10</td>\n",
       "    </tr>\n",
       "  </tbody>\n",
       "</table>\n",
       "</div>"
      ],
      "text/plain": [
       "              Close\n",
       "Date               \n",
       "2019-05-13  1132.03\n",
       "2019-05-10  1164.27\n",
       "2019-05-09  1162.38\n",
       "2019-05-08  1166.27\n",
       "2019-05-07  1174.10"
      ]
     },
     "execution_count": 116,
     "metadata": {},
     "output_type": "execute_result"
    }
   ],
   "source": [
    "# Read csv data\n",
    "csv_path = Path(\"cheatsheetresources/goog_google_finance.csv\")\n",
    "goog_df = pd.read_csv(\n",
    "    csv_path, parse_dates=True, index_col=\"Date\", infer_datetime_format=True\n",
    ")\n",
    "goog_df.head()"
   ]
  },
  {
   "cell_type": "code",
   "execution_count": 117,
   "id": "051de92d",
   "metadata": {},
   "outputs": [
    {
     "data": {
      "text/html": [
       "<div>\n",
       "<style scoped>\n",
       "    .dataframe tbody tr th:only-of-type {\n",
       "        vertical-align: middle;\n",
       "    }\n",
       "\n",
       "    .dataframe tbody tr th {\n",
       "        vertical-align: top;\n",
       "    }\n",
       "\n",
       "    .dataframe thead th {\n",
       "        text-align: right;\n",
       "    }\n",
       "</style>\n",
       "<table border=\"1\" class=\"dataframe\">\n",
       "  <thead>\n",
       "    <tr style=\"text-align: right;\">\n",
       "      <th></th>\n",
       "      <th>Close</th>\n",
       "    </tr>\n",
       "  </thead>\n",
       "  <tbody>\n",
       "    <tr>\n",
       "      <th>count</th>\n",
       "      <td>64.000000</td>\n",
       "    </tr>\n",
       "    <tr>\n",
       "      <th>mean</th>\n",
       "      <td>1179.538906</td>\n",
       "    </tr>\n",
       "    <tr>\n",
       "      <th>std</th>\n",
       "      <td>46.589776</td>\n",
       "    </tr>\n",
       "    <tr>\n",
       "      <th>min</th>\n",
       "      <td>1095.010000</td>\n",
       "    </tr>\n",
       "    <tr>\n",
       "      <th>25%</th>\n",
       "      <td>1143.055000</td>\n",
       "    </tr>\n",
       "    <tr>\n",
       "      <th>50%</th>\n",
       "      <td>1184.540000</td>\n",
       "    </tr>\n",
       "    <tr>\n",
       "      <th>75%</th>\n",
       "      <td>1205.605000</td>\n",
       "    </tr>\n",
       "    <tr>\n",
       "      <th>max</th>\n",
       "      <td>1287.580000</td>\n",
       "    </tr>\n",
       "  </tbody>\n",
       "</table>\n",
       "</div>"
      ],
      "text/plain": [
       "             Close\n",
       "count    64.000000\n",
       "mean   1179.538906\n",
       "std      46.589776\n",
       "min    1095.010000\n",
       "25%    1143.055000\n",
       "50%    1184.540000\n",
       "75%    1205.605000\n",
       "max    1287.580000"
      ]
     },
     "execution_count": 117,
     "metadata": {},
     "output_type": "execute_result"
    }
   ],
   "source": [
    "goog_df.describe()"
   ]
  },
  {
   "cell_type": "markdown",
   "id": "6ea9ec68",
   "metadata": {
    "jp-MarkdownHeadingCollapsed": true,
    "tags": []
   },
   "source": [
    "#### ii. Assess & Clean Data"
   ]
  },
  {
   "cell_type": "code",
   "execution_count": 118,
   "id": "698416e4",
   "metadata": {},
   "outputs": [
    {
     "data": {
      "text/plain": [
       "Close    0\n",
       "dtype: int64"
      ]
     },
     "execution_count": 118,
     "metadata": {},
     "output_type": "execute_result"
    }
   ],
   "source": [
    "# Check for nulls\n",
    "goog_df.isnull().mean() * 100\n",
    "\n",
    "# Drop nulls\n",
    "goog_df = goog_df.dropna()\n",
    "\n",
    "# Drop duplicates\n",
    "goog_df = goog_df.drop_duplicates()\n",
    "\n",
    "# Validate no more missing values\n",
    "goog_df.isnull().sum()"
   ]
  },
  {
   "cell_type": "markdown",
   "id": "3e8404b5",
   "metadata": {
    "jp-MarkdownHeadingCollapsed": true,
    "tags": []
   },
   "source": [
    "#### iii. Group by `year` and `month`"
   ]
  },
  {
   "cell_type": "code",
   "execution_count": 119,
   "id": "622bc7ed",
   "metadata": {},
   "outputs": [
    {
     "data": {
      "text/html": [
       "<div>\n",
       "<style scoped>\n",
       "    .dataframe tbody tr th:only-of-type {\n",
       "        vertical-align: middle;\n",
       "    }\n",
       "\n",
       "    .dataframe tbody tr th {\n",
       "        vertical-align: top;\n",
       "    }\n",
       "\n",
       "    .dataframe thead th {\n",
       "        text-align: right;\n",
       "    }\n",
       "</style>\n",
       "<table border=\"1\" class=\"dataframe\">\n",
       "  <thead>\n",
       "    <tr style=\"text-align: right;\">\n",
       "      <th></th>\n",
       "      <th></th>\n",
       "      <th>Close</th>\n",
       "    </tr>\n",
       "    <tr>\n",
       "      <th>Date</th>\n",
       "      <th>Date</th>\n",
       "      <th></th>\n",
       "    </tr>\n",
       "  </thead>\n",
       "  <tbody>\n",
       "    <tr>\n",
       "      <th rowspan=\"4\" valign=\"top\">2019</th>\n",
       "      <th>2</th>\n",
       "      <td>1119.92</td>\n",
       "    </tr>\n",
       "    <tr>\n",
       "      <th>3</th>\n",
       "      <td>1173.31</td>\n",
       "    </tr>\n",
       "    <tr>\n",
       "      <th>4</th>\n",
       "      <td>1188.48</td>\n",
       "    </tr>\n",
       "    <tr>\n",
       "      <th>5</th>\n",
       "      <td>1132.03</td>\n",
       "    </tr>\n",
       "  </tbody>\n",
       "</table>\n",
       "</div>"
      ],
      "text/plain": [
       "             Close\n",
       "Date Date         \n",
       "2019 2     1119.92\n",
       "     3     1173.31\n",
       "     4     1188.48\n",
       "     5     1132.03"
      ]
     },
     "execution_count": 119,
     "metadata": {},
     "output_type": "execute_result"
    }
   ],
   "source": [
    "goog_df_group = goog_df.groupby([goog_df.index.year, goog_df.index.month]).first()\n",
    "goog_df_group.head()"
   ]
  },
  {
   "cell_type": "markdown",
   "id": "cc94554e",
   "metadata": {
    "jp-MarkdownHeadingCollapsed": true,
    "tags": []
   },
   "source": [
    "#### iv. Access `Close` for May 2019 Using Multi-Indexing Lookup"
   ]
  },
  {
   "cell_type": "code",
   "execution_count": 120,
   "id": "f86448e2",
   "metadata": {},
   "outputs": [
    {
     "data": {
      "text/plain": [
       "Close    1132.03\n",
       "Name: (2019, 5), dtype: float64"
      ]
     },
     "execution_count": 120,
     "metadata": {},
     "output_type": "execute_result"
    }
   ],
   "source": [
    "google_may_2019_data = goog_df_group.loc[2019, 5]\n",
    "google_may_2019_data"
   ]
  },
  {
   "cell_type": "markdown",
   "id": "35948469",
   "metadata": {
    "tags": []
   },
   "source": [
    "### X. Concatenation"
   ]
  },
  {
   "cell_type": "markdown",
   "id": "cdbe99c2",
   "metadata": {
    "jp-MarkdownHeadingCollapsed": true,
    "tags": []
   },
   "source": [
    "#### i. Read CSV"
   ]
  },
  {
   "cell_type": "code",
   "execution_count": 121,
   "id": "8043df7f",
   "metadata": {},
   "outputs": [],
   "source": [
    "fin_leaders_america_path = Path('cheatsheetresources/fin_leaders_america.csv')\n",
    "investors_leadership_path = Path('cheatsheetresources/invstrs_leadership.csv')\n",
    "fin_leaders_mem_path = Path('cheatsheetresources/fin_leaders_members.csv')\n",
    "investors_leadership_mem_path = Path('cheatsheetresources/invstrs_leadership_members.csv')\n",
    "\n",
    "fin_leaders_dues = pd.read_csv(fin_leaders_america_path, index_col='MemberName')\n",
    "investors_leadership_dues = pd.read_csv(investors_leadership_path, index_col='MemberName')\n",
    "fin_leaders_mbr_status = pd.read_csv(fin_leaders_mem_path, index_col='MemberName')\n",
    "investors_leadership_mbr_status = pd.read_csv(investors_leadership_mem_path, index_col='MemberName')"
   ]
  },
  {
   "cell_type": "code",
   "execution_count": 122,
   "id": "e57879b0",
   "metadata": {},
   "outputs": [
    {
     "data": {
      "text/html": [
       "<div>\n",
       "<style scoped>\n",
       "    .dataframe tbody tr th:only-of-type {\n",
       "        vertical-align: middle;\n",
       "    }\n",
       "\n",
       "    .dataframe tbody tr th {\n",
       "        vertical-align: top;\n",
       "    }\n",
       "\n",
       "    .dataframe thead th {\n",
       "        text-align: right;\n",
       "    }\n",
       "</style>\n",
       "<table border=\"1\" class=\"dataframe\">\n",
       "  <thead>\n",
       "    <tr style=\"text-align: right;\">\n",
       "      <th></th>\n",
       "      <th>DuesOwed</th>\n",
       "      <th>DuesPaid</th>\n",
       "    </tr>\n",
       "    <tr>\n",
       "      <th>MemberName</th>\n",
       "      <th></th>\n",
       "      <th></th>\n",
       "    </tr>\n",
       "  </thead>\n",
       "  <tbody>\n",
       "    <tr>\n",
       "      <th>Warren Buffet</th>\n",
       "      <td>0</td>\n",
       "      <td>2500</td>\n",
       "    </tr>\n",
       "    <tr>\n",
       "      <th>Janet Yellen</th>\n",
       "      <td>100</td>\n",
       "      <td>2400</td>\n",
       "    </tr>\n",
       "    <tr>\n",
       "      <th>Abigail Johnson</th>\n",
       "      <td>0</td>\n",
       "      <td>2500</td>\n",
       "    </tr>\n",
       "    <tr>\n",
       "      <th>Larry Fink</th>\n",
       "      <td>2500</td>\n",
       "      <td>0</td>\n",
       "    </tr>\n",
       "  </tbody>\n",
       "</table>\n",
       "</div>"
      ],
      "text/plain": [
       "                 DuesOwed  DuesPaid\n",
       "MemberName                         \n",
       "Warren Buffet           0      2500\n",
       "Janet Yellen          100      2400\n",
       "Abigail Johnson         0      2500\n",
       "Larry Fink           2500         0"
      ]
     },
     "execution_count": 122,
     "metadata": {},
     "output_type": "execute_result"
    }
   ],
   "source": [
    "fin_leaders_dues.head()"
   ]
  },
  {
   "cell_type": "code",
   "execution_count": 123,
   "id": "3cc4c0a2",
   "metadata": {},
   "outputs": [
    {
     "data": {
      "text/html": [
       "<div>\n",
       "<style scoped>\n",
       "    .dataframe tbody tr th:only-of-type {\n",
       "        vertical-align: middle;\n",
       "    }\n",
       "\n",
       "    .dataframe tbody tr th {\n",
       "        vertical-align: top;\n",
       "    }\n",
       "\n",
       "    .dataframe thead th {\n",
       "        text-align: right;\n",
       "    }\n",
       "</style>\n",
       "<table border=\"1\" class=\"dataframe\">\n",
       "  <thead>\n",
       "    <tr style=\"text-align: right;\">\n",
       "      <th></th>\n",
       "      <th>DuesOwed</th>\n",
       "      <th>DuesPaid</th>\n",
       "    </tr>\n",
       "    <tr>\n",
       "      <th>MemberName</th>\n",
       "      <th></th>\n",
       "      <th></th>\n",
       "    </tr>\n",
       "  </thead>\n",
       "  <tbody>\n",
       "    <tr>\n",
       "      <th>Warren Buffet</th>\n",
       "      <td>0</td>\n",
       "      <td>2500</td>\n",
       "    </tr>\n",
       "    <tr>\n",
       "      <th>Janet Yellen</th>\n",
       "      <td>100</td>\n",
       "      <td>2400</td>\n",
       "    </tr>\n",
       "    <tr>\n",
       "      <th>Abigail Johnson</th>\n",
       "      <td>0</td>\n",
       "      <td>2500</td>\n",
       "    </tr>\n",
       "    <tr>\n",
       "      <th>Larry Fink</th>\n",
       "      <td>2500</td>\n",
       "      <td>0</td>\n",
       "    </tr>\n",
       "    <tr>\n",
       "      <th>Mario Draghi</th>\n",
       "      <td>2500</td>\n",
       "      <td>0</td>\n",
       "    </tr>\n",
       "  </tbody>\n",
       "</table>\n",
       "</div>"
      ],
      "text/plain": [
       "                 DuesOwed  DuesPaid\n",
       "MemberName                         \n",
       "Warren Buffet           0      2500\n",
       "Janet Yellen          100      2400\n",
       "Abigail Johnson         0      2500\n",
       "Larry Fink           2500         0\n",
       "Mario Draghi         2500         0"
      ]
     },
     "execution_count": 123,
     "metadata": {},
     "output_type": "execute_result"
    }
   ],
   "source": [
    "investors_leadership_dues.head()"
   ]
  },
  {
   "cell_type": "markdown",
   "id": "dc6621c9",
   "metadata": {
    "jp-MarkdownHeadingCollapsed": true,
    "tags": []
   },
   "source": [
    "#### ii. Concat dues data using `rows` axis and `inner` join"
   ]
  },
  {
   "cell_type": "code",
   "execution_count": 124,
   "id": "20cd9e59",
   "metadata": {},
   "outputs": [
    {
     "data": {
      "text/html": [
       "<div>\n",
       "<style scoped>\n",
       "    .dataframe tbody tr th:only-of-type {\n",
       "        vertical-align: middle;\n",
       "    }\n",
       "\n",
       "    .dataframe tbody tr th {\n",
       "        vertical-align: top;\n",
       "    }\n",
       "\n",
       "    .dataframe thead th {\n",
       "        text-align: right;\n",
       "    }\n",
       "</style>\n",
       "<table border=\"1\" class=\"dataframe\">\n",
       "  <thead>\n",
       "    <tr style=\"text-align: right;\">\n",
       "      <th></th>\n",
       "      <th>DuesOwed</th>\n",
       "      <th>DuesPaid</th>\n",
       "    </tr>\n",
       "    <tr>\n",
       "      <th>MemberName</th>\n",
       "      <th></th>\n",
       "      <th></th>\n",
       "    </tr>\n",
       "  </thead>\n",
       "  <tbody>\n",
       "    <tr>\n",
       "      <th>Warren Buffet</th>\n",
       "      <td>0</td>\n",
       "      <td>2500</td>\n",
       "    </tr>\n",
       "    <tr>\n",
       "      <th>Janet Yellen</th>\n",
       "      <td>100</td>\n",
       "      <td>2400</td>\n",
       "    </tr>\n",
       "    <tr>\n",
       "      <th>Abigail Johnson</th>\n",
       "      <td>0</td>\n",
       "      <td>2500</td>\n",
       "    </tr>\n",
       "    <tr>\n",
       "      <th>Larry Fink</th>\n",
       "      <td>2500</td>\n",
       "      <td>0</td>\n",
       "    </tr>\n",
       "    <tr>\n",
       "      <th>Warren Buffet</th>\n",
       "      <td>0</td>\n",
       "      <td>2500</td>\n",
       "    </tr>\n",
       "    <tr>\n",
       "      <th>Janet Yellen</th>\n",
       "      <td>100</td>\n",
       "      <td>2400</td>\n",
       "    </tr>\n",
       "    <tr>\n",
       "      <th>Abigail Johnson</th>\n",
       "      <td>0</td>\n",
       "      <td>2500</td>\n",
       "    </tr>\n",
       "    <tr>\n",
       "      <th>Larry Fink</th>\n",
       "      <td>2500</td>\n",
       "      <td>0</td>\n",
       "    </tr>\n",
       "    <tr>\n",
       "      <th>Mario Draghi</th>\n",
       "      <td>2500</td>\n",
       "      <td>0</td>\n",
       "    </tr>\n",
       "    <tr>\n",
       "      <th>Michael Bloomberg</th>\n",
       "      <td>2500</td>\n",
       "      <td>0</td>\n",
       "    </tr>\n",
       "    <tr>\n",
       "      <th>Ray Dalio</th>\n",
       "      <td>0</td>\n",
       "      <td>2500</td>\n",
       "    </tr>\n",
       "  </tbody>\n",
       "</table>\n",
       "</div>"
      ],
      "text/plain": [
       "                   DuesOwed  DuesPaid\n",
       "MemberName                           \n",
       "Warren Buffet             0      2500\n",
       "Janet Yellen            100      2400\n",
       "Abigail Johnson           0      2500\n",
       "Larry Fink             2500         0\n",
       "Warren Buffet             0      2500\n",
       "Janet Yellen            100      2400\n",
       "Abigail Johnson           0      2500\n",
       "Larry Fink             2500         0\n",
       "Mario Draghi           2500         0\n",
       "Michael Bloomberg      2500         0\n",
       "Ray Dalio                 0      2500"
      ]
     },
     "execution_count": 124,
     "metadata": {},
     "output_type": "execute_result"
    }
   ],
   "source": [
    "joined_dues_data = pd.concat([fin_leaders_dues, investors_leadership_dues], axis=\"rows\", join=\"inner\")\n",
    "joined_dues_data"
   ]
  },
  {
   "cell_type": "markdown",
   "id": "40ad96f0",
   "metadata": {
    "jp-MarkdownHeadingCollapsed": true,
    "tags": []
   },
   "source": [
    "#### iii. Concat member data using `rows` axis and `inner` join"
   ]
  },
  {
   "cell_type": "code",
   "execution_count": 125,
   "id": "f7962031",
   "metadata": {},
   "outputs": [
    {
     "data": {
      "text/html": [
       "<div>\n",
       "<style scoped>\n",
       "    .dataframe tbody tr th:only-of-type {\n",
       "        vertical-align: middle;\n",
       "    }\n",
       "\n",
       "    .dataframe tbody tr th {\n",
       "        vertical-align: top;\n",
       "    }\n",
       "\n",
       "    .dataframe thead th {\n",
       "        text-align: right;\n",
       "    }\n",
       "</style>\n",
       "<table border=\"1\" class=\"dataframe\">\n",
       "  <thead>\n",
       "    <tr style=\"text-align: right;\">\n",
       "      <th></th>\n",
       "      <th>MembershipStatus</th>\n",
       "    </tr>\n",
       "    <tr>\n",
       "      <th>MemberName</th>\n",
       "      <th></th>\n",
       "    </tr>\n",
       "  </thead>\n",
       "  <tbody>\n",
       "    <tr>\n",
       "      <th>Warren Buffet</th>\n",
       "      <td>Good Standing</td>\n",
       "    </tr>\n",
       "    <tr>\n",
       "      <th>Janet Yellen</th>\n",
       "      <td>Good Standing</td>\n",
       "    </tr>\n",
       "    <tr>\n",
       "      <th>Abigail Johnson</th>\n",
       "      <td>Good Standing</td>\n",
       "    </tr>\n",
       "    <tr>\n",
       "      <th>Larry Fink</th>\n",
       "      <td>Delinquent</td>\n",
       "    </tr>\n",
       "    <tr>\n",
       "      <th>Warren Buffet</th>\n",
       "      <td>Good Standing</td>\n",
       "    </tr>\n",
       "    <tr>\n",
       "      <th>Janet Yellen</th>\n",
       "      <td>Good Standing</td>\n",
       "    </tr>\n",
       "    <tr>\n",
       "      <th>Abigail Johnson</th>\n",
       "      <td>Good Standing</td>\n",
       "    </tr>\n",
       "    <tr>\n",
       "      <th>Larry Fink</th>\n",
       "      <td>Delinquent</td>\n",
       "    </tr>\n",
       "    <tr>\n",
       "      <th>Mario Draghi</th>\n",
       "      <td>Delinquent</td>\n",
       "    </tr>\n",
       "    <tr>\n",
       "      <th>Michael Bloomberg</th>\n",
       "      <td>Delinquent</td>\n",
       "    </tr>\n",
       "    <tr>\n",
       "      <th>Ray Dalio</th>\n",
       "      <td>Good Standing</td>\n",
       "    </tr>\n",
       "  </tbody>\n",
       "</table>\n",
       "</div>"
      ],
      "text/plain": [
       "                  MembershipStatus\n",
       "MemberName                        \n",
       "Warren Buffet        Good Standing\n",
       "Janet Yellen         Good Standing\n",
       "Abigail Johnson      Good Standing\n",
       "Larry Fink              Delinquent\n",
       "Warren Buffet        Good Standing\n",
       "Janet Yellen         Good Standing\n",
       "Abigail Johnson      Good Standing\n",
       "Larry Fink              Delinquent\n",
       "Mario Draghi            Delinquent\n",
       "Michael Bloomberg       Delinquent\n",
       "Ray Dalio            Good Standing"
      ]
     },
     "execution_count": 125,
     "metadata": {},
     "output_type": "execute_result"
    }
   ],
   "source": [
    "joined_status_data = pd.concat([fin_leaders_mbr_status, investors_leadership_mbr_status], axis=\"rows\", join=\"inner\")\n",
    "joined_status_data"
   ]
  },
  {
   "cell_type": "markdown",
   "id": "f2f3c43c",
   "metadata": {
    "jp-MarkdownHeadingCollapsed": true,
    "tags": []
   },
   "source": [
    "#### iv. Concat dues and member data using `columns` axis and `inner` join"
   ]
  },
  {
   "cell_type": "code",
   "execution_count": 126,
   "id": "d1513883",
   "metadata": {},
   "outputs": [
    {
     "data": {
      "text/html": [
       "<div>\n",
       "<style scoped>\n",
       "    .dataframe tbody tr th:only-of-type {\n",
       "        vertical-align: middle;\n",
       "    }\n",
       "\n",
       "    .dataframe tbody tr th {\n",
       "        vertical-align: top;\n",
       "    }\n",
       "\n",
       "    .dataframe thead th {\n",
       "        text-align: right;\n",
       "    }\n",
       "</style>\n",
       "<table border=\"1\" class=\"dataframe\">\n",
       "  <thead>\n",
       "    <tr style=\"text-align: right;\">\n",
       "      <th></th>\n",
       "      <th>DuesOwed</th>\n",
       "      <th>DuesPaid</th>\n",
       "      <th>MembershipStatus</th>\n",
       "    </tr>\n",
       "    <tr>\n",
       "      <th>MemberName</th>\n",
       "      <th></th>\n",
       "      <th></th>\n",
       "      <th></th>\n",
       "    </tr>\n",
       "  </thead>\n",
       "  <tbody>\n",
       "    <tr>\n",
       "      <th>Warren Buffet</th>\n",
       "      <td>0</td>\n",
       "      <td>2500</td>\n",
       "      <td>Good Standing</td>\n",
       "    </tr>\n",
       "    <tr>\n",
       "      <th>Janet Yellen</th>\n",
       "      <td>100</td>\n",
       "      <td>2400</td>\n",
       "      <td>Good Standing</td>\n",
       "    </tr>\n",
       "    <tr>\n",
       "      <th>Abigail Johnson</th>\n",
       "      <td>0</td>\n",
       "      <td>2500</td>\n",
       "      <td>Good Standing</td>\n",
       "    </tr>\n",
       "    <tr>\n",
       "      <th>Larry Fink</th>\n",
       "      <td>2500</td>\n",
       "      <td>0</td>\n",
       "      <td>Delinquent</td>\n",
       "    </tr>\n",
       "    <tr>\n",
       "      <th>Warren Buffet</th>\n",
       "      <td>0</td>\n",
       "      <td>2500</td>\n",
       "      <td>Good Standing</td>\n",
       "    </tr>\n",
       "    <tr>\n",
       "      <th>Janet Yellen</th>\n",
       "      <td>100</td>\n",
       "      <td>2400</td>\n",
       "      <td>Good Standing</td>\n",
       "    </tr>\n",
       "    <tr>\n",
       "      <th>Abigail Johnson</th>\n",
       "      <td>0</td>\n",
       "      <td>2500</td>\n",
       "      <td>Good Standing</td>\n",
       "    </tr>\n",
       "    <tr>\n",
       "      <th>Larry Fink</th>\n",
       "      <td>2500</td>\n",
       "      <td>0</td>\n",
       "      <td>Delinquent</td>\n",
       "    </tr>\n",
       "    <tr>\n",
       "      <th>Mario Draghi</th>\n",
       "      <td>2500</td>\n",
       "      <td>0</td>\n",
       "      <td>Delinquent</td>\n",
       "    </tr>\n",
       "    <tr>\n",
       "      <th>Michael Bloomberg</th>\n",
       "      <td>2500</td>\n",
       "      <td>0</td>\n",
       "      <td>Delinquent</td>\n",
       "    </tr>\n",
       "    <tr>\n",
       "      <th>Ray Dalio</th>\n",
       "      <td>0</td>\n",
       "      <td>2500</td>\n",
       "      <td>Good Standing</td>\n",
       "    </tr>\n",
       "  </tbody>\n",
       "</table>\n",
       "</div>"
      ],
      "text/plain": [
       "                   DuesOwed  DuesPaid MembershipStatus\n",
       "MemberName                                            \n",
       "Warren Buffet             0      2500    Good Standing\n",
       "Janet Yellen            100      2400    Good Standing\n",
       "Abigail Johnson           0      2500    Good Standing\n",
       "Larry Fink             2500         0       Delinquent\n",
       "Warren Buffet             0      2500    Good Standing\n",
       "Janet Yellen            100      2400    Good Standing\n",
       "Abigail Johnson           0      2500    Good Standing\n",
       "Larry Fink             2500         0       Delinquent\n",
       "Mario Draghi           2500         0       Delinquent\n",
       "Michael Bloomberg      2500         0       Delinquent\n",
       "Ray Dalio                 0      2500    Good Standing"
      ]
     },
     "execution_count": 126,
     "metadata": {},
     "output_type": "execute_result"
    }
   ],
   "source": [
    "joined_data = pd.concat([joined_dues_data, joined_status_data], axis=\"columns\", join=\"outer\")\n",
    "joined_data"
   ]
  },
  {
   "cell_type": "markdown",
   "id": "6d1d9f7e",
   "metadata": {
    "jp-MarkdownHeadingCollapsed": true,
    "tags": []
   },
   "source": [
    "### XI. Standard Deviations"
   ]
  },
  {
   "cell_type": "markdown",
   "id": "47584c02",
   "metadata": {
    "jp-MarkdownHeadingCollapsed": true,
    "tags": []
   },
   "source": [
    "#### i. Read CSV"
   ]
  },
  {
   "cell_type": "code",
   "execution_count": 127,
   "id": "b007c7f4",
   "metadata": {},
   "outputs": [
    {
     "data": {
      "text/html": [
       "<div>\n",
       "<style scoped>\n",
       "    .dataframe tbody tr th:only-of-type {\n",
       "        vertical-align: middle;\n",
       "    }\n",
       "\n",
       "    .dataframe tbody tr th {\n",
       "        vertical-align: top;\n",
       "    }\n",
       "\n",
       "    .dataframe thead th {\n",
       "        text-align: right;\n",
       "    }\n",
       "</style>\n",
       "<table border=\"1\" class=\"dataframe\">\n",
       "  <thead>\n",
       "    <tr style=\"text-align: right;\">\n",
       "      <th></th>\n",
       "      <th>AAPL</th>\n",
       "      <th>MSFT</th>\n",
       "      <th>GOOG</th>\n",
       "      <th>FB</th>\n",
       "      <th>AMZN</th>\n",
       "    </tr>\n",
       "    <tr>\n",
       "      <th>Date</th>\n",
       "      <th></th>\n",
       "      <th></th>\n",
       "      <th></th>\n",
       "      <th></th>\n",
       "      <th></th>\n",
       "    </tr>\n",
       "  </thead>\n",
       "  <tbody>\n",
       "    <tr>\n",
       "      <th>2018-01-02</th>\n",
       "      <td>168.339050</td>\n",
       "      <td>84.128128</td>\n",
       "      <td>1065.000000</td>\n",
       "      <td>181.419998</td>\n",
       "      <td>1189.010010</td>\n",
       "    </tr>\n",
       "    <tr>\n",
       "      <th>2018-01-03</th>\n",
       "      <td>168.309738</td>\n",
       "      <td>84.519646</td>\n",
       "      <td>1082.479980</td>\n",
       "      <td>184.669998</td>\n",
       "      <td>1204.199951</td>\n",
       "    </tr>\n",
       "    <tr>\n",
       "      <th>2018-01-04</th>\n",
       "      <td>169.091522</td>\n",
       "      <td>85.263542</td>\n",
       "      <td>1086.400024</td>\n",
       "      <td>184.330002</td>\n",
       "      <td>1209.589966</td>\n",
       "    </tr>\n",
       "    <tr>\n",
       "      <th>2018-01-05</th>\n",
       "      <td>171.016678</td>\n",
       "      <td>86.320648</td>\n",
       "      <td>1102.229980</td>\n",
       "      <td>186.850006</td>\n",
       "      <td>1229.140015</td>\n",
       "    </tr>\n",
       "    <tr>\n",
       "      <th>2018-01-08</th>\n",
       "      <td>170.381485</td>\n",
       "      <td>86.408737</td>\n",
       "      <td>1106.939941</td>\n",
       "      <td>188.279999</td>\n",
       "      <td>1246.869995</td>\n",
       "    </tr>\n",
       "  </tbody>\n",
       "</table>\n",
       "</div>"
      ],
      "text/plain": [
       "                  AAPL       MSFT         GOOG          FB         AMZN\n",
       "Date                                                                   \n",
       "2018-01-02  168.339050  84.128128  1065.000000  181.419998  1189.010010\n",
       "2018-01-03  168.309738  84.519646  1082.479980  184.669998  1204.199951\n",
       "2018-01-04  169.091522  85.263542  1086.400024  184.330002  1209.589966\n",
       "2018-01-05  171.016678  86.320648  1102.229980  186.850006  1229.140015\n",
       "2018-01-08  170.381485  86.408737  1106.939941  188.279999  1246.869995"
      ]
     },
     "execution_count": 127,
     "metadata": {},
     "output_type": "execute_result"
    }
   ],
   "source": [
    "file_path = Path(\"cheatsheetresources/tech_stocks_closing_value_2018.csv\")\n",
    "tech_stocks = pd.read_csv(file_path, index_col='Date', parse_dates=True)\n",
    "tech_stocks.head()"
   ]
  },
  {
   "cell_type": "markdown",
   "id": "c5d61d79",
   "metadata": {
    "jp-MarkdownHeadingCollapsed": true,
    "tags": []
   },
   "source": [
    "#### ii. Calculate Daily Returns"
   ]
  },
  {
   "cell_type": "code",
   "execution_count": 128,
   "id": "bb3c89cf",
   "metadata": {},
   "outputs": [
    {
     "data": {
      "text/html": [
       "<div>\n",
       "<style scoped>\n",
       "    .dataframe tbody tr th:only-of-type {\n",
       "        vertical-align: middle;\n",
       "    }\n",
       "\n",
       "    .dataframe tbody tr th {\n",
       "        vertical-align: top;\n",
       "    }\n",
       "\n",
       "    .dataframe thead th {\n",
       "        text-align: right;\n",
       "    }\n",
       "</style>\n",
       "<table border=\"1\" class=\"dataframe\">\n",
       "  <thead>\n",
       "    <tr style=\"text-align: right;\">\n",
       "      <th></th>\n",
       "      <th>AAPL</th>\n",
       "      <th>MSFT</th>\n",
       "      <th>GOOG</th>\n",
       "      <th>FB</th>\n",
       "      <th>AMZN</th>\n",
       "    </tr>\n",
       "    <tr>\n",
       "      <th>Date</th>\n",
       "      <th></th>\n",
       "      <th></th>\n",
       "      <th></th>\n",
       "      <th></th>\n",
       "      <th></th>\n",
       "    </tr>\n",
       "  </thead>\n",
       "  <tbody>\n",
       "    <tr>\n",
       "      <th>2018-01-02</th>\n",
       "      <td>NaN</td>\n",
       "      <td>NaN</td>\n",
       "      <td>NaN</td>\n",
       "      <td>NaN</td>\n",
       "      <td>NaN</td>\n",
       "    </tr>\n",
       "    <tr>\n",
       "      <th>2018-01-03</th>\n",
       "      <td>-0.000174</td>\n",
       "      <td>0.004654</td>\n",
       "      <td>0.016413</td>\n",
       "      <td>0.017914</td>\n",
       "      <td>0.012775</td>\n",
       "    </tr>\n",
       "    <tr>\n",
       "      <th>2018-01-04</th>\n",
       "      <td>0.004645</td>\n",
       "      <td>0.008801</td>\n",
       "      <td>0.003621</td>\n",
       "      <td>-0.001841</td>\n",
       "      <td>0.004476</td>\n",
       "    </tr>\n",
       "    <tr>\n",
       "      <th>2018-01-05</th>\n",
       "      <td>0.011385</td>\n",
       "      <td>0.012398</td>\n",
       "      <td>0.014571</td>\n",
       "      <td>0.013671</td>\n",
       "      <td>0.016163</td>\n",
       "    </tr>\n",
       "    <tr>\n",
       "      <th>2018-01-08</th>\n",
       "      <td>-0.003714</td>\n",
       "      <td>0.001020</td>\n",
       "      <td>0.004273</td>\n",
       "      <td>0.007653</td>\n",
       "      <td>0.014425</td>\n",
       "    </tr>\n",
       "  </tbody>\n",
       "</table>\n",
       "</div>"
      ],
      "text/plain": [
       "                AAPL      MSFT      GOOG        FB      AMZN\n",
       "Date                                                        \n",
       "2018-01-02       NaN       NaN       NaN       NaN       NaN\n",
       "2018-01-03 -0.000174  0.004654  0.016413  0.017914  0.012775\n",
       "2018-01-04  0.004645  0.008801  0.003621 -0.001841  0.004476\n",
       "2018-01-05  0.011385  0.012398  0.014571  0.013671  0.016163\n",
       "2018-01-08 -0.003714  0.001020  0.004273  0.007653  0.014425"
      ]
     },
     "execution_count": 128,
     "metadata": {},
     "output_type": "execute_result"
    }
   ],
   "source": [
    "# Compute daily returns\n",
    "daily_returns = tech_stocks.pct_change()\n",
    "daily_returns.head()"
   ]
  },
  {
   "cell_type": "markdown",
   "id": "79440fc6",
   "metadata": {
    "jp-MarkdownHeadingCollapsed": true,
    "tags": []
   },
   "source": [
    "#### iii. Calcualte standard deviation using `std` function"
   ]
  },
  {
   "cell_type": "code",
   "execution_count": 129,
   "id": "70b33427",
   "metadata": {},
   "outputs": [
    {
     "data": {
      "text/plain": [
       "AAPL    0.018106\n",
       "MSFT    0.017839\n",
       "GOOG    0.017724\n",
       "FB      0.023949\n",
       "AMZN    0.022768\n",
       "dtype: float64"
      ]
     },
     "execution_count": 129,
     "metadata": {},
     "output_type": "execute_result"
    }
   ],
   "source": [
    "# Daily Standard Deviations\n",
    "daily_std = daily_returns.std()\n",
    "daily_std"
   ]
  },
  {
   "cell_type": "markdown",
   "id": "8787ad03",
   "metadata": {
    "jp-MarkdownHeadingCollapsed": true,
    "tags": []
   },
   "source": [
    "#### iv. Sort standard deviation in desc order "
   ]
  },
  {
   "cell_type": "code",
   "execution_count": 130,
   "id": "ffef1db6",
   "metadata": {},
   "outputs": [
    {
     "data": {
      "text/plain": [
       "FB      0.023949\n",
       "AMZN    0.022768\n",
       "AAPL    0.018106\n",
       "MSFT    0.017839\n",
       "GOOG    0.017724\n",
       "dtype: float64"
      ]
     },
     "execution_count": 130,
     "metadata": {},
     "output_type": "execute_result"
    }
   ],
   "source": [
    "# Identify the stock with the most risk\n",
    "daily_std = daily_std.sort_values(ascending=False)\n",
    "daily_std.head()"
   ]
  },
  {
   "cell_type": "markdown",
   "id": "b24dd8c8",
   "metadata": {
    "jp-MarkdownHeadingCollapsed": true,
    "tags": []
   },
   "source": [
    "#### v. Calculate the annualized standard deviation"
   ]
  },
  {
   "cell_type": "code",
   "execution_count": 133,
   "id": "d5b410ea",
   "metadata": {},
   "outputs": [
    {
     "data": {
      "text/plain": [
       "FB      0.380172\n",
       "AMZN    0.361434\n",
       "AAPL    0.287428\n",
       "MSFT    0.283180\n",
       "GOOG    0.281354\n",
       "dtype: float64"
      ]
     },
     "execution_count": 133,
     "metadata": {},
     "output_type": "execute_result"
    }
   ],
   "source": [
    "# Calculate the annualized standard deviation (252 trading days)\n",
    "annualized_std = daily_std * np.sqrt(252)\n",
    "annualized_std.head()"
   ]
  },
  {
   "cell_type": "markdown",
   "id": "459a18d0",
   "metadata": {
    "jp-MarkdownHeadingCollapsed": true,
    "tags": []
   },
   "source": [
    "#### vi. Plot standard deviation for 3 different portfolios to determine which has the most risk"
   ]
  },
  {
   "cell_type": "code",
   "execution_count": 134,
   "id": "f36dfc4d",
   "metadata": {},
   "outputs": [
    {
     "data": {
      "text/plain": [
       "<AxesSubplot:ylabel='Frequency'>"
      ]
     },
     "execution_count": 134,
     "metadata": {},
     "output_type": "execute_result"
    },
    {
     "data": {
      "image/png": "[encoded data removed]",
      "text/plain": [
       "<Figure size 432x288 with 1 Axes>"
      ]
     },
     "metadata": {
      "needs_background": "light"
     },
     "output_type": "display_data"
    }
   ],
   "source": [
    "portfolio_a_std = np.random.normal(scale=0.5, size=10000)\n",
    "portfolio_b_std = np.random.normal(scale=1.0, size=10000)\n",
    "portfolio_c_std = np.random.normal(scale=1.5, size=10000)\n",
    "\n",
    "portfolio_std = pd.DataFrame({\n",
    "    \"0.5\": portfolio_a_std,\n",
    "    \"1.0\": portfolio_b_std,\n",
    "    \"1.5\": portfolio_c_std\n",
    "})\n",
    "\n",
    "portfolio_std.plot.hist(stacked=True, bins=100)"
   ]
  },
  {
   "cell_type": "markdown",
   "id": "4914ec1f",
   "metadata": {
    "jp-MarkdownHeadingCollapsed": true,
    "tags": []
   },
   "source": [
    "#### vii. Plot standard deviation using box plot"
   ]
  },
  {
   "cell_type": "code",
   "execution_count": 135,
   "id": "f6685657",
   "metadata": {},
   "outputs": [
    {
     "data": {
      "text/plain": [
       "<AxesSubplot:>"
      ]
     },
     "execution_count": 135,
     "metadata": {},
     "output_type": "execute_result"
    },
    {
     "data": {
      "image/png": "[encoded data removed]",
      "text/plain": [
       "<Figure size 432x288 with 1 Axes>"
      ]
     },
     "metadata": {
      "needs_background": "light"
     },
     "output_type": "display_data"
    }
   ],
   "source": [
    "# Plot box plot\n",
    "portfolio_std.plot.box()"
   ]
  },
  {
   "cell_type": "markdown",
   "id": "bcdd07ac",
   "metadata": {},
   "source": [
    "### XII. Sharpe Ratio"
   ]
  },
  {
   "cell_type": "code",
   "execution_count": null,
   "id": "e77c3558",
   "metadata": {},
   "outputs": [],
   "source": []
  }
 ],
 "metadata": {
  "kernelspec": {
   "display_name": "Python 3",
   "language": "python",
   "name": "python3"
  },
  "language_info": {
   "codemirror_mode": {
    "name": "ipython",
    "version": 3
   },
   "file_extension": ".py",
   "mimetype": "text/x-python",
   "name": "python",
   "nbconvert_exporter": "python",
   "pygments_lexer": "ipython3",
   "version": "3.7.10"
  }
 },
 "nbformat": 4,
 "nbformat_minor": 5
}
